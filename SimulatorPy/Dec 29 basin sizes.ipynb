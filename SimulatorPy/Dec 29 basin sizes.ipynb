{
 "cells": [
  {
   "cell_type": "code",
   "execution_count": 1,
   "metadata": {},
   "outputs": [
    {
     "data": {
      "text/html": [
       "<script>requirejs.config({paths: { 'plotly': ['https://cdn.plot.ly/plotly-latest.min']},});if(!window.Plotly) {{require(['plotly'],function(plotly) {window.Plotly=plotly;});}}</script>"
      ],
      "text/vnd.plotly.v1+html": [
       "<script>requirejs.config({paths: { 'plotly': ['https://cdn.plot.ly/plotly-latest.min']},});if(!window.Plotly) {{require(['plotly'],function(plotly) {window.Plotly=plotly;});}}</script>"
      ]
     },
     "metadata": {},
     "output_type": "display_data"
    }
   ],
   "source": [
    "import pandas as pd\n",
    "import numpy as np\n",
    "import math\n",
    "import os\n",
    "import pickle\n",
    "from collections import OrderedDict\n",
    "from IPython.display import display, clear_output, Markdown, HTML\n",
    "\n",
    "from plotly import tools\n",
    "from plotly.offline import download_plotlyjs, init_notebook_mode, plot, iplot\n",
    "import plotly.graph_objs as go\n",
    "import plotly.io as pio\n",
    "\n",
    "from simulator import *\n",
    "from simulator_plotting import *\n",
    "\n",
    "init_notebook_mode(connected=True)"
   ]
  },
  {
   "cell_type": "code",
   "execution_count": 2,
   "metadata": {},
   "outputs": [],
   "source": [
    "pairs = [('CTX', 'SAM'), ('AM', 'AMC'), ('ZOX', 'CXM')]\n",
    "pairs = [[dataset2.loc[item] for item in pair] for pair in pairs]"
   ]
  },
  {
   "cell_type": "code",
   "execution_count": 3,
   "metadata": {},
   "outputs": [],
   "source": [
    "# naive basin size of a single genotype within a fitness landscape\n",
    "def basin_size(landscape, genotype, num=10, **kwargs):\n",
    "    size = 0\n",
    "    if isinstance(landscape, list):\n",
    "        name = ' + '.join([ls.name for ls in landscape])\n",
    "        landscape = [ls.tolist() for ls in landscape]\n",
    "    else:\n",
    "        name = landscape.name\n",
    "        landscape = landscape.tolist()\n",
    "    param = dict(kwargs)\n",
    "    for seed in range(16):\n",
    "        param['seed'] = seed\n",
    "        for i in range(num):\n",
    "            results = simulate(landscape, **param)\n",
    "            if results['actual_path'][-1] == genotype:\n",
    "                size += 1\n",
    "    return size / num"
   ]
  },
  {
   "cell_type": "code",
   "execution_count": 4,
   "metadata": {},
   "outputs": [],
   "source": [
    "# get basin sizes for each genotype in a fitness landscape\n",
    "def basin_sizes(landscape, k=9, **kwargs):\n",
    "    sizes = []\n",
    "    for i in range(16):\n",
    "        gen = format(i, '04b')\n",
    "        bs = basin_size(landscape, gen, carrying_cap=10**k, prob_mutation=10**(-(k-1)), **kwargs)\n",
    "        #print('The basin size of {} is {}'.format(gen, bs))\n",
    "        print('.', end='')\n",
    "        sizes.append(bs)\n",
    "    print()\n",
    "    return sizes"
   ]
  },
  {
   "cell_type": "code",
   "execution_count": 10,
   "metadata": {},
   "outputs": [],
   "source": [
    "# generate and serialize some collections of basin sizes\n",
    "with open('basin_sizes.pickle', 'a+b') as f:\n",
    "    f.seek(0)\n",
    "    try:\n",
    "        data = {}\n",
    "        data.update(pickle.load(f))\n",
    "    except:\n",
    "        data = {}\n",
    "        \n",
    "# basin sizes for all drugs in the 2nd dataset\n",
    "if 'dataset2' not in data:\n",
    "    data['dataset2'] = {}\n",
    "for name, ls in dataset2.iterrows():\n",
    "    if name not in data['dataset2']:\n",
    "        data['dataset2'][name] = basin_sizes(ls)\n",
    "\n",
    "# basin sizes for all drugs in the 2nd dataset at k=10^6\n",
    "if 'dataset2_6' not in data:\n",
    "    data['dataset2_6'] = {}\n",
    "for name, ls in dataset2.iterrows():\n",
    "    if name not in data['dataset2_6']:\n",
    "        data['dataset2_6'][name] = basin_sizes(ls, k=6)\n",
    "        \n",
    "# basin sizes for the pairs at f=200\n",
    "if 'pairs' not in data:\n",
    "    data['pairs'] = {}\n",
    "for i, ls in enumerate(pairs):\n",
    "    if i not in data['pairs']:\n",
    "        data['pairs'][i] = basin_sizes(ls, k=9, frequency=200)\n",
    "\n",
    "# basin sizes for the pairs at f=200 / k=10^6\n",
    "if 'pairs_6' not in data:\n",
    "    data['pairs_6'] = {}\n",
    "for i, ls in enumerate(pairs):\n",
    "    if i not in data['pairs_6']:\n",
    "        data['pairs_6'][i] = basin_sizes(ls, k=6, frequency=200)\n",
    "        \n",
    "with open('basin_sizes.pickle', 'wb') as f:\n",
    "    pickle.dump(data, f, pickle.HIGHEST_PROTOCOL)\n",
    "\n",
    "bs = data"
   ]
  },
  {
   "cell_type": "markdown",
   "metadata": {},
   "source": [
    "# Basin size\n",
    "\n",
    "For a given genotype, the basin size is the number of other genotypes it can be reached from.\n",
    "\n",
    "Reachability--One genotype is reachable from another if a simulation run on a starting population consisting entirely of the first genotype results in fixation of the second genotype after 1200 timesteps. (We could define this in other ways; for example, the abundance of the second genotype reaching a certain threshold at some point during the simulation could mean it is reachable.)\n",
    "\n",
    "Since simulations can have different outcomes, the code above essentially takes an average of the basin size for each genotype after running 10 simulations.\n",
    "\n",
    "## Basin size for static landscapes\n",
    "\n",
    "Non-zero basin sizes appear to correspond to the local and global optima that we [found earlier](https://nbviewer.jupyter.org/url/jops.bol.ucla.edu/18-11-01/Oct-31-many-sims-w-switching.ipynb#K=10^9)."
   ]
  },
  {
   "cell_type": "code",
   "execution_count": 55,
   "metadata": {},
   "outputs": [
    {
     "data": {
      "application/vnd.plotly.v1+json": {
       "data": [
        {
         "name": "AMP",
         "type": "scatter",
         "uid": "4da98136-1080-11e9-b47b-e6497abbe804",
         "xaxis": "x",
         "y": [
          0,
          0,
          0,
          5,
          0,
          0,
          1,
          0,
          0,
          0,
          0,
          0,
          0,
          0,
          0,
          10
         ],
         "yaxis": "y"
        },
        {
         "name": "AM",
         "type": "scatter",
         "uid": "4da9d130-1080-11e9-ad4e-e6497abbe804",
         "xaxis": "x2",
         "y": [
          0,
          0,
          6,
          0,
          0,
          0,
          0,
          0,
          0,
          0,
          0,
          0,
          0,
          10,
          0,
          0
         ],
         "yaxis": "y2"
        },
        {
         "name": "CEC",
         "type": "scatter",
         "uid": "4da9d131-1080-11e9-aad5-e6497abbe804",
         "xaxis": "x3",
         "y": [
          0,
          0,
          0,
          6,
          3,
          0,
          0,
          0,
          0,
          0,
          0,
          0,
          0,
          0,
          7,
          0
         ],
         "yaxis": "y3"
        },
        {
         "name": "CTX",
         "type": "scatter",
         "uid": "4dab0b98-1080-11e9-b79b-e6497abbe804",
         "xaxis": "x4",
         "y": [
          0,
          0,
          0,
          4.3,
          0,
          0,
          3,
          0,
          0,
          0,
          2.4,
          0,
          0,
          0,
          0,
          6.4
         ],
         "yaxis": "y4"
        },
        {
         "name": "ZOX",
         "type": "scatter",
         "uid": "4dab5b90-1080-11e9-b471-e6497abbe804",
         "xaxis": "x5",
         "y": [
          0,
          0,
          0,
          7,
          0,
          0,
          0,
          8,
          0,
          1,
          0,
          0,
          0,
          0,
          0,
          0
         ],
         "yaxis": "y5"
        },
        {
         "name": "CXM",
         "type": "scatter",
         "uid": "4dab5b91-1080-11e9-9b76-e6497abbe804",
         "xaxis": "x6",
         "y": [
          0,
          0,
          0,
          0,
          4,
          0,
          0,
          12,
          0,
          0,
          0,
          0,
          0,
          0,
          0,
          0
         ],
         "yaxis": "y6"
        },
        {
         "name": "CRO",
         "type": "scatter",
         "uid": "4dac986e-1080-11e9-85ba-e6497abbe804",
         "xaxis": "x7",
         "y": [
          0,
          0,
          0,
          2.5,
          3.6,
          0,
          0,
          0,
          0,
          0,
          3.4,
          0,
          0,
          0,
          0,
          7
         ],
         "yaxis": "y7"
        },
        {
         "name": "AMC",
         "type": "scatter",
         "uid": "4dace89a-1080-11e9-bad5-e6497abbe804",
         "xaxis": "x8",
         "y": [
          0,
          0,
          0,
          0,
          3,
          0,
          0,
          0,
          0,
          0,
          0,
          0,
          0,
          13,
          0,
          0
         ],
         "yaxis": "y8"
        },
        {
         "name": "CAZ",
         "type": "scatter",
         "uid": "4dace89b-1080-11e9-b3cf-e6497abbe804",
         "xaxis": "x9",
         "y": [
          0,
          0,
          0,
          1.2,
          0,
          4,
          11,
          0,
          0,
          0,
          0,
          0,
          0,
          0,
          0,
          0
         ],
         "yaxis": "y9"
        },
        {
         "name": "CTT",
         "type": "scatter",
         "uid": "4db03f1a-1080-11e9-9308-e6497abbe804",
         "xaxis": "x10",
         "y": [
          0,
          0,
          0,
          0,
          3,
          0,
          0,
          7.3,
          4,
          0,
          0,
          0,
          0,
          1,
          1,
          0
         ],
         "yaxis": "y10"
        },
        {
         "name": "SAM",
         "type": "scatter",
         "uid": "4db03f1b-1080-11e9-be98-e6497abbe804",
         "xaxis": "x11",
         "y": [
          0,
          0,
          0,
          0,
          0,
          0,
          0,
          0,
          0,
          0,
          0,
          0,
          0,
          0,
          0,
          16
         ],
         "yaxis": "y11"
        },
        {
         "name": "CPR",
         "type": "scatter",
         "uid": "4db17ca8-1080-11e9-a352-e6497abbe804",
         "xaxis": "x12",
         "y": [
          0,
          0,
          0,
          2,
          0,
          9,
          5,
          0,
          0,
          0,
          0,
          0,
          0,
          0,
          0,
          0
         ],
         "yaxis": "y12"
        },
        {
         "name": "CPD",
         "type": "scatter",
         "uid": "4db17ca9-1080-11e9-8761-e6497abbe804",
         "xaxis": "x13",
         "y": [
          0,
          0,
          0,
          0,
          0,
          0,
          0,
          0,
          0,
          0,
          2,
          0,
          0,
          0,
          0,
          14
         ],
         "yaxis": "y13"
        },
        {
         "name": "TZP",
         "type": "scatter",
         "uid": "4db17caa-1080-11e9-aec8-e6497abbe804",
         "xaxis": "x14",
         "y": [
          0,
          0,
          0,
          0,
          0,
          14,
          0,
          0,
          2,
          0,
          0,
          0,
          0,
          0,
          0,
          0
         ],
         "yaxis": "y14"
        },
        {
         "name": "FEP",
         "type": "scatter",
         "uid": "4db35918-1080-11e9-8589-e6497abbe804",
         "xaxis": "x15",
         "y": [
          1,
          0,
          0,
          1,
          0,
          0,
          0,
          0,
          0,
          0,
          3,
          0,
          0,
          0,
          0,
          11
         ],
         "yaxis": "y15"
        }
       ],
       "layout": {
        "height": 1200,
        "showlegend": false,
        "title": "Basin sizes at K=10<sup>9</sup>",
        "xaxis": {
         "anchor": "y",
         "domain": [
          0,
          1
         ],
         "range": [
          -0.1,
          15.1
         ],
         "ticktext": [
          "0000",
          "0001",
          "0010",
          "0011",
          "0100",
          "0101",
          "0110",
          "0111",
          "1000",
          "1001",
          "1010",
          "1011",
          "1100",
          "1101",
          "1110",
          "1111"
         ],
         "tickvals": [
          0,
          1,
          2,
          3,
          4,
          5,
          6,
          7,
          8,
          9,
          10,
          11,
          12,
          13,
          14,
          15
         ],
         "zeroline": false
        },
        "xaxis10": {
         "anchor": "y10",
         "domain": [
          0,
          1
         ],
         "range": [
          -0.1,
          15.1
         ],
         "ticktext": [
          "0000",
          "0001",
          "0010",
          "0011",
          "0100",
          "0101",
          "0110",
          "0111",
          "1000",
          "1001",
          "1010",
          "1011",
          "1100",
          "1101",
          "1110",
          "1111"
         ],
         "tickvals": [
          0,
          1,
          2,
          3,
          4,
          5,
          6,
          7,
          8,
          9,
          10,
          11,
          12,
          13,
          14,
          15
         ],
         "zeroline": false
        },
        "xaxis11": {
         "anchor": "y11",
         "domain": [
          0,
          1
         ],
         "range": [
          -0.1,
          15.1
         ],
         "ticktext": [
          "0000",
          "0001",
          "0010",
          "0011",
          "0100",
          "0101",
          "0110",
          "0111",
          "1000",
          "1001",
          "1010",
          "1011",
          "1100",
          "1101",
          "1110",
          "1111"
         ],
         "tickvals": [
          0,
          1,
          2,
          3,
          4,
          5,
          6,
          7,
          8,
          9,
          10,
          11,
          12,
          13,
          14,
          15
         ],
         "zeroline": false
        },
        "xaxis12": {
         "anchor": "y12",
         "domain": [
          0,
          1
         ],
         "range": [
          -0.1,
          15.1
         ],
         "ticktext": [
          "0000",
          "0001",
          "0010",
          "0011",
          "0100",
          "0101",
          "0110",
          "0111",
          "1000",
          "1001",
          "1010",
          "1011",
          "1100",
          "1101",
          "1110",
          "1111"
         ],
         "tickvals": [
          0,
          1,
          2,
          3,
          4,
          5,
          6,
          7,
          8,
          9,
          10,
          11,
          12,
          13,
          14,
          15
         ],
         "zeroline": false
        },
        "xaxis13": {
         "anchor": "y13",
         "domain": [
          0,
          1
         ],
         "range": [
          -0.1,
          15.1
         ],
         "ticktext": [
          "0000",
          "0001",
          "0010",
          "0011",
          "0100",
          "0101",
          "0110",
          "0111",
          "1000",
          "1001",
          "1010",
          "1011",
          "1100",
          "1101",
          "1110",
          "1111"
         ],
         "tickvals": [
          0,
          1,
          2,
          3,
          4,
          5,
          6,
          7,
          8,
          9,
          10,
          11,
          12,
          13,
          14,
          15
         ],
         "zeroline": false
        },
        "xaxis14": {
         "anchor": "y14",
         "domain": [
          0,
          1
         ],
         "range": [
          -0.1,
          15.1
         ],
         "ticktext": [
          "0000",
          "0001",
          "0010",
          "0011",
          "0100",
          "0101",
          "0110",
          "0111",
          "1000",
          "1001",
          "1010",
          "1011",
          "1100",
          "1101",
          "1110",
          "1111"
         ],
         "tickvals": [
          0,
          1,
          2,
          3,
          4,
          5,
          6,
          7,
          8,
          9,
          10,
          11,
          12,
          13,
          14,
          15
         ],
         "zeroline": false
        },
        "xaxis15": {
         "anchor": "y15",
         "domain": [
          0,
          1
         ],
         "range": [
          -0.1,
          15.1
         ],
         "ticktext": [
          "0000",
          "0001",
          "0010",
          "0011",
          "0100",
          "0101",
          "0110",
          "0111",
          "1000",
          "1001",
          "1010",
          "1011",
          "1100",
          "1101",
          "1110",
          "1111"
         ],
         "tickvals": [
          0,
          1,
          2,
          3,
          4,
          5,
          6,
          7,
          8,
          9,
          10,
          11,
          12,
          13,
          14,
          15
         ],
         "zeroline": false
        },
        "xaxis2": {
         "anchor": "y2",
         "domain": [
          0,
          1
         ],
         "range": [
          -0.1,
          15.1
         ],
         "ticktext": [
          "0000",
          "0001",
          "0010",
          "0011",
          "0100",
          "0101",
          "0110",
          "0111",
          "1000",
          "1001",
          "1010",
          "1011",
          "1100",
          "1101",
          "1110",
          "1111"
         ],
         "tickvals": [
          0,
          1,
          2,
          3,
          4,
          5,
          6,
          7,
          8,
          9,
          10,
          11,
          12,
          13,
          14,
          15
         ],
         "zeroline": false
        },
        "xaxis3": {
         "anchor": "y3",
         "domain": [
          0,
          1
         ],
         "range": [
          -0.1,
          15.1
         ],
         "ticktext": [
          "0000",
          "0001",
          "0010",
          "0011",
          "0100",
          "0101",
          "0110",
          "0111",
          "1000",
          "1001",
          "1010",
          "1011",
          "1100",
          "1101",
          "1110",
          "1111"
         ],
         "tickvals": [
          0,
          1,
          2,
          3,
          4,
          5,
          6,
          7,
          8,
          9,
          10,
          11,
          12,
          13,
          14,
          15
         ],
         "zeroline": false
        },
        "xaxis4": {
         "anchor": "y4",
         "domain": [
          0,
          1
         ],
         "range": [
          -0.1,
          15.1
         ],
         "ticktext": [
          "0000",
          "0001",
          "0010",
          "0011",
          "0100",
          "0101",
          "0110",
          "0111",
          "1000",
          "1001",
          "1010",
          "1011",
          "1100",
          "1101",
          "1110",
          "1111"
         ],
         "tickvals": [
          0,
          1,
          2,
          3,
          4,
          5,
          6,
          7,
          8,
          9,
          10,
          11,
          12,
          13,
          14,
          15
         ],
         "zeroline": false
        },
        "xaxis5": {
         "anchor": "y5",
         "domain": [
          0,
          1
         ],
         "range": [
          -0.1,
          15.1
         ],
         "ticktext": [
          "0000",
          "0001",
          "0010",
          "0011",
          "0100",
          "0101",
          "0110",
          "0111",
          "1000",
          "1001",
          "1010",
          "1011",
          "1100",
          "1101",
          "1110",
          "1111"
         ],
         "tickvals": [
          0,
          1,
          2,
          3,
          4,
          5,
          6,
          7,
          8,
          9,
          10,
          11,
          12,
          13,
          14,
          15
         ],
         "zeroline": false
        },
        "xaxis6": {
         "anchor": "y6",
         "domain": [
          0,
          1
         ],
         "range": [
          -0.1,
          15.1
         ],
         "ticktext": [
          "0000",
          "0001",
          "0010",
          "0011",
          "0100",
          "0101",
          "0110",
          "0111",
          "1000",
          "1001",
          "1010",
          "1011",
          "1100",
          "1101",
          "1110",
          "1111"
         ],
         "tickvals": [
          0,
          1,
          2,
          3,
          4,
          5,
          6,
          7,
          8,
          9,
          10,
          11,
          12,
          13,
          14,
          15
         ],
         "zeroline": false
        },
        "xaxis7": {
         "anchor": "y7",
         "domain": [
          0,
          1
         ],
         "range": [
          -0.1,
          15.1
         ],
         "ticktext": [
          "0000",
          "0001",
          "0010",
          "0011",
          "0100",
          "0101",
          "0110",
          "0111",
          "1000",
          "1001",
          "1010",
          "1011",
          "1100",
          "1101",
          "1110",
          "1111"
         ],
         "tickvals": [
          0,
          1,
          2,
          3,
          4,
          5,
          6,
          7,
          8,
          9,
          10,
          11,
          12,
          13,
          14,
          15
         ],
         "zeroline": false
        },
        "xaxis8": {
         "anchor": "y8",
         "domain": [
          0,
          1
         ],
         "range": [
          -0.1,
          15.1
         ],
         "ticktext": [
          "0000",
          "0001",
          "0010",
          "0011",
          "0100",
          "0101",
          "0110",
          "0111",
          "1000",
          "1001",
          "1010",
          "1011",
          "1100",
          "1101",
          "1110",
          "1111"
         ],
         "tickvals": [
          0,
          1,
          2,
          3,
          4,
          5,
          6,
          7,
          8,
          9,
          10,
          11,
          12,
          13,
          14,
          15
         ],
         "zeroline": false
        },
        "xaxis9": {
         "anchor": "y9",
         "domain": [
          0,
          1
         ],
         "range": [
          -0.1,
          15.1
         ],
         "ticktext": [
          "0000",
          "0001",
          "0010",
          "0011",
          "0100",
          "0101",
          "0110",
          "0111",
          "1000",
          "1001",
          "1010",
          "1011",
          "1100",
          "1101",
          "1110",
          "1111"
         ],
         "tickvals": [
          0,
          1,
          2,
          3,
          4,
          5,
          6,
          7,
          8,
          9,
          10,
          11,
          12,
          13,
          14,
          15
         ],
         "zeroline": false
        },
        "yaxis": {
         "anchor": "x",
         "domain": [
          0.9520000000000001,
          1
         ],
         "range": [
          -1,
          17
         ],
         "showticklabels": false,
         "tickvals": [
          0,
          8,
          16
         ],
         "title": "AMP"
        },
        "yaxis10": {
         "anchor": "x10",
         "domain": [
          0.33999999999999997,
          0.38799999999999996
         ],
         "range": [
          -1,
          17
         ],
         "showticklabels": false,
         "tickvals": [
          0,
          8,
          16
         ],
         "title": "CTT"
        },
        "yaxis11": {
         "anchor": "x11",
         "domain": [
          0.272,
          0.32
         ],
         "range": [
          -1,
          17
         ],
         "showticklabels": false,
         "tickvals": [
          0,
          8,
          16
         ],
         "title": "SAM"
        },
        "yaxis12": {
         "anchor": "x12",
         "domain": [
          0.20400000000000001,
          0.252
         ],
         "range": [
          -1,
          17
         ],
         "showticklabels": false,
         "tickvals": [
          0,
          8,
          16
         ],
         "title": "CPR"
        },
        "yaxis13": {
         "anchor": "x13",
         "domain": [
          0.136,
          0.184
         ],
         "range": [
          -1,
          17
         ],
         "showticklabels": false,
         "tickvals": [
          0,
          8,
          16
         ],
         "title": "CPD"
        },
        "yaxis14": {
         "anchor": "x14",
         "domain": [
          0.068,
          0.116
         ],
         "range": [
          -1,
          17
         ],
         "showticklabels": false,
         "tickvals": [
          0,
          8,
          16
         ],
         "title": "TZP"
        },
        "yaxis15": {
         "anchor": "x15",
         "domain": [
          0,
          0.048
         ],
         "range": [
          -1,
          17
         ],
         "showticklabels": false,
         "tickvals": [
          0,
          8,
          16
         ],
         "title": "FEP"
        },
        "yaxis2": {
         "anchor": "x2",
         "domain": [
          0.884,
          0.932
         ],
         "range": [
          -1,
          17
         ],
         "showticklabels": false,
         "tickvals": [
          0,
          8,
          16
         ],
         "title": "AM"
        },
        "yaxis3": {
         "anchor": "x3",
         "domain": [
          0.816,
          0.864
         ],
         "range": [
          -1,
          17
         ],
         "showticklabels": false,
         "tickvals": [
          0,
          8,
          16
         ],
         "title": "CEC"
        },
        "yaxis4": {
         "anchor": "x4",
         "domain": [
          0.7479999999999999,
          0.7959999999999999
         ],
         "range": [
          -1,
          17
         ],
         "showticklabels": false,
         "tickvals": [
          0,
          8,
          16
         ],
         "title": "CTX"
        },
        "yaxis5": {
         "anchor": "x5",
         "domain": [
          0.6799999999999999,
          0.728
         ],
         "range": [
          -1,
          17
         ],
         "showticklabels": false,
         "tickvals": [
          0,
          8,
          16
         ],
         "title": "ZOX"
        },
        "yaxis6": {
         "anchor": "x6",
         "domain": [
          0.6119999999999999,
          0.6599999999999999
         ],
         "range": [
          -1,
          17
         ],
         "showticklabels": false,
         "tickvals": [
          0,
          8,
          16
         ],
         "title": "CXM"
        },
        "yaxis7": {
         "anchor": "x7",
         "domain": [
          0.5439999999999999,
          0.592
         ],
         "range": [
          -1,
          17
         ],
         "showticklabels": false,
         "tickvals": [
          0,
          8,
          16
         ],
         "title": "CRO"
        },
        "yaxis8": {
         "anchor": "x8",
         "domain": [
          0.476,
          0.524
         ],
         "range": [
          -1,
          17
         ],
         "showticklabels": false,
         "tickvals": [
          0,
          8,
          16
         ],
         "title": "AMC"
        },
        "yaxis9": {
         "anchor": "x9",
         "domain": [
          0.408,
          0.45599999999999996
         ],
         "range": [
          -1,
          17
         ],
         "showticklabels": false,
         "tickvals": [
          0,
          8,
          16
         ],
         "title": "CAZ"
        }
       }
      },
      "text/html": [
       "<div id=\"8b03151f-cb1b-46cd-96d8-78355f483205\" style=\"height: 1200px; width: 100%;\" class=\"plotly-graph-div\"></div><script type=\"text/javascript\">require([\"plotly\"], function(Plotly) { window.PLOTLYENV=window.PLOTLYENV || {};window.PLOTLYENV.BASE_URL=\"https://plot.ly\";Plotly.newPlot(\"8b03151f-cb1b-46cd-96d8-78355f483205\", [{\"name\": \"AMP\", \"y\": [0.0, 0.0, 0.0, 5.0, 0.0, 0.0, 1.0, 0.0, 0.0, 0.0, 0.0, 0.0, 0.0, 0.0, 0.0, 10.0], \"type\": \"scatter\", \"uid\": \"4da98136-1080-11e9-b47b-e6497abbe804\", \"xaxis\": \"x\", \"yaxis\": \"y\"}, {\"name\": \"AM\", \"y\": [0.0, 0.0, 6.0, 0.0, 0.0, 0.0, 0.0, 0.0, 0.0, 0.0, 0.0, 0.0, 0.0, 10.0, 0.0, 0.0], \"type\": \"scatter\", \"uid\": \"4da9d130-1080-11e9-ad4e-e6497abbe804\", \"xaxis\": \"x2\", \"yaxis\": \"y2\"}, {\"name\": \"CEC\", \"y\": [0.0, 0.0, 0.0, 6.0, 3.0, 0.0, 0.0, 0.0, 0.0, 0.0, 0.0, 0.0, 0.0, 0.0, 7.0, 0.0], \"type\": \"scatter\", \"uid\": \"4da9d131-1080-11e9-aad5-e6497abbe804\", \"xaxis\": \"x3\", \"yaxis\": \"y3\"}, {\"name\": \"CTX\", \"y\": [0.0, 0.0, 0.0, 4.3, 0.0, 0.0, 3.0, 0.0, 0.0, 0.0, 2.4, 0.0, 0.0, 0.0, 0.0, 6.4], \"type\": \"scatter\", \"uid\": \"4dab0b98-1080-11e9-b79b-e6497abbe804\", \"xaxis\": \"x4\", \"yaxis\": \"y4\"}, {\"name\": \"ZOX\", \"y\": [0.0, 0.0, 0.0, 7.0, 0.0, 0.0, 0.0, 8.0, 0.0, 1.0, 0.0, 0.0, 0.0, 0.0, 0.0, 0.0], \"type\": \"scatter\", \"uid\": \"4dab5b90-1080-11e9-b471-e6497abbe804\", \"xaxis\": \"x5\", \"yaxis\": \"y5\"}, {\"name\": \"CXM\", \"y\": [0.0, 0.0, 0.0, 0.0, 4.0, 0.0, 0.0, 12.0, 0.0, 0.0, 0.0, 0.0, 0.0, 0.0, 0.0, 0.0], \"type\": \"scatter\", \"uid\": \"4dab5b91-1080-11e9-9b76-e6497abbe804\", \"xaxis\": \"x6\", \"yaxis\": \"y6\"}, {\"name\": \"CRO\", \"y\": [0.0, 0.0, 0.0, 2.5, 3.6, 0.0, 0.0, 0.0, 0.0, 0.0, 3.4, 0.0, 0.0, 0.0, 0.0, 7.0], \"type\": \"scatter\", \"uid\": \"4dac986e-1080-11e9-85ba-e6497abbe804\", \"xaxis\": \"x7\", \"yaxis\": \"y7\"}, {\"name\": \"AMC\", \"y\": [0.0, 0.0, 0.0, 0.0, 3.0, 0.0, 0.0, 0.0, 0.0, 0.0, 0.0, 0.0, 0.0, 13.0, 0.0, 0.0], \"type\": \"scatter\", \"uid\": \"4dace89a-1080-11e9-bad5-e6497abbe804\", \"xaxis\": \"x8\", \"yaxis\": \"y8\"}, {\"name\": \"CAZ\", \"y\": [0.0, 0.0, 0.0, 1.2, 0.0, 4.0, 11.0, 0.0, 0.0, 0.0, 0.0, 0.0, 0.0, 0.0, 0.0, 0.0], \"type\": \"scatter\", \"uid\": \"4dace89b-1080-11e9-b3cf-e6497abbe804\", \"xaxis\": \"x9\", \"yaxis\": \"y9\"}, {\"name\": \"CTT\", \"y\": [0.0, 0.0, 0.0, 0.0, 3.0, 0.0, 0.0, 7.3, 4.0, 0.0, 0.0, 0.0, 0.0, 1.0, 1.0, 0.0], \"type\": \"scatter\", \"uid\": \"4db03f1a-1080-11e9-9308-e6497abbe804\", \"xaxis\": \"x10\", \"yaxis\": \"y10\"}, {\"name\": \"SAM\", \"y\": [0.0, 0.0, 0.0, 0.0, 0.0, 0.0, 0.0, 0.0, 0.0, 0.0, 0.0, 0.0, 0.0, 0.0, 0.0, 16.0], \"type\": \"scatter\", \"uid\": \"4db03f1b-1080-11e9-be98-e6497abbe804\", \"xaxis\": \"x11\", \"yaxis\": \"y11\"}, {\"name\": \"CPR\", \"y\": [0.0, 0.0, 0.0, 2.0, 0.0, 9.0, 5.0, 0.0, 0.0, 0.0, 0.0, 0.0, 0.0, 0.0, 0.0, 0.0], \"type\": \"scatter\", \"uid\": \"4db17ca8-1080-11e9-a352-e6497abbe804\", \"xaxis\": \"x12\", \"yaxis\": \"y12\"}, {\"name\": \"CPD\", \"y\": [0.0, 0.0, 0.0, 0.0, 0.0, 0.0, 0.0, 0.0, 0.0, 0.0, 2.0, 0.0, 0.0, 0.0, 0.0, 14.0], \"type\": \"scatter\", \"uid\": \"4db17ca9-1080-11e9-8761-e6497abbe804\", \"xaxis\": \"x13\", \"yaxis\": \"y13\"}, {\"name\": \"TZP\", \"y\": [0.0, 0.0, 0.0, 0.0, 0.0, 14.0, 0.0, 0.0, 2.0, 0.0, 0.0, 0.0, 0.0, 0.0, 0.0, 0.0], \"type\": \"scatter\", \"uid\": \"4db17caa-1080-11e9-aec8-e6497abbe804\", \"xaxis\": \"x14\", \"yaxis\": \"y14\"}, {\"name\": \"FEP\", \"y\": [1.0, 0.0, 0.0, 1.0, 0.0, 0.0, 0.0, 0.0, 0.0, 0.0, 3.0, 0.0, 0.0, 0.0, 0.0, 11.0], \"type\": \"scatter\", \"uid\": \"4db35918-1080-11e9-8589-e6497abbe804\", \"xaxis\": \"x15\", \"yaxis\": \"y15\"}], {\"xaxis\": {\"anchor\": \"y\", \"domain\": [0.0, 1.0], \"ticktext\": [\"0000\", \"0001\", \"0010\", \"0011\", \"0100\", \"0101\", \"0110\", \"0111\", \"1000\", \"1001\", \"1010\", \"1011\", \"1100\", \"1101\", \"1110\", \"1111\"], \"tickvals\": [0, 1, 2, 3, 4, 5, 6, 7, 8, 9, 10, 11, 12, 13, 14, 15], \"range\": [-0.1, 15.1], \"zeroline\": false}, \"yaxis\": {\"anchor\": \"x\", \"domain\": [0.9520000000000001, 1.0], \"range\": [-1, 17], \"tickvals\": [0, 8, 16], \"title\": \"AMP\", \"showticklabels\": false}, \"xaxis2\": {\"anchor\": \"y2\", \"domain\": [0.0, 1.0], \"ticktext\": [\"0000\", \"0001\", \"0010\", \"0011\", \"0100\", \"0101\", \"0110\", \"0111\", \"1000\", \"1001\", \"1010\", \"1011\", \"1100\", \"1101\", \"1110\", \"1111\"], \"tickvals\": [0, 1, 2, 3, 4, 5, 6, 7, 8, 9, 10, 11, 12, 13, 14, 15], \"range\": [-0.1, 15.1], \"zeroline\": false}, \"yaxis2\": {\"anchor\": \"x2\", \"domain\": [0.884, 0.932], \"range\": [-1, 17], \"tickvals\": [0, 8, 16], \"title\": \"AM\", \"showticklabels\": false}, \"xaxis3\": {\"anchor\": \"y3\", \"domain\": [0.0, 1.0], \"ticktext\": [\"0000\", \"0001\", \"0010\", \"0011\", \"0100\", \"0101\", \"0110\", \"0111\", \"1000\", \"1001\", \"1010\", \"1011\", \"1100\", \"1101\", \"1110\", \"1111\"], \"tickvals\": [0, 1, 2, 3, 4, 5, 6, 7, 8, 9, 10, 11, 12, 13, 14, 15], \"range\": [-0.1, 15.1], \"zeroline\": false}, \"yaxis3\": {\"anchor\": \"x3\", \"domain\": [0.816, 0.864], \"range\": [-1, 17], \"tickvals\": [0, 8, 16], \"title\": \"CEC\", \"showticklabels\": false}, \"xaxis4\": {\"anchor\": \"y4\", \"domain\": [0.0, 1.0], \"ticktext\": [\"0000\", \"0001\", \"0010\", \"0011\", \"0100\", \"0101\", \"0110\", \"0111\", \"1000\", \"1001\", \"1010\", \"1011\", \"1100\", \"1101\", \"1110\", \"1111\"], \"tickvals\": [0, 1, 2, 3, 4, 5, 6, 7, 8, 9, 10, 11, 12, 13, 14, 15], \"range\": [-0.1, 15.1], \"zeroline\": false}, \"yaxis4\": {\"anchor\": \"x4\", \"domain\": [0.7479999999999999, 0.7959999999999999], \"range\": [-1, 17], \"tickvals\": [0, 8, 16], \"title\": \"CTX\", \"showticklabels\": false}, \"xaxis5\": {\"anchor\": \"y5\", \"domain\": [0.0, 1.0], \"ticktext\": [\"0000\", \"0001\", \"0010\", \"0011\", \"0100\", \"0101\", \"0110\", \"0111\", \"1000\", \"1001\", \"1010\", \"1011\", \"1100\", \"1101\", \"1110\", \"1111\"], \"tickvals\": [0, 1, 2, 3, 4, 5, 6, 7, 8, 9, 10, 11, 12, 13, 14, 15], \"range\": [-0.1, 15.1], \"zeroline\": false}, \"yaxis5\": {\"anchor\": \"x5\", \"domain\": [0.6799999999999999, 0.728], \"range\": [-1, 17], \"tickvals\": [0, 8, 16], \"title\": \"ZOX\", \"showticklabels\": false}, \"xaxis6\": {\"anchor\": \"y6\", \"domain\": [0.0, 1.0], \"ticktext\": [\"0000\", \"0001\", \"0010\", \"0011\", \"0100\", \"0101\", \"0110\", \"0111\", \"1000\", \"1001\", \"1010\", \"1011\", \"1100\", \"1101\", \"1110\", \"1111\"], \"tickvals\": [0, 1, 2, 3, 4, 5, 6, 7, 8, 9, 10, 11, 12, 13, 14, 15], \"range\": [-0.1, 15.1], \"zeroline\": false}, \"yaxis6\": {\"anchor\": \"x6\", \"domain\": [0.6119999999999999, 0.6599999999999999], \"range\": [-1, 17], \"tickvals\": [0, 8, 16], \"title\": \"CXM\", \"showticklabels\": false}, \"xaxis7\": {\"anchor\": \"y7\", \"domain\": [0.0, 1.0], \"ticktext\": [\"0000\", \"0001\", \"0010\", \"0011\", \"0100\", \"0101\", \"0110\", \"0111\", \"1000\", \"1001\", \"1010\", \"1011\", \"1100\", \"1101\", \"1110\", \"1111\"], \"tickvals\": [0, 1, 2, 3, 4, 5, 6, 7, 8, 9, 10, 11, 12, 13, 14, 15], \"range\": [-0.1, 15.1], \"zeroline\": false}, \"yaxis7\": {\"anchor\": \"x7\", \"domain\": [0.5439999999999999, 0.592], \"range\": [-1, 17], \"tickvals\": [0, 8, 16], \"title\": \"CRO\", \"showticklabels\": false}, \"xaxis8\": {\"anchor\": \"y8\", \"domain\": [0.0, 1.0], \"ticktext\": [\"0000\", \"0001\", \"0010\", \"0011\", \"0100\", \"0101\", \"0110\", \"0111\", \"1000\", \"1001\", \"1010\", \"1011\", \"1100\", \"1101\", \"1110\", \"1111\"], \"tickvals\": [0, 1, 2, 3, 4, 5, 6, 7, 8, 9, 10, 11, 12, 13, 14, 15], \"range\": [-0.1, 15.1], \"zeroline\": false}, \"yaxis8\": {\"anchor\": \"x8\", \"domain\": [0.476, 0.524], \"range\": [-1, 17], \"tickvals\": [0, 8, 16], \"title\": \"AMC\", \"showticklabels\": false}, \"xaxis9\": {\"anchor\": \"y9\", \"domain\": [0.0, 1.0], \"ticktext\": [\"0000\", \"0001\", \"0010\", \"0011\", \"0100\", \"0101\", \"0110\", \"0111\", \"1000\", \"1001\", \"1010\", \"1011\", \"1100\", \"1101\", \"1110\", \"1111\"], \"tickvals\": [0, 1, 2, 3, 4, 5, 6, 7, 8, 9, 10, 11, 12, 13, 14, 15], \"range\": [-0.1, 15.1], \"zeroline\": false}, \"yaxis9\": {\"anchor\": \"x9\", \"domain\": [0.408, 0.45599999999999996], \"range\": [-1, 17], \"tickvals\": [0, 8, 16], \"title\": \"CAZ\", \"showticklabels\": false}, \"xaxis10\": {\"anchor\": \"y10\", \"domain\": [0.0, 1.0], \"ticktext\": [\"0000\", \"0001\", \"0010\", \"0011\", \"0100\", \"0101\", \"0110\", \"0111\", \"1000\", \"1001\", \"1010\", \"1011\", \"1100\", \"1101\", \"1110\", \"1111\"], \"tickvals\": [0, 1, 2, 3, 4, 5, 6, 7, 8, 9, 10, 11, 12, 13, 14, 15], \"range\": [-0.1, 15.1], \"zeroline\": false}, \"yaxis10\": {\"anchor\": \"x10\", \"domain\": [0.33999999999999997, 0.38799999999999996], \"range\": [-1, 17], \"tickvals\": [0, 8, 16], \"title\": \"CTT\", \"showticklabels\": false}, \"xaxis11\": {\"anchor\": \"y11\", \"domain\": [0.0, 1.0], \"ticktext\": [\"0000\", \"0001\", \"0010\", \"0011\", \"0100\", \"0101\", \"0110\", \"0111\", \"1000\", \"1001\", \"1010\", \"1011\", \"1100\", \"1101\", \"1110\", \"1111\"], \"tickvals\": [0, 1, 2, 3, 4, 5, 6, 7, 8, 9, 10, 11, 12, 13, 14, 15], \"range\": [-0.1, 15.1], \"zeroline\": false}, \"yaxis11\": {\"anchor\": \"x11\", \"domain\": [0.272, 0.32], \"range\": [-1, 17], \"tickvals\": [0, 8, 16], \"title\": \"SAM\", \"showticklabels\": false}, \"xaxis12\": {\"anchor\": \"y12\", \"domain\": [0.0, 1.0], \"ticktext\": [\"0000\", \"0001\", \"0010\", \"0011\", \"0100\", \"0101\", \"0110\", \"0111\", \"1000\", \"1001\", \"1010\", \"1011\", \"1100\", \"1101\", \"1110\", \"1111\"], \"tickvals\": [0, 1, 2, 3, 4, 5, 6, 7, 8, 9, 10, 11, 12, 13, 14, 15], \"range\": [-0.1, 15.1], \"zeroline\": false}, \"yaxis12\": {\"anchor\": \"x12\", \"domain\": [0.20400000000000001, 0.252], \"range\": [-1, 17], \"tickvals\": [0, 8, 16], \"title\": \"CPR\", \"showticklabels\": false}, \"xaxis13\": {\"anchor\": \"y13\", \"domain\": [0.0, 1.0], \"ticktext\": [\"0000\", \"0001\", \"0010\", \"0011\", \"0100\", \"0101\", \"0110\", \"0111\", \"1000\", \"1001\", \"1010\", \"1011\", \"1100\", \"1101\", \"1110\", \"1111\"], \"tickvals\": [0, 1, 2, 3, 4, 5, 6, 7, 8, 9, 10, 11, 12, 13, 14, 15], \"range\": [-0.1, 15.1], \"zeroline\": false}, \"yaxis13\": {\"anchor\": \"x13\", \"domain\": [0.136, 0.184], \"range\": [-1, 17], \"tickvals\": [0, 8, 16], \"title\": \"CPD\", \"showticklabels\": false}, \"xaxis14\": {\"anchor\": \"y14\", \"domain\": [0.0, 1.0], \"ticktext\": [\"0000\", \"0001\", \"0010\", \"0011\", \"0100\", \"0101\", \"0110\", \"0111\", \"1000\", \"1001\", \"1010\", \"1011\", \"1100\", \"1101\", \"1110\", \"1111\"], \"tickvals\": [0, 1, 2, 3, 4, 5, 6, 7, 8, 9, 10, 11, 12, 13, 14, 15], \"range\": [-0.1, 15.1], \"zeroline\": false}, \"yaxis14\": {\"anchor\": \"x14\", \"domain\": [0.068, 0.116], \"range\": [-1, 17], \"tickvals\": [0, 8, 16], \"title\": \"TZP\", \"showticklabels\": false}, \"xaxis15\": {\"anchor\": \"y15\", \"domain\": [0.0, 1.0], \"ticktext\": [\"0000\", \"0001\", \"0010\", \"0011\", \"0100\", \"0101\", \"0110\", \"0111\", \"1000\", \"1001\", \"1010\", \"1011\", \"1100\", \"1101\", \"1110\", \"1111\"], \"tickvals\": [0, 1, 2, 3, 4, 5, 6, 7, 8, 9, 10, 11, 12, 13, 14, 15], \"range\": [-0.1, 15.1], \"zeroline\": false}, \"yaxis15\": {\"anchor\": \"x15\", \"domain\": [0.0, 0.048], \"range\": [-1, 17], \"tickvals\": [0, 8, 16], \"title\": \"FEP\", \"showticklabels\": false}, \"height\": 1200, \"showlegend\": false, \"title\": \"Basin sizes at K=10<sup>9</sup>\"}, {\"showLink\": false, \"linkText\": \"Export to plot.ly\"})});</script>"
      ],
      "text/vnd.plotly.v1+html": [
       "<div id=\"8b03151f-cb1b-46cd-96d8-78355f483205\" style=\"height: 1200px; width: 100%;\" class=\"plotly-graph-div\"></div><script type=\"text/javascript\">require([\"plotly\"], function(Plotly) { window.PLOTLYENV=window.PLOTLYENV || {};window.PLOTLYENV.BASE_URL=\"https://plot.ly\";Plotly.newPlot(\"8b03151f-cb1b-46cd-96d8-78355f483205\", [{\"name\": \"AMP\", \"y\": [0.0, 0.0, 0.0, 5.0, 0.0, 0.0, 1.0, 0.0, 0.0, 0.0, 0.0, 0.0, 0.0, 0.0, 0.0, 10.0], \"type\": \"scatter\", \"uid\": \"4da98136-1080-11e9-b47b-e6497abbe804\", \"xaxis\": \"x\", \"yaxis\": \"y\"}, {\"name\": \"AM\", \"y\": [0.0, 0.0, 6.0, 0.0, 0.0, 0.0, 0.0, 0.0, 0.0, 0.0, 0.0, 0.0, 0.0, 10.0, 0.0, 0.0], \"type\": \"scatter\", \"uid\": \"4da9d130-1080-11e9-ad4e-e6497abbe804\", \"xaxis\": \"x2\", \"yaxis\": \"y2\"}, {\"name\": \"CEC\", \"y\": [0.0, 0.0, 0.0, 6.0, 3.0, 0.0, 0.0, 0.0, 0.0, 0.0, 0.0, 0.0, 0.0, 0.0, 7.0, 0.0], \"type\": \"scatter\", \"uid\": \"4da9d131-1080-11e9-aad5-e6497abbe804\", \"xaxis\": \"x3\", \"yaxis\": \"y3\"}, {\"name\": \"CTX\", \"y\": [0.0, 0.0, 0.0, 4.3, 0.0, 0.0, 3.0, 0.0, 0.0, 0.0, 2.4, 0.0, 0.0, 0.0, 0.0, 6.4], \"type\": \"scatter\", \"uid\": \"4dab0b98-1080-11e9-b79b-e6497abbe804\", \"xaxis\": \"x4\", \"yaxis\": \"y4\"}, {\"name\": \"ZOX\", \"y\": [0.0, 0.0, 0.0, 7.0, 0.0, 0.0, 0.0, 8.0, 0.0, 1.0, 0.0, 0.0, 0.0, 0.0, 0.0, 0.0], \"type\": \"scatter\", \"uid\": \"4dab5b90-1080-11e9-b471-e6497abbe804\", \"xaxis\": \"x5\", \"yaxis\": \"y5\"}, {\"name\": \"CXM\", \"y\": [0.0, 0.0, 0.0, 0.0, 4.0, 0.0, 0.0, 12.0, 0.0, 0.0, 0.0, 0.0, 0.0, 0.0, 0.0, 0.0], \"type\": \"scatter\", \"uid\": \"4dab5b91-1080-11e9-9b76-e6497abbe804\", \"xaxis\": \"x6\", \"yaxis\": \"y6\"}, {\"name\": \"CRO\", \"y\": [0.0, 0.0, 0.0, 2.5, 3.6, 0.0, 0.0, 0.0, 0.0, 0.0, 3.4, 0.0, 0.0, 0.0, 0.0, 7.0], \"type\": \"scatter\", \"uid\": \"4dac986e-1080-11e9-85ba-e6497abbe804\", \"xaxis\": \"x7\", \"yaxis\": \"y7\"}, {\"name\": \"AMC\", \"y\": [0.0, 0.0, 0.0, 0.0, 3.0, 0.0, 0.0, 0.0, 0.0, 0.0, 0.0, 0.0, 0.0, 13.0, 0.0, 0.0], \"type\": \"scatter\", \"uid\": \"4dace89a-1080-11e9-bad5-e6497abbe804\", \"xaxis\": \"x8\", \"yaxis\": \"y8\"}, {\"name\": \"CAZ\", \"y\": [0.0, 0.0, 0.0, 1.2, 0.0, 4.0, 11.0, 0.0, 0.0, 0.0, 0.0, 0.0, 0.0, 0.0, 0.0, 0.0], \"type\": \"scatter\", \"uid\": \"4dace89b-1080-11e9-b3cf-e6497abbe804\", \"xaxis\": \"x9\", \"yaxis\": \"y9\"}, {\"name\": \"CTT\", \"y\": [0.0, 0.0, 0.0, 0.0, 3.0, 0.0, 0.0, 7.3, 4.0, 0.0, 0.0, 0.0, 0.0, 1.0, 1.0, 0.0], \"type\": \"scatter\", \"uid\": \"4db03f1a-1080-11e9-9308-e6497abbe804\", \"xaxis\": \"x10\", \"yaxis\": \"y10\"}, {\"name\": \"SAM\", \"y\": [0.0, 0.0, 0.0, 0.0, 0.0, 0.0, 0.0, 0.0, 0.0, 0.0, 0.0, 0.0, 0.0, 0.0, 0.0, 16.0], \"type\": \"scatter\", \"uid\": \"4db03f1b-1080-11e9-be98-e6497abbe804\", \"xaxis\": \"x11\", \"yaxis\": \"y11\"}, {\"name\": \"CPR\", \"y\": [0.0, 0.0, 0.0, 2.0, 0.0, 9.0, 5.0, 0.0, 0.0, 0.0, 0.0, 0.0, 0.0, 0.0, 0.0, 0.0], \"type\": \"scatter\", \"uid\": \"4db17ca8-1080-11e9-a352-e6497abbe804\", \"xaxis\": \"x12\", \"yaxis\": \"y12\"}, {\"name\": \"CPD\", \"y\": [0.0, 0.0, 0.0, 0.0, 0.0, 0.0, 0.0, 0.0, 0.0, 0.0, 2.0, 0.0, 0.0, 0.0, 0.0, 14.0], \"type\": \"scatter\", \"uid\": \"4db17ca9-1080-11e9-8761-e6497abbe804\", \"xaxis\": \"x13\", \"yaxis\": \"y13\"}, {\"name\": \"TZP\", \"y\": [0.0, 0.0, 0.0, 0.0, 0.0, 14.0, 0.0, 0.0, 2.0, 0.0, 0.0, 0.0, 0.0, 0.0, 0.0, 0.0], \"type\": \"scatter\", \"uid\": \"4db17caa-1080-11e9-aec8-e6497abbe804\", \"xaxis\": \"x14\", \"yaxis\": \"y14\"}, {\"name\": \"FEP\", \"y\": [1.0, 0.0, 0.0, 1.0, 0.0, 0.0, 0.0, 0.0, 0.0, 0.0, 3.0, 0.0, 0.0, 0.0, 0.0, 11.0], \"type\": \"scatter\", \"uid\": \"4db35918-1080-11e9-8589-e6497abbe804\", \"xaxis\": \"x15\", \"yaxis\": \"y15\"}], {\"xaxis\": {\"anchor\": \"y\", \"domain\": [0.0, 1.0], \"ticktext\": [\"0000\", \"0001\", \"0010\", \"0011\", \"0100\", \"0101\", \"0110\", \"0111\", \"1000\", \"1001\", \"1010\", \"1011\", \"1100\", \"1101\", \"1110\", \"1111\"], \"tickvals\": [0, 1, 2, 3, 4, 5, 6, 7, 8, 9, 10, 11, 12, 13, 14, 15], \"range\": [-0.1, 15.1], \"zeroline\": false}, \"yaxis\": {\"anchor\": \"x\", \"domain\": [0.9520000000000001, 1.0], \"range\": [-1, 17], \"tickvals\": [0, 8, 16], \"title\": \"AMP\", \"showticklabels\": false}, \"xaxis2\": {\"anchor\": \"y2\", \"domain\": [0.0, 1.0], \"ticktext\": [\"0000\", \"0001\", \"0010\", \"0011\", \"0100\", \"0101\", \"0110\", \"0111\", \"1000\", \"1001\", \"1010\", \"1011\", \"1100\", \"1101\", \"1110\", \"1111\"], \"tickvals\": [0, 1, 2, 3, 4, 5, 6, 7, 8, 9, 10, 11, 12, 13, 14, 15], \"range\": [-0.1, 15.1], \"zeroline\": false}, \"yaxis2\": {\"anchor\": \"x2\", \"domain\": [0.884, 0.932], \"range\": [-1, 17], \"tickvals\": [0, 8, 16], \"title\": \"AM\", \"showticklabels\": false}, \"xaxis3\": {\"anchor\": \"y3\", \"domain\": [0.0, 1.0], \"ticktext\": [\"0000\", \"0001\", \"0010\", \"0011\", \"0100\", \"0101\", \"0110\", \"0111\", \"1000\", \"1001\", \"1010\", \"1011\", \"1100\", \"1101\", \"1110\", \"1111\"], \"tickvals\": [0, 1, 2, 3, 4, 5, 6, 7, 8, 9, 10, 11, 12, 13, 14, 15], \"range\": [-0.1, 15.1], \"zeroline\": false}, \"yaxis3\": {\"anchor\": \"x3\", \"domain\": [0.816, 0.864], \"range\": [-1, 17], \"tickvals\": [0, 8, 16], \"title\": \"CEC\", \"showticklabels\": false}, \"xaxis4\": {\"anchor\": \"y4\", \"domain\": [0.0, 1.0], \"ticktext\": [\"0000\", \"0001\", \"0010\", \"0011\", \"0100\", \"0101\", \"0110\", \"0111\", \"1000\", \"1001\", \"1010\", \"1011\", \"1100\", \"1101\", \"1110\", \"1111\"], \"tickvals\": [0, 1, 2, 3, 4, 5, 6, 7, 8, 9, 10, 11, 12, 13, 14, 15], \"range\": [-0.1, 15.1], \"zeroline\": false}, \"yaxis4\": {\"anchor\": \"x4\", \"domain\": [0.7479999999999999, 0.7959999999999999], \"range\": [-1, 17], \"tickvals\": [0, 8, 16], \"title\": \"CTX\", \"showticklabels\": false}, \"xaxis5\": {\"anchor\": \"y5\", \"domain\": [0.0, 1.0], \"ticktext\": [\"0000\", \"0001\", \"0010\", \"0011\", \"0100\", \"0101\", \"0110\", \"0111\", \"1000\", \"1001\", \"1010\", \"1011\", \"1100\", \"1101\", \"1110\", \"1111\"], \"tickvals\": [0, 1, 2, 3, 4, 5, 6, 7, 8, 9, 10, 11, 12, 13, 14, 15], \"range\": [-0.1, 15.1], \"zeroline\": false}, \"yaxis5\": {\"anchor\": \"x5\", \"domain\": [0.6799999999999999, 0.728], \"range\": [-1, 17], \"tickvals\": [0, 8, 16], \"title\": \"ZOX\", \"showticklabels\": false}, \"xaxis6\": {\"anchor\": \"y6\", \"domain\": [0.0, 1.0], \"ticktext\": [\"0000\", \"0001\", \"0010\", \"0011\", \"0100\", \"0101\", \"0110\", \"0111\", \"1000\", \"1001\", \"1010\", \"1011\", \"1100\", \"1101\", \"1110\", \"1111\"], \"tickvals\": [0, 1, 2, 3, 4, 5, 6, 7, 8, 9, 10, 11, 12, 13, 14, 15], \"range\": [-0.1, 15.1], \"zeroline\": false}, \"yaxis6\": {\"anchor\": \"x6\", \"domain\": [0.6119999999999999, 0.6599999999999999], \"range\": [-1, 17], \"tickvals\": [0, 8, 16], \"title\": \"CXM\", \"showticklabels\": false}, \"xaxis7\": {\"anchor\": \"y7\", \"domain\": [0.0, 1.0], \"ticktext\": [\"0000\", \"0001\", \"0010\", \"0011\", \"0100\", \"0101\", \"0110\", \"0111\", \"1000\", \"1001\", \"1010\", \"1011\", \"1100\", \"1101\", \"1110\", \"1111\"], \"tickvals\": [0, 1, 2, 3, 4, 5, 6, 7, 8, 9, 10, 11, 12, 13, 14, 15], \"range\": [-0.1, 15.1], \"zeroline\": false}, \"yaxis7\": {\"anchor\": \"x7\", \"domain\": [0.5439999999999999, 0.592], \"range\": [-1, 17], \"tickvals\": [0, 8, 16], \"title\": \"CRO\", \"showticklabels\": false}, \"xaxis8\": {\"anchor\": \"y8\", \"domain\": [0.0, 1.0], \"ticktext\": [\"0000\", \"0001\", \"0010\", \"0011\", \"0100\", \"0101\", \"0110\", \"0111\", \"1000\", \"1001\", \"1010\", \"1011\", \"1100\", \"1101\", \"1110\", \"1111\"], \"tickvals\": [0, 1, 2, 3, 4, 5, 6, 7, 8, 9, 10, 11, 12, 13, 14, 15], \"range\": [-0.1, 15.1], \"zeroline\": false}, \"yaxis8\": {\"anchor\": \"x8\", \"domain\": [0.476, 0.524], \"range\": [-1, 17], \"tickvals\": [0, 8, 16], \"title\": \"AMC\", \"showticklabels\": false}, \"xaxis9\": {\"anchor\": \"y9\", \"domain\": [0.0, 1.0], \"ticktext\": [\"0000\", \"0001\", \"0010\", \"0011\", \"0100\", \"0101\", \"0110\", \"0111\", \"1000\", \"1001\", \"1010\", \"1011\", \"1100\", \"1101\", \"1110\", \"1111\"], \"tickvals\": [0, 1, 2, 3, 4, 5, 6, 7, 8, 9, 10, 11, 12, 13, 14, 15], \"range\": [-0.1, 15.1], \"zeroline\": false}, \"yaxis9\": {\"anchor\": \"x9\", \"domain\": [0.408, 0.45599999999999996], \"range\": [-1, 17], \"tickvals\": [0, 8, 16], \"title\": \"CAZ\", \"showticklabels\": false}, \"xaxis10\": {\"anchor\": \"y10\", \"domain\": [0.0, 1.0], \"ticktext\": [\"0000\", \"0001\", \"0010\", \"0011\", \"0100\", \"0101\", \"0110\", \"0111\", \"1000\", \"1001\", \"1010\", \"1011\", \"1100\", \"1101\", \"1110\", \"1111\"], \"tickvals\": [0, 1, 2, 3, 4, 5, 6, 7, 8, 9, 10, 11, 12, 13, 14, 15], \"range\": [-0.1, 15.1], \"zeroline\": false}, \"yaxis10\": {\"anchor\": \"x10\", \"domain\": [0.33999999999999997, 0.38799999999999996], \"range\": [-1, 17], \"tickvals\": [0, 8, 16], \"title\": \"CTT\", \"showticklabels\": false}, \"xaxis11\": {\"anchor\": \"y11\", \"domain\": [0.0, 1.0], \"ticktext\": [\"0000\", \"0001\", \"0010\", \"0011\", \"0100\", \"0101\", \"0110\", \"0111\", \"1000\", \"1001\", \"1010\", \"1011\", \"1100\", \"1101\", \"1110\", \"1111\"], \"tickvals\": [0, 1, 2, 3, 4, 5, 6, 7, 8, 9, 10, 11, 12, 13, 14, 15], \"range\": [-0.1, 15.1], \"zeroline\": false}, \"yaxis11\": {\"anchor\": \"x11\", \"domain\": [0.272, 0.32], \"range\": [-1, 17], \"tickvals\": [0, 8, 16], \"title\": \"SAM\", \"showticklabels\": false}, \"xaxis12\": {\"anchor\": \"y12\", \"domain\": [0.0, 1.0], \"ticktext\": [\"0000\", \"0001\", \"0010\", \"0011\", \"0100\", \"0101\", \"0110\", \"0111\", \"1000\", \"1001\", \"1010\", \"1011\", \"1100\", \"1101\", \"1110\", \"1111\"], \"tickvals\": [0, 1, 2, 3, 4, 5, 6, 7, 8, 9, 10, 11, 12, 13, 14, 15], \"range\": [-0.1, 15.1], \"zeroline\": false}, \"yaxis12\": {\"anchor\": \"x12\", \"domain\": [0.20400000000000001, 0.252], \"range\": [-1, 17], \"tickvals\": [0, 8, 16], \"title\": \"CPR\", \"showticklabels\": false}, \"xaxis13\": {\"anchor\": \"y13\", \"domain\": [0.0, 1.0], \"ticktext\": [\"0000\", \"0001\", \"0010\", \"0011\", \"0100\", \"0101\", \"0110\", \"0111\", \"1000\", \"1001\", \"1010\", \"1011\", \"1100\", \"1101\", \"1110\", \"1111\"], \"tickvals\": [0, 1, 2, 3, 4, 5, 6, 7, 8, 9, 10, 11, 12, 13, 14, 15], \"range\": [-0.1, 15.1], \"zeroline\": false}, \"yaxis13\": {\"anchor\": \"x13\", \"domain\": [0.136, 0.184], \"range\": [-1, 17], \"tickvals\": [0, 8, 16], \"title\": \"CPD\", \"showticklabels\": false}, \"xaxis14\": {\"anchor\": \"y14\", \"domain\": [0.0, 1.0], \"ticktext\": [\"0000\", \"0001\", \"0010\", \"0011\", \"0100\", \"0101\", \"0110\", \"0111\", \"1000\", \"1001\", \"1010\", \"1011\", \"1100\", \"1101\", \"1110\", \"1111\"], \"tickvals\": [0, 1, 2, 3, 4, 5, 6, 7, 8, 9, 10, 11, 12, 13, 14, 15], \"range\": [-0.1, 15.1], \"zeroline\": false}, \"yaxis14\": {\"anchor\": \"x14\", \"domain\": [0.068, 0.116], \"range\": [-1, 17], \"tickvals\": [0, 8, 16], \"title\": \"TZP\", \"showticklabels\": false}, \"xaxis15\": {\"anchor\": \"y15\", \"domain\": [0.0, 1.0], \"ticktext\": [\"0000\", \"0001\", \"0010\", \"0011\", \"0100\", \"0101\", \"0110\", \"0111\", \"1000\", \"1001\", \"1010\", \"1011\", \"1100\", \"1101\", \"1110\", \"1111\"], \"tickvals\": [0, 1, 2, 3, 4, 5, 6, 7, 8, 9, 10, 11, 12, 13, 14, 15], \"range\": [-0.1, 15.1], \"zeroline\": false}, \"yaxis15\": {\"anchor\": \"x15\", \"domain\": [0.0, 0.048], \"range\": [-1, 17], \"tickvals\": [0, 8, 16], \"title\": \"FEP\", \"showticklabels\": false}, \"height\": 1200, \"showlegend\": false, \"title\": \"Basin sizes at K=10<sup>9</sup>\"}, {\"showLink\": false, \"linkText\": \"Export to plot.ly\"})});</script>"
      ]
     },
     "metadata": {},
     "output_type": "display_data"
    }
   ],
   "source": [
    "data=[]\n",
    "for name in dataset2.index:\n",
    "    data.append(go.Scatter(\n",
    "        y=bs['dataset2'][name],\n",
    "        name=name\n",
    "    ))\n",
    "fig = tools.make_subplots(rows=len(data), cols=1, print_grid=False)\n",
    "for i, d in enumerate(data, 1):\n",
    "    fig.append_trace(d, i, 1)\n",
    "    fig['layout'][f'xaxis{i}'].update(\n",
    "        ticktext=[format(i, '04b') for i in range(16)],\n",
    "        tickvals=list(range(16)),\n",
    "        range=[-0.1,15.1],\n",
    "        zeroline=False\n",
    "    )\n",
    "    fig['layout'][f'yaxis{i}'].update(\n",
    "        range=[-1,17],\n",
    "        tickvals=[0,8,16],\n",
    "        title=d.name,\n",
    "        showticklabels=False\n",
    "    )\n",
    "    \n",
    "fig['layout'].update(\n",
    "    height=1200,\n",
    "    showlegend=False,\n",
    "    title='Basin sizes at K=10<sup>9</sup>'\n",
    ")\n",
    "iplot(fig, show_link=False)"
   ]
  },
  {
   "cell_type": "code",
   "execution_count": 58,
   "metadata": {},
   "outputs": [
    {
     "data": {
      "application/vnd.plotly.v1+json": {
       "data": [
        {
         "name": "10^9",
         "type": "scatter",
         "uid": "0774ed6e-1081-11e9-ac2b-e6497abbe804",
         "y": [
          0,
          0,
          0,
          5,
          0,
          0,
          1,
          0,
          0,
          0,
          0,
          0,
          0,
          0,
          0,
          10
         ]
        },
        {
         "name": "10^6",
         "type": "scatter",
         "uid": "0774ed6f-1081-11e9-8e99-e6497abbe804",
         "y": [
          0,
          0,
          0,
          5,
          0,
          0,
          0.1,
          0,
          0,
          0,
          0,
          0,
          0,
          0,
          0,
          10.7
         ]
        }
       ],
       "layout": {
        "title": "Comparison of basin sizes at two carrying capacities",
        "updatemenus": [
         {
          "buttons": [
           {
            "args": [
             {
              "y": [
               [
                0,
                0,
                0,
                5,
                0,
                0,
                1,
                0,
                0,
                0,
                0,
                0,
                0,
                0,
                0,
                10
               ],
               [
                0,
                0,
                0,
                5,
                0,
                0,
                0.1,
                0,
                0,
                0,
                0,
                0,
                0,
                0,
                0,
                10.7
               ]
              ]
             }
            ],
            "label": "AMP",
            "method": "restyle"
           },
           {
            "args": [
             {
              "y": [
               [
                0,
                0,
                6,
                0,
                0,
                0,
                0,
                0,
                0,
                0,
                0,
                0,
                0,
                10,
                0,
                0
               ],
               [
                0,
                0,
                4.3,
                0,
                0,
                0,
                0,
                0,
                0,
                0,
                0,
                0,
                0,
                11.8,
                0,
                0
               ]
              ]
             }
            ],
            "label": "AM",
            "method": "restyle"
           },
           {
            "args": [
             {
              "y": [
               [
                0,
                0,
                0,
                6,
                3,
                0,
                0,
                0,
                0,
                0,
                0,
                0,
                0,
                0,
                7,
                0
               ],
               [
                0,
                0,
                0,
                6,
                2.8,
                0,
                0,
                0,
                0,
                0,
                0,
                0,
                0,
                0,
                7.3,
                0
               ]
              ]
             }
            ],
            "label": "CEC",
            "method": "restyle"
           },
           {
            "args": [
             {
              "y": [
               [
                0,
                0,
                0,
                4.3,
                0,
                0,
                3,
                0,
                0,
                0,
                2.4,
                0,
                0,
                0,
                0,
                6.4
               ],
               [
                0,
                0,
                0,
                4.4,
                0,
                0,
                2.1,
                0,
                0,
                0,
                1.1,
                0,
                0,
                0,
                0,
                6.9
               ]
              ]
             }
            ],
            "label": "CTX",
            "method": "restyle"
           },
           {
            "args": [
             {
              "y": [
               [
                0,
                0,
                0,
                7,
                0,
                0,
                0,
                8,
                0,
                1,
                0,
                0,
                0,
                0,
                0,
                0
               ],
               [
                0,
                0,
                0,
                7.2,
                0,
                0,
                0,
                8.3,
                0,
                0.6,
                0,
                0,
                0,
                0,
                0,
                0
               ]
              ]
             }
            ],
            "label": "ZOX",
            "method": "restyle"
           },
           {
            "args": [
             {
              "y": [
               [
                0,
                0,
                0,
                0,
                4,
                0,
                0,
                12,
                0,
                0,
                0,
                0,
                0,
                0,
                0,
                0
               ],
               [
                0,
                0,
                0,
                0,
                2.8,
                0,
                0,
                12.6,
                0,
                0,
                0,
                0,
                0,
                0,
                0,
                0
               ]
              ]
             }
            ],
            "label": "CXM",
            "method": "restyle"
           },
           {
            "args": [
             {
              "y": [
               [
                0,
                0,
                0,
                2.5,
                3.6,
                0,
                0,
                0,
                0,
                0,
                3.4,
                0,
                0,
                0,
                0,
                7
               ],
               [
                0,
                0,
                0,
                2,
                3.2,
                0,
                0,
                0,
                0,
                0,
                3.4,
                0,
                0,
                0,
                0,
                7.1
               ]
              ]
             }
            ],
            "label": "CRO",
            "method": "restyle"
           },
           {
            "args": [
             {
              "y": [
               [
                0,
                0,
                0,
                0,
                3,
                0,
                0,
                0,
                0,
                0,
                0,
                0,
                0,
                13,
                0,
                0
               ],
               [
                0,
                0,
                0,
                0,
                2.2,
                0,
                0,
                0,
                0,
                0,
                0,
                0,
                0,
                13.6,
                0,
                0
               ]
              ]
             }
            ],
            "label": "AMC",
            "method": "restyle"
           },
           {
            "args": [
             {
              "y": [
               [
                0,
                0,
                0,
                1.2,
                0,
                4,
                11,
                0,
                0,
                0,
                0,
                0,
                0,
                0,
                0,
                0
               ],
               [
                0,
                0,
                0,
                0.8,
                0,
                4.2,
                11.1,
                0,
                0,
                0,
                0,
                0,
                0,
                0,
                0,
                0
               ]
              ]
             }
            ],
            "label": "CAZ",
            "method": "restyle"
           },
           {
            "args": [
             {
              "y": [
               [
                0,
                0,
                0,
                0,
                3,
                0,
                0,
                7.3,
                4,
                0,
                0,
                0,
                0,
                1,
                1,
                0
               ],
               [
                0,
                0,
                0,
                0,
                2.9,
                0,
                0,
                7.5,
                3.8,
                0,
                0,
                0,
                0,
                1,
                0.8,
                0
               ]
              ]
             }
            ],
            "label": "CTT",
            "method": "restyle"
           },
           {
            "args": [
             {
              "y": [
               [
                0,
                0,
                0,
                0,
                0,
                0,
                0,
                0,
                0,
                0,
                0,
                0,
                0,
                0,
                0,
                16
               ],
               [
                0,
                0,
                0,
                0,
                0,
                0,
                0,
                0,
                0,
                0,
                0,
                0,
                0,
                0,
                0,
                16
               ]
              ]
             }
            ],
            "label": "SAM",
            "method": "restyle"
           },
           {
            "args": [
             {
              "y": [
               [
                0,
                0,
                0,
                2,
                0,
                9,
                5,
                0,
                0,
                0,
                0,
                0,
                0,
                0,
                0,
                0
               ],
               [
                0,
                0,
                0,
                1.7,
                0,
                9,
                5.5,
                0,
                0,
                0,
                0,
                0,
                0,
                0,
                0,
                0
               ]
              ]
             }
            ],
            "label": "CPR",
            "method": "restyle"
           },
           {
            "args": [
             {
              "y": [
               [
                0,
                0,
                0,
                0,
                0,
                0,
                0,
                0,
                0,
                0,
                2,
                0,
                0,
                0,
                0,
                14
               ],
               [
                0,
                0,
                0,
                0,
                0,
                0,
                0,
                0,
                0,
                0,
                1.3,
                0,
                0,
                0,
                0,
                14.6
               ]
              ]
             }
            ],
            "label": "CPD",
            "method": "restyle"
           },
           {
            "args": [
             {
              "y": [
               [
                0,
                0,
                0,
                0,
                0,
                14,
                0,
                0,
                2,
                0,
                0,
                0,
                0,
                0,
                0,
                0
               ],
               [
                0,
                0,
                0,
                0,
                0,
                14.9,
                0,
                0,
                1.3,
                0,
                0,
                0,
                0,
                0,
                0,
                0
               ]
              ]
             }
            ],
            "label": "TZP",
            "method": "restyle"
           },
           {
            "args": [
             {
              "y": [
               [
                1,
                0,
                0,
                1,
                0,
                0,
                0,
                0,
                0,
                0,
                3,
                0,
                0,
                0,
                0,
                11
               ],
               [
                0.7,
                0,
                0,
                0.9,
                0,
                0,
                0,
                0,
                0,
                0,
                2.8,
                0,
                0,
                0,
                0,
                11.8
               ]
              ]
             }
            ],
            "label": "FEP",
            "method": "restyle"
           }
          ],
          "direction": "down",
          "pad": {
           "r": 10,
           "t": 10
          },
          "showactive": true,
          "x": 0.1,
          "xanchor": "left",
          "y": 1.1,
          "yanchor": "top"
         }
        ],
        "xaxis": {
         "ticktext": [
          "0000",
          "0001",
          "0010",
          "0011",
          "0100",
          "0101",
          "0110",
          "0111",
          "1000",
          "1001",
          "1010",
          "1011",
          "1100",
          "1101",
          "1110",
          "1111"
         ],
         "tickvals": [
          0,
          1,
          2,
          3,
          4,
          5,
          6,
          7,
          8,
          9,
          10,
          11,
          12,
          13,
          14,
          15
         ],
         "title": "Genotype",
         "zeroline": false
        },
        "yaxis": {
         "range": [
          -1,
          17
         ],
         "title": "Basin size"
        }
       }
      },
      "text/html": [
       "<div id=\"9ad9fd07-2cbb-454b-9c56-5f03013e0c3f\" style=\"height: 525px; width: 100%;\" class=\"plotly-graph-div\"></div><script type=\"text/javascript\">require([\"plotly\"], function(Plotly) { window.PLOTLYENV=window.PLOTLYENV || {};window.PLOTLYENV.BASE_URL=\"https://plot.ly\";Plotly.newPlot(\"9ad9fd07-2cbb-454b-9c56-5f03013e0c3f\", [{\"name\": \"10^9\", \"y\": [0.0, 0.0, 0.0, 5.0, 0.0, 0.0, 1.0, 0.0, 0.0, 0.0, 0.0, 0.0, 0.0, 0.0, 0.0, 10.0], \"type\": \"scatter\", \"uid\": \"0774ed6e-1081-11e9-ac2b-e6497abbe804\"}, {\"name\": \"10^6\", \"y\": [0.0, 0.0, 0.0, 5.0, 0.0, 0.0, 0.1, 0.0, 0.0, 0.0, 0.0, 0.0, 0.0, 0.0, 0.0, 10.7], \"type\": \"scatter\", \"uid\": \"0774ed6f-1081-11e9-8e99-e6497abbe804\"}], {\"title\": \"Comparison of basin sizes at two carrying capacities\", \"updatemenus\": [{\"buttons\": [{\"args\": [{\"y\": [[0.0, 0.0, 0.0, 5.0, 0.0, 0.0, 1.0, 0.0, 0.0, 0.0, 0.0, 0.0, 0.0, 0.0, 0.0, 10.0], [0.0, 0.0, 0.0, 5.0, 0.0, 0.0, 0.1, 0.0, 0.0, 0.0, 0.0, 0.0, 0.0, 0.0, 0.0, 10.7]]}], \"label\": \"AMP\", \"method\": \"restyle\"}, {\"args\": [{\"y\": [[0.0, 0.0, 6.0, 0.0, 0.0, 0.0, 0.0, 0.0, 0.0, 0.0, 0.0, 0.0, 0.0, 10.0, 0.0, 0.0], [0.0, 0.0, 4.3, 0.0, 0.0, 0.0, 0.0, 0.0, 0.0, 0.0, 0.0, 0.0, 0.0, 11.8, 0.0, 0.0]]}], \"label\": \"AM\", \"method\": \"restyle\"}, {\"args\": [{\"y\": [[0.0, 0.0, 0.0, 6.0, 3.0, 0.0, 0.0, 0.0, 0.0, 0.0, 0.0, 0.0, 0.0, 0.0, 7.0, 0.0], [0.0, 0.0, 0.0, 6.0, 2.8, 0.0, 0.0, 0.0, 0.0, 0.0, 0.0, 0.0, 0.0, 0.0, 7.3, 0.0]]}], \"label\": \"CEC\", \"method\": \"restyle\"}, {\"args\": [{\"y\": [[0.0, 0.0, 0.0, 4.3, 0.0, 0.0, 3.0, 0.0, 0.0, 0.0, 2.4, 0.0, 0.0, 0.0, 0.0, 6.4], [0.0, 0.0, 0.0, 4.4, 0.0, 0.0, 2.1, 0.0, 0.0, 0.0, 1.1, 0.0, 0.0, 0.0, 0.0, 6.9]]}], \"label\": \"CTX\", \"method\": \"restyle\"}, {\"args\": [{\"y\": [[0.0, 0.0, 0.0, 7.0, 0.0, 0.0, 0.0, 8.0, 0.0, 1.0, 0.0, 0.0, 0.0, 0.0, 0.0, 0.0], [0.0, 0.0, 0.0, 7.2, 0.0, 0.0, 0.0, 8.3, 0.0, 0.6, 0.0, 0.0, 0.0, 0.0, 0.0, 0.0]]}], \"label\": \"ZOX\", \"method\": \"restyle\"}, {\"args\": [{\"y\": [[0.0, 0.0, 0.0, 0.0, 4.0, 0.0, 0.0, 12.0, 0.0, 0.0, 0.0, 0.0, 0.0, 0.0, 0.0, 0.0], [0.0, 0.0, 0.0, 0.0, 2.8, 0.0, 0.0, 12.6, 0.0, 0.0, 0.0, 0.0, 0.0, 0.0, 0.0, 0.0]]}], \"label\": \"CXM\", \"method\": \"restyle\"}, {\"args\": [{\"y\": [[0.0, 0.0, 0.0, 2.5, 3.6, 0.0, 0.0, 0.0, 0.0, 0.0, 3.4, 0.0, 0.0, 0.0, 0.0, 7.0], [0.0, 0.0, 0.0, 2.0, 3.2, 0.0, 0.0, 0.0, 0.0, 0.0, 3.4, 0.0, 0.0, 0.0, 0.0, 7.1]]}], \"label\": \"CRO\", \"method\": \"restyle\"}, {\"args\": [{\"y\": [[0.0, 0.0, 0.0, 0.0, 3.0, 0.0, 0.0, 0.0, 0.0, 0.0, 0.0, 0.0, 0.0, 13.0, 0.0, 0.0], [0.0, 0.0, 0.0, 0.0, 2.2, 0.0, 0.0, 0.0, 0.0, 0.0, 0.0, 0.0, 0.0, 13.6, 0.0, 0.0]]}], \"label\": \"AMC\", \"method\": \"restyle\"}, {\"args\": [{\"y\": [[0.0, 0.0, 0.0, 1.2, 0.0, 4.0, 11.0, 0.0, 0.0, 0.0, 0.0, 0.0, 0.0, 0.0, 0.0, 0.0], [0.0, 0.0, 0.0, 0.8, 0.0, 4.2, 11.1, 0.0, 0.0, 0.0, 0.0, 0.0, 0.0, 0.0, 0.0, 0.0]]}], \"label\": \"CAZ\", \"method\": \"restyle\"}, {\"args\": [{\"y\": [[0.0, 0.0, 0.0, 0.0, 3.0, 0.0, 0.0, 7.3, 4.0, 0.0, 0.0, 0.0, 0.0, 1.0, 1.0, 0.0], [0.0, 0.0, 0.0, 0.0, 2.9, 0.0, 0.0, 7.5, 3.8, 0.0, 0.0, 0.0, 0.0, 1.0, 0.8, 0.0]]}], \"label\": \"CTT\", \"method\": \"restyle\"}, {\"args\": [{\"y\": [[0.0, 0.0, 0.0, 0.0, 0.0, 0.0, 0.0, 0.0, 0.0, 0.0, 0.0, 0.0, 0.0, 0.0, 0.0, 16.0], [0.0, 0.0, 0.0, 0.0, 0.0, 0.0, 0.0, 0.0, 0.0, 0.0, 0.0, 0.0, 0.0, 0.0, 0.0, 16.0]]}], \"label\": \"SAM\", \"method\": \"restyle\"}, {\"args\": [{\"y\": [[0.0, 0.0, 0.0, 2.0, 0.0, 9.0, 5.0, 0.0, 0.0, 0.0, 0.0, 0.0, 0.0, 0.0, 0.0, 0.0], [0.0, 0.0, 0.0, 1.7, 0.0, 9.0, 5.5, 0.0, 0.0, 0.0, 0.0, 0.0, 0.0, 0.0, 0.0, 0.0]]}], \"label\": \"CPR\", \"method\": \"restyle\"}, {\"args\": [{\"y\": [[0.0, 0.0, 0.0, 0.0, 0.0, 0.0, 0.0, 0.0, 0.0, 0.0, 2.0, 0.0, 0.0, 0.0, 0.0, 14.0], [0.0, 0.0, 0.0, 0.0, 0.0, 0.0, 0.0, 0.0, 0.0, 0.0, 1.3, 0.0, 0.0, 0.0, 0.0, 14.6]]}], \"label\": \"CPD\", \"method\": \"restyle\"}, {\"args\": [{\"y\": [[0.0, 0.0, 0.0, 0.0, 0.0, 14.0, 0.0, 0.0, 2.0, 0.0, 0.0, 0.0, 0.0, 0.0, 0.0, 0.0], [0.0, 0.0, 0.0, 0.0, 0.0, 14.9, 0.0, 0.0, 1.3, 0.0, 0.0, 0.0, 0.0, 0.0, 0.0, 0.0]]}], \"label\": \"TZP\", \"method\": \"restyle\"}, {\"args\": [{\"y\": [[1.0, 0.0, 0.0, 1.0, 0.0, 0.0, 0.0, 0.0, 0.0, 0.0, 3.0, 0.0, 0.0, 0.0, 0.0, 11.0], [0.7, 0.0, 0.0, 0.9, 0.0, 0.0, 0.0, 0.0, 0.0, 0.0, 2.8, 0.0, 0.0, 0.0, 0.0, 11.8]]}], \"label\": \"FEP\", \"method\": \"restyle\"}], \"direction\": \"down\", \"pad\": {\"r\": 10, \"t\": 10}, \"showactive\": true, \"x\": 0.1, \"xanchor\": \"left\", \"y\": 1.1, \"yanchor\": \"top\"}], \"xaxis\": {\"ticktext\": [\"0000\", \"0001\", \"0010\", \"0011\", \"0100\", \"0101\", \"0110\", \"0111\", \"1000\", \"1001\", \"1010\", \"1011\", \"1100\", \"1101\", \"1110\", \"1111\"], \"tickvals\": [0, 1, 2, 3, 4, 5, 6, 7, 8, 9, 10, 11, 12, 13, 14, 15], \"title\": \"Genotype\", \"zeroline\": false}, \"yaxis\": {\"range\": [-1, 17], \"title\": \"Basin size\"}}, {\"showLink\": false, \"linkText\": \"Export to plot.ly\"})});</script>"
      ],
      "text/vnd.plotly.v1+html": [
       "<div id=\"9ad9fd07-2cbb-454b-9c56-5f03013e0c3f\" style=\"height: 525px; width: 100%;\" class=\"plotly-graph-div\"></div><script type=\"text/javascript\">require([\"plotly\"], function(Plotly) { window.PLOTLYENV=window.PLOTLYENV || {};window.PLOTLYENV.BASE_URL=\"https://plot.ly\";Plotly.newPlot(\"9ad9fd07-2cbb-454b-9c56-5f03013e0c3f\", [{\"name\": \"10^9\", \"y\": [0.0, 0.0, 0.0, 5.0, 0.0, 0.0, 1.0, 0.0, 0.0, 0.0, 0.0, 0.0, 0.0, 0.0, 0.0, 10.0], \"type\": \"scatter\", \"uid\": \"0774ed6e-1081-11e9-ac2b-e6497abbe804\"}, {\"name\": \"10^6\", \"y\": [0.0, 0.0, 0.0, 5.0, 0.0, 0.0, 0.1, 0.0, 0.0, 0.0, 0.0, 0.0, 0.0, 0.0, 0.0, 10.7], \"type\": \"scatter\", \"uid\": \"0774ed6f-1081-11e9-8e99-e6497abbe804\"}], {\"title\": \"Comparison of basin sizes at two carrying capacities\", \"updatemenus\": [{\"buttons\": [{\"args\": [{\"y\": [[0.0, 0.0, 0.0, 5.0, 0.0, 0.0, 1.0, 0.0, 0.0, 0.0, 0.0, 0.0, 0.0, 0.0, 0.0, 10.0], [0.0, 0.0, 0.0, 5.0, 0.0, 0.0, 0.1, 0.0, 0.0, 0.0, 0.0, 0.0, 0.0, 0.0, 0.0, 10.7]]}], \"label\": \"AMP\", \"method\": \"restyle\"}, {\"args\": [{\"y\": [[0.0, 0.0, 6.0, 0.0, 0.0, 0.0, 0.0, 0.0, 0.0, 0.0, 0.0, 0.0, 0.0, 10.0, 0.0, 0.0], [0.0, 0.0, 4.3, 0.0, 0.0, 0.0, 0.0, 0.0, 0.0, 0.0, 0.0, 0.0, 0.0, 11.8, 0.0, 0.0]]}], \"label\": \"AM\", \"method\": \"restyle\"}, {\"args\": [{\"y\": [[0.0, 0.0, 0.0, 6.0, 3.0, 0.0, 0.0, 0.0, 0.0, 0.0, 0.0, 0.0, 0.0, 0.0, 7.0, 0.0], [0.0, 0.0, 0.0, 6.0, 2.8, 0.0, 0.0, 0.0, 0.0, 0.0, 0.0, 0.0, 0.0, 0.0, 7.3, 0.0]]}], \"label\": \"CEC\", \"method\": \"restyle\"}, {\"args\": [{\"y\": [[0.0, 0.0, 0.0, 4.3, 0.0, 0.0, 3.0, 0.0, 0.0, 0.0, 2.4, 0.0, 0.0, 0.0, 0.0, 6.4], [0.0, 0.0, 0.0, 4.4, 0.0, 0.0, 2.1, 0.0, 0.0, 0.0, 1.1, 0.0, 0.0, 0.0, 0.0, 6.9]]}], \"label\": \"CTX\", \"method\": \"restyle\"}, {\"args\": [{\"y\": [[0.0, 0.0, 0.0, 7.0, 0.0, 0.0, 0.0, 8.0, 0.0, 1.0, 0.0, 0.0, 0.0, 0.0, 0.0, 0.0], [0.0, 0.0, 0.0, 7.2, 0.0, 0.0, 0.0, 8.3, 0.0, 0.6, 0.0, 0.0, 0.0, 0.0, 0.0, 0.0]]}], \"label\": \"ZOX\", \"method\": \"restyle\"}, {\"args\": [{\"y\": [[0.0, 0.0, 0.0, 0.0, 4.0, 0.0, 0.0, 12.0, 0.0, 0.0, 0.0, 0.0, 0.0, 0.0, 0.0, 0.0], [0.0, 0.0, 0.0, 0.0, 2.8, 0.0, 0.0, 12.6, 0.0, 0.0, 0.0, 0.0, 0.0, 0.0, 0.0, 0.0]]}], \"label\": \"CXM\", \"method\": \"restyle\"}, {\"args\": [{\"y\": [[0.0, 0.0, 0.0, 2.5, 3.6, 0.0, 0.0, 0.0, 0.0, 0.0, 3.4, 0.0, 0.0, 0.0, 0.0, 7.0], [0.0, 0.0, 0.0, 2.0, 3.2, 0.0, 0.0, 0.0, 0.0, 0.0, 3.4, 0.0, 0.0, 0.0, 0.0, 7.1]]}], \"label\": \"CRO\", \"method\": \"restyle\"}, {\"args\": [{\"y\": [[0.0, 0.0, 0.0, 0.0, 3.0, 0.0, 0.0, 0.0, 0.0, 0.0, 0.0, 0.0, 0.0, 13.0, 0.0, 0.0], [0.0, 0.0, 0.0, 0.0, 2.2, 0.0, 0.0, 0.0, 0.0, 0.0, 0.0, 0.0, 0.0, 13.6, 0.0, 0.0]]}], \"label\": \"AMC\", \"method\": \"restyle\"}, {\"args\": [{\"y\": [[0.0, 0.0, 0.0, 1.2, 0.0, 4.0, 11.0, 0.0, 0.0, 0.0, 0.0, 0.0, 0.0, 0.0, 0.0, 0.0], [0.0, 0.0, 0.0, 0.8, 0.0, 4.2, 11.1, 0.0, 0.0, 0.0, 0.0, 0.0, 0.0, 0.0, 0.0, 0.0]]}], \"label\": \"CAZ\", \"method\": \"restyle\"}, {\"args\": [{\"y\": [[0.0, 0.0, 0.0, 0.0, 3.0, 0.0, 0.0, 7.3, 4.0, 0.0, 0.0, 0.0, 0.0, 1.0, 1.0, 0.0], [0.0, 0.0, 0.0, 0.0, 2.9, 0.0, 0.0, 7.5, 3.8, 0.0, 0.0, 0.0, 0.0, 1.0, 0.8, 0.0]]}], \"label\": \"CTT\", \"method\": \"restyle\"}, {\"args\": [{\"y\": [[0.0, 0.0, 0.0, 0.0, 0.0, 0.0, 0.0, 0.0, 0.0, 0.0, 0.0, 0.0, 0.0, 0.0, 0.0, 16.0], [0.0, 0.0, 0.0, 0.0, 0.0, 0.0, 0.0, 0.0, 0.0, 0.0, 0.0, 0.0, 0.0, 0.0, 0.0, 16.0]]}], \"label\": \"SAM\", \"method\": \"restyle\"}, {\"args\": [{\"y\": [[0.0, 0.0, 0.0, 2.0, 0.0, 9.0, 5.0, 0.0, 0.0, 0.0, 0.0, 0.0, 0.0, 0.0, 0.0, 0.0], [0.0, 0.0, 0.0, 1.7, 0.0, 9.0, 5.5, 0.0, 0.0, 0.0, 0.0, 0.0, 0.0, 0.0, 0.0, 0.0]]}], \"label\": \"CPR\", \"method\": \"restyle\"}, {\"args\": [{\"y\": [[0.0, 0.0, 0.0, 0.0, 0.0, 0.0, 0.0, 0.0, 0.0, 0.0, 2.0, 0.0, 0.0, 0.0, 0.0, 14.0], [0.0, 0.0, 0.0, 0.0, 0.0, 0.0, 0.0, 0.0, 0.0, 0.0, 1.3, 0.0, 0.0, 0.0, 0.0, 14.6]]}], \"label\": \"CPD\", \"method\": \"restyle\"}, {\"args\": [{\"y\": [[0.0, 0.0, 0.0, 0.0, 0.0, 14.0, 0.0, 0.0, 2.0, 0.0, 0.0, 0.0, 0.0, 0.0, 0.0, 0.0], [0.0, 0.0, 0.0, 0.0, 0.0, 14.9, 0.0, 0.0, 1.3, 0.0, 0.0, 0.0, 0.0, 0.0, 0.0, 0.0]]}], \"label\": \"TZP\", \"method\": \"restyle\"}, {\"args\": [{\"y\": [[1.0, 0.0, 0.0, 1.0, 0.0, 0.0, 0.0, 0.0, 0.0, 0.0, 3.0, 0.0, 0.0, 0.0, 0.0, 11.0], [0.7, 0.0, 0.0, 0.9, 0.0, 0.0, 0.0, 0.0, 0.0, 0.0, 2.8, 0.0, 0.0, 0.0, 0.0, 11.8]]}], \"label\": \"FEP\", \"method\": \"restyle\"}], \"direction\": \"down\", \"pad\": {\"r\": 10, \"t\": 10}, \"showactive\": true, \"x\": 0.1, \"xanchor\": \"left\", \"y\": 1.1, \"yanchor\": \"top\"}], \"xaxis\": {\"ticktext\": [\"0000\", \"0001\", \"0010\", \"0011\", \"0100\", \"0101\", \"0110\", \"0111\", \"1000\", \"1001\", \"1010\", \"1011\", \"1100\", \"1101\", \"1110\", \"1111\"], \"tickvals\": [0, 1, 2, 3, 4, 5, 6, 7, 8, 9, 10, 11, 12, 13, 14, 15], \"title\": \"Genotype\", \"zeroline\": false}, \"yaxis\": {\"range\": [-1, 17], \"title\": \"Basin size\"}}, {\"showLink\": false, \"linkText\": \"Export to plot.ly\"})});</script>"
      ]
     },
     "metadata": {},
     "output_type": "display_data"
    }
   ],
   "source": [
    "data = [\n",
    "    go.Scatter(y=bs['dataset2'][dataset2.index[0]], name='10^9'),\n",
    "    go.Scatter(y=bs['dataset2_6'][dataset2.index[0]], name='10^6')\n",
    "]\n",
    "buttons = []\n",
    "for name in dataset2.index:\n",
    "    buttons.append(dict(\n",
    "        args=[{'y': [bs['dataset2'][name], bs['dataset2_6'][name]]}],\n",
    "        label=name,\n",
    "        method='restyle'\n",
    "    ))\n",
    "\n",
    "updatemenus=list([\n",
    "    dict(\n",
    "        buttons=buttons,\n",
    "        direction = 'down',\n",
    "        pad = {'r': 10, 't': 10},\n",
    "        showactive = True,\n",
    "        x = 0.1,\n",
    "        xanchor = 'left',\n",
    "        y = 1.1,\n",
    "        yanchor = 'top' \n",
    "    ),\n",
    "])\n",
    "\n",
    "layout = go.Layout(\n",
    "    title='Comparison of basin sizes at two carrying capacities',\n",
    "    xaxis=dict(\n",
    "        ticktext=[format(i, '04b') for i in range(16)],\n",
    "        tickvals=list(range(16)),\n",
    "        title='Genotype',\n",
    "        zeroline=False\n",
    "    ),\n",
    "    yaxis=dict(\n",
    "        title='Basin size',\n",
    "        range=[-1,17]\n",
    "    ),\n",
    "    updatemenus=updatemenus\n",
    ")\n",
    "fig = go.Figure(data=data, layout=layout)\n",
    "iplot(fig, show_link=False)"
   ]
  },
  {
   "cell_type": "markdown",
   "metadata": {},
   "source": [
    "## Basin size for dynamic landscapes"
   ]
  },
  {
   "cell_type": "code",
   "execution_count": 81,
   "metadata": {},
   "outputs": [
    {
     "data": {
      "application/vnd.plotly.v1+json": {
       "data": [
        {
         "name": "K=10^9",
         "type": "scatter",
         "uid": "0b0a420a-1085-11e9-86ea-e6497abbe804",
         "y": [
          0,
          0,
          0,
          0,
          0,
          0,
          0,
          0,
          0,
          0,
          0,
          0,
          0,
          0,
          0,
          16
         ]
        },
        {
         "line": {
          "dash": "dash"
         },
         "name": "K=10^6",
         "type": "scatter",
         "uid": "0b0a420b-1085-11e9-a205-e6497abbe804",
         "y": [
          0,
          0,
          0,
          0,
          0,
          0,
          0,
          0,
          0,
          0,
          0,
          0,
          0,
          0,
          0,
          16
         ]
        }
       ],
       "layout": {
        "title": "CTX + SAM",
        "xaxis": {
         "ticktext": [
          "0000",
          "0001",
          "0010",
          "0011",
          "0100",
          "0101",
          "0110",
          "0111",
          "1000",
          "1001",
          "1010",
          "1011",
          "1100",
          "1101",
          "1110",
          "1111"
         ],
         "tickvals": [
          0,
          1,
          2,
          3,
          4,
          5,
          6,
          7,
          8,
          9,
          10,
          11,
          12,
          13,
          14,
          15
         ],
         "title": "Genotype",
         "zeroline": false
        },
        "yaxis": {
         "range": [
          -1,
          17
         ],
         "title": "Basin size"
        }
       }
      },
      "text/html": [
       "<div id=\"339c587a-e3dc-4ada-9281-98e7b6488cdd\" style=\"height: 525px; width: 100%;\" class=\"plotly-graph-div\"></div><script type=\"text/javascript\">require([\"plotly\"], function(Plotly) { window.PLOTLYENV=window.PLOTLYENV || {};window.PLOTLYENV.BASE_URL=\"https://plot.ly\";Plotly.newPlot(\"339c587a-e3dc-4ada-9281-98e7b6488cdd\", [{\"name\": \"K=10^9\", \"y\": [0.0, 0.0, 0.0, 0.0, 0.0, 0.0, 0.0, 0.0, 0.0, 0.0, 0.0, 0.0, 0.0, 0.0, 0.0, 16.0], \"type\": \"scatter\", \"uid\": \"0b0a420a-1085-11e9-86ea-e6497abbe804\"}, {\"line\": {\"dash\": \"dash\"}, \"name\": \"K=10^6\", \"y\": [0.0, 0.0, 0.0, 0.0, 0.0, 0.0, 0.0, 0.0, 0.0, 0.0, 0.0, 0.0, 0.0, 0.0, 0.0, 16.0], \"type\": \"scatter\", \"uid\": \"0b0a420b-1085-11e9-a205-e6497abbe804\"}], {\"title\": \"CTX + SAM\", \"xaxis\": {\"ticktext\": [\"0000\", \"0001\", \"0010\", \"0011\", \"0100\", \"0101\", \"0110\", \"0111\", \"1000\", \"1001\", \"1010\", \"1011\", \"1100\", \"1101\", \"1110\", \"1111\"], \"tickvals\": [0, 1, 2, 3, 4, 5, 6, 7, 8, 9, 10, 11, 12, 13, 14, 15], \"title\": \"Genotype\", \"zeroline\": false}, \"yaxis\": {\"range\": [-1, 17], \"title\": \"Basin size\"}}, {\"showLink\": false, \"linkText\": \"Export to plot.ly\"})});</script>"
      ],
      "text/vnd.plotly.v1+html": [
       "<div id=\"339c587a-e3dc-4ada-9281-98e7b6488cdd\" style=\"height: 525px; width: 100%;\" class=\"plotly-graph-div\"></div><script type=\"text/javascript\">require([\"plotly\"], function(Plotly) { window.PLOTLYENV=window.PLOTLYENV || {};window.PLOTLYENV.BASE_URL=\"https://plot.ly\";Plotly.newPlot(\"339c587a-e3dc-4ada-9281-98e7b6488cdd\", [{\"name\": \"K=10^9\", \"y\": [0.0, 0.0, 0.0, 0.0, 0.0, 0.0, 0.0, 0.0, 0.0, 0.0, 0.0, 0.0, 0.0, 0.0, 0.0, 16.0], \"type\": \"scatter\", \"uid\": \"0b0a420a-1085-11e9-86ea-e6497abbe804\"}, {\"line\": {\"dash\": \"dash\"}, \"name\": \"K=10^6\", \"y\": [0.0, 0.0, 0.0, 0.0, 0.0, 0.0, 0.0, 0.0, 0.0, 0.0, 0.0, 0.0, 0.0, 0.0, 0.0, 16.0], \"type\": \"scatter\", \"uid\": \"0b0a420b-1085-11e9-a205-e6497abbe804\"}], {\"title\": \"CTX + SAM\", \"xaxis\": {\"ticktext\": [\"0000\", \"0001\", \"0010\", \"0011\", \"0100\", \"0101\", \"0110\", \"0111\", \"1000\", \"1001\", \"1010\", \"1011\", \"1100\", \"1101\", \"1110\", \"1111\"], \"tickvals\": [0, 1, 2, 3, 4, 5, 6, 7, 8, 9, 10, 11, 12, 13, 14, 15], \"title\": \"Genotype\", \"zeroline\": false}, \"yaxis\": {\"range\": [-1, 17], \"title\": \"Basin size\"}}, {\"showLink\": false, \"linkText\": \"Export to plot.ly\"})});</script>"
      ]
     },
     "metadata": {},
     "output_type": "display_data"
    },
    {
     "data": {
      "application/vnd.plotly.v1+json": {
       "data": [
        {
         "name": "K=10^9",
         "type": "scatter",
         "uid": "0b0ed2c2-1085-11e9-a83a-e6497abbe804",
         "y": [
          0,
          0,
          0,
          0,
          0,
          0,
          0,
          0,
          0,
          0,
          0,
          0,
          0,
          16,
          0,
          0
         ]
        },
        {
         "line": {
          "dash": "dash"
         },
         "name": "K=10^6",
         "type": "scatter",
         "uid": "0b0ed2c3-1085-11e9-8241-e6497abbe804",
         "y": [
          0,
          0,
          0,
          0,
          0,
          0,
          0,
          0,
          0,
          0,
          0,
          0,
          0,
          16,
          0,
          0
         ]
        }
       ],
       "layout": {
        "title": "AM + AMC",
        "xaxis": {
         "ticktext": [
          "0000",
          "0001",
          "0010",
          "0011",
          "0100",
          "0101",
          "0110",
          "0111",
          "1000",
          "1001",
          "1010",
          "1011",
          "1100",
          "1101",
          "1110",
          "1111"
         ],
         "tickvals": [
          0,
          1,
          2,
          3,
          4,
          5,
          6,
          7,
          8,
          9,
          10,
          11,
          12,
          13,
          14,
          15
         ],
         "title": "Genotype",
         "zeroline": false
        },
        "yaxis": {
         "range": [
          -1,
          17
         ],
         "title": "Basin size"
        }
       }
      },
      "text/html": [
       "<div id=\"e19d3d21-6c6b-450e-bd58-6b283df9348f\" style=\"height: 525px; width: 100%;\" class=\"plotly-graph-div\"></div><script type=\"text/javascript\">require([\"plotly\"], function(Plotly) { window.PLOTLYENV=window.PLOTLYENV || {};window.PLOTLYENV.BASE_URL=\"https://plot.ly\";Plotly.newPlot(\"e19d3d21-6c6b-450e-bd58-6b283df9348f\", [{\"name\": \"K=10^9\", \"y\": [0.0, 0.0, 0.0, 0.0, 0.0, 0.0, 0.0, 0.0, 0.0, 0.0, 0.0, 0.0, 0.0, 16.0, 0.0, 0.0], \"type\": \"scatter\", \"uid\": \"0b0ed2c2-1085-11e9-a83a-e6497abbe804\"}, {\"line\": {\"dash\": \"dash\"}, \"name\": \"K=10^6\", \"y\": [0.0, 0.0, 0.0, 0.0, 0.0, 0.0, 0.0, 0.0, 0.0, 0.0, 0.0, 0.0, 0.0, 16.0, 0.0, 0.0], \"type\": \"scatter\", \"uid\": \"0b0ed2c3-1085-11e9-8241-e6497abbe804\"}], {\"title\": \"AM + AMC\", \"xaxis\": {\"ticktext\": [\"0000\", \"0001\", \"0010\", \"0011\", \"0100\", \"0101\", \"0110\", \"0111\", \"1000\", \"1001\", \"1010\", \"1011\", \"1100\", \"1101\", \"1110\", \"1111\"], \"tickvals\": [0, 1, 2, 3, 4, 5, 6, 7, 8, 9, 10, 11, 12, 13, 14, 15], \"title\": \"Genotype\", \"zeroline\": false}, \"yaxis\": {\"range\": [-1, 17], \"title\": \"Basin size\"}}, {\"showLink\": false, \"linkText\": \"Export to plot.ly\"})});</script>"
      ],
      "text/vnd.plotly.v1+html": [
       "<div id=\"e19d3d21-6c6b-450e-bd58-6b283df9348f\" style=\"height: 525px; width: 100%;\" class=\"plotly-graph-div\"></div><script type=\"text/javascript\">require([\"plotly\"], function(Plotly) { window.PLOTLYENV=window.PLOTLYENV || {};window.PLOTLYENV.BASE_URL=\"https://plot.ly\";Plotly.newPlot(\"e19d3d21-6c6b-450e-bd58-6b283df9348f\", [{\"name\": \"K=10^9\", \"y\": [0.0, 0.0, 0.0, 0.0, 0.0, 0.0, 0.0, 0.0, 0.0, 0.0, 0.0, 0.0, 0.0, 16.0, 0.0, 0.0], \"type\": \"scatter\", \"uid\": \"0b0ed2c2-1085-11e9-a83a-e6497abbe804\"}, {\"line\": {\"dash\": \"dash\"}, \"name\": \"K=10^6\", \"y\": [0.0, 0.0, 0.0, 0.0, 0.0, 0.0, 0.0, 0.0, 0.0, 0.0, 0.0, 0.0, 0.0, 16.0, 0.0, 0.0], \"type\": \"scatter\", \"uid\": \"0b0ed2c3-1085-11e9-8241-e6497abbe804\"}], {\"title\": \"AM + AMC\", \"xaxis\": {\"ticktext\": [\"0000\", \"0001\", \"0010\", \"0011\", \"0100\", \"0101\", \"0110\", \"0111\", \"1000\", \"1001\", \"1010\", \"1011\", \"1100\", \"1101\", \"1110\", \"1111\"], \"tickvals\": [0, 1, 2, 3, 4, 5, 6, 7, 8, 9, 10, 11, 12, 13, 14, 15], \"title\": \"Genotype\", \"zeroline\": false}, \"yaxis\": {\"range\": [-1, 17], \"title\": \"Basin size\"}}, {\"showLink\": false, \"linkText\": \"Export to plot.ly\"})});</script>"
      ]
     },
     "metadata": {},
     "output_type": "display_data"
    },
    {
     "data": {
      "application/vnd.plotly.v1+json": {
       "data": [
        {
         "name": "K=10^9",
         "type": "scatter",
         "uid": "0b147440-1085-11e9-9666-e6497abbe804",
         "y": [
          0,
          0,
          0,
          0,
          0,
          0,
          0,
          16,
          0,
          0,
          0,
          0,
          0,
          0,
          0,
          0
         ]
        },
        {
         "line": {
          "dash": "dash"
         },
         "name": "K=10^6",
         "type": "scatter",
         "uid": "0b147441-1085-11e9-a011-e6497abbe804",
         "y": [
          0,
          0,
          0,
          0,
          0,
          0,
          0,
          16,
          0,
          0,
          0,
          0,
          0,
          0,
          0,
          0
         ]
        }
       ],
       "layout": {
        "title": "ZOX + CXM",
        "xaxis": {
         "ticktext": [
          "0000",
          "0001",
          "0010",
          "0011",
          "0100",
          "0101",
          "0110",
          "0111",
          "1000",
          "1001",
          "1010",
          "1011",
          "1100",
          "1101",
          "1110",
          "1111"
         ],
         "tickvals": [
          0,
          1,
          2,
          3,
          4,
          5,
          6,
          7,
          8,
          9,
          10,
          11,
          12,
          13,
          14,
          15
         ],
         "title": "Genotype",
         "zeroline": false
        },
        "yaxis": {
         "range": [
          -1,
          17
         ],
         "title": "Basin size"
        }
       }
      },
      "text/html": [
       "<div id=\"7c0aeeee-4413-4df9-8a1e-50011c58ab8a\" style=\"height: 525px; width: 100%;\" class=\"plotly-graph-div\"></div><script type=\"text/javascript\">require([\"plotly\"], function(Plotly) { window.PLOTLYENV=window.PLOTLYENV || {};window.PLOTLYENV.BASE_URL=\"https://plot.ly\";Plotly.newPlot(\"7c0aeeee-4413-4df9-8a1e-50011c58ab8a\", [{\"name\": \"K=10^9\", \"y\": [0.0, 0.0, 0.0, 0.0, 0.0, 0.0, 0.0, 16.0, 0.0, 0.0, 0.0, 0.0, 0.0, 0.0, 0.0, 0.0], \"type\": \"scatter\", \"uid\": \"0b147440-1085-11e9-9666-e6497abbe804\"}, {\"line\": {\"dash\": \"dash\"}, \"name\": \"K=10^6\", \"y\": [0.0, 0.0, 0.0, 0.0, 0.0, 0.0, 0.0, 16.0, 0.0, 0.0, 0.0, 0.0, 0.0, 0.0, 0.0, 0.0], \"type\": \"scatter\", \"uid\": \"0b147441-1085-11e9-a011-e6497abbe804\"}], {\"title\": \"ZOX + CXM\", \"xaxis\": {\"ticktext\": [\"0000\", \"0001\", \"0010\", \"0011\", \"0100\", \"0101\", \"0110\", \"0111\", \"1000\", \"1001\", \"1010\", \"1011\", \"1100\", \"1101\", \"1110\", \"1111\"], \"tickvals\": [0, 1, 2, 3, 4, 5, 6, 7, 8, 9, 10, 11, 12, 13, 14, 15], \"title\": \"Genotype\", \"zeroline\": false}, \"yaxis\": {\"range\": [-1, 17], \"title\": \"Basin size\"}}, {\"showLink\": false, \"linkText\": \"Export to plot.ly\"})});</script>"
      ],
      "text/vnd.plotly.v1+html": [
       "<div id=\"7c0aeeee-4413-4df9-8a1e-50011c58ab8a\" style=\"height: 525px; width: 100%;\" class=\"plotly-graph-div\"></div><script type=\"text/javascript\">require([\"plotly\"], function(Plotly) { window.PLOTLYENV=window.PLOTLYENV || {};window.PLOTLYENV.BASE_URL=\"https://plot.ly\";Plotly.newPlot(\"7c0aeeee-4413-4df9-8a1e-50011c58ab8a\", [{\"name\": \"K=10^9\", \"y\": [0.0, 0.0, 0.0, 0.0, 0.0, 0.0, 0.0, 16.0, 0.0, 0.0, 0.0, 0.0, 0.0, 0.0, 0.0, 0.0], \"type\": \"scatter\", \"uid\": \"0b147440-1085-11e9-9666-e6497abbe804\"}, {\"line\": {\"dash\": \"dash\"}, \"name\": \"K=10^6\", \"y\": [0.0, 0.0, 0.0, 0.0, 0.0, 0.0, 0.0, 16.0, 0.0, 0.0, 0.0, 0.0, 0.0, 0.0, 0.0, 0.0], \"type\": \"scatter\", \"uid\": \"0b147441-1085-11e9-a011-e6497abbe804\"}], {\"title\": \"ZOX + CXM\", \"xaxis\": {\"ticktext\": [\"0000\", \"0001\", \"0010\", \"0011\", \"0100\", \"0101\", \"0110\", \"0111\", \"1000\", \"1001\", \"1010\", \"1011\", \"1100\", \"1101\", \"1110\", \"1111\"], \"tickvals\": [0, 1, 2, 3, 4, 5, 6, 7, 8, 9, 10, 11, 12, 13, 14, 15], \"title\": \"Genotype\", \"zeroline\": false}, \"yaxis\": {\"range\": [-1, 17], \"title\": \"Basin size\"}}, {\"showLink\": false, \"linkText\": \"Export to plot.ly\"})});</script>"
      ]
     },
     "metadata": {},
     "output_type": "display_data"
    }
   ],
   "source": [
    "layout = go.Layout(\n",
    "    xaxis=dict(\n",
    "        ticktext=[format(i, '04b') for i in range(16)],\n",
    "        tickvals=list(range(16)),\n",
    "        title='Genotype',\n",
    "        zeroline=False\n",
    "    ),\n",
    "    yaxis=dict(\n",
    "        title='Basin size',\n",
    "        range=[-1,17]\n",
    "    )\n",
    ")\n",
    "\n",
    "for i, pair in enumerate(pairs):\n",
    "    name = ' + '.join([ls.name for ls in pair])\n",
    "    data = [\n",
    "        go.Scatter(y=bs['pairs'][i], name='K=10^9'),\n",
    "        go.Scatter(y=bs['pairs_6'][i], name='K=10^6', line=dict(dash='dash'))\n",
    "    ]\n",
    "    layout.update(title=name)\n",
    "    fig = go.Figure(data=data, layout=layout)\n",
    "    iplot(fig, show_link=False)"
   ]
  },
  {
   "cell_type": "code",
   "execution_count": null,
   "metadata": {},
   "outputs": [],
   "source": []
  }
 ],
 "metadata": {
  "kernelspec": {
   "display_name": "Python 3",
   "language": "python",
   "name": "python3"
  },
  "language_info": {
   "codemirror_mode": {
    "name": "ipython",
    "version": 3
   },
   "file_extension": ".py",
   "mimetype": "text/x-python",
   "name": "python",
   "nbconvert_exporter": "python",
   "pygments_lexer": "ipython3",
   "version": "3.6.4"
  }
 },
 "nbformat": 4,
 "nbformat_minor": 2
}
