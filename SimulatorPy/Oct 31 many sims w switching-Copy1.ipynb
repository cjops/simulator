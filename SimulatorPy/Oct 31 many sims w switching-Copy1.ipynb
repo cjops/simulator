{
 "cells": [
  {
   "cell_type": "markdown",
   "metadata": {},
   "source": [
    "# Running many simulations to reveal the effects of population size"
   ]
  },
  {
   "cell_type": "code",
   "execution_count": 1,
   "metadata": {},
   "outputs": [
    {
     "data": {
      "text/html": [
       "<script>requirejs.config({paths: { 'plotly': ['https://cdn.plot.ly/plotly-latest.min']},});if(!window.Plotly) {{require(['plotly'],function(plotly) {window.Plotly=plotly;});}}</script>"
      ],
      "text/vnd.plotly.v1+html": [
       "<script>requirejs.config({paths: { 'plotly': ['https://cdn.plot.ly/plotly-latest.min']},});if(!window.Plotly) {{require(['plotly'],function(plotly) {window.Plotly=plotly;});}}</script>"
      ]
     },
     "metadata": {},
     "output_type": "display_data"
    }
   ],
   "source": [
    "import pandas as pd\n",
    "import numpy as np\n",
    "import math\n",
    "import os\n",
    "\n",
    "from bokeh.palettes import d3\n",
    "\n",
    "from IPython.display import display, display_html, display_markdown, clear_output\n",
    "\n",
    "from plotly import tools\n",
    "from plotly.offline import download_plotlyjs, init_notebook_mode, plot, iplot\n",
    "import plotly.graph_objs as go\n",
    "import plotly.io as pio\n",
    "\n",
    "from simulator import *\n",
    "from simulator_plotting import *\n",
    "\n",
    "init_notebook_mode(connected=True)"
   ]
  },
  {
   "cell_type": "code",
   "execution_count": 2,
   "metadata": {},
   "outputs": [],
   "source": [
    "def many_simulations(landscape, param={}, num=100):\n",
    "    success_count = 0\n",
    "    greedy_path = ''\n",
    "    paths = {}\n",
    "    T_f_sum = 0\n",
    "    global_optimum = ''\n",
    "    local_optima = []\n",
    "    for i in range(num):\n",
    "        results = simulate(landscape, **param)\n",
    "        if results['T_f'] != -1:\n",
    "            success_count += 1\n",
    "            T_f_sum += results['T_f']\n",
    "        if not greedy_path:\n",
    "            greedy_path = ','.join(results['greedy_path'])\n",
    "            paths[greedy_path] = 0\n",
    "        actual_path = ','.join(results['actual_path'])\n",
    "        if actual_path in paths:\n",
    "            paths[actual_path] += 1\n",
    "        else:\n",
    "            paths[actual_path] = 1\n",
    "        if not global_optimum:\n",
    "            global_optimum = results['global_optimum']\n",
    "            local_optima = ', '.join(results['local_optima'])\n",
    "    return {\n",
    "        'Success rate': success_count / num,\n",
    "        '# of paths': len(paths),\n",
    "        'Path frequencies': paths.values(),\n",
    "        'Greedy path': greedy_path,\n",
    "        'Greedy rate': paths[greedy_path] / num,\n",
    "        'Avg time to fixation': T_f_sum / num,\n",
    "        'Global optimum': global_optimum,\n",
    "        'Local optima': local_optima\n",
    "    }\n",
    "\n",
    "# ordering\n",
    "column_names =  ['Success rate', '# of paths', 'Path frequencies', 'Greedy path', \n",
    "                 'Greedy rate', 'Local optima', 'Global optimum', 'Avg time to fixation']   \n",
    "\n",
    "def many_landscapes(param={}, df=dataset2):\n",
    "    data = []\n",
    "    for name, ls in df.iterrows():\n",
    "        landscape = ls.tolist()\n",
    "        display('Running simulations on {}...'.format(name))\n",
    "        row = many_simulations(landscape, param)\n",
    "        row['Name'] = name\n",
    "        data.append(row)\n",
    "    clear_output()\n",
    "    return pd.DataFrame(data).set_index('Name').reindex(column_names, axis='columns')"
   ]
  },
  {
   "cell_type": "markdown",
   "metadata": {},
   "source": [
    "## Analysis of path frequencies for all drugs"
   ]
  },
  {
   "cell_type": "markdown",
   "metadata": {},
   "source": [
    "### K=10^9"
   ]
  },
  {
   "cell_type": "code",
   "execution_count": 3,
   "metadata": {
    "scrolled": false
   },
   "outputs": [
    {
     "data": {
      "text/html": [
       "<div>\n",
       "<style scoped>\n",
       "    .dataframe tbody tr th:only-of-type {\n",
       "        vertical-align: middle;\n",
       "    }\n",
       "\n",
       "    .dataframe tbody tr th {\n",
       "        vertical-align: top;\n",
       "    }\n",
       "\n",
       "    .dataframe thead th {\n",
       "        text-align: right;\n",
       "    }\n",
       "</style>\n",
       "<table border=\"1\" class=\"dataframe\">\n",
       "  <thead>\n",
       "    <tr style=\"text-align: right;\">\n",
       "      <th></th>\n",
       "      <th>Success rate</th>\n",
       "      <th># of paths</th>\n",
       "      <th>Path frequencies</th>\n",
       "      <th>Greedy path</th>\n",
       "      <th>Greedy rate</th>\n",
       "      <th>Local optima</th>\n",
       "      <th>Global optimum</th>\n",
       "      <th>Avg time to fixation</th>\n",
       "    </tr>\n",
       "    <tr>\n",
       "      <th>Name</th>\n",
       "      <th></th>\n",
       "      <th></th>\n",
       "      <th></th>\n",
       "      <th></th>\n",
       "      <th></th>\n",
       "      <th></th>\n",
       "      <th></th>\n",
       "      <th></th>\n",
       "    </tr>\n",
       "  </thead>\n",
       "  <tbody>\n",
       "    <tr>\n",
       "      <th>AMP</th>\n",
       "      <td>0.0</td>\n",
       "      <td>1</td>\n",
       "      <td>(100)</td>\n",
       "      <td>0000,0001,0011</td>\n",
       "      <td>1.00</td>\n",
       "      <td>0011, 0110</td>\n",
       "      <td>1111</td>\n",
       "      <td>0.00</td>\n",
       "    </tr>\n",
       "    <tr>\n",
       "      <th>AM</th>\n",
       "      <td>0.0</td>\n",
       "      <td>1</td>\n",
       "      <td>(100)</td>\n",
       "      <td>0000,0010</td>\n",
       "      <td>1.00</td>\n",
       "      <td>0010</td>\n",
       "      <td>1101</td>\n",
       "      <td>0.00</td>\n",
       "    </tr>\n",
       "    <tr>\n",
       "      <th>CEC</th>\n",
       "      <td>0.0</td>\n",
       "      <td>1</td>\n",
       "      <td>(100)</td>\n",
       "      <td>0000,0100</td>\n",
       "      <td>1.00</td>\n",
       "      <td>0100, 1110</td>\n",
       "      <td>0011</td>\n",
       "      <td>0.00</td>\n",
       "    </tr>\n",
       "    <tr>\n",
       "      <th>CTX</th>\n",
       "      <td>0.0</td>\n",
       "      <td>1</td>\n",
       "      <td>(100)</td>\n",
       "      <td>0000,0010,0011</td>\n",
       "      <td>1.00</td>\n",
       "      <td>0011, 0110, 1010</td>\n",
       "      <td>1111</td>\n",
       "      <td>0.00</td>\n",
       "    </tr>\n",
       "    <tr>\n",
       "      <th>ZOX</th>\n",
       "      <td>0.0</td>\n",
       "      <td>2</td>\n",
       "      <td>(0, 100)</td>\n",
       "      <td>0000,0010,0011,0111</td>\n",
       "      <td>0.00</td>\n",
       "      <td>1001</td>\n",
       "      <td>0111</td>\n",
       "      <td>0.00</td>\n",
       "    </tr>\n",
       "    <tr>\n",
       "      <th>CXM</th>\n",
       "      <td>0.0</td>\n",
       "      <td>1</td>\n",
       "      <td>(100)</td>\n",
       "      <td>0000,0100</td>\n",
       "      <td>1.00</td>\n",
       "      <td>0100</td>\n",
       "      <td>0111</td>\n",
       "      <td>0.00</td>\n",
       "    </tr>\n",
       "    <tr>\n",
       "      <th>CRO</th>\n",
       "      <td>0.0</td>\n",
       "      <td>3</td>\n",
       "      <td>(56, 25, 19)</td>\n",
       "      <td>0000,0100</td>\n",
       "      <td>0.56</td>\n",
       "      <td>0011, 0100, 1010</td>\n",
       "      <td>1111</td>\n",
       "      <td>0.00</td>\n",
       "    </tr>\n",
       "    <tr>\n",
       "      <th>AMC</th>\n",
       "      <td>0.0</td>\n",
       "      <td>1</td>\n",
       "      <td>(100)</td>\n",
       "      <td>0000,0100</td>\n",
       "      <td>1.00</td>\n",
       "      <td>0100</td>\n",
       "      <td>1101</td>\n",
       "      <td>0.00</td>\n",
       "    </tr>\n",
       "    <tr>\n",
       "      <th>CAZ</th>\n",
       "      <td>1.0</td>\n",
       "      <td>2</td>\n",
       "      <td>(0, 100)</td>\n",
       "      <td>0000,0001,0101</td>\n",
       "      <td>0.00</td>\n",
       "      <td>0011, 0101</td>\n",
       "      <td>0110</td>\n",
       "      <td>124.63</td>\n",
       "    </tr>\n",
       "    <tr>\n",
       "      <th>CTT</th>\n",
       "      <td>0.0</td>\n",
       "      <td>1</td>\n",
       "      <td>(100)</td>\n",
       "      <td>0000,0100</td>\n",
       "      <td>1.00</td>\n",
       "      <td>0100, 1000, 1101, 1110</td>\n",
       "      <td>0111</td>\n",
       "      <td>0.00</td>\n",
       "    </tr>\n",
       "    <tr>\n",
       "      <th>SAM</th>\n",
       "      <td>1.0</td>\n",
       "      <td>2</td>\n",
       "      <td>(60, 40)</td>\n",
       "      <td>0000,0001,1001,1101,1111</td>\n",
       "      <td>0.60</td>\n",
       "      <td></td>\n",
       "      <td>1111</td>\n",
       "      <td>417.32</td>\n",
       "    </tr>\n",
       "    <tr>\n",
       "      <th>CPR</th>\n",
       "      <td>1.0</td>\n",
       "      <td>1</td>\n",
       "      <td>(100)</td>\n",
       "      <td>0000,0100,0101</td>\n",
       "      <td>1.00</td>\n",
       "      <td>0011, 0110</td>\n",
       "      <td>0101</td>\n",
       "      <td>738.31</td>\n",
       "    </tr>\n",
       "    <tr>\n",
       "      <th>CPD</th>\n",
       "      <td>1.0</td>\n",
       "      <td>2</td>\n",
       "      <td>(99, 1)</td>\n",
       "      <td>0000,0010,0011,0111,1111</td>\n",
       "      <td>0.99</td>\n",
       "      <td>1010</td>\n",
       "      <td>1111</td>\n",
       "      <td>400.41</td>\n",
       "    </tr>\n",
       "    <tr>\n",
       "      <th>TZP</th>\n",
       "      <td>1.0</td>\n",
       "      <td>2</td>\n",
       "      <td>(96, 4)</td>\n",
       "      <td>0000,0100,0101</td>\n",
       "      <td>0.96</td>\n",
       "      <td>1000</td>\n",
       "      <td>0101</td>\n",
       "      <td>128.18</td>\n",
       "    </tr>\n",
       "    <tr>\n",
       "      <th>FEP</th>\n",
       "      <td>0.0</td>\n",
       "      <td>1</td>\n",
       "      <td>(100)</td>\n",
       "      <td>0000</td>\n",
       "      <td>1.00</td>\n",
       "      <td>0000, 0011, 1010</td>\n",
       "      <td>1111</td>\n",
       "      <td>0.00</td>\n",
       "    </tr>\n",
       "  </tbody>\n",
       "</table>\n",
       "</div>"
      ],
      "text/plain": [
       "      Success rate  # of paths Path frequencies               Greedy path  \\\n",
       "Name                                                                        \n",
       "AMP            0.0           1            (100)            0000,0001,0011   \n",
       "AM             0.0           1            (100)                 0000,0010   \n",
       "CEC            0.0           1            (100)                 0000,0100   \n",
       "CTX            0.0           1            (100)            0000,0010,0011   \n",
       "ZOX            0.0           2         (0, 100)       0000,0010,0011,0111   \n",
       "CXM            0.0           1            (100)                 0000,0100   \n",
       "CRO            0.0           3     (56, 25, 19)                 0000,0100   \n",
       "AMC            0.0           1            (100)                 0000,0100   \n",
       "CAZ            1.0           2         (0, 100)            0000,0001,0101   \n",
       "CTT            0.0           1            (100)                 0000,0100   \n",
       "SAM            1.0           2         (60, 40)  0000,0001,1001,1101,1111   \n",
       "CPR            1.0           1            (100)            0000,0100,0101   \n",
       "CPD            1.0           2          (99, 1)  0000,0010,0011,0111,1111   \n",
       "TZP            1.0           2          (96, 4)            0000,0100,0101   \n",
       "FEP            0.0           1            (100)                      0000   \n",
       "\n",
       "      Greedy rate            Local optima Global optimum  Avg time to fixation  \n",
       "Name                                                                            \n",
       "AMP          1.00              0011, 0110           1111                  0.00  \n",
       "AM           1.00                    0010           1101                  0.00  \n",
       "CEC          1.00              0100, 1110           0011                  0.00  \n",
       "CTX          1.00        0011, 0110, 1010           1111                  0.00  \n",
       "ZOX          0.00                    1001           0111                  0.00  \n",
       "CXM          1.00                    0100           0111                  0.00  \n",
       "CRO          0.56        0011, 0100, 1010           1111                  0.00  \n",
       "AMC          1.00                    0100           1101                  0.00  \n",
       "CAZ          0.00              0011, 0101           0110                124.63  \n",
       "CTT          1.00  0100, 1000, 1101, 1110           0111                  0.00  \n",
       "SAM          0.60                                   1111                417.32  \n",
       "CPR          1.00              0011, 0110           0101                738.31  \n",
       "CPD          0.99                    1010           1111                400.41  \n",
       "TZP          0.96                    1000           0101                128.18  \n",
       "FEP          1.00        0000, 0011, 1010           1111                  0.00  "
      ]
     },
     "execution_count": 3,
     "metadata": {},
     "output_type": "execute_result"
    }
   ],
   "source": [
    "K1 = many_landscapes()\n",
    "K1"
   ]
  },
  {
   "cell_type": "markdown",
   "metadata": {},
   "source": [
    "### K=10^8"
   ]
  },
  {
   "cell_type": "code",
   "execution_count": 4,
   "metadata": {
    "scrolled": false
   },
   "outputs": [
    {
     "data": {
      "text/html": [
       "<div>\n",
       "<style scoped>\n",
       "    .dataframe tbody tr th:only-of-type {\n",
       "        vertical-align: middle;\n",
       "    }\n",
       "\n",
       "    .dataframe tbody tr th {\n",
       "        vertical-align: top;\n",
       "    }\n",
       "\n",
       "    .dataframe thead th {\n",
       "        text-align: right;\n",
       "    }\n",
       "</style>\n",
       "<table border=\"1\" class=\"dataframe\">\n",
       "  <thead>\n",
       "    <tr style=\"text-align: right;\">\n",
       "      <th></th>\n",
       "      <th>Success rate</th>\n",
       "      <th># of paths</th>\n",
       "      <th>Path frequencies</th>\n",
       "      <th>Greedy path</th>\n",
       "      <th>Greedy rate</th>\n",
       "      <th>Local optima</th>\n",
       "      <th>Global optimum</th>\n",
       "      <th>Avg time to fixation</th>\n",
       "    </tr>\n",
       "    <tr>\n",
       "      <th>Name</th>\n",
       "      <th></th>\n",
       "      <th></th>\n",
       "      <th></th>\n",
       "      <th></th>\n",
       "      <th></th>\n",
       "      <th></th>\n",
       "      <th></th>\n",
       "      <th></th>\n",
       "    </tr>\n",
       "  </thead>\n",
       "  <tbody>\n",
       "    <tr>\n",
       "      <th>AMP</th>\n",
       "      <td>0.00</td>\n",
       "      <td>1</td>\n",
       "      <td>(100)</td>\n",
       "      <td>0000,0001,0011</td>\n",
       "      <td>1.00</td>\n",
       "      <td>0011, 0110</td>\n",
       "      <td>1111</td>\n",
       "      <td>0.00</td>\n",
       "    </tr>\n",
       "    <tr>\n",
       "      <th>AM</th>\n",
       "      <td>0.00</td>\n",
       "      <td>1</td>\n",
       "      <td>(100)</td>\n",
       "      <td>0000,0010</td>\n",
       "      <td>1.00</td>\n",
       "      <td>0010</td>\n",
       "      <td>1101</td>\n",
       "      <td>0.00</td>\n",
       "    </tr>\n",
       "    <tr>\n",
       "      <th>CEC</th>\n",
       "      <td>0.00</td>\n",
       "      <td>1</td>\n",
       "      <td>(100)</td>\n",
       "      <td>0000,0100</td>\n",
       "      <td>1.00</td>\n",
       "      <td>0100, 1110</td>\n",
       "      <td>0011</td>\n",
       "      <td>0.00</td>\n",
       "    </tr>\n",
       "    <tr>\n",
       "      <th>CTX</th>\n",
       "      <td>0.00</td>\n",
       "      <td>2</td>\n",
       "      <td>(90, 10)</td>\n",
       "      <td>0000,0010,0011</td>\n",
       "      <td>0.90</td>\n",
       "      <td>0011, 0110, 1010</td>\n",
       "      <td>1111</td>\n",
       "      <td>0.00</td>\n",
       "    </tr>\n",
       "    <tr>\n",
       "      <th>ZOX</th>\n",
       "      <td>0.00</td>\n",
       "      <td>2</td>\n",
       "      <td>(0, 100)</td>\n",
       "      <td>0000,0010,0011,0111</td>\n",
       "      <td>0.00</td>\n",
       "      <td>1001</td>\n",
       "      <td>0111</td>\n",
       "      <td>0.00</td>\n",
       "    </tr>\n",
       "    <tr>\n",
       "      <th>CXM</th>\n",
       "      <td>0.00</td>\n",
       "      <td>1</td>\n",
       "      <td>(100)</td>\n",
       "      <td>0000,0100</td>\n",
       "      <td>1.00</td>\n",
       "      <td>0100</td>\n",
       "      <td>0111</td>\n",
       "      <td>0.00</td>\n",
       "    </tr>\n",
       "    <tr>\n",
       "      <th>CRO</th>\n",
       "      <td>0.00</td>\n",
       "      <td>3</td>\n",
       "      <td>(69, 25, 6)</td>\n",
       "      <td>0000,0100</td>\n",
       "      <td>0.69</td>\n",
       "      <td>0011, 0100, 1010</td>\n",
       "      <td>1111</td>\n",
       "      <td>0.00</td>\n",
       "    </tr>\n",
       "    <tr>\n",
       "      <th>AMC</th>\n",
       "      <td>0.00</td>\n",
       "      <td>1</td>\n",
       "      <td>(100)</td>\n",
       "      <td>0000,0100</td>\n",
       "      <td>1.00</td>\n",
       "      <td>0100</td>\n",
       "      <td>1101</td>\n",
       "      <td>0.00</td>\n",
       "    </tr>\n",
       "    <tr>\n",
       "      <th>CAZ</th>\n",
       "      <td>0.67</td>\n",
       "      <td>2</td>\n",
       "      <td>(33, 67)</td>\n",
       "      <td>0000,0001,0101</td>\n",
       "      <td>0.33</td>\n",
       "      <td>0011, 0101</td>\n",
       "      <td>0110</td>\n",
       "      <td>93.48</td>\n",
       "    </tr>\n",
       "    <tr>\n",
       "      <th>CTT</th>\n",
       "      <td>0.00</td>\n",
       "      <td>2</td>\n",
       "      <td>(99, 1)</td>\n",
       "      <td>0000,0100</td>\n",
       "      <td>0.99</td>\n",
       "      <td>0100, 1000, 1101, 1110</td>\n",
       "      <td>0111</td>\n",
       "      <td>0.00</td>\n",
       "    </tr>\n",
       "    <tr>\n",
       "      <th>SAM</th>\n",
       "      <td>1.00</td>\n",
       "      <td>2</td>\n",
       "      <td>(66, 34)</td>\n",
       "      <td>0000,0001,1001,1101,1111</td>\n",
       "      <td>0.66</td>\n",
       "      <td></td>\n",
       "      <td>1111</td>\n",
       "      <td>481.85</td>\n",
       "    </tr>\n",
       "    <tr>\n",
       "      <th>CPR</th>\n",
       "      <td>1.00</td>\n",
       "      <td>1</td>\n",
       "      <td>(100)</td>\n",
       "      <td>0000,0100,0101</td>\n",
       "      <td>1.00</td>\n",
       "      <td>0011, 0110</td>\n",
       "      <td>0101</td>\n",
       "      <td>756.35</td>\n",
       "    </tr>\n",
       "    <tr>\n",
       "      <th>CPD</th>\n",
       "      <td>1.00</td>\n",
       "      <td>3</td>\n",
       "      <td>(91, 2, 7)</td>\n",
       "      <td>0000,0010,0011,0111,1111</td>\n",
       "      <td>0.91</td>\n",
       "      <td>1010</td>\n",
       "      <td>1111</td>\n",
       "      <td>450.84</td>\n",
       "    </tr>\n",
       "    <tr>\n",
       "      <th>TZP</th>\n",
       "      <td>1.00</td>\n",
       "      <td>1</td>\n",
       "      <td>(100)</td>\n",
       "      <td>0000,0100,0101</td>\n",
       "      <td>1.00</td>\n",
       "      <td>1000</td>\n",
       "      <td>0101</td>\n",
       "      <td>138.88</td>\n",
       "    </tr>\n",
       "    <tr>\n",
       "      <th>FEP</th>\n",
       "      <td>0.00</td>\n",
       "      <td>1</td>\n",
       "      <td>(100)</td>\n",
       "      <td>0000</td>\n",
       "      <td>1.00</td>\n",
       "      <td>0000, 0011, 1010</td>\n",
       "      <td>1111</td>\n",
       "      <td>0.00</td>\n",
       "    </tr>\n",
       "  </tbody>\n",
       "</table>\n",
       "</div>"
      ],
      "text/plain": [
       "      Success rate  # of paths Path frequencies               Greedy path  \\\n",
       "Name                                                                        \n",
       "AMP           0.00           1            (100)            0000,0001,0011   \n",
       "AM            0.00           1            (100)                 0000,0010   \n",
       "CEC           0.00           1            (100)                 0000,0100   \n",
       "CTX           0.00           2         (90, 10)            0000,0010,0011   \n",
       "ZOX           0.00           2         (0, 100)       0000,0010,0011,0111   \n",
       "CXM           0.00           1            (100)                 0000,0100   \n",
       "CRO           0.00           3      (69, 25, 6)                 0000,0100   \n",
       "AMC           0.00           1            (100)                 0000,0100   \n",
       "CAZ           0.67           2         (33, 67)            0000,0001,0101   \n",
       "CTT           0.00           2          (99, 1)                 0000,0100   \n",
       "SAM           1.00           2         (66, 34)  0000,0001,1001,1101,1111   \n",
       "CPR           1.00           1            (100)            0000,0100,0101   \n",
       "CPD           1.00           3       (91, 2, 7)  0000,0010,0011,0111,1111   \n",
       "TZP           1.00           1            (100)            0000,0100,0101   \n",
       "FEP           0.00           1            (100)                      0000   \n",
       "\n",
       "      Greedy rate            Local optima Global optimum  Avg time to fixation  \n",
       "Name                                                                            \n",
       "AMP          1.00              0011, 0110           1111                  0.00  \n",
       "AM           1.00                    0010           1101                  0.00  \n",
       "CEC          1.00              0100, 1110           0011                  0.00  \n",
       "CTX          0.90        0011, 0110, 1010           1111                  0.00  \n",
       "ZOX          0.00                    1001           0111                  0.00  \n",
       "CXM          1.00                    0100           0111                  0.00  \n",
       "CRO          0.69        0011, 0100, 1010           1111                  0.00  \n",
       "AMC          1.00                    0100           1101                  0.00  \n",
       "CAZ          0.33              0011, 0101           0110                 93.48  \n",
       "CTT          0.99  0100, 1000, 1101, 1110           0111                  0.00  \n",
       "SAM          0.66                                   1111                481.85  \n",
       "CPR          1.00              0011, 0110           0101                756.35  \n",
       "CPD          0.91                    1010           1111                450.84  \n",
       "TZP          1.00                    1000           0101                138.88  \n",
       "FEP          1.00        0000, 0011, 1010           1111                  0.00  "
      ]
     },
     "execution_count": 4,
     "metadata": {},
     "output_type": "execute_result"
    }
   ],
   "source": [
    "K2 = many_landscapes({'carrying_cap': int(1.0e8)})\n",
    "K2"
   ]
  },
  {
   "cell_type": "markdown",
   "metadata": {},
   "source": [
    "### K=10^7"
   ]
  },
  {
   "cell_type": "code",
   "execution_count": 5,
   "metadata": {
    "scrolled": false
   },
   "outputs": [
    {
     "data": {
      "text/html": [
       "<div>\n",
       "<style scoped>\n",
       "    .dataframe tbody tr th:only-of-type {\n",
       "        vertical-align: middle;\n",
       "    }\n",
       "\n",
       "    .dataframe tbody tr th {\n",
       "        vertical-align: top;\n",
       "    }\n",
       "\n",
       "    .dataframe thead th {\n",
       "        text-align: right;\n",
       "    }\n",
       "</style>\n",
       "<table border=\"1\" class=\"dataframe\">\n",
       "  <thead>\n",
       "    <tr style=\"text-align: right;\">\n",
       "      <th></th>\n",
       "      <th>Success rate</th>\n",
       "      <th># of paths</th>\n",
       "      <th>Path frequencies</th>\n",
       "      <th>Greedy path</th>\n",
       "      <th>Greedy rate</th>\n",
       "      <th>Local optima</th>\n",
       "      <th>Global optimum</th>\n",
       "      <th>Avg time to fixation</th>\n",
       "    </tr>\n",
       "    <tr>\n",
       "      <th>Name</th>\n",
       "      <th></th>\n",
       "      <th></th>\n",
       "      <th></th>\n",
       "      <th></th>\n",
       "      <th></th>\n",
       "      <th></th>\n",
       "      <th></th>\n",
       "      <th></th>\n",
       "    </tr>\n",
       "  </thead>\n",
       "  <tbody>\n",
       "    <tr>\n",
       "      <th>AMP</th>\n",
       "      <td>0.17</td>\n",
       "      <td>5</td>\n",
       "      <td>(82, 2, 9, 6, 1)</td>\n",
       "      <td>0000,0001,0011</td>\n",
       "      <td>0.82</td>\n",
       "      <td>0011, 0110</td>\n",
       "      <td>1111</td>\n",
       "      <td>80.25</td>\n",
       "    </tr>\n",
       "    <tr>\n",
       "      <th>AM</th>\n",
       "      <td>0.00</td>\n",
       "      <td>1</td>\n",
       "      <td>(100)</td>\n",
       "      <td>0000,0010</td>\n",
       "      <td>1.00</td>\n",
       "      <td>0010</td>\n",
       "      <td>1101</td>\n",
       "      <td>0.00</td>\n",
       "    </tr>\n",
       "    <tr>\n",
       "      <th>CEC</th>\n",
       "      <td>0.00</td>\n",
       "      <td>1</td>\n",
       "      <td>(100)</td>\n",
       "      <td>0000,0100</td>\n",
       "      <td>1.00</td>\n",
       "      <td>0100, 1110</td>\n",
       "      <td>0011</td>\n",
       "      <td>0.00</td>\n",
       "    </tr>\n",
       "    <tr>\n",
       "      <th>CTX</th>\n",
       "      <td>0.00</td>\n",
       "      <td>3</td>\n",
       "      <td>(52, 38, 10)</td>\n",
       "      <td>0000,0010,0011</td>\n",
       "      <td>0.52</td>\n",
       "      <td>0011, 0110, 1010</td>\n",
       "      <td>1111</td>\n",
       "      <td>0.00</td>\n",
       "    </tr>\n",
       "    <tr>\n",
       "      <th>ZOX</th>\n",
       "      <td>0.35</td>\n",
       "      <td>5</td>\n",
       "      <td>(0, 25, 65, 9, 1)</td>\n",
       "      <td>0000,0010,0011,0111</td>\n",
       "      <td>0.00</td>\n",
       "      <td>1001</td>\n",
       "      <td>0111</td>\n",
       "      <td>69.12</td>\n",
       "    </tr>\n",
       "    <tr>\n",
       "      <th>CXM</th>\n",
       "      <td>0.13</td>\n",
       "      <td>2</td>\n",
       "      <td>(87, 13)</td>\n",
       "      <td>0000,0100</td>\n",
       "      <td>0.87</td>\n",
       "      <td>0100</td>\n",
       "      <td>0111</td>\n",
       "      <td>31.79</td>\n",
       "    </tr>\n",
       "    <tr>\n",
       "      <th>CRO</th>\n",
       "      <td>0.00</td>\n",
       "      <td>3</td>\n",
       "      <td>(58, 35, 7)</td>\n",
       "      <td>0000,0100</td>\n",
       "      <td>0.58</td>\n",
       "      <td>0011, 0100, 1010</td>\n",
       "      <td>1111</td>\n",
       "      <td>0.00</td>\n",
       "    </tr>\n",
       "    <tr>\n",
       "      <th>AMC</th>\n",
       "      <td>0.03</td>\n",
       "      <td>2</td>\n",
       "      <td>(97, 3)</td>\n",
       "      <td>0000,0100</td>\n",
       "      <td>0.97</td>\n",
       "      <td>0100</td>\n",
       "      <td>1101</td>\n",
       "      <td>14.39</td>\n",
       "    </tr>\n",
       "    <tr>\n",
       "      <th>CAZ</th>\n",
       "      <td>0.48</td>\n",
       "      <td>2</td>\n",
       "      <td>(52, 48)</td>\n",
       "      <td>0000,0001,0101</td>\n",
       "      <td>0.52</td>\n",
       "      <td>0011, 0101</td>\n",
       "      <td>0110</td>\n",
       "      <td>82.11</td>\n",
       "    </tr>\n",
       "    <tr>\n",
       "      <th>CTT</th>\n",
       "      <td>0.10</td>\n",
       "      <td>3</td>\n",
       "      <td>(58, 32, 10)</td>\n",
       "      <td>0000,0100</td>\n",
       "      <td>0.58</td>\n",
       "      <td>0100, 1000, 1101, 1110</td>\n",
       "      <td>0111</td>\n",
       "      <td>19.39</td>\n",
       "    </tr>\n",
       "    <tr>\n",
       "      <th>SAM</th>\n",
       "      <td>1.00</td>\n",
       "      <td>6</td>\n",
       "      <td>(40, 33, 22, 2, 1, 2)</td>\n",
       "      <td>0000,0001,1001,1101,1111</td>\n",
       "      <td>0.40</td>\n",
       "      <td></td>\n",
       "      <td>1111</td>\n",
       "      <td>616.56</td>\n",
       "    </tr>\n",
       "    <tr>\n",
       "      <th>CPR</th>\n",
       "      <td>0.95</td>\n",
       "      <td>1</td>\n",
       "      <td>(100)</td>\n",
       "      <td>0000,0100,0101</td>\n",
       "      <td>1.00</td>\n",
       "      <td>0011, 0110</td>\n",
       "      <td>0101</td>\n",
       "      <td>770.14</td>\n",
       "    </tr>\n",
       "    <tr>\n",
       "      <th>CPD</th>\n",
       "      <td>1.00</td>\n",
       "      <td>3</td>\n",
       "      <td>(42, 27, 31)</td>\n",
       "      <td>0000,0010,0011,0111,1111</td>\n",
       "      <td>0.42</td>\n",
       "      <td>1010</td>\n",
       "      <td>1111</td>\n",
       "      <td>468.47</td>\n",
       "    </tr>\n",
       "    <tr>\n",
       "      <th>TZP</th>\n",
       "      <td>1.00</td>\n",
       "      <td>2</td>\n",
       "      <td>(74, 26)</td>\n",
       "      <td>0000,0100,0101</td>\n",
       "      <td>0.74</td>\n",
       "      <td>1000</td>\n",
       "      <td>0101</td>\n",
       "      <td>195.98</td>\n",
       "    </tr>\n",
       "    <tr>\n",
       "      <th>FEP</th>\n",
       "      <td>0.00</td>\n",
       "      <td>1</td>\n",
       "      <td>(100)</td>\n",
       "      <td>0000</td>\n",
       "      <td>1.00</td>\n",
       "      <td>0000, 0011, 1010</td>\n",
       "      <td>1111</td>\n",
       "      <td>0.00</td>\n",
       "    </tr>\n",
       "  </tbody>\n",
       "</table>\n",
       "</div>"
      ],
      "text/plain": [
       "      Success rate  # of paths       Path frequencies  \\\n",
       "Name                                                    \n",
       "AMP           0.17           5       (82, 2, 9, 6, 1)   \n",
       "AM            0.00           1                  (100)   \n",
       "CEC           0.00           1                  (100)   \n",
       "CTX           0.00           3           (52, 38, 10)   \n",
       "ZOX           0.35           5      (0, 25, 65, 9, 1)   \n",
       "CXM           0.13           2               (87, 13)   \n",
       "CRO           0.00           3            (58, 35, 7)   \n",
       "AMC           0.03           2                (97, 3)   \n",
       "CAZ           0.48           2               (52, 48)   \n",
       "CTT           0.10           3           (58, 32, 10)   \n",
       "SAM           1.00           6  (40, 33, 22, 2, 1, 2)   \n",
       "CPR           0.95           1                  (100)   \n",
       "CPD           1.00           3           (42, 27, 31)   \n",
       "TZP           1.00           2               (74, 26)   \n",
       "FEP           0.00           1                  (100)   \n",
       "\n",
       "                   Greedy path  Greedy rate            Local optima  \\\n",
       "Name                                                                  \n",
       "AMP             0000,0001,0011         0.82              0011, 0110   \n",
       "AM                   0000,0010         1.00                    0010   \n",
       "CEC                  0000,0100         1.00              0100, 1110   \n",
       "CTX             0000,0010,0011         0.52        0011, 0110, 1010   \n",
       "ZOX        0000,0010,0011,0111         0.00                    1001   \n",
       "CXM                  0000,0100         0.87                    0100   \n",
       "CRO                  0000,0100         0.58        0011, 0100, 1010   \n",
       "AMC                  0000,0100         0.97                    0100   \n",
       "CAZ             0000,0001,0101         0.52              0011, 0101   \n",
       "CTT                  0000,0100         0.58  0100, 1000, 1101, 1110   \n",
       "SAM   0000,0001,1001,1101,1111         0.40                           \n",
       "CPR             0000,0100,0101         1.00              0011, 0110   \n",
       "CPD   0000,0010,0011,0111,1111         0.42                    1010   \n",
       "TZP             0000,0100,0101         0.74                    1000   \n",
       "FEP                       0000         1.00        0000, 0011, 1010   \n",
       "\n",
       "     Global optimum  Avg time to fixation  \n",
       "Name                                       \n",
       "AMP            1111                 80.25  \n",
       "AM             1101                  0.00  \n",
       "CEC            0011                  0.00  \n",
       "CTX            1111                  0.00  \n",
       "ZOX            0111                 69.12  \n",
       "CXM            0111                 31.79  \n",
       "CRO            1111                  0.00  \n",
       "AMC            1101                 14.39  \n",
       "CAZ            0110                 82.11  \n",
       "CTT            0111                 19.39  \n",
       "SAM            1111                616.56  \n",
       "CPR            0101                770.14  \n",
       "CPD            1111                468.47  \n",
       "TZP            0101                195.98  \n",
       "FEP            1111                  0.00  "
      ]
     },
     "execution_count": 5,
     "metadata": {},
     "output_type": "execute_result"
    }
   ],
   "source": [
    "K3 = many_landscapes({'carrying_cap': int(1.0e7)})\n",
    "K3"
   ]
  },
  {
   "cell_type": "markdown",
   "metadata": {},
   "source": [
    "### K=10^6"
   ]
  },
  {
   "cell_type": "code",
   "execution_count": 6,
   "metadata": {},
   "outputs": [
    {
     "data": {
      "text/html": [
       "<div>\n",
       "<style scoped>\n",
       "    .dataframe tbody tr th:only-of-type {\n",
       "        vertical-align: middle;\n",
       "    }\n",
       "\n",
       "    .dataframe tbody tr th {\n",
       "        vertical-align: top;\n",
       "    }\n",
       "\n",
       "    .dataframe thead th {\n",
       "        text-align: right;\n",
       "    }\n",
       "</style>\n",
       "<table border=\"1\" class=\"dataframe\">\n",
       "  <thead>\n",
       "    <tr style=\"text-align: right;\">\n",
       "      <th></th>\n",
       "      <th>Success rate</th>\n",
       "      <th># of paths</th>\n",
       "      <th>Path frequencies</th>\n",
       "      <th>Greedy path</th>\n",
       "      <th>Greedy rate</th>\n",
       "      <th>Local optima</th>\n",
       "      <th>Global optimum</th>\n",
       "      <th>Avg time to fixation</th>\n",
       "    </tr>\n",
       "    <tr>\n",
       "      <th>Name</th>\n",
       "      <th></th>\n",
       "      <th></th>\n",
       "      <th></th>\n",
       "      <th></th>\n",
       "      <th></th>\n",
       "      <th></th>\n",
       "      <th></th>\n",
       "      <th></th>\n",
       "    </tr>\n",
       "  </thead>\n",
       "  <tbody>\n",
       "    <tr>\n",
       "      <th>AMP</th>\n",
       "      <td>0.27</td>\n",
       "      <td>16</td>\n",
       "      <td>(26, 6, 13, 6, 2, 1, 4, 4, 12, 4, 7, 2, 4, 3, ...</td>\n",
       "      <td>0000,0001,0011</td>\n",
       "      <td>0.26</td>\n",
       "      <td>0011, 0110</td>\n",
       "      <td>1111</td>\n",
       "      <td>245.78</td>\n",
       "    </tr>\n",
       "    <tr>\n",
       "      <th>AM</th>\n",
       "      <td>0.00</td>\n",
       "      <td>2</td>\n",
       "      <td>(97, 3)</td>\n",
       "      <td>0000,0010</td>\n",
       "      <td>0.97</td>\n",
       "      <td>0010</td>\n",
       "      <td>1101</td>\n",
       "      <td>0.00</td>\n",
       "    </tr>\n",
       "    <tr>\n",
       "      <th>CEC</th>\n",
       "      <td>0.00</td>\n",
       "      <td>2</td>\n",
       "      <td>(92, 8)</td>\n",
       "      <td>0000,0100</td>\n",
       "      <td>0.92</td>\n",
       "      <td>0100, 1110</td>\n",
       "      <td>0011</td>\n",
       "      <td>0.00</td>\n",
       "    </tr>\n",
       "    <tr>\n",
       "      <th>CTX</th>\n",
       "      <td>0.00</td>\n",
       "      <td>4</td>\n",
       "      <td>(28, 48, 21, 3)</td>\n",
       "      <td>0000,0010,0011</td>\n",
       "      <td>0.28</td>\n",
       "      <td>0011, 0110, 1010</td>\n",
       "      <td>1111</td>\n",
       "      <td>0.00</td>\n",
       "    </tr>\n",
       "    <tr>\n",
       "      <th>ZOX</th>\n",
       "      <td>0.41</td>\n",
       "      <td>14</td>\n",
       "      <td>(0, 12, 2, 34, 16, 5, 13, 3, 7, 3, 1, 1, 1, 2)</td>\n",
       "      <td>0000,0010,0011,0111</td>\n",
       "      <td>0.00</td>\n",
       "      <td>1001</td>\n",
       "      <td>0111</td>\n",
       "      <td>279.33</td>\n",
       "    </tr>\n",
       "    <tr>\n",
       "      <th>CXM</th>\n",
       "      <td>0.27</td>\n",
       "      <td>5</td>\n",
       "      <td>(63, 7, 27, 1, 2)</td>\n",
       "      <td>0000,0100</td>\n",
       "      <td>0.63</td>\n",
       "      <td>0100</td>\n",
       "      <td>0111</td>\n",
       "      <td>224.10</td>\n",
       "    </tr>\n",
       "    <tr>\n",
       "      <th>CRO</th>\n",
       "      <td>0.00</td>\n",
       "      <td>5</td>\n",
       "      <td>(55, 2, 26, 15, 2)</td>\n",
       "      <td>0000,0100</td>\n",
       "      <td>0.55</td>\n",
       "      <td>0011, 0100, 1010</td>\n",
       "      <td>1111</td>\n",
       "      <td>0.00</td>\n",
       "    </tr>\n",
       "    <tr>\n",
       "      <th>AMC</th>\n",
       "      <td>0.17</td>\n",
       "      <td>4</td>\n",
       "      <td>(54, 19, 16, 11)</td>\n",
       "      <td>0000,0100</td>\n",
       "      <td>0.54</td>\n",
       "      <td>0100</td>\n",
       "      <td>1101</td>\n",
       "      <td>155.10</td>\n",
       "    </tr>\n",
       "    <tr>\n",
       "      <th>CAZ</th>\n",
       "      <td>0.31</td>\n",
       "      <td>6</td>\n",
       "      <td>(42, 2, 31, 15, 6, 4)</td>\n",
       "      <td>0000,0001,0101</td>\n",
       "      <td>0.42</td>\n",
       "      <td>0011, 0101</td>\n",
       "      <td>0110</td>\n",
       "      <td>186.77</td>\n",
       "    </tr>\n",
       "    <tr>\n",
       "      <th>CTT</th>\n",
       "      <td>0.09</td>\n",
       "      <td>7</td>\n",
       "      <td>(43, 36, 9, 2, 4, 5, 1)</td>\n",
       "      <td>0000,0100</td>\n",
       "      <td>0.43</td>\n",
       "      <td>0100, 1000, 1101, 1110</td>\n",
       "      <td>0111</td>\n",
       "      <td>45.93</td>\n",
       "    </tr>\n",
       "    <tr>\n",
       "      <th>SAM</th>\n",
       "      <td>0.35</td>\n",
       "      <td>20</td>\n",
       "      <td>(4, 5, 4, 10, 2, 3, 3, 7, 8, 1, 11, 7, 5, 11, ...</td>\n",
       "      <td>0000,0001,1001,1101,1111</td>\n",
       "      <td>0.04</td>\n",
       "      <td></td>\n",
       "      <td>1111</td>\n",
       "      <td>317.77</td>\n",
       "    </tr>\n",
       "    <tr>\n",
       "      <th>CPR</th>\n",
       "      <td>0.28</td>\n",
       "      <td>6</td>\n",
       "      <td>(48, 33, 15, 1, 2, 1)</td>\n",
       "      <td>0000,0100,0101</td>\n",
       "      <td>0.48</td>\n",
       "      <td>0011, 0110</td>\n",
       "      <td>0101</td>\n",
       "      <td>261.73</td>\n",
       "    </tr>\n",
       "    <tr>\n",
       "      <th>CPD</th>\n",
       "      <td>0.31</td>\n",
       "      <td>12</td>\n",
       "      <td>(8, 5, 18, 3, 13, 10, 11, 1, 11, 14, 2, 4)</td>\n",
       "      <td>0000,0010,0011,0111,1111</td>\n",
       "      <td>0.08</td>\n",
       "      <td>1010</td>\n",
       "      <td>1111</td>\n",
       "      <td>294.59</td>\n",
       "    </tr>\n",
       "    <tr>\n",
       "      <th>TZP</th>\n",
       "      <td>0.81</td>\n",
       "      <td>5</td>\n",
       "      <td>(52, 4, 8, 29, 7)</td>\n",
       "      <td>0000,0100,0101</td>\n",
       "      <td>0.52</td>\n",
       "      <td>1000</td>\n",
       "      <td>0101</td>\n",
       "      <td>446.79</td>\n",
       "    </tr>\n",
       "    <tr>\n",
       "      <th>FEP</th>\n",
       "      <td>0.00</td>\n",
       "      <td>1</td>\n",
       "      <td>(100)</td>\n",
       "      <td>0000</td>\n",
       "      <td>1.00</td>\n",
       "      <td>0000, 0011, 1010</td>\n",
       "      <td>1111</td>\n",
       "      <td>0.00</td>\n",
       "    </tr>\n",
       "  </tbody>\n",
       "</table>\n",
       "</div>"
      ],
      "text/plain": [
       "      Success rate  # of paths  \\\n",
       "Name                             \n",
       "AMP           0.27          16   \n",
       "AM            0.00           2   \n",
       "CEC           0.00           2   \n",
       "CTX           0.00           4   \n",
       "ZOX           0.41          14   \n",
       "CXM           0.27           5   \n",
       "CRO           0.00           5   \n",
       "AMC           0.17           4   \n",
       "CAZ           0.31           6   \n",
       "CTT           0.09           7   \n",
       "SAM           0.35          20   \n",
       "CPR           0.28           6   \n",
       "CPD           0.31          12   \n",
       "TZP           0.81           5   \n",
       "FEP           0.00           1   \n",
       "\n",
       "                                       Path frequencies  \\\n",
       "Name                                                      \n",
       "AMP   (26, 6, 13, 6, 2, 1, 4, 4, 12, 4, 7, 2, 4, 3, ...   \n",
       "AM                                              (97, 3)   \n",
       "CEC                                             (92, 8)   \n",
       "CTX                                     (28, 48, 21, 3)   \n",
       "ZOX      (0, 12, 2, 34, 16, 5, 13, 3, 7, 3, 1, 1, 1, 2)   \n",
       "CXM                                   (63, 7, 27, 1, 2)   \n",
       "CRO                                  (55, 2, 26, 15, 2)   \n",
       "AMC                                    (54, 19, 16, 11)   \n",
       "CAZ                               (42, 2, 31, 15, 6, 4)   \n",
       "CTT                             (43, 36, 9, 2, 4, 5, 1)   \n",
       "SAM   (4, 5, 4, 10, 2, 3, 3, 7, 8, 1, 11, 7, 5, 11, ...   \n",
       "CPR                               (48, 33, 15, 1, 2, 1)   \n",
       "CPD          (8, 5, 18, 3, 13, 10, 11, 1, 11, 14, 2, 4)   \n",
       "TZP                                   (52, 4, 8, 29, 7)   \n",
       "FEP                                               (100)   \n",
       "\n",
       "                   Greedy path  Greedy rate            Local optima  \\\n",
       "Name                                                                  \n",
       "AMP             0000,0001,0011         0.26              0011, 0110   \n",
       "AM                   0000,0010         0.97                    0010   \n",
       "CEC                  0000,0100         0.92              0100, 1110   \n",
       "CTX             0000,0010,0011         0.28        0011, 0110, 1010   \n",
       "ZOX        0000,0010,0011,0111         0.00                    1001   \n",
       "CXM                  0000,0100         0.63                    0100   \n",
       "CRO                  0000,0100         0.55        0011, 0100, 1010   \n",
       "AMC                  0000,0100         0.54                    0100   \n",
       "CAZ             0000,0001,0101         0.42              0011, 0101   \n",
       "CTT                  0000,0100         0.43  0100, 1000, 1101, 1110   \n",
       "SAM   0000,0001,1001,1101,1111         0.04                           \n",
       "CPR             0000,0100,0101         0.48              0011, 0110   \n",
       "CPD   0000,0010,0011,0111,1111         0.08                    1010   \n",
       "TZP             0000,0100,0101         0.52                    1000   \n",
       "FEP                       0000         1.00        0000, 0011, 1010   \n",
       "\n",
       "     Global optimum  Avg time to fixation  \n",
       "Name                                       \n",
       "AMP            1111                245.78  \n",
       "AM             1101                  0.00  \n",
       "CEC            0011                  0.00  \n",
       "CTX            1111                  0.00  \n",
       "ZOX            0111                279.33  \n",
       "CXM            0111                224.10  \n",
       "CRO            1111                  0.00  \n",
       "AMC            1101                155.10  \n",
       "CAZ            0110                186.77  \n",
       "CTT            0111                 45.93  \n",
       "SAM            1111                317.77  \n",
       "CPR            0101                261.73  \n",
       "CPD            1111                294.59  \n",
       "TZP            0101                446.79  \n",
       "FEP            1111                  0.00  "
      ]
     },
     "execution_count": 6,
     "metadata": {},
     "output_type": "execute_result"
    }
   ],
   "source": [
    "K4 = many_landscapes({'carrying_cap': int(1.0e6)})\n",
    "K4"
   ]
  },
  {
   "cell_type": "code",
   "execution_count": null,
   "metadata": {},
   "outputs": [],
   "source": []
  },
  {
   "cell_type": "code",
   "execution_count": 7,
   "metadata": {},
   "outputs": [],
   "source": [
    "K5 = many_landscapes({'carrying_cap': int(1.0e5)})\n",
    "K6 = many_landscapes({'carrying_cap': int(1.0e4)})\n",
    "K7 = many_landscapes({'carrying_cap': int(1.0e3)})"
   ]
  },
  {
   "cell_type": "code",
   "execution_count": 8,
   "metadata": {},
   "outputs": [
    {
     "data": {
      "text/html": [
       "<div>\n",
       "<style scoped>\n",
       "    .dataframe tbody tr th:only-of-type {\n",
       "        vertical-align: middle;\n",
       "    }\n",
       "\n",
       "    .dataframe tbody tr th {\n",
       "        vertical-align: top;\n",
       "    }\n",
       "\n",
       "    .dataframe thead th {\n",
       "        text-align: right;\n",
       "    }\n",
       "</style>\n",
       "<table border=\"1\" class=\"dataframe\">\n",
       "  <thead>\n",
       "    <tr style=\"text-align: right;\">\n",
       "      <th></th>\n",
       "      <th>Success rate</th>\n",
       "      <th># of paths</th>\n",
       "      <th>Path frequencies</th>\n",
       "      <th>Greedy path</th>\n",
       "      <th>Greedy rate</th>\n",
       "      <th>Local optima</th>\n",
       "      <th>Global optimum</th>\n",
       "      <th>Avg time to fixation</th>\n",
       "    </tr>\n",
       "    <tr>\n",
       "      <th>Name</th>\n",
       "      <th></th>\n",
       "      <th></th>\n",
       "      <th></th>\n",
       "      <th></th>\n",
       "      <th></th>\n",
       "      <th></th>\n",
       "      <th></th>\n",
       "      <th></th>\n",
       "    </tr>\n",
       "  </thead>\n",
       "  <tbody>\n",
       "    <tr>\n",
       "      <th>AMP</th>\n",
       "      <td>0.0</td>\n",
       "      <td>2</td>\n",
       "      <td>(0, 100)</td>\n",
       "      <td>0000,0001,0011</td>\n",
       "      <td>0.00</td>\n",
       "      <td>0011, 0110</td>\n",
       "      <td>1111</td>\n",
       "      <td>0.0</td>\n",
       "    </tr>\n",
       "    <tr>\n",
       "      <th>AM</th>\n",
       "      <td>0.0</td>\n",
       "      <td>2</td>\n",
       "      <td>(0, 100)</td>\n",
       "      <td>0000,0010</td>\n",
       "      <td>0.00</td>\n",
       "      <td>0010</td>\n",
       "      <td>1101</td>\n",
       "      <td>0.0</td>\n",
       "    </tr>\n",
       "    <tr>\n",
       "      <th>CEC</th>\n",
       "      <td>0.0</td>\n",
       "      <td>2</td>\n",
       "      <td>(0, 100)</td>\n",
       "      <td>0000,0100</td>\n",
       "      <td>0.00</td>\n",
       "      <td>0100, 1110</td>\n",
       "      <td>0011</td>\n",
       "      <td>0.0</td>\n",
       "    </tr>\n",
       "    <tr>\n",
       "      <th>CTX</th>\n",
       "      <td>0.0</td>\n",
       "      <td>2</td>\n",
       "      <td>(0, 100)</td>\n",
       "      <td>0000,0010,0011</td>\n",
       "      <td>0.00</td>\n",
       "      <td>0011, 0110, 1010</td>\n",
       "      <td>1111</td>\n",
       "      <td>0.0</td>\n",
       "    </tr>\n",
       "    <tr>\n",
       "      <th>ZOX</th>\n",
       "      <td>0.0</td>\n",
       "      <td>3</td>\n",
       "      <td>(0, 99, 1)</td>\n",
       "      <td>0000,0010,0011,0111</td>\n",
       "      <td>0.00</td>\n",
       "      <td>1001</td>\n",
       "      <td>0111</td>\n",
       "      <td>0.0</td>\n",
       "    </tr>\n",
       "    <tr>\n",
       "      <th>CXM</th>\n",
       "      <td>0.0</td>\n",
       "      <td>3</td>\n",
       "      <td>(0, 97, 3)</td>\n",
       "      <td>0000,0100</td>\n",
       "      <td>0.00</td>\n",
       "      <td>0100</td>\n",
       "      <td>0111</td>\n",
       "      <td>0.0</td>\n",
       "    </tr>\n",
       "    <tr>\n",
       "      <th>CRO</th>\n",
       "      <td>0.0</td>\n",
       "      <td>3</td>\n",
       "      <td>(1, 98, 1)</td>\n",
       "      <td>0000,0100</td>\n",
       "      <td>0.01</td>\n",
       "      <td>0011, 0100, 1010</td>\n",
       "      <td>1111</td>\n",
       "      <td>0.0</td>\n",
       "    </tr>\n",
       "    <tr>\n",
       "      <th>AMC</th>\n",
       "      <td>0.0</td>\n",
       "      <td>3</td>\n",
       "      <td>(0, 99, 1)</td>\n",
       "      <td>0000,0100</td>\n",
       "      <td>0.00</td>\n",
       "      <td>0100</td>\n",
       "      <td>1101</td>\n",
       "      <td>0.0</td>\n",
       "    </tr>\n",
       "    <tr>\n",
       "      <th>CAZ</th>\n",
       "      <td>0.0</td>\n",
       "      <td>2</td>\n",
       "      <td>(0, 100)</td>\n",
       "      <td>0000,0001,0101</td>\n",
       "      <td>0.00</td>\n",
       "      <td>0011, 0101</td>\n",
       "      <td>0110</td>\n",
       "      <td>0.0</td>\n",
       "    </tr>\n",
       "    <tr>\n",
       "      <th>CTT</th>\n",
       "      <td>0.0</td>\n",
       "      <td>4</td>\n",
       "      <td>(0, 98, 1, 1)</td>\n",
       "      <td>0000,0100</td>\n",
       "      <td>0.00</td>\n",
       "      <td>0100, 1000, 1101, 1110</td>\n",
       "      <td>0111</td>\n",
       "      <td>0.0</td>\n",
       "    </tr>\n",
       "    <tr>\n",
       "      <th>SAM</th>\n",
       "      <td>0.0</td>\n",
       "      <td>3</td>\n",
       "      <td>(0, 99, 1)</td>\n",
       "      <td>0000,0001,1001,1101,1111</td>\n",
       "      <td>0.00</td>\n",
       "      <td></td>\n",
       "      <td>1111</td>\n",
       "      <td>0.0</td>\n",
       "    </tr>\n",
       "    <tr>\n",
       "      <th>CPR</th>\n",
       "      <td>0.0</td>\n",
       "      <td>2</td>\n",
       "      <td>(0, 100)</td>\n",
       "      <td>0000,0100,0101</td>\n",
       "      <td>0.00</td>\n",
       "      <td>0011, 0110</td>\n",
       "      <td>0101</td>\n",
       "      <td>0.0</td>\n",
       "    </tr>\n",
       "    <tr>\n",
       "      <th>CPD</th>\n",
       "      <td>0.0</td>\n",
       "      <td>2</td>\n",
       "      <td>(0, 100)</td>\n",
       "      <td>0000,0010,0011,0111,1111</td>\n",
       "      <td>0.00</td>\n",
       "      <td>1010</td>\n",
       "      <td>1111</td>\n",
       "      <td>0.0</td>\n",
       "    </tr>\n",
       "    <tr>\n",
       "      <th>TZP</th>\n",
       "      <td>0.0</td>\n",
       "      <td>2</td>\n",
       "      <td>(0, 100)</td>\n",
       "      <td>0000,0100,0101</td>\n",
       "      <td>0.00</td>\n",
       "      <td>1000</td>\n",
       "      <td>0101</td>\n",
       "      <td>0.0</td>\n",
       "    </tr>\n",
       "    <tr>\n",
       "      <th>FEP</th>\n",
       "      <td>0.0</td>\n",
       "      <td>1</td>\n",
       "      <td>(100)</td>\n",
       "      <td>0000</td>\n",
       "      <td>1.00</td>\n",
       "      <td>0000, 0011, 1010</td>\n",
       "      <td>1111</td>\n",
       "      <td>0.0</td>\n",
       "    </tr>\n",
       "  </tbody>\n",
       "</table>\n",
       "</div>"
      ],
      "text/plain": [
       "      Success rate  # of paths Path frequencies               Greedy path  \\\n",
       "Name                                                                        \n",
       "AMP            0.0           2         (0, 100)            0000,0001,0011   \n",
       "AM             0.0           2         (0, 100)                 0000,0010   \n",
       "CEC            0.0           2         (0, 100)                 0000,0100   \n",
       "CTX            0.0           2         (0, 100)            0000,0010,0011   \n",
       "ZOX            0.0           3       (0, 99, 1)       0000,0010,0011,0111   \n",
       "CXM            0.0           3       (0, 97, 3)                 0000,0100   \n",
       "CRO            0.0           3       (1, 98, 1)                 0000,0100   \n",
       "AMC            0.0           3       (0, 99, 1)                 0000,0100   \n",
       "CAZ            0.0           2         (0, 100)            0000,0001,0101   \n",
       "CTT            0.0           4    (0, 98, 1, 1)                 0000,0100   \n",
       "SAM            0.0           3       (0, 99, 1)  0000,0001,1001,1101,1111   \n",
       "CPR            0.0           2         (0, 100)            0000,0100,0101   \n",
       "CPD            0.0           2         (0, 100)  0000,0010,0011,0111,1111   \n",
       "TZP            0.0           2         (0, 100)            0000,0100,0101   \n",
       "FEP            0.0           1            (100)                      0000   \n",
       "\n",
       "      Greedy rate            Local optima Global optimum  Avg time to fixation  \n",
       "Name                                                                            \n",
       "AMP          0.00              0011, 0110           1111                   0.0  \n",
       "AM           0.00                    0010           1101                   0.0  \n",
       "CEC          0.00              0100, 1110           0011                   0.0  \n",
       "CTX          0.00        0011, 0110, 1010           1111                   0.0  \n",
       "ZOX          0.00                    1001           0111                   0.0  \n",
       "CXM          0.00                    0100           0111                   0.0  \n",
       "CRO          0.01        0011, 0100, 1010           1111                   0.0  \n",
       "AMC          0.00                    0100           1101                   0.0  \n",
       "CAZ          0.00              0011, 0101           0110                   0.0  \n",
       "CTT          0.00  0100, 1000, 1101, 1110           0111                   0.0  \n",
       "SAM          0.00                                   1111                   0.0  \n",
       "CPR          0.00              0011, 0110           0101                   0.0  \n",
       "CPD          0.00                    1010           1111                   0.0  \n",
       "TZP          0.00                    1000           0101                   0.0  \n",
       "FEP          1.00        0000, 0011, 1010           1111                   0.0  "
      ]
     },
     "execution_count": 8,
     "metadata": {},
     "output_type": "execute_result"
    }
   ],
   "source": [
    "K7"
   ]
  },
  {
   "cell_type": "code",
   "execution_count": 10,
   "metadata": {
    "scrolled": false
   },
   "outputs": [
    {
     "data": {
      "application/vnd.plotly.v1+json": {
       "data": [
        {
         "type": "bar",
         "uid": "eaa635f8-1797-11e9-bd70-8b84a76d037a",
         "x": [
          "AMP",
          "AM",
          "CEC",
          "CTX",
          "ZOX",
          "CXM",
          "CRO",
          "AMC",
          "CAZ",
          "CTT",
          "SAM",
          "CPR",
          "CPD",
          "TZP",
          "FEP"
         ],
         "xaxis": "x",
         "y": [
          0,
          0,
          0,
          0,
          0,
          0,
          0,
          0,
          124.63,
          0,
          417.32,
          738.31,
          400.41,
          128.18,
          0
         ],
         "yaxis": "y"
        },
        {
         "type": "bar",
         "uid": "eaa6d31a-1797-11e9-9c68-8b84a76d037a",
         "x": [
          "AMP",
          "AM",
          "CEC",
          "CTX",
          "ZOX",
          "CXM",
          "CRO",
          "AMC",
          "CAZ",
          "CTT",
          "SAM",
          "CPR",
          "CPD",
          "TZP",
          "FEP"
         ],
         "xaxis": "x2",
         "y": [
          0,
          0,
          0,
          0,
          0,
          0,
          0,
          0,
          93.48,
          0,
          481.85,
          756.35,
          450.84,
          138.88,
          0
         ],
         "yaxis": "y2"
        },
        {
         "type": "bar",
         "uid": "eaa794a4-1797-11e9-908e-8b84a76d037a",
         "x": [
          "AMP",
          "AM",
          "CEC",
          "CTX",
          "ZOX",
          "CXM",
          "CRO",
          "AMC",
          "CAZ",
          "CTT",
          "SAM",
          "CPR",
          "CPD",
          "TZP",
          "FEP"
         ],
         "xaxis": "x3",
         "y": [
          80.25,
          0,
          0,
          0,
          69.12,
          31.79,
          0,
          14.39,
          82.11,
          19.39,
          616.56,
          770.14,
          468.47,
          195.98,
          0
         ],
         "yaxis": "y3"
        },
        {
         "type": "bar",
         "uid": "eaa85768-1797-11e9-b1de-8b84a76d037a",
         "x": [
          "AMP",
          "AM",
          "CEC",
          "CTX",
          "ZOX",
          "CXM",
          "CRO",
          "AMC",
          "CAZ",
          "CTT",
          "SAM",
          "CPR",
          "CPD",
          "TZP",
          "FEP"
         ],
         "xaxis": "x4",
         "y": [
          245.78,
          0,
          0,
          0,
          279.33,
          224.1,
          0,
          155.1,
          186.77,
          45.93,
          317.77,
          261.73,
          294.59,
          446.79,
          0
         ],
         "yaxis": "y4"
        }
       ],
       "layout": {
        "annotations": [
         {
          "font": {
           "size": 16
          },
          "showarrow": false,
          "text": "K=10<sup>9</sup>",
          "x": 0.225,
          "xanchor": "center",
          "xref": "paper",
          "y": 1,
          "yanchor": "bottom",
          "yref": "paper"
         },
         {
          "font": {
           "size": 16
          },
          "showarrow": false,
          "text": "K=10<sup>8</sup>",
          "x": 0.775,
          "xanchor": "center",
          "xref": "paper",
          "y": 1,
          "yanchor": "bottom",
          "yref": "paper"
         },
         {
          "font": {
           "size": 16
          },
          "showarrow": false,
          "text": "K=10<sup>7</sup>",
          "x": 0.225,
          "xanchor": "center",
          "xref": "paper",
          "y": 0.375,
          "yanchor": "bottom",
          "yref": "paper"
         },
         {
          "font": {
           "size": 16
          },
          "showarrow": false,
          "text": "K=10<sup>6</sup>",
          "x": 0.775,
          "xanchor": "center",
          "xref": "paper",
          "y": 0.375,
          "yanchor": "bottom",
          "yref": "paper"
         }
        ],
        "showlegend": false,
        "xaxis": {
         "anchor": "y",
         "domain": [
          0,
          0.45
         ]
        },
        "xaxis2": {
         "anchor": "y2",
         "domain": [
          0.55,
          1
         ]
        },
        "xaxis3": {
         "anchor": "y3",
         "domain": [
          0,
          0.45
         ]
        },
        "xaxis4": {
         "anchor": "y4",
         "domain": [
          0.55,
          1
         ]
        },
        "yaxis": {
         "anchor": "x",
         "domain": [
          0.625,
          1
         ],
         "title": "Avg. time to fixation"
        },
        "yaxis2": {
         "anchor": "x2",
         "domain": [
          0.625,
          1
         ],
         "title": "Avg. time to fixation"
        },
        "yaxis3": {
         "anchor": "x3",
         "domain": [
          0,
          0.375
         ],
         "title": "Avg. time to fixation"
        },
        "yaxis4": {
         "anchor": "x4",
         "domain": [
          0,
          0.375
         ],
         "title": "Avg. time to fixation"
        }
       }
      },
      "text/html": [
       "<div id=\"d7e5b1c3-de52-4445-9ef3-3c59434fdb86\" style=\"height: 525px; width: 100%;\" class=\"plotly-graph-div\"></div><script type=\"text/javascript\">require([\"plotly\"], function(Plotly) { window.PLOTLYENV=window.PLOTLYENV || {};window.PLOTLYENV.BASE_URL=\"https://plot.ly\";Plotly.newPlot(\"d7e5b1c3-de52-4445-9ef3-3c59434fdb86\", [{\"x\": [\"AMP\", \"AM\", \"CEC\", \"CTX\", \"ZOX\", \"CXM\", \"CRO\", \"AMC\", \"CAZ\", \"CTT\", \"SAM\", \"CPR\", \"CPD\", \"TZP\", \"FEP\"], \"y\": [0.0, 0.0, 0.0, 0.0, 0.0, 0.0, 0.0, 0.0, 124.63, 0.0, 417.32, 738.31, 400.41, 128.18, 0.0], \"type\": \"bar\", \"uid\": \"eaa635f8-1797-11e9-bd70-8b84a76d037a\", \"xaxis\": \"x\", \"yaxis\": \"y\"}, {\"x\": [\"AMP\", \"AM\", \"CEC\", \"CTX\", \"ZOX\", \"CXM\", \"CRO\", \"AMC\", \"CAZ\", \"CTT\", \"SAM\", \"CPR\", \"CPD\", \"TZP\", \"FEP\"], \"y\": [0.0, 0.0, 0.0, 0.0, 0.0, 0.0, 0.0, 0.0, 93.48, 0.0, 481.85, 756.35, 450.84, 138.88, 0.0], \"type\": \"bar\", \"uid\": \"eaa6d31a-1797-11e9-9c68-8b84a76d037a\", \"xaxis\": \"x2\", \"yaxis\": \"y2\"}, {\"x\": [\"AMP\", \"AM\", \"CEC\", \"CTX\", \"ZOX\", \"CXM\", \"CRO\", \"AMC\", \"CAZ\", \"CTT\", \"SAM\", \"CPR\", \"CPD\", \"TZP\", \"FEP\"], \"y\": [80.25, 0.0, 0.0, 0.0, 69.12, 31.79, 0.0, 14.39, 82.11, 19.39, 616.56, 770.14, 468.47, 195.98, 0.0], \"type\": \"bar\", \"uid\": \"eaa794a4-1797-11e9-908e-8b84a76d037a\", \"xaxis\": \"x3\", \"yaxis\": \"y3\"}, {\"x\": [\"AMP\", \"AM\", \"CEC\", \"CTX\", \"ZOX\", \"CXM\", \"CRO\", \"AMC\", \"CAZ\", \"CTT\", \"SAM\", \"CPR\", \"CPD\", \"TZP\", \"FEP\"], \"y\": [245.78, 0.0, 0.0, 0.0, 279.33, 224.1, 0.0, 155.1, 186.77, 45.93, 317.77, 261.73, 294.59, 446.79, 0.0], \"type\": \"bar\", \"uid\": \"eaa85768-1797-11e9-b1de-8b84a76d037a\", \"xaxis\": \"x4\", \"yaxis\": \"y4\"}], {\"annotations\": [{\"font\": {\"size\": 16}, \"showarrow\": false, \"text\": \"K=10<sup>9</sup>\", \"x\": 0.225, \"xanchor\": \"center\", \"xref\": \"paper\", \"y\": 1.0, \"yanchor\": \"bottom\", \"yref\": \"paper\"}, {\"font\": {\"size\": 16}, \"showarrow\": false, \"text\": \"K=10<sup>8</sup>\", \"x\": 0.775, \"xanchor\": \"center\", \"xref\": \"paper\", \"y\": 1.0, \"yanchor\": \"bottom\", \"yref\": \"paper\"}, {\"font\": {\"size\": 16}, \"showarrow\": false, \"text\": \"K=10<sup>7</sup>\", \"x\": 0.225, \"xanchor\": \"center\", \"xref\": \"paper\", \"y\": 0.375, \"yanchor\": \"bottom\", \"yref\": \"paper\"}, {\"font\": {\"size\": 16}, \"showarrow\": false, \"text\": \"K=10<sup>6</sup>\", \"x\": 0.775, \"xanchor\": \"center\", \"xref\": \"paper\", \"y\": 0.375, \"yanchor\": \"bottom\", \"yref\": \"paper\"}], \"xaxis\": {\"anchor\": \"y\", \"domain\": [0.0, 0.45]}, \"yaxis\": {\"anchor\": \"x\", \"domain\": [0.625, 1.0], \"title\": \"Avg. time to fixation\"}, \"xaxis2\": {\"anchor\": \"y2\", \"domain\": [0.55, 1.0]}, \"yaxis2\": {\"anchor\": \"x2\", \"domain\": [0.625, 1.0], \"title\": \"Avg. time to fixation\"}, \"xaxis3\": {\"anchor\": \"y3\", \"domain\": [0.0, 0.45]}, \"yaxis3\": {\"anchor\": \"x3\", \"domain\": [0.0, 0.375], \"title\": \"Avg. time to fixation\"}, \"xaxis4\": {\"anchor\": \"y4\", \"domain\": [0.55, 1.0]}, \"yaxis4\": {\"anchor\": \"x4\", \"domain\": [0.0, 0.375], \"title\": \"Avg. time to fixation\"}, \"showlegend\": false}, {\"showLink\": false, \"linkText\": \"Export to plot.ly\"})});</script>"
      ],
      "text/vnd.plotly.v1+html": [
       "<div id=\"d7e5b1c3-de52-4445-9ef3-3c59434fdb86\" style=\"height: 525px; width: 100%;\" class=\"plotly-graph-div\"></div><script type=\"text/javascript\">require([\"plotly\"], function(Plotly) { window.PLOTLYENV=window.PLOTLYENV || {};window.PLOTLYENV.BASE_URL=\"https://plot.ly\";Plotly.newPlot(\"d7e5b1c3-de52-4445-9ef3-3c59434fdb86\", [{\"x\": [\"AMP\", \"AM\", \"CEC\", \"CTX\", \"ZOX\", \"CXM\", \"CRO\", \"AMC\", \"CAZ\", \"CTT\", \"SAM\", \"CPR\", \"CPD\", \"TZP\", \"FEP\"], \"y\": [0.0, 0.0, 0.0, 0.0, 0.0, 0.0, 0.0, 0.0, 124.63, 0.0, 417.32, 738.31, 400.41, 128.18, 0.0], \"type\": \"bar\", \"uid\": \"eaa635f8-1797-11e9-bd70-8b84a76d037a\", \"xaxis\": \"x\", \"yaxis\": \"y\"}, {\"x\": [\"AMP\", \"AM\", \"CEC\", \"CTX\", \"ZOX\", \"CXM\", \"CRO\", \"AMC\", \"CAZ\", \"CTT\", \"SAM\", \"CPR\", \"CPD\", \"TZP\", \"FEP\"], \"y\": [0.0, 0.0, 0.0, 0.0, 0.0, 0.0, 0.0, 0.0, 93.48, 0.0, 481.85, 756.35, 450.84, 138.88, 0.0], \"type\": \"bar\", \"uid\": \"eaa6d31a-1797-11e9-9c68-8b84a76d037a\", \"xaxis\": \"x2\", \"yaxis\": \"y2\"}, {\"x\": [\"AMP\", \"AM\", \"CEC\", \"CTX\", \"ZOX\", \"CXM\", \"CRO\", \"AMC\", \"CAZ\", \"CTT\", \"SAM\", \"CPR\", \"CPD\", \"TZP\", \"FEP\"], \"y\": [80.25, 0.0, 0.0, 0.0, 69.12, 31.79, 0.0, 14.39, 82.11, 19.39, 616.56, 770.14, 468.47, 195.98, 0.0], \"type\": \"bar\", \"uid\": \"eaa794a4-1797-11e9-908e-8b84a76d037a\", \"xaxis\": \"x3\", \"yaxis\": \"y3\"}, {\"x\": [\"AMP\", \"AM\", \"CEC\", \"CTX\", \"ZOX\", \"CXM\", \"CRO\", \"AMC\", \"CAZ\", \"CTT\", \"SAM\", \"CPR\", \"CPD\", \"TZP\", \"FEP\"], \"y\": [245.78, 0.0, 0.0, 0.0, 279.33, 224.1, 0.0, 155.1, 186.77, 45.93, 317.77, 261.73, 294.59, 446.79, 0.0], \"type\": \"bar\", \"uid\": \"eaa85768-1797-11e9-b1de-8b84a76d037a\", \"xaxis\": \"x4\", \"yaxis\": \"y4\"}], {\"annotations\": [{\"font\": {\"size\": 16}, \"showarrow\": false, \"text\": \"K=10<sup>9</sup>\", \"x\": 0.225, \"xanchor\": \"center\", \"xref\": \"paper\", \"y\": 1.0, \"yanchor\": \"bottom\", \"yref\": \"paper\"}, {\"font\": {\"size\": 16}, \"showarrow\": false, \"text\": \"K=10<sup>8</sup>\", \"x\": 0.775, \"xanchor\": \"center\", \"xref\": \"paper\", \"y\": 1.0, \"yanchor\": \"bottom\", \"yref\": \"paper\"}, {\"font\": {\"size\": 16}, \"showarrow\": false, \"text\": \"K=10<sup>7</sup>\", \"x\": 0.225, \"xanchor\": \"center\", \"xref\": \"paper\", \"y\": 0.375, \"yanchor\": \"bottom\", \"yref\": \"paper\"}, {\"font\": {\"size\": 16}, \"showarrow\": false, \"text\": \"K=10<sup>6</sup>\", \"x\": 0.775, \"xanchor\": \"center\", \"xref\": \"paper\", \"y\": 0.375, \"yanchor\": \"bottom\", \"yref\": \"paper\"}], \"xaxis\": {\"anchor\": \"y\", \"domain\": [0.0, 0.45]}, \"yaxis\": {\"anchor\": \"x\", \"domain\": [0.625, 1.0], \"title\": \"Avg. time to fixation\"}, \"xaxis2\": {\"anchor\": \"y2\", \"domain\": [0.55, 1.0]}, \"yaxis2\": {\"anchor\": \"x2\", \"domain\": [0.625, 1.0], \"title\": \"Avg. time to fixation\"}, \"xaxis3\": {\"anchor\": \"y3\", \"domain\": [0.0, 0.45]}, \"yaxis3\": {\"anchor\": \"x3\", \"domain\": [0.0, 0.375], \"title\": \"Avg. time to fixation\"}, \"xaxis4\": {\"anchor\": \"y4\", \"domain\": [0.55, 1.0]}, \"yaxis4\": {\"anchor\": \"x4\", \"domain\": [0.0, 0.375], \"title\": \"Avg. time to fixation\"}, \"showlegend\": false}, {\"showLink\": false, \"linkText\": \"Export to plot.ly\"})});</script>"
      ]
     },
     "metadata": {},
     "output_type": "display_data"
    },
    {
     "data": {
      "application/vnd.plotly.v1+json": {
       "data": [
        {
         "type": "scatter",
         "uid": "ed5db9ac-1797-11e9-b1ec-8b84a76d037a",
         "x": [
          "10<sup>9</sup>",
          "10<sup>8</sup>",
          "10<sup>7</sup>",
          "10<sup>6</sup>",
          "10<sup>5</sup>",
          "10<sup>4</sup>",
          "10<sup>3</sup>"
         ],
         "xaxis": "x",
         "y": [
          0.3333333333333333,
          0.31133333333333335,
          0.3473333333333333,
          0.21800000000000003,
          0.006666666666666667,
          0,
          0
         ],
         "yaxis": "y"
        },
        {
         "type": "scatter",
         "uid": "ed5f1b88-1797-11e9-a18c-8b84a76d037a",
         "x": [
          "10<sup>9</sup>",
          "10<sup>8</sup>",
          "10<sup>7</sup>",
          "10<sup>6</sup>",
          "10<sup>5</sup>",
          "10<sup>4</sup>",
          "10<sup>3</sup>"
         ],
         "xaxis": "x2",
         "y": [
          22,
          24,
          40,
          109,
          97,
          52,
          36
         ],
         "yaxis": "y2"
        }
       ],
       "layout": {
        "showlegend": false,
        "xaxis": {
         "anchor": "y",
         "domain": [
          0,
          0.45
         ],
         "title": "Carrying capacity"
        },
        "xaxis2": {
         "anchor": "y2",
         "domain": [
          0.55,
          1
         ],
         "title": "Carrying capacity"
        },
        "yaxis": {
         "anchor": "x",
         "domain": [
          0,
          1
         ],
         "title": "Avg. success rate"
        },
        "yaxis2": {
         "anchor": "x2",
         "domain": [
          0,
          1
         ],
         "title": "Total paths exposed"
        }
       }
      },
      "text/html": [
       "<div id=\"0d4a77d6-5999-4cef-969d-14a63dbc26db\" style=\"height: 525px; width: 100%;\" class=\"plotly-graph-div\"></div><script type=\"text/javascript\">require([\"plotly\"], function(Plotly) { window.PLOTLYENV=window.PLOTLYENV || {};window.PLOTLYENV.BASE_URL=\"https://plot.ly\";Plotly.newPlot(\"0d4a77d6-5999-4cef-969d-14a63dbc26db\", [{\"x\": [\"10<sup>9</sup>\", \"10<sup>8</sup>\", \"10<sup>7</sup>\", \"10<sup>6</sup>\", \"10<sup>5</sup>\", \"10<sup>4</sup>\", \"10<sup>3</sup>\"], \"y\": [0.3333333333333333, 0.31133333333333335, 0.3473333333333333, 0.21800000000000003, 0.006666666666666667, 0.0, 0.0], \"type\": \"scatter\", \"uid\": \"ed5db9ac-1797-11e9-b1ec-8b84a76d037a\", \"xaxis\": \"x\", \"yaxis\": \"y\"}, {\"x\": [\"10<sup>9</sup>\", \"10<sup>8</sup>\", \"10<sup>7</sup>\", \"10<sup>6</sup>\", \"10<sup>5</sup>\", \"10<sup>4</sup>\", \"10<sup>3</sup>\"], \"y\": [22, 24, 40, 109, 97, 52, 36], \"type\": \"scatter\", \"uid\": \"ed5f1b88-1797-11e9-a18c-8b84a76d037a\", \"xaxis\": \"x2\", \"yaxis\": \"y2\"}], {\"xaxis\": {\"anchor\": \"y\", \"domain\": [0.0, 0.45], \"title\": \"Carrying capacity\"}, \"yaxis\": {\"anchor\": \"x\", \"domain\": [0.0, 1.0], \"title\": \"Avg. success rate\"}, \"xaxis2\": {\"anchor\": \"y2\", \"domain\": [0.55, 1.0], \"title\": \"Carrying capacity\"}, \"yaxis2\": {\"anchor\": \"x2\", \"domain\": [0.0, 1.0], \"title\": \"Total paths exposed\"}, \"showlegend\": false}, {\"showLink\": false, \"linkText\": \"Export to plot.ly\"})});</script>"
      ],
      "text/vnd.plotly.v1+html": [
       "<div id=\"0d4a77d6-5999-4cef-969d-14a63dbc26db\" style=\"height: 525px; width: 100%;\" class=\"plotly-graph-div\"></div><script type=\"text/javascript\">require([\"plotly\"], function(Plotly) { window.PLOTLYENV=window.PLOTLYENV || {};window.PLOTLYENV.BASE_URL=\"https://plot.ly\";Plotly.newPlot(\"0d4a77d6-5999-4cef-969d-14a63dbc26db\", [{\"x\": [\"10<sup>9</sup>\", \"10<sup>8</sup>\", \"10<sup>7</sup>\", \"10<sup>6</sup>\", \"10<sup>5</sup>\", \"10<sup>4</sup>\", \"10<sup>3</sup>\"], \"y\": [0.3333333333333333, 0.31133333333333335, 0.3473333333333333, 0.21800000000000003, 0.006666666666666667, 0.0, 0.0], \"type\": \"scatter\", \"uid\": \"ed5db9ac-1797-11e9-b1ec-8b84a76d037a\", \"xaxis\": \"x\", \"yaxis\": \"y\"}, {\"x\": [\"10<sup>9</sup>\", \"10<sup>8</sup>\", \"10<sup>7</sup>\", \"10<sup>6</sup>\", \"10<sup>5</sup>\", \"10<sup>4</sup>\", \"10<sup>3</sup>\"], \"y\": [22, 24, 40, 109, 97, 52, 36], \"type\": \"scatter\", \"uid\": \"ed5f1b88-1797-11e9-a18c-8b84a76d037a\", \"xaxis\": \"x2\", \"yaxis\": \"y2\"}], {\"xaxis\": {\"anchor\": \"y\", \"domain\": [0.0, 0.45], \"title\": \"Carrying capacity\"}, \"yaxis\": {\"anchor\": \"x\", \"domain\": [0.0, 1.0], \"title\": \"Avg. success rate\"}, \"xaxis2\": {\"anchor\": \"y2\", \"domain\": [0.55, 1.0], \"title\": \"Carrying capacity\"}, \"yaxis2\": {\"anchor\": \"x2\", \"domain\": [0.0, 1.0], \"title\": \"Total paths exposed\"}, \"showlegend\": false}, {\"showLink\": false, \"linkText\": \"Export to plot.ly\"})});</script>"
      ]
     },
     "metadata": {},
     "output_type": "display_data"
    }
   ],
   "source": [
    "data = [go.Bar(\n",
    "    x=df.index.tolist(),\n",
    "    y=df['Avg time to fixation'].tolist()\n",
    ") for df in [K1, K2, K3, K4]]\n",
    "fig = tools.make_subplots(rows=2, cols=2, \n",
    "                          subplot_titles=('K=10<sup>9</sup>', 'K=10<sup>8</sup>', \n",
    "                                          'K=10<sup>7</sup>', 'K=10<sup>6</sup>'), \n",
    "                          print_grid=False)\n",
    "for i, trace in enumerate(data, 1):\n",
    "    fig.append_trace(trace, math.ceil(i / 2), abs((i % 2) - 2))\n",
    "for n in range(1, 5):\n",
    "    fig['layout']['yaxis{}'.format(n)].update(title='Avg. time to fixation')\n",
    "fig['layout'].update(showlegend=False)\n",
    "iplot(fig, show_link=False)\n",
    "pio.write_image(fig, 'fig1.pdf', width=1056, height=816)\n",
    "\n",
    "data = [go.Scatter(\n",
    "    x=['10<sup>9</sup>', '10<sup>8</sup>',\n",
    "       '10<sup>7</sup>', '10<sup>6</sup>',\n",
    "       '10<sup>5</sup>', '10<sup>4</sup>',\n",
    "       '10<sup>3</sup>'],\n",
    "    y=[df['Success rate'].mean() for df in [K1, K2, K3, K4, K5, K6, K7]]\n",
    "), go.Scatter(\n",
    "    x=['10<sup>9</sup>', '10<sup>8</sup>',\n",
    "       '10<sup>7</sup>', '10<sup>6</sup>',\n",
    "       '10<sup>5</sup>', '10<sup>4</sup>',\n",
    "       '10<sup>3</sup>'],\n",
    "    y=[df['# of paths'].sum() for df in [K1, K2, K3, K4, K5, K6, K7]]\n",
    ")]\n",
    "fig = tools.make_subplots(rows=1, cols=2, print_grid=False)\n",
    "fig.append_trace(data[0], 1, 1)\n",
    "fig.append_trace(data[1], 1, 2)\n",
    "fig['layout']['xaxis1'].update(title='Carrying capacity')\n",
    "fig['layout']['xaxis2'].update(title='Carrying capacity')\n",
    "fig['layout']['yaxis1'].update(title='Avg. success rate')\n",
    "fig['layout']['yaxis2'].update(title='Total paths exposed')\n",
    "fig['layout'].update(showlegend=False)\n",
    "iplot(fig, show_link=False)\n",
    "#pio.write_image(fig, 'fig2.pdf', width=1056, height=544)"
   ]
  },
  {
   "cell_type": "markdown",
   "metadata": {},
   "source": [
    "## Analysis of path frequencies for switching between selected pairs of drugs"
   ]
  },
  {
   "cell_type": "code",
   "execution_count": 10,
   "metadata": {},
   "outputs": [],
   "source": [
    "pairs = [('CTX', 'SAM'), ('ZOX', 'CXM'), ('AM', 'AMC'), ('CTT', 'CAZ'), ('FEP', 'CAZ')]\n",
    "\n",
    "data = [\n",
    "    {\n",
    "    'Name': '{} + {}'.format(pair[0], pair[1]),\n",
    "    'Landscape 1': dataset2.loc[pair[0]].tolist(),\n",
    "    'Landscape 2': dataset2.loc[pair[1]].tolist()\n",
    "    }\n",
    "    for pair in pairs\n",
    "]\n",
    "pair_df = pd.DataFrame(data).set_index('Name')\n",
    "frequencies = [200, 100, 50]"
   ]
  },
  {
   "cell_type": "code",
   "execution_count": 33,
   "metadata": {},
   "outputs": [],
   "source": [
    "K1 = [many_landscapes({'frequency': f, 'carrying_cap': int(1.0e9), 'prob_mutation': 1.0e-8}, pair_df) for f in frequencies]\n",
    "K2 = [many_landscapes({'frequency': f, 'carrying_cap': int(1.0e8), 'prob_mutation': 1.0e-7}, pair_df) for f in frequencies]\n",
    "K3 = [many_landscapes({'frequency': f, 'carrying_cap': int(1.0e7), 'prob_mutation': 1.0e-6}, pair_df) for f in frequencies]\n",
    "K4 = [many_landscapes({'frequency': f, 'carrying_cap': int(1.0e6), 'prob_mutation': 1.0e-5}, pair_df) for f in frequencies]"
   ]
  },
  {
   "cell_type": "code",
   "execution_count": 65,
   "metadata": {
    "scrolled": false
   },
   "outputs": [
    {
     "data": {
      "application/vnd.plotly.v1+json": {
       "data": [
        {
         "name": "200",
         "type": "bar",
         "uid": "ab860370-de75-11e8-a19a-947e40c53e24",
         "x": [
          "CTX + SAM",
          "ZOX + CXM",
          "AM + AMC",
          "CTT + CAZ",
          "FEP + CAZ"
         ],
         "y": [
          249.7,
          215.99,
          750.76,
          456.22,
          503.97
         ]
        },
        {
         "name": "100",
         "type": "bar",
         "uid": "ab860371-de75-11e8-a321-947e40c53e24",
         "x": [
          "CTX + SAM",
          "ZOX + CXM",
          "AM + AMC",
          "CTT + CAZ",
          "FEP + CAZ"
         ],
         "y": [
          149.56,
          116.84,
          471.97,
          256.18,
          487.33
         ]
        },
        {
         "name": "50",
         "type": "bar",
         "uid": "ab860372-de75-11e8-9eca-947e40c53e24",
         "x": [
          "CTX + SAM",
          "ZOX + CXM",
          "AM + AMC",
          "CTT + CAZ",
          "FEP + CAZ"
         ],
         "y": [
          138.67,
          71,
          731.33,
          0,
          578.42
         ]
        }
       ],
       "layout": {
        "barmode": "group",
        "height": 400,
        "title": "K=10<sup>9</sup>",
        "width": 600,
        "xaxis": {
         "title": "Drug pair"
        },
        "yaxis": {
         "title": "Avg. time to fixation"
        }
       }
      },
      "text/html": [
       "<div id=\"a245bcc7-c6ad-4ca9-8b43-cc4a86c8fb30\" style=\"height: 400px; width: 600px;\" class=\"plotly-graph-div\"></div><script type=\"text/javascript\">require([\"plotly\"], function(Plotly) { window.PLOTLYENV=window.PLOTLYENV || {};window.PLOTLYENV.BASE_URL=\"https://plot.ly\";Plotly.newPlot(\"a245bcc7-c6ad-4ca9-8b43-cc4a86c8fb30\", [{\"name\": \"200\", \"x\": [\"CTX + SAM\", \"ZOX + CXM\", \"AM + AMC\", \"CTT + CAZ\", \"FEP + CAZ\"], \"y\": [249.7, 215.99, 750.76, 456.22, 503.97], \"type\": \"bar\", \"uid\": \"ab860370-de75-11e8-a19a-947e40c53e24\"}, {\"name\": \"100\", \"x\": [\"CTX + SAM\", \"ZOX + CXM\", \"AM + AMC\", \"CTT + CAZ\", \"FEP + CAZ\"], \"y\": [149.56, 116.84, 471.97, 256.18, 487.33], \"type\": \"bar\", \"uid\": \"ab860371-de75-11e8-a321-947e40c53e24\"}, {\"name\": \"50\", \"x\": [\"CTX + SAM\", \"ZOX + CXM\", \"AM + AMC\", \"CTT + CAZ\", \"FEP + CAZ\"], \"y\": [138.67, 71.0, 731.33, 0.0, 578.42], \"type\": \"bar\", \"uid\": \"ab860372-de75-11e8-9eca-947e40c53e24\"}], {\"barmode\": \"group\", \"height\": 400, \"title\": \"K=10<sup>9</sup>\", \"width\": 600, \"xaxis\": {\"title\": \"Drug pair\"}, \"yaxis\": {\"title\": \"Avg. time to fixation\"}}, {\"showLink\": false, \"linkText\": \"Export to plot.ly\"})});</script>"
      ],
      "text/vnd.plotly.v1+html": [
       "<div id=\"a245bcc7-c6ad-4ca9-8b43-cc4a86c8fb30\" style=\"height: 400px; width: 600px;\" class=\"plotly-graph-div\"></div><script type=\"text/javascript\">require([\"plotly\"], function(Plotly) { window.PLOTLYENV=window.PLOTLYENV || {};window.PLOTLYENV.BASE_URL=\"https://plot.ly\";Plotly.newPlot(\"a245bcc7-c6ad-4ca9-8b43-cc4a86c8fb30\", [{\"name\": \"200\", \"x\": [\"CTX + SAM\", \"ZOX + CXM\", \"AM + AMC\", \"CTT + CAZ\", \"FEP + CAZ\"], \"y\": [249.7, 215.99, 750.76, 456.22, 503.97], \"type\": \"bar\", \"uid\": \"ab860370-de75-11e8-a19a-947e40c53e24\"}, {\"name\": \"100\", \"x\": [\"CTX + SAM\", \"ZOX + CXM\", \"AM + AMC\", \"CTT + CAZ\", \"FEP + CAZ\"], \"y\": [149.56, 116.84, 471.97, 256.18, 487.33], \"type\": \"bar\", \"uid\": \"ab860371-de75-11e8-a321-947e40c53e24\"}, {\"name\": \"50\", \"x\": [\"CTX + SAM\", \"ZOX + CXM\", \"AM + AMC\", \"CTT + CAZ\", \"FEP + CAZ\"], \"y\": [138.67, 71.0, 731.33, 0.0, 578.42], \"type\": \"bar\", \"uid\": \"ab860372-de75-11e8-9eca-947e40c53e24\"}], {\"barmode\": \"group\", \"height\": 400, \"title\": \"K=10<sup>9</sup>\", \"width\": 600, \"xaxis\": {\"title\": \"Drug pair\"}, \"yaxis\": {\"title\": \"Avg. time to fixation\"}}, {\"showLink\": false, \"linkText\": \"Export to plot.ly\"})});</script>"
      ]
     },
     "metadata": {},
     "output_type": "display_data"
    },
    {
     "data": {
      "application/vnd.plotly.v1+json": {
       "data": [
        {
         "name": "200",
         "type": "bar",
         "uid": "abdebcec-de75-11e8-afee-947e40c53e24",
         "x": [
          "CTX + SAM",
          "ZOX + CXM",
          "AM + AMC",
          "CTT + CAZ",
          "FEP + CAZ"
         ],
         "y": [
          244.69,
          213.97,
          702.38,
          450.94,
          535.6
         ]
        },
        {
         "name": "100",
         "type": "bar",
         "uid": "abdebced-de75-11e8-9fc9-947e40c53e24",
         "x": [
          "CTX + SAM",
          "ZOX + CXM",
          "AM + AMC",
          "CTT + CAZ",
          "FEP + CAZ"
         ],
         "y": [
          144.65,
          114.94,
          457.01,
          250.97,
          449.33
         ]
        },
        {
         "name": "50",
         "type": "bar",
         "uid": "abdebcee-de75-11e8-b23d-947e40c53e24",
         "x": [
          "CTX + SAM",
          "ZOX + CXM",
          "AM + AMC",
          "CTT + CAZ",
          "FEP + CAZ"
         ],
         "y": [
          95.54,
          66.06,
          413.43,
          150.93,
          540.66
         ]
        }
       ],
       "layout": {
        "barmode": "group",
        "height": 400,
        "title": "K=10<sup>8</sup>",
        "width": 600,
        "xaxis": {
         "title": "Drug pair"
        },
        "yaxis": {
         "title": "Avg. time to fixation"
        }
       }
      },
      "text/html": [
       "<div id=\"989704ee-3111-4981-aa43-a1b24a28cf68\" style=\"height: 400px; width: 600px;\" class=\"plotly-graph-div\"></div><script type=\"text/javascript\">require([\"plotly\"], function(Plotly) { window.PLOTLYENV=window.PLOTLYENV || {};window.PLOTLYENV.BASE_URL=\"https://plot.ly\";Plotly.newPlot(\"989704ee-3111-4981-aa43-a1b24a28cf68\", [{\"name\": \"200\", \"x\": [\"CTX + SAM\", \"ZOX + CXM\", \"AM + AMC\", \"CTT + CAZ\", \"FEP + CAZ\"], \"y\": [244.69, 213.97, 702.38, 450.94, 535.6], \"type\": \"bar\", \"uid\": \"abdebcec-de75-11e8-afee-947e40c53e24\"}, {\"name\": \"100\", \"x\": [\"CTX + SAM\", \"ZOX + CXM\", \"AM + AMC\", \"CTT + CAZ\", \"FEP + CAZ\"], \"y\": [144.65, 114.94, 457.01, 250.97, 449.33], \"type\": \"bar\", \"uid\": \"abdebced-de75-11e8-9fc9-947e40c53e24\"}, {\"name\": \"50\", \"x\": [\"CTX + SAM\", \"ZOX + CXM\", \"AM + AMC\", \"CTT + CAZ\", \"FEP + CAZ\"], \"y\": [95.54, 66.06, 413.43, 150.93, 540.66], \"type\": \"bar\", \"uid\": \"abdebcee-de75-11e8-b23d-947e40c53e24\"}], {\"barmode\": \"group\", \"height\": 400, \"title\": \"K=10<sup>8</sup>\", \"width\": 600, \"xaxis\": {\"title\": \"Drug pair\"}, \"yaxis\": {\"title\": \"Avg. time to fixation\"}}, {\"showLink\": false, \"linkText\": \"Export to plot.ly\"})});</script>"
      ],
      "text/vnd.plotly.v1+html": [
       "<div id=\"989704ee-3111-4981-aa43-a1b24a28cf68\" style=\"height: 400px; width: 600px;\" class=\"plotly-graph-div\"></div><script type=\"text/javascript\">require([\"plotly\"], function(Plotly) { window.PLOTLYENV=window.PLOTLYENV || {};window.PLOTLYENV.BASE_URL=\"https://plot.ly\";Plotly.newPlot(\"989704ee-3111-4981-aa43-a1b24a28cf68\", [{\"name\": \"200\", \"x\": [\"CTX + SAM\", \"ZOX + CXM\", \"AM + AMC\", \"CTT + CAZ\", \"FEP + CAZ\"], \"y\": [244.69, 213.97, 702.38, 450.94, 535.6], \"type\": \"bar\", \"uid\": \"abdebcec-de75-11e8-afee-947e40c53e24\"}, {\"name\": \"100\", \"x\": [\"CTX + SAM\", \"ZOX + CXM\", \"AM + AMC\", \"CTT + CAZ\", \"FEP + CAZ\"], \"y\": [144.65, 114.94, 457.01, 250.97, 449.33], \"type\": \"bar\", \"uid\": \"abdebced-de75-11e8-9fc9-947e40c53e24\"}, {\"name\": \"50\", \"x\": [\"CTX + SAM\", \"ZOX + CXM\", \"AM + AMC\", \"CTT + CAZ\", \"FEP + CAZ\"], \"y\": [95.54, 66.06, 413.43, 150.93, 540.66], \"type\": \"bar\", \"uid\": \"abdebcee-de75-11e8-b23d-947e40c53e24\"}], {\"barmode\": \"group\", \"height\": 400, \"title\": \"K=10<sup>8</sup>\", \"width\": 600, \"xaxis\": {\"title\": \"Drug pair\"}, \"yaxis\": {\"title\": \"Avg. time to fixation\"}}, {\"showLink\": false, \"linkText\": \"Export to plot.ly\"})});</script>"
      ]
     },
     "metadata": {},
     "output_type": "display_data"
    },
    {
     "data": {
      "application/vnd.plotly.v1+json": {
       "data": [
        {
         "name": "200",
         "type": "bar",
         "uid": "ac352db8-de75-11e8-b522-947e40c53e24",
         "x": [
          "CTX + SAM",
          "ZOX + CXM",
          "AM + AMC",
          "CTT + CAZ",
          "FEP + CAZ"
         ],
         "y": [
          239.82,
          211.99,
          619.63,
          445.37,
          509.32
         ]
        },
        {
         "name": "100",
         "type": "bar",
         "uid": "ac352db9-de75-11e8-b6a4-947e40c53e24",
         "x": [
          "CTX + SAM",
          "ZOX + CXM",
          "AM + AMC",
          "CTT + CAZ",
          "FEP + CAZ"
         ],
         "y": [
          140.01,
          112.91,
          424.71,
          245.48,
          413.06
         ]
        },
        {
         "name": "50",
         "type": "bar",
         "uid": "ac352dba-de75-11e8-98ab-947e40c53e24",
         "x": [
          "CTX + SAM",
          "ZOX + CXM",
          "AM + AMC",
          "CTT + CAZ",
          "FEP + CAZ"
         ],
         "y": [
          89.69,
          63.87,
          294.99,
          145.48,
          407.19
         ]
        }
       ],
       "layout": {
        "barmode": "group",
        "height": 400,
        "title": "K=10<sup>7</sup>",
        "width": 600,
        "xaxis": {
         "title": "Drug pair"
        },
        "yaxis": {
         "title": "Avg. time to fixation"
        }
       }
      },
      "text/html": [
       "<div id=\"994cbe95-c660-4815-bd72-97bcc33fa098\" style=\"height: 400px; width: 600px;\" class=\"plotly-graph-div\"></div><script type=\"text/javascript\">require([\"plotly\"], function(Plotly) { window.PLOTLYENV=window.PLOTLYENV || {};window.PLOTLYENV.BASE_URL=\"https://plot.ly\";Plotly.newPlot(\"994cbe95-c660-4815-bd72-97bcc33fa098\", [{\"name\": \"200\", \"x\": [\"CTX + SAM\", \"ZOX + CXM\", \"AM + AMC\", \"CTT + CAZ\", \"FEP + CAZ\"], \"y\": [239.82, 211.99, 619.63, 445.37, 509.32], \"type\": \"bar\", \"uid\": \"ac352db8-de75-11e8-b522-947e40c53e24\"}, {\"name\": \"100\", \"x\": [\"CTX + SAM\", \"ZOX + CXM\", \"AM + AMC\", \"CTT + CAZ\", \"FEP + CAZ\"], \"y\": [140.01, 112.91, 424.71, 245.48, 413.06], \"type\": \"bar\", \"uid\": \"ac352db9-de75-11e8-b6a4-947e40c53e24\"}, {\"name\": \"50\", \"x\": [\"CTX + SAM\", \"ZOX + CXM\", \"AM + AMC\", \"CTT + CAZ\", \"FEP + CAZ\"], \"y\": [89.69, 63.87, 294.99, 145.48, 407.19], \"type\": \"bar\", \"uid\": \"ac352dba-de75-11e8-98ab-947e40c53e24\"}], {\"barmode\": \"group\", \"height\": 400, \"title\": \"K=10<sup>7</sup>\", \"width\": 600, \"xaxis\": {\"title\": \"Drug pair\"}, \"yaxis\": {\"title\": \"Avg. time to fixation\"}}, {\"showLink\": false, \"linkText\": \"Export to plot.ly\"})});</script>"
      ],
      "text/vnd.plotly.v1+html": [
       "<div id=\"994cbe95-c660-4815-bd72-97bcc33fa098\" style=\"height: 400px; width: 600px;\" class=\"plotly-graph-div\"></div><script type=\"text/javascript\">require([\"plotly\"], function(Plotly) { window.PLOTLYENV=window.PLOTLYENV || {};window.PLOTLYENV.BASE_URL=\"https://plot.ly\";Plotly.newPlot(\"994cbe95-c660-4815-bd72-97bcc33fa098\", [{\"name\": \"200\", \"x\": [\"CTX + SAM\", \"ZOX + CXM\", \"AM + AMC\", \"CTT + CAZ\", \"FEP + CAZ\"], \"y\": [239.82, 211.99, 619.63, 445.37, 509.32], \"type\": \"bar\", \"uid\": \"ac352db8-de75-11e8-b522-947e40c53e24\"}, {\"name\": \"100\", \"x\": [\"CTX + SAM\", \"ZOX + CXM\", \"AM + AMC\", \"CTT + CAZ\", \"FEP + CAZ\"], \"y\": [140.01, 112.91, 424.71, 245.48, 413.06], \"type\": \"bar\", \"uid\": \"ac352db9-de75-11e8-b6a4-947e40c53e24\"}, {\"name\": \"50\", \"x\": [\"CTX + SAM\", \"ZOX + CXM\", \"AM + AMC\", \"CTT + CAZ\", \"FEP + CAZ\"], \"y\": [89.69, 63.87, 294.99, 145.48, 407.19], \"type\": \"bar\", \"uid\": \"ac352dba-de75-11e8-98ab-947e40c53e24\"}], {\"barmode\": \"group\", \"height\": 400, \"title\": \"K=10<sup>7</sup>\", \"width\": 600, \"xaxis\": {\"title\": \"Drug pair\"}, \"yaxis\": {\"title\": \"Avg. time to fixation\"}}, {\"showLink\": false, \"linkText\": \"Export to plot.ly\"})});</script>"
      ]
     },
     "metadata": {},
     "output_type": "display_data"
    },
    {
     "data": {
      "application/vnd.plotly.v1+json": {
       "data": [
        {
         "name": "200",
         "type": "bar",
         "uid": "ac99039e-de75-11e8-9075-947e40c53e24",
         "x": [
          "CTX + SAM",
          "ZOX + CXM",
          "AM + AMC",
          "CTT + CAZ",
          "FEP + CAZ"
         ],
         "y": [
          235.22,
          210,
          502.53,
          434.18,
          459.02
         ]
        },
        {
         "name": "100",
         "type": "bar",
         "uid": "ac99039f-de75-11e8-b789-947e40c53e24",
         "x": [
          "CTX + SAM",
          "ZOX + CXM",
          "AM + AMC",
          "CTT + CAZ",
          "FEP + CAZ"
         ],
         "y": [
          134.62,
          110.99,
          369.07,
          240.15,
          284.69
         ]
        },
        {
         "name": "50",
         "type": "bar",
         "uid": "ac9903a0-de75-11e8-9be9-947e40c53e24",
         "x": [
          "CTX + SAM",
          "ZOX + CXM",
          "AM + AMC",
          "CTT + CAZ",
          "FEP + CAZ"
         ],
         "y": [
          84.5,
          61.97,
          209.83,
          140.11,
          331.45
         ]
        }
       ],
       "layout": {
        "barmode": "group",
        "height": 400,
        "title": "K=10<sup>6</sup>",
        "width": 600,
        "xaxis": {
         "title": "Drug pair"
        },
        "yaxis": {
         "title": "Avg. time to fixation"
        }
       }
      },
      "text/html": [
       "<div id=\"36fb1793-72a6-4679-8496-515108d5f58e\" style=\"height: 400px; width: 600px;\" class=\"plotly-graph-div\"></div><script type=\"text/javascript\">require([\"plotly\"], function(Plotly) { window.PLOTLYENV=window.PLOTLYENV || {};window.PLOTLYENV.BASE_URL=\"https://plot.ly\";Plotly.newPlot(\"36fb1793-72a6-4679-8496-515108d5f58e\", [{\"name\": \"200\", \"x\": [\"CTX + SAM\", \"ZOX + CXM\", \"AM + AMC\", \"CTT + CAZ\", \"FEP + CAZ\"], \"y\": [235.22, 210.0, 502.53, 434.18, 459.02], \"type\": \"bar\", \"uid\": \"ac99039e-de75-11e8-9075-947e40c53e24\"}, {\"name\": \"100\", \"x\": [\"CTX + SAM\", \"ZOX + CXM\", \"AM + AMC\", \"CTT + CAZ\", \"FEP + CAZ\"], \"y\": [134.62, 110.99, 369.07, 240.15, 284.69], \"type\": \"bar\", \"uid\": \"ac99039f-de75-11e8-b789-947e40c53e24\"}, {\"name\": \"50\", \"x\": [\"CTX + SAM\", \"ZOX + CXM\", \"AM + AMC\", \"CTT + CAZ\", \"FEP + CAZ\"], \"y\": [84.5, 61.97, 209.83, 140.11, 331.45], \"type\": \"bar\", \"uid\": \"ac9903a0-de75-11e8-9be9-947e40c53e24\"}], {\"barmode\": \"group\", \"height\": 400, \"title\": \"K=10<sup>6</sup>\", \"width\": 600, \"xaxis\": {\"title\": \"Drug pair\"}, \"yaxis\": {\"title\": \"Avg. time to fixation\"}}, {\"showLink\": false, \"linkText\": \"Export to plot.ly\"})});</script>"
      ],
      "text/vnd.plotly.v1+html": [
       "<div id=\"36fb1793-72a6-4679-8496-515108d5f58e\" style=\"height: 400px; width: 600px;\" class=\"plotly-graph-div\"></div><script type=\"text/javascript\">require([\"plotly\"], function(Plotly) { window.PLOTLYENV=window.PLOTLYENV || {};window.PLOTLYENV.BASE_URL=\"https://plot.ly\";Plotly.newPlot(\"36fb1793-72a6-4679-8496-515108d5f58e\", [{\"name\": \"200\", \"x\": [\"CTX + SAM\", \"ZOX + CXM\", \"AM + AMC\", \"CTT + CAZ\", \"FEP + CAZ\"], \"y\": [235.22, 210.0, 502.53, 434.18, 459.02], \"type\": \"bar\", \"uid\": \"ac99039e-de75-11e8-9075-947e40c53e24\"}, {\"name\": \"100\", \"x\": [\"CTX + SAM\", \"ZOX + CXM\", \"AM + AMC\", \"CTT + CAZ\", \"FEP + CAZ\"], \"y\": [134.62, 110.99, 369.07, 240.15, 284.69], \"type\": \"bar\", \"uid\": \"ac99039f-de75-11e8-b789-947e40c53e24\"}, {\"name\": \"50\", \"x\": [\"CTX + SAM\", \"ZOX + CXM\", \"AM + AMC\", \"CTT + CAZ\", \"FEP + CAZ\"], \"y\": [84.5, 61.97, 209.83, 140.11, 331.45], \"type\": \"bar\", \"uid\": \"ac9903a0-de75-11e8-9be9-947e40c53e24\"}], {\"barmode\": \"group\", \"height\": 400, \"title\": \"K=10<sup>6</sup>\", \"width\": 600, \"xaxis\": {\"title\": \"Drug pair\"}, \"yaxis\": {\"title\": \"Avg. time to fixation\"}}, {\"showLink\": false, \"linkText\": \"Export to plot.ly\"})});</script>"
      ]
     },
     "metadata": {},
     "output_type": "display_data"
    }
   ],
   "source": [
    "for K, dfset, letter in zip(['K=10<sup>9</sup>', 'K=10<sup>8</sup>','K=10<sup>7</sup>', 'K=10<sup>6</sup>'], [K1, K2, K3, K4], ['a', 'b', 'c', 'd']):\n",
    "    data = [go.Bar(\n",
    "        x=df.index.tolist(),\n",
    "        y=df['Avg time to fixation'].tolist(),\n",
    "        name=freq\n",
    "    ) for df, freq in zip(dfset, frequencies)]\n",
    "\n",
    "    layout = go.Layout(\n",
    "        barmode='group',\n",
    "        xaxis = dict(title='Drug pair'),\n",
    "        yaxis = dict(title='Avg. time to fixation'),\n",
    "        title = K,\n",
    "        width = 600,\n",
    "        height = 400\n",
    "    )\n",
    "\n",
    "    fig = go.Figure(data=data, layout=layout)\n",
    "    iplot(fig, show_link=False)\n",
    "    pio.write_image(fig, 'fig3{}.pdf'.format(letter))"
   ]
  },
  {
   "cell_type": "code",
   "execution_count": 66,
   "metadata": {},
   "outputs": [
    {
     "data": {
      "application/vnd.plotly.v1+json": {
       "data": [
        {
         "name": "200",
         "type": "scatter",
         "uid": "27ce6f02-de77-11e8-9103-947e40c53e24",
         "x": [
          "10<sup>9</sup>",
          "10<sup>8</sup>",
          "10<sup>7</sup>",
          "10<sup>6</sup>"
         ],
         "y": [
          0.982,
          0.998,
          1,
          0.992
         ]
        },
        {
         "name": "100",
         "type": "scatter",
         "uid": "27ce6f03-de77-11e8-a61c-947e40c53e24",
         "x": [
          "10<sup>9</sup>",
          "10<sup>8</sup>",
          "10<sup>7</sup>",
          "10<sup>6</sup>"
         ],
         "y": [
          0.984,
          0.994,
          0.992,
          0.992
         ]
        },
        {
         "name": "50",
         "type": "scatter",
         "uid": "27ce6f04-de77-11e8-ab38-947e40c53e24",
         "visible": "legendonly",
         "x": [
          "10<sup>9</sup>",
          "10<sup>8</sup>",
          "10<sup>7</sup>",
          "10<sup>6</sup>"
         ],
         "y": [
          0.786,
          0.998,
          0.9960000000000001,
          0.998
         ]
        }
       ],
       "layout": {
        "xaxis": {
         "title": "Carrying capacity"
        },
        "yaxis": {
         "title": "Avg. success rate"
        }
       }
      },
      "text/html": [
       "<div id=\"a3f8c55c-b26c-44cd-9143-1120ed6701c1\" style=\"height: 525px; width: 100%;\" class=\"plotly-graph-div\"></div><script type=\"text/javascript\">require([\"plotly\"], function(Plotly) { window.PLOTLYENV=window.PLOTLYENV || {};window.PLOTLYENV.BASE_URL=\"https://plot.ly\";Plotly.newPlot(\"a3f8c55c-b26c-44cd-9143-1120ed6701c1\", [{\"name\": \"200\", \"x\": [\"10<sup>9</sup>\", \"10<sup>8</sup>\", \"10<sup>7</sup>\", \"10<sup>6</sup>\"], \"y\": [0.982, 0.998, 1.0, 0.992], \"type\": \"scatter\", \"uid\": \"27ce6f02-de77-11e8-9103-947e40c53e24\"}, {\"name\": \"100\", \"x\": [\"10<sup>9</sup>\", \"10<sup>8</sup>\", \"10<sup>7</sup>\", \"10<sup>6</sup>\"], \"y\": [0.984, 0.994, 0.992, 0.992], \"type\": \"scatter\", \"uid\": \"27ce6f03-de77-11e8-a61c-947e40c53e24\"}, {\"name\": \"50\", \"visible\": \"legendonly\", \"x\": [\"10<sup>9</sup>\", \"10<sup>8</sup>\", \"10<sup>7</sup>\", \"10<sup>6</sup>\"], \"y\": [0.786, 0.998, 0.9960000000000001, 0.998], \"type\": \"scatter\", \"uid\": \"27ce6f04-de77-11e8-ab38-947e40c53e24\"}], {\"xaxis\": {\"title\": \"Carrying capacity\"}, \"yaxis\": {\"title\": \"Avg. success rate\"}}, {\"showLink\": false, \"linkText\": \"Export to plot.ly\"})});</script>"
      ],
      "text/vnd.plotly.v1+html": [
       "<div id=\"a3f8c55c-b26c-44cd-9143-1120ed6701c1\" style=\"height: 525px; width: 100%;\" class=\"plotly-graph-div\"></div><script type=\"text/javascript\">require([\"plotly\"], function(Plotly) { window.PLOTLYENV=window.PLOTLYENV || {};window.PLOTLYENV.BASE_URL=\"https://plot.ly\";Plotly.newPlot(\"a3f8c55c-b26c-44cd-9143-1120ed6701c1\", [{\"name\": \"200\", \"x\": [\"10<sup>9</sup>\", \"10<sup>8</sup>\", \"10<sup>7</sup>\", \"10<sup>6</sup>\"], \"y\": [0.982, 0.998, 1.0, 0.992], \"type\": \"scatter\", \"uid\": \"27ce6f02-de77-11e8-9103-947e40c53e24\"}, {\"name\": \"100\", \"x\": [\"10<sup>9</sup>\", \"10<sup>8</sup>\", \"10<sup>7</sup>\", \"10<sup>6</sup>\"], \"y\": [0.984, 0.994, 0.992, 0.992], \"type\": \"scatter\", \"uid\": \"27ce6f03-de77-11e8-a61c-947e40c53e24\"}, {\"name\": \"50\", \"visible\": \"legendonly\", \"x\": [\"10<sup>9</sup>\", \"10<sup>8</sup>\", \"10<sup>7</sup>\", \"10<sup>6</sup>\"], \"y\": [0.786, 0.998, 0.9960000000000001, 0.998], \"type\": \"scatter\", \"uid\": \"27ce6f04-de77-11e8-ab38-947e40c53e24\"}], {\"xaxis\": {\"title\": \"Carrying capacity\"}, \"yaxis\": {\"title\": \"Avg. success rate\"}}, {\"showLink\": false, \"linkText\": \"Export to plot.ly\"})});</script>"
      ]
     },
     "metadata": {},
     "output_type": "display_data"
    }
   ],
   "source": [
    "data = [go.Scatter(\n",
    "    x=['10<sup>9</sup>', '10<sup>8</sup>',\n",
    "       '10<sup>7</sup>', '10<sup>6</sup>'],\n",
    "    y=[df[i]['Success rate'].mean() for df in [K1, K2, K3, K4]],\n",
    "    name=f,\n",
    ") for i, f in enumerate(frequencies)]\n",
    "\n",
    "data[2].update(visible='legendonly')\n",
    "\n",
    "layout = go.Layout(\n",
    "    xaxis = dict(title='Carrying capacity'),\n",
    "    yaxis = dict(title='Avg. success rate')\n",
    ")\n",
    "\n",
    "fig = go.Figure(data=data, layout=layout)\n",
    "iplot(fig, show_link=False)\n",
    "pio.write_image(fig, 'fig4.pdf')"
   ]
  },
  {
   "cell_type": "code",
   "execution_count": 67,
   "metadata": {},
   "outputs": [
    {
     "data": {
      "application/vnd.plotly.v1+json": {
       "data": [
        {
         "name": "200",
         "type": "scatter",
         "uid": "2d60680a-de77-11e8-b893-947e40c53e24",
         "x": [
          "10<sup>9</sup>",
          "10<sup>8</sup>",
          "10<sup>7</sup>",
          "10<sup>6</sup>"
         ],
         "y": [
          435.3280000000001,
          429.51599999999996,
          405.226,
          368.19
         ]
        },
        {
         "name": "100",
         "type": "scatter",
         "uid": "2d60680b-de77-11e8-976b-947e40c53e24",
         "x": [
          "10<sup>9</sup>",
          "10<sup>8</sup>",
          "10<sup>7</sup>",
          "10<sup>6</sup>"
         ],
         "y": [
          296.376,
          283.38,
          267.23400000000004,
          227.904
         ]
        },
        {
         "name": "50",
         "type": "scatter",
         "uid": "2d60680c-de77-11e8-9897-947e40c53e24",
         "x": [
          "10<sup>9</sup>",
          "10<sup>8</sup>",
          "10<sup>7</sup>",
          "10<sup>6</sup>"
         ],
         "y": [
          379.855,
          253.32399999999998,
          200.244,
          165.572
         ]
        }
       ],
       "layout": {
        "xaxis": {
         "title": "Carrying capacity"
        },
        "yaxis": {
         "title": "Avg. time to fixation"
        }
       }
      },
      "text/html": [
       "<div id=\"98e88a36-35f3-4018-a2f0-6e2a9bbf5dbf\" style=\"height: 525px; width: 100%;\" class=\"plotly-graph-div\"></div><script type=\"text/javascript\">require([\"plotly\"], function(Plotly) { window.PLOTLYENV=window.PLOTLYENV || {};window.PLOTLYENV.BASE_URL=\"https://plot.ly\";Plotly.newPlot(\"98e88a36-35f3-4018-a2f0-6e2a9bbf5dbf\", [{\"name\": \"200\", \"x\": [\"10<sup>9</sup>\", \"10<sup>8</sup>\", \"10<sup>7</sup>\", \"10<sup>6</sup>\"], \"y\": [435.3280000000001, 429.51599999999996, 405.226, 368.19], \"type\": \"scatter\", \"uid\": \"2d60680a-de77-11e8-b893-947e40c53e24\"}, {\"name\": \"100\", \"x\": [\"10<sup>9</sup>\", \"10<sup>8</sup>\", \"10<sup>7</sup>\", \"10<sup>6</sup>\"], \"y\": [296.376, 283.38, 267.23400000000004, 227.904], \"type\": \"scatter\", \"uid\": \"2d60680b-de77-11e8-976b-947e40c53e24\"}, {\"name\": \"50\", \"x\": [\"10<sup>9</sup>\", \"10<sup>8</sup>\", \"10<sup>7</sup>\", \"10<sup>6</sup>\"], \"y\": [379.855, 253.32399999999998, 200.244, 165.572], \"type\": \"scatter\", \"uid\": \"2d60680c-de77-11e8-9897-947e40c53e24\"}], {\"xaxis\": {\"title\": \"Carrying capacity\"}, \"yaxis\": {\"title\": \"Avg. time to fixation\"}}, {\"showLink\": false, \"linkText\": \"Export to plot.ly\"})});</script>"
      ],
      "text/vnd.plotly.v1+html": [
       "<div id=\"98e88a36-35f3-4018-a2f0-6e2a9bbf5dbf\" style=\"height: 525px; width: 100%;\" class=\"plotly-graph-div\"></div><script type=\"text/javascript\">require([\"plotly\"], function(Plotly) { window.PLOTLYENV=window.PLOTLYENV || {};window.PLOTLYENV.BASE_URL=\"https://plot.ly\";Plotly.newPlot(\"98e88a36-35f3-4018-a2f0-6e2a9bbf5dbf\", [{\"name\": \"200\", \"x\": [\"10<sup>9</sup>\", \"10<sup>8</sup>\", \"10<sup>7</sup>\", \"10<sup>6</sup>\"], \"y\": [435.3280000000001, 429.51599999999996, 405.226, 368.19], \"type\": \"scatter\", \"uid\": \"2d60680a-de77-11e8-b893-947e40c53e24\"}, {\"name\": \"100\", \"x\": [\"10<sup>9</sup>\", \"10<sup>8</sup>\", \"10<sup>7</sup>\", \"10<sup>6</sup>\"], \"y\": [296.376, 283.38, 267.23400000000004, 227.904], \"type\": \"scatter\", \"uid\": \"2d60680b-de77-11e8-976b-947e40c53e24\"}, {\"name\": \"50\", \"x\": [\"10<sup>9</sup>\", \"10<sup>8</sup>\", \"10<sup>7</sup>\", \"10<sup>6</sup>\"], \"y\": [379.855, 253.32399999999998, 200.244, 165.572], \"type\": \"scatter\", \"uid\": \"2d60680c-de77-11e8-9897-947e40c53e24\"}], {\"xaxis\": {\"title\": \"Carrying capacity\"}, \"yaxis\": {\"title\": \"Avg. time to fixation\"}}, {\"showLink\": false, \"linkText\": \"Export to plot.ly\"})});</script>"
      ]
     },
     "metadata": {},
     "output_type": "display_data"
    }
   ],
   "source": [
    "data = []\n",
    "for i, f in enumerate(frequencies):\n",
    "    averages = []\n",
    "    for df in [K1, K2, K3, K4]:\n",
    "        times = [t for t in df[i]['Avg time to fixation'].tolist() if t != 0]\n",
    "        averages.append(sum(times)/len(times))\n",
    "    data.append(go.Scatter(\n",
    "        x=['10<sup>9</sup>', '10<sup>8</sup>',\n",
    "           '10<sup>7</sup>', '10<sup>6</sup>'],\n",
    "        y=averages,\n",
    "        name=f\n",
    "    ))\n",
    "\n",
    "layout = go.Layout(\n",
    "    xaxis = dict(title='Carrying capacity'),\n",
    "    yaxis = dict(title='Avg. time to fixation')\n",
    ")\n",
    "\n",
    "fig = go.Figure(data=data, layout=layout)\n",
    "iplot(fig, show_link=False)\n",
    "pio.write_image(fig, 'fig5.pdf')"
   ]
  },
  {
   "cell_type": "code",
   "execution_count": null,
   "metadata": {},
   "outputs": [],
   "source": []
  }
 ],
 "metadata": {
  "kernelspec": {
   "display_name": "Python 3",
   "language": "python",
   "name": "python3"
  },
  "language_info": {
   "codemirror_mode": {
    "name": "ipython",
    "version": 3
   },
   "file_extension": ".py",
   "mimetype": "text/x-python",
   "name": "python",
   "nbconvert_exporter": "python",
   "pygments_lexer": "ipython3",
   "version": "3.6.4"
  }
 },
 "nbformat": 4,
 "nbformat_minor": 2
}
