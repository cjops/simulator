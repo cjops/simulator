{
 "cells": [
  {
   "cell_type": "markdown",
   "metadata": {},
   "source": [
    "# Running many simulations to reveal the effects of population size"
   ]
  },
  {
   "cell_type": "code",
   "execution_count": 1,
   "metadata": {},
   "outputs": [
    {
     "data": {
      "text/html": [
       "<script>requirejs.config({paths: { 'plotly': ['https://cdn.plot.ly/plotly-latest.min']},});if(!window.Plotly) {{require(['plotly'],function(plotly) {window.Plotly=plotly;});}}</script>"
      ],
      "text/vnd.plotly.v1+html": [
       "<script>requirejs.config({paths: { 'plotly': ['https://cdn.plot.ly/plotly-latest.min']},});if(!window.Plotly) {{require(['plotly'],function(plotly) {window.Plotly=plotly;});}}</script>"
      ]
     },
     "metadata": {},
     "output_type": "display_data"
    }
   ],
   "source": [
    "import pandas as pd\n",
    "import numpy as np\n",
    "import math\n",
    "import os\n",
    "\n",
    "from bokeh.palettes import d3\n",
    "\n",
    "from IPython.display import display, display_html, display_markdown, clear_output\n",
    "\n",
    "from plotly import tools\n",
    "from plotly.offline import download_plotlyjs, init_notebook_mode, plot, iplot\n",
    "import plotly.graph_objs as go\n",
    "import plotly.io as pio\n",
    "\n",
    "from simulator import *\n",
    "from simulator_plotting import *\n",
    "\n",
    "init_notebook_mode(connected=True)"
   ]
  },
  {
   "cell_type": "code",
   "execution_count": 2,
   "metadata": {},
   "outputs": [],
   "source": [
    "def many_simulations(landscape, param={}, num=100):\n",
    "    success_count = 0\n",
    "    greedy_path = ''\n",
    "    paths = {}\n",
    "    T_f_sum = 0\n",
    "    global_optimum = ''\n",
    "    local_optima = []\n",
    "    for i in range(num):\n",
    "        results = simulate(landscape, **param)\n",
    "        if results['T_f'] != -1:\n",
    "            success_count += 1\n",
    "            T_f_sum += results['T_f']\n",
    "        if not greedy_path:\n",
    "            greedy_path = ','.join(results['greedy_path'])\n",
    "            paths[greedy_path] = 0\n",
    "        actual_path = ','.join(results['actual_path'])\n",
    "        if actual_path in paths:\n",
    "            paths[actual_path] += 1\n",
    "        else:\n",
    "            paths[actual_path] = 1\n",
    "        if not global_optimum:\n",
    "            global_optimum = results['global_optimum']\n",
    "            local_optima = ', '.join(results['local_optima'])\n",
    "    return {\n",
    "        'Success rate': success_count / num,\n",
    "        '# of paths': len(paths),\n",
    "        'Path frequencies': paths.values(),\n",
    "        'Greedy path': greedy_path,\n",
    "        'Greedy rate': paths[greedy_path] / num,\n",
    "        'Avg time to fixation': T_f_sum / num,\n",
    "        'Global optimum': global_optimum,\n",
    "        'Local optima': local_optima\n",
    "    }\n",
    "\n",
    "# ordering\n",
    "column_names =  ['Success rate', '# of paths', 'Path frequencies', 'Greedy path', \n",
    "                 'Greedy rate', 'Local optima', 'Global optimum', 'Avg time to fixation']   \n",
    "\n",
    "def many_landscapes(param={}, df=dataset2):\n",
    "    data = []\n",
    "    for name, ls in df.iterrows():\n",
    "        landscape = ls.tolist()\n",
    "        display('Running simulations on {}...'.format(name))\n",
    "        row = many_simulations(landscape, param)\n",
    "        row['Name'] = name\n",
    "        data.append(row)\n",
    "    clear_output()\n",
    "    return pd.DataFrame(data).set_index('Name').reindex(column_names, axis='columns')"
   ]
  },
  {
   "cell_type": "markdown",
   "metadata": {},
   "source": [
    "## Analysis of path frequencies for all drugs"
   ]
  },
  {
   "cell_type": "markdown",
   "metadata": {},
   "source": [
    "### K=10^9"
   ]
  },
  {
   "cell_type": "code",
   "execution_count": 3,
   "metadata": {
    "scrolled": false
   },
   "outputs": [
    {
     "data": {
      "text/html": [
       "<div>\n",
       "<style scoped>\n",
       "    .dataframe tbody tr th:only-of-type {\n",
       "        vertical-align: middle;\n",
       "    }\n",
       "\n",
       "    .dataframe tbody tr th {\n",
       "        vertical-align: top;\n",
       "    }\n",
       "\n",
       "    .dataframe thead th {\n",
       "        text-align: right;\n",
       "    }\n",
       "</style>\n",
       "<table border=\"1\" class=\"dataframe\">\n",
       "  <thead>\n",
       "    <tr style=\"text-align: right;\">\n",
       "      <th></th>\n",
       "      <th>Success rate</th>\n",
       "      <th># of paths</th>\n",
       "      <th>Path frequencies</th>\n",
       "      <th>Greedy path</th>\n",
       "      <th>Greedy rate</th>\n",
       "      <th>Local optima</th>\n",
       "      <th>Global optimum</th>\n",
       "      <th>Avg time to fixation</th>\n",
       "    </tr>\n",
       "    <tr>\n",
       "      <th>Name</th>\n",
       "      <th></th>\n",
       "      <th></th>\n",
       "      <th></th>\n",
       "      <th></th>\n",
       "      <th></th>\n",
       "      <th></th>\n",
       "      <th></th>\n",
       "      <th></th>\n",
       "    </tr>\n",
       "  </thead>\n",
       "  <tbody>\n",
       "    <tr>\n",
       "      <th>AMP</th>\n",
       "      <td>0.0</td>\n",
       "      <td>1</td>\n",
       "      <td>(100)</td>\n",
       "      <td>0000,0001,0011</td>\n",
       "      <td>1.00</td>\n",
       "      <td>0011, 0110</td>\n",
       "      <td>1111</td>\n",
       "      <td>0.00</td>\n",
       "    </tr>\n",
       "    <tr>\n",
       "      <th>AM</th>\n",
       "      <td>0.0</td>\n",
       "      <td>1</td>\n",
       "      <td>(100)</td>\n",
       "      <td>0000,0010</td>\n",
       "      <td>1.00</td>\n",
       "      <td>0010</td>\n",
       "      <td>1101</td>\n",
       "      <td>0.00</td>\n",
       "    </tr>\n",
       "    <tr>\n",
       "      <th>CEC</th>\n",
       "      <td>0.0</td>\n",
       "      <td>1</td>\n",
       "      <td>(100)</td>\n",
       "      <td>0000,0100</td>\n",
       "      <td>1.00</td>\n",
       "      <td>0100, 1110</td>\n",
       "      <td>0011</td>\n",
       "      <td>0.00</td>\n",
       "    </tr>\n",
       "    <tr>\n",
       "      <th>CTX</th>\n",
       "      <td>0.0</td>\n",
       "      <td>1</td>\n",
       "      <td>(100)</td>\n",
       "      <td>0000,0010,0011</td>\n",
       "      <td>1.00</td>\n",
       "      <td>0011, 0110, 1010</td>\n",
       "      <td>1111</td>\n",
       "      <td>0.00</td>\n",
       "    </tr>\n",
       "    <tr>\n",
       "      <th>ZOX</th>\n",
       "      <td>0.0</td>\n",
       "      <td>2</td>\n",
       "      <td>(0, 100)</td>\n",
       "      <td>0000,0010,0011,0111</td>\n",
       "      <td>0.00</td>\n",
       "      <td>1001</td>\n",
       "      <td>0111</td>\n",
       "      <td>0.00</td>\n",
       "    </tr>\n",
       "    <tr>\n",
       "      <th>CXM</th>\n",
       "      <td>0.0</td>\n",
       "      <td>1</td>\n",
       "      <td>(100)</td>\n",
       "      <td>0000,0100</td>\n",
       "      <td>1.00</td>\n",
       "      <td>0100</td>\n",
       "      <td>0111</td>\n",
       "      <td>0.00</td>\n",
       "    </tr>\n",
       "    <tr>\n",
       "      <th>CRO</th>\n",
       "      <td>0.0</td>\n",
       "      <td>3</td>\n",
       "      <td>(65, 13, 22)</td>\n",
       "      <td>0000,0100</td>\n",
       "      <td>0.65</td>\n",
       "      <td>0011, 0100, 1010</td>\n",
       "      <td>1111</td>\n",
       "      <td>0.00</td>\n",
       "    </tr>\n",
       "    <tr>\n",
       "      <th>AMC</th>\n",
       "      <td>0.0</td>\n",
       "      <td>1</td>\n",
       "      <td>(100)</td>\n",
       "      <td>0000,0100</td>\n",
       "      <td>1.00</td>\n",
       "      <td>0100</td>\n",
       "      <td>1101</td>\n",
       "      <td>0.00</td>\n",
       "    </tr>\n",
       "    <tr>\n",
       "      <th>CAZ</th>\n",
       "      <td>1.0</td>\n",
       "      <td>2</td>\n",
       "      <td>(0, 100)</td>\n",
       "      <td>0000,0001,0101</td>\n",
       "      <td>0.00</td>\n",
       "      <td>0011, 0101</td>\n",
       "      <td>0110</td>\n",
       "      <td>126.47</td>\n",
       "    </tr>\n",
       "    <tr>\n",
       "      <th>CTT</th>\n",
       "      <td>0.0</td>\n",
       "      <td>1</td>\n",
       "      <td>(100)</td>\n",
       "      <td>0000,0100</td>\n",
       "      <td>1.00</td>\n",
       "      <td>0100, 1000, 1101, 1110</td>\n",
       "      <td>0111</td>\n",
       "      <td>0.00</td>\n",
       "    </tr>\n",
       "    <tr>\n",
       "      <th>SAM</th>\n",
       "      <td>1.0</td>\n",
       "      <td>2</td>\n",
       "      <td>(60, 40)</td>\n",
       "      <td>0000,0001,1001,1101,1111</td>\n",
       "      <td>0.60</td>\n",
       "      <td></td>\n",
       "      <td>1111</td>\n",
       "      <td>408.52</td>\n",
       "    </tr>\n",
       "    <tr>\n",
       "      <th>CPR</th>\n",
       "      <td>1.0</td>\n",
       "      <td>1</td>\n",
       "      <td>(100)</td>\n",
       "      <td>0000,0100,0101</td>\n",
       "      <td>1.00</td>\n",
       "      <td>0011, 0110</td>\n",
       "      <td>0101</td>\n",
       "      <td>739.70</td>\n",
       "    </tr>\n",
       "    <tr>\n",
       "      <th>CPD</th>\n",
       "      <td>1.0</td>\n",
       "      <td>2</td>\n",
       "      <td>(97, 3)</td>\n",
       "      <td>0000,0010,0011,0111,1111</td>\n",
       "      <td>0.97</td>\n",
       "      <td>1010</td>\n",
       "      <td>1111</td>\n",
       "      <td>402.89</td>\n",
       "    </tr>\n",
       "    <tr>\n",
       "      <th>TZP</th>\n",
       "      <td>1.0</td>\n",
       "      <td>2</td>\n",
       "      <td>(99, 1)</td>\n",
       "      <td>0000,0100,0101</td>\n",
       "      <td>0.99</td>\n",
       "      <td>1000</td>\n",
       "      <td>0101</td>\n",
       "      <td>128.27</td>\n",
       "    </tr>\n",
       "    <tr>\n",
       "      <th>FEP</th>\n",
       "      <td>0.0</td>\n",
       "      <td>1</td>\n",
       "      <td>(100)</td>\n",
       "      <td>0000</td>\n",
       "      <td>1.00</td>\n",
       "      <td>0000, 0011, 1010</td>\n",
       "      <td>1111</td>\n",
       "      <td>0.00</td>\n",
       "    </tr>\n",
       "  </tbody>\n",
       "</table>\n",
       "</div>"
      ],
      "text/plain": [
       "      Success rate  # of paths Path frequencies               Greedy path  \\\n",
       "Name                                                                        \n",
       "AMP            0.0           1            (100)            0000,0001,0011   \n",
       "AM             0.0           1            (100)                 0000,0010   \n",
       "CEC            0.0           1            (100)                 0000,0100   \n",
       "CTX            0.0           1            (100)            0000,0010,0011   \n",
       "ZOX            0.0           2         (0, 100)       0000,0010,0011,0111   \n",
       "CXM            0.0           1            (100)                 0000,0100   \n",
       "CRO            0.0           3     (65, 13, 22)                 0000,0100   \n",
       "AMC            0.0           1            (100)                 0000,0100   \n",
       "CAZ            1.0           2         (0, 100)            0000,0001,0101   \n",
       "CTT            0.0           1            (100)                 0000,0100   \n",
       "SAM            1.0           2         (60, 40)  0000,0001,1001,1101,1111   \n",
       "CPR            1.0           1            (100)            0000,0100,0101   \n",
       "CPD            1.0           2          (97, 3)  0000,0010,0011,0111,1111   \n",
       "TZP            1.0           2          (99, 1)            0000,0100,0101   \n",
       "FEP            0.0           1            (100)                      0000   \n",
       "\n",
       "      Greedy rate            Local optima Global optimum  Avg time to fixation  \n",
       "Name                                                                            \n",
       "AMP          1.00              0011, 0110           1111                  0.00  \n",
       "AM           1.00                    0010           1101                  0.00  \n",
       "CEC          1.00              0100, 1110           0011                  0.00  \n",
       "CTX          1.00        0011, 0110, 1010           1111                  0.00  \n",
       "ZOX          0.00                    1001           0111                  0.00  \n",
       "CXM          1.00                    0100           0111                  0.00  \n",
       "CRO          0.65        0011, 0100, 1010           1111                  0.00  \n",
       "AMC          1.00                    0100           1101                  0.00  \n",
       "CAZ          0.00              0011, 0101           0110                126.47  \n",
       "CTT          1.00  0100, 1000, 1101, 1110           0111                  0.00  \n",
       "SAM          0.60                                   1111                408.52  \n",
       "CPR          1.00              0011, 0110           0101                739.70  \n",
       "CPD          0.97                    1010           1111                402.89  \n",
       "TZP          0.99                    1000           0101                128.27  \n",
       "FEP          1.00        0000, 0011, 1010           1111                  0.00  "
      ]
     },
     "execution_count": 3,
     "metadata": {},
     "output_type": "execute_result"
    }
   ],
   "source": [
    "K1 = many_landscapes()\n",
    "K1"
   ]
  },
  {
   "cell_type": "markdown",
   "metadata": {},
   "source": [
    "### K=10^8"
   ]
  },
  {
   "cell_type": "code",
   "execution_count": 4,
   "metadata": {
    "scrolled": false
   },
   "outputs": [
    {
     "data": {
      "text/html": [
       "<div>\n",
       "<style scoped>\n",
       "    .dataframe tbody tr th:only-of-type {\n",
       "        vertical-align: middle;\n",
       "    }\n",
       "\n",
       "    .dataframe tbody tr th {\n",
       "        vertical-align: top;\n",
       "    }\n",
       "\n",
       "    .dataframe thead th {\n",
       "        text-align: right;\n",
       "    }\n",
       "</style>\n",
       "<table border=\"1\" class=\"dataframe\">\n",
       "  <thead>\n",
       "    <tr style=\"text-align: right;\">\n",
       "      <th></th>\n",
       "      <th>Success rate</th>\n",
       "      <th># of paths</th>\n",
       "      <th>Path frequencies</th>\n",
       "      <th>Greedy path</th>\n",
       "      <th>Greedy rate</th>\n",
       "      <th>Local optima</th>\n",
       "      <th>Global optimum</th>\n",
       "      <th>Avg time to fixation</th>\n",
       "    </tr>\n",
       "    <tr>\n",
       "      <th>Name</th>\n",
       "      <th></th>\n",
       "      <th></th>\n",
       "      <th></th>\n",
       "      <th></th>\n",
       "      <th></th>\n",
       "      <th></th>\n",
       "      <th></th>\n",
       "      <th></th>\n",
       "    </tr>\n",
       "  </thead>\n",
       "  <tbody>\n",
       "    <tr>\n",
       "      <th>AMP</th>\n",
       "      <td>0.0</td>\n",
       "      <td>2</td>\n",
       "      <td>(98, 2)</td>\n",
       "      <td>0000,0001,0011</td>\n",
       "      <td>0.98</td>\n",
       "      <td>0011, 0110</td>\n",
       "      <td>1111</td>\n",
       "      <td>0.00</td>\n",
       "    </tr>\n",
       "    <tr>\n",
       "      <th>AM</th>\n",
       "      <td>0.0</td>\n",
       "      <td>1</td>\n",
       "      <td>(100)</td>\n",
       "      <td>0000,0010</td>\n",
       "      <td>1.00</td>\n",
       "      <td>0010</td>\n",
       "      <td>1101</td>\n",
       "      <td>0.00</td>\n",
       "    </tr>\n",
       "    <tr>\n",
       "      <th>CEC</th>\n",
       "      <td>0.0</td>\n",
       "      <td>1</td>\n",
       "      <td>(100)</td>\n",
       "      <td>0000,0100</td>\n",
       "      <td>1.00</td>\n",
       "      <td>0100, 1110</td>\n",
       "      <td>0011</td>\n",
       "      <td>0.00</td>\n",
       "    </tr>\n",
       "    <tr>\n",
       "      <th>CTX</th>\n",
       "      <td>0.0</td>\n",
       "      <td>1</td>\n",
       "      <td>(100)</td>\n",
       "      <td>0000,0010,0011</td>\n",
       "      <td>1.00</td>\n",
       "      <td>0011, 0110, 1010</td>\n",
       "      <td>1111</td>\n",
       "      <td>0.00</td>\n",
       "    </tr>\n",
       "    <tr>\n",
       "      <th>ZOX</th>\n",
       "      <td>0.0</td>\n",
       "      <td>2</td>\n",
       "      <td>(0, 100)</td>\n",
       "      <td>0000,0010,0011,0111</td>\n",
       "      <td>0.00</td>\n",
       "      <td>1001</td>\n",
       "      <td>0111</td>\n",
       "      <td>0.00</td>\n",
       "    </tr>\n",
       "    <tr>\n",
       "      <th>CXM</th>\n",
       "      <td>0.0</td>\n",
       "      <td>1</td>\n",
       "      <td>(100)</td>\n",
       "      <td>0000,0100</td>\n",
       "      <td>1.00</td>\n",
       "      <td>0100</td>\n",
       "      <td>0111</td>\n",
       "      <td>0.00</td>\n",
       "    </tr>\n",
       "    <tr>\n",
       "      <th>CRO</th>\n",
       "      <td>0.0</td>\n",
       "      <td>3</td>\n",
       "      <td>(52, 29, 19)</td>\n",
       "      <td>0000,0100</td>\n",
       "      <td>0.52</td>\n",
       "      <td>0011, 0100, 1010</td>\n",
       "      <td>1111</td>\n",
       "      <td>0.00</td>\n",
       "    </tr>\n",
       "    <tr>\n",
       "      <th>AMC</th>\n",
       "      <td>0.0</td>\n",
       "      <td>1</td>\n",
       "      <td>(100)</td>\n",
       "      <td>0000,0100</td>\n",
       "      <td>1.00</td>\n",
       "      <td>0100</td>\n",
       "      <td>1101</td>\n",
       "      <td>0.00</td>\n",
       "    </tr>\n",
       "    <tr>\n",
       "      <th>CAZ</th>\n",
       "      <td>1.0</td>\n",
       "      <td>2</td>\n",
       "      <td>(0, 100)</td>\n",
       "      <td>0000,0001,0101</td>\n",
       "      <td>0.00</td>\n",
       "      <td>0011, 0101</td>\n",
       "      <td>0110</td>\n",
       "      <td>111.39</td>\n",
       "    </tr>\n",
       "    <tr>\n",
       "      <th>CTT</th>\n",
       "      <td>0.0</td>\n",
       "      <td>1</td>\n",
       "      <td>(100)</td>\n",
       "      <td>0000,0100</td>\n",
       "      <td>1.00</td>\n",
       "      <td>0100, 1000, 1101, 1110</td>\n",
       "      <td>0111</td>\n",
       "      <td>0.00</td>\n",
       "    </tr>\n",
       "    <tr>\n",
       "      <th>SAM</th>\n",
       "      <td>1.0</td>\n",
       "      <td>4</td>\n",
       "      <td>(59, 39, 1, 1)</td>\n",
       "      <td>0000,0001,1001,1101,1111</td>\n",
       "      <td>0.59</td>\n",
       "      <td></td>\n",
       "      <td>1111</td>\n",
       "      <td>337.76</td>\n",
       "    </tr>\n",
       "    <tr>\n",
       "      <th>CPR</th>\n",
       "      <td>1.0</td>\n",
       "      <td>1</td>\n",
       "      <td>(100)</td>\n",
       "      <td>0000,0100,0101</td>\n",
       "      <td>1.00</td>\n",
       "      <td>0011, 0110</td>\n",
       "      <td>0101</td>\n",
       "      <td>687.13</td>\n",
       "    </tr>\n",
       "    <tr>\n",
       "      <th>CPD</th>\n",
       "      <td>1.0</td>\n",
       "      <td>2</td>\n",
       "      <td>(97, 3)</td>\n",
       "      <td>0000,0010,0011,0111,1111</td>\n",
       "      <td>0.97</td>\n",
       "      <td>1010</td>\n",
       "      <td>1111</td>\n",
       "      <td>337.23</td>\n",
       "    </tr>\n",
       "    <tr>\n",
       "      <th>TZP</th>\n",
       "      <td>1.0</td>\n",
       "      <td>2</td>\n",
       "      <td>(96, 4)</td>\n",
       "      <td>0000,0100,0101</td>\n",
       "      <td>0.96</td>\n",
       "      <td>1000</td>\n",
       "      <td>0101</td>\n",
       "      <td>114.08</td>\n",
       "    </tr>\n",
       "    <tr>\n",
       "      <th>FEP</th>\n",
       "      <td>0.0</td>\n",
       "      <td>2</td>\n",
       "      <td>(99, 1)</td>\n",
       "      <td>0000</td>\n",
       "      <td>0.99</td>\n",
       "      <td>0000, 0011, 1010</td>\n",
       "      <td>1111</td>\n",
       "      <td>0.00</td>\n",
       "    </tr>\n",
       "  </tbody>\n",
       "</table>\n",
       "</div>"
      ],
      "text/plain": [
       "      Success rate  # of paths Path frequencies               Greedy path  \\\n",
       "Name                                                                        \n",
       "AMP            0.0           2          (98, 2)            0000,0001,0011   \n",
       "AM             0.0           1            (100)                 0000,0010   \n",
       "CEC            0.0           1            (100)                 0000,0100   \n",
       "CTX            0.0           1            (100)            0000,0010,0011   \n",
       "ZOX            0.0           2         (0, 100)       0000,0010,0011,0111   \n",
       "CXM            0.0           1            (100)                 0000,0100   \n",
       "CRO            0.0           3     (52, 29, 19)                 0000,0100   \n",
       "AMC            0.0           1            (100)                 0000,0100   \n",
       "CAZ            1.0           2         (0, 100)            0000,0001,0101   \n",
       "CTT            0.0           1            (100)                 0000,0100   \n",
       "SAM            1.0           4   (59, 39, 1, 1)  0000,0001,1001,1101,1111   \n",
       "CPR            1.0           1            (100)            0000,0100,0101   \n",
       "CPD            1.0           2          (97, 3)  0000,0010,0011,0111,1111   \n",
       "TZP            1.0           2          (96, 4)            0000,0100,0101   \n",
       "FEP            0.0           2          (99, 1)                      0000   \n",
       "\n",
       "      Greedy rate            Local optima Global optimum  Avg time to fixation  \n",
       "Name                                                                            \n",
       "AMP          0.98              0011, 0110           1111                  0.00  \n",
       "AM           1.00                    0010           1101                  0.00  \n",
       "CEC          1.00              0100, 1110           0011                  0.00  \n",
       "CTX          1.00        0011, 0110, 1010           1111                  0.00  \n",
       "ZOX          0.00                    1001           0111                  0.00  \n",
       "CXM          1.00                    0100           0111                  0.00  \n",
       "CRO          0.52        0011, 0100, 1010           1111                  0.00  \n",
       "AMC          1.00                    0100           1101                  0.00  \n",
       "CAZ          0.00              0011, 0101           0110                111.39  \n",
       "CTT          1.00  0100, 1000, 1101, 1110           0111                  0.00  \n",
       "SAM          0.59                                   1111                337.76  \n",
       "CPR          1.00              0011, 0110           0101                687.13  \n",
       "CPD          0.97                    1010           1111                337.23  \n",
       "TZP          0.96                    1000           0101                114.08  \n",
       "FEP          0.99        0000, 0011, 1010           1111                  0.00  "
      ]
     },
     "execution_count": 4,
     "metadata": {},
     "output_type": "execute_result"
    }
   ],
   "source": [
    "K2 = many_landscapes({'carrying_cap': int(1.0e8), 'prob_mutation': 1.0e-7})\n",
    "K2"
   ]
  },
  {
   "cell_type": "markdown",
   "metadata": {},
   "source": [
    "### K=10^7"
   ]
  },
  {
   "cell_type": "code",
   "execution_count": 5,
   "metadata": {
    "scrolled": false
   },
   "outputs": [
    {
     "data": {
      "text/html": [
       "<div>\n",
       "<style scoped>\n",
       "    .dataframe tbody tr th:only-of-type {\n",
       "        vertical-align: middle;\n",
       "    }\n",
       "\n",
       "    .dataframe tbody tr th {\n",
       "        vertical-align: top;\n",
       "    }\n",
       "\n",
       "    .dataframe thead th {\n",
       "        text-align: right;\n",
       "    }\n",
       "</style>\n",
       "<table border=\"1\" class=\"dataframe\">\n",
       "  <thead>\n",
       "    <tr style=\"text-align: right;\">\n",
       "      <th></th>\n",
       "      <th>Success rate</th>\n",
       "      <th># of paths</th>\n",
       "      <th>Path frequencies</th>\n",
       "      <th>Greedy path</th>\n",
       "      <th>Greedy rate</th>\n",
       "      <th>Local optima</th>\n",
       "      <th>Global optimum</th>\n",
       "      <th>Avg time to fixation</th>\n",
       "    </tr>\n",
       "    <tr>\n",
       "      <th>Name</th>\n",
       "      <th></th>\n",
       "      <th></th>\n",
       "      <th></th>\n",
       "      <th></th>\n",
       "      <th></th>\n",
       "      <th></th>\n",
       "      <th></th>\n",
       "      <th></th>\n",
       "    </tr>\n",
       "  </thead>\n",
       "  <tbody>\n",
       "    <tr>\n",
       "      <th>AMP</th>\n",
       "      <td>0.00</td>\n",
       "      <td>2</td>\n",
       "      <td>(98, 2)</td>\n",
       "      <td>0000,0001,0011</td>\n",
       "      <td>0.98</td>\n",
       "      <td>0011, 0110</td>\n",
       "      <td>1111</td>\n",
       "      <td>0.00</td>\n",
       "    </tr>\n",
       "    <tr>\n",
       "      <th>AM</th>\n",
       "      <td>0.00</td>\n",
       "      <td>1</td>\n",
       "      <td>(100)</td>\n",
       "      <td>0000,0010</td>\n",
       "      <td>1.00</td>\n",
       "      <td>0010</td>\n",
       "      <td>1101</td>\n",
       "      <td>0.00</td>\n",
       "    </tr>\n",
       "    <tr>\n",
       "      <th>CEC</th>\n",
       "      <td>0.00</td>\n",
       "      <td>1</td>\n",
       "      <td>(100)</td>\n",
       "      <td>0000,0100</td>\n",
       "      <td>1.00</td>\n",
       "      <td>0100, 1110</td>\n",
       "      <td>0011</td>\n",
       "      <td>0.00</td>\n",
       "    </tr>\n",
       "    <tr>\n",
       "      <th>CTX</th>\n",
       "      <td>0.00</td>\n",
       "      <td>1</td>\n",
       "      <td>(100)</td>\n",
       "      <td>0000,0010,0011</td>\n",
       "      <td>1.00</td>\n",
       "      <td>0011, 0110, 1010</td>\n",
       "      <td>1111</td>\n",
       "      <td>0.00</td>\n",
       "    </tr>\n",
       "    <tr>\n",
       "      <th>ZOX</th>\n",
       "      <td>0.00</td>\n",
       "      <td>2</td>\n",
       "      <td>(0, 100)</td>\n",
       "      <td>0000,0010,0011,0111</td>\n",
       "      <td>0.00</td>\n",
       "      <td>1001</td>\n",
       "      <td>0111</td>\n",
       "      <td>0.00</td>\n",
       "    </tr>\n",
       "    <tr>\n",
       "      <th>CXM</th>\n",
       "      <td>0.02</td>\n",
       "      <td>3</td>\n",
       "      <td>(98, 1, 1)</td>\n",
       "      <td>0000,0100</td>\n",
       "      <td>0.98</td>\n",
       "      <td>0100</td>\n",
       "      <td>0111</td>\n",
       "      <td>13.61</td>\n",
       "    </tr>\n",
       "    <tr>\n",
       "      <th>CRO</th>\n",
       "      <td>0.00</td>\n",
       "      <td>3</td>\n",
       "      <td>(30, 44, 26)</td>\n",
       "      <td>0000,0100</td>\n",
       "      <td>0.30</td>\n",
       "      <td>0011, 0100, 1010</td>\n",
       "      <td>1111</td>\n",
       "      <td>0.00</td>\n",
       "    </tr>\n",
       "    <tr>\n",
       "      <th>AMC</th>\n",
       "      <td>0.01</td>\n",
       "      <td>2</td>\n",
       "      <td>(99, 1)</td>\n",
       "      <td>0000,0100</td>\n",
       "      <td>0.99</td>\n",
       "      <td>0100</td>\n",
       "      <td>1101</td>\n",
       "      <td>10.14</td>\n",
       "    </tr>\n",
       "    <tr>\n",
       "      <th>CAZ</th>\n",
       "      <td>1.00</td>\n",
       "      <td>2</td>\n",
       "      <td>(0, 100)</td>\n",
       "      <td>0000,0001,0101</td>\n",
       "      <td>0.00</td>\n",
       "      <td>0011, 0101</td>\n",
       "      <td>0110</td>\n",
       "      <td>96.12</td>\n",
       "    </tr>\n",
       "    <tr>\n",
       "      <th>CTT</th>\n",
       "      <td>0.00</td>\n",
       "      <td>1</td>\n",
       "      <td>(100)</td>\n",
       "      <td>0000,0100</td>\n",
       "      <td>1.00</td>\n",
       "      <td>0100, 1000, 1101, 1110</td>\n",
       "      <td>0111</td>\n",
       "      <td>0.00</td>\n",
       "    </tr>\n",
       "    <tr>\n",
       "      <th>SAM</th>\n",
       "      <td>1.00</td>\n",
       "      <td>3</td>\n",
       "      <td>(54, 45, 1)</td>\n",
       "      <td>0000,0001,1001,1101,1111</td>\n",
       "      <td>0.54</td>\n",
       "      <td></td>\n",
       "      <td>1111</td>\n",
       "      <td>264.40</td>\n",
       "    </tr>\n",
       "    <tr>\n",
       "      <th>CPR</th>\n",
       "      <td>1.00</td>\n",
       "      <td>1</td>\n",
       "      <td>(100)</td>\n",
       "      <td>0000,0100,0101</td>\n",
       "      <td>1.00</td>\n",
       "      <td>0011, 0110</td>\n",
       "      <td>0101</td>\n",
       "      <td>653.55</td>\n",
       "    </tr>\n",
       "    <tr>\n",
       "      <th>CPD</th>\n",
       "      <td>1.00</td>\n",
       "      <td>2</td>\n",
       "      <td>(91, 9)</td>\n",
       "      <td>0000,0010,0011,0111,1111</td>\n",
       "      <td>0.91</td>\n",
       "      <td>1010</td>\n",
       "      <td>1111</td>\n",
       "      <td>274.45</td>\n",
       "    </tr>\n",
       "    <tr>\n",
       "      <th>TZP</th>\n",
       "      <td>1.00</td>\n",
       "      <td>2</td>\n",
       "      <td>(93, 7)</td>\n",
       "      <td>0000,0100,0101</td>\n",
       "      <td>0.93</td>\n",
       "      <td>1000</td>\n",
       "      <td>0101</td>\n",
       "      <td>98.54</td>\n",
       "    </tr>\n",
       "    <tr>\n",
       "      <th>FEP</th>\n",
       "      <td>0.01</td>\n",
       "      <td>5</td>\n",
       "      <td>(94, 1, 1, 3, 1)</td>\n",
       "      <td>0000</td>\n",
       "      <td>0.94</td>\n",
       "      <td>0000, 0011, 1010</td>\n",
       "      <td>1111</td>\n",
       "      <td>11.64</td>\n",
       "    </tr>\n",
       "  </tbody>\n",
       "</table>\n",
       "</div>"
      ],
      "text/plain": [
       "      Success rate  # of paths  Path frequencies               Greedy path  \\\n",
       "Name                                                                         \n",
       "AMP           0.00           2           (98, 2)            0000,0001,0011   \n",
       "AM            0.00           1             (100)                 0000,0010   \n",
       "CEC           0.00           1             (100)                 0000,0100   \n",
       "CTX           0.00           1             (100)            0000,0010,0011   \n",
       "ZOX           0.00           2          (0, 100)       0000,0010,0011,0111   \n",
       "CXM           0.02           3        (98, 1, 1)                 0000,0100   \n",
       "CRO           0.00           3      (30, 44, 26)                 0000,0100   \n",
       "AMC           0.01           2           (99, 1)                 0000,0100   \n",
       "CAZ           1.00           2          (0, 100)            0000,0001,0101   \n",
       "CTT           0.00           1             (100)                 0000,0100   \n",
       "SAM           1.00           3       (54, 45, 1)  0000,0001,1001,1101,1111   \n",
       "CPR           1.00           1             (100)            0000,0100,0101   \n",
       "CPD           1.00           2           (91, 9)  0000,0010,0011,0111,1111   \n",
       "TZP           1.00           2           (93, 7)            0000,0100,0101   \n",
       "FEP           0.01           5  (94, 1, 1, 3, 1)                      0000   \n",
       "\n",
       "      Greedy rate            Local optima Global optimum  Avg time to fixation  \n",
       "Name                                                                            \n",
       "AMP          0.98              0011, 0110           1111                  0.00  \n",
       "AM           1.00                    0010           1101                  0.00  \n",
       "CEC          1.00              0100, 1110           0011                  0.00  \n",
       "CTX          1.00        0011, 0110, 1010           1111                  0.00  \n",
       "ZOX          0.00                    1001           0111                  0.00  \n",
       "CXM          0.98                    0100           0111                 13.61  \n",
       "CRO          0.30        0011, 0100, 1010           1111                  0.00  \n",
       "AMC          0.99                    0100           1101                 10.14  \n",
       "CAZ          0.00              0011, 0101           0110                 96.12  \n",
       "CTT          1.00  0100, 1000, 1101, 1110           0111                  0.00  \n",
       "SAM          0.54                                   1111                264.40  \n",
       "CPR          1.00              0011, 0110           0101                653.55  \n",
       "CPD          0.91                    1010           1111                274.45  \n",
       "TZP          0.93                    1000           0101                 98.54  \n",
       "FEP          0.94        0000, 0011, 1010           1111                 11.64  "
      ]
     },
     "execution_count": 5,
     "metadata": {},
     "output_type": "execute_result"
    }
   ],
   "source": [
    "K3 = many_landscapes({'carrying_cap': int(1.0e7), 'prob_mutation': 1.0e-6})\n",
    "K3"
   ]
  },
  {
   "cell_type": "markdown",
   "metadata": {},
   "source": [
    "### K=10^6"
   ]
  },
  {
   "cell_type": "code",
   "execution_count": 6,
   "metadata": {},
   "outputs": [
    {
     "data": {
      "text/html": [
       "<div>\n",
       "<style scoped>\n",
       "    .dataframe tbody tr th:only-of-type {\n",
       "        vertical-align: middle;\n",
       "    }\n",
       "\n",
       "    .dataframe tbody tr th {\n",
       "        vertical-align: top;\n",
       "    }\n",
       "\n",
       "    .dataframe thead th {\n",
       "        text-align: right;\n",
       "    }\n",
       "</style>\n",
       "<table border=\"1\" class=\"dataframe\">\n",
       "  <thead>\n",
       "    <tr style=\"text-align: right;\">\n",
       "      <th></th>\n",
       "      <th>Success rate</th>\n",
       "      <th># of paths</th>\n",
       "      <th>Path frequencies</th>\n",
       "      <th>Greedy path</th>\n",
       "      <th>Greedy rate</th>\n",
       "      <th>Local optima</th>\n",
       "      <th>Global optimum</th>\n",
       "      <th>Avg time to fixation</th>\n",
       "    </tr>\n",
       "    <tr>\n",
       "      <th>Name</th>\n",
       "      <th></th>\n",
       "      <th></th>\n",
       "      <th></th>\n",
       "      <th></th>\n",
       "      <th></th>\n",
       "      <th></th>\n",
       "      <th></th>\n",
       "      <th></th>\n",
       "    </tr>\n",
       "  </thead>\n",
       "  <tbody>\n",
       "    <tr>\n",
       "      <th>AMP</th>\n",
       "      <td>0.00</td>\n",
       "      <td>2</td>\n",
       "      <td>(91, 9)</td>\n",
       "      <td>0000,0001,0011</td>\n",
       "      <td>0.91</td>\n",
       "      <td>0011, 0110</td>\n",
       "      <td>1111</td>\n",
       "      <td>0.00</td>\n",
       "    </tr>\n",
       "    <tr>\n",
       "      <th>AM</th>\n",
       "      <td>0.00</td>\n",
       "      <td>1</td>\n",
       "      <td>(100)</td>\n",
       "      <td>0000,0010</td>\n",
       "      <td>1.00</td>\n",
       "      <td>0010</td>\n",
       "      <td>1101</td>\n",
       "      <td>0.00</td>\n",
       "    </tr>\n",
       "    <tr>\n",
       "      <th>CEC</th>\n",
       "      <td>0.00</td>\n",
       "      <td>3</td>\n",
       "      <td>(93, 1, 6)</td>\n",
       "      <td>0000,0100</td>\n",
       "      <td>0.93</td>\n",
       "      <td>0100, 1110</td>\n",
       "      <td>0011</td>\n",
       "      <td>0.00</td>\n",
       "    </tr>\n",
       "    <tr>\n",
       "      <th>CTX</th>\n",
       "      <td>0.05</td>\n",
       "      <td>3</td>\n",
       "      <td>(94, 4, 2)</td>\n",
       "      <td>0000,0010,0011</td>\n",
       "      <td>0.94</td>\n",
       "      <td>0011, 0110, 1010</td>\n",
       "      <td>1111</td>\n",
       "      <td>44.34</td>\n",
       "    </tr>\n",
       "    <tr>\n",
       "      <th>ZOX</th>\n",
       "      <td>0.00</td>\n",
       "      <td>2</td>\n",
       "      <td>(0, 100)</td>\n",
       "      <td>0000,0010,0011,0111</td>\n",
       "      <td>0.00</td>\n",
       "      <td>1001</td>\n",
       "      <td>0111</td>\n",
       "      <td>0.00</td>\n",
       "    </tr>\n",
       "    <tr>\n",
       "      <th>CXM</th>\n",
       "      <td>0.31</td>\n",
       "      <td>3</td>\n",
       "      <td>(69, 30, 1)</td>\n",
       "      <td>0000,0100</td>\n",
       "      <td>0.69</td>\n",
       "      <td>0100</td>\n",
       "      <td>0111</td>\n",
       "      <td>182.21</td>\n",
       "    </tr>\n",
       "    <tr>\n",
       "      <th>CRO</th>\n",
       "      <td>0.00</td>\n",
       "      <td>3</td>\n",
       "      <td>(14, 68, 18)</td>\n",
       "      <td>0000,0100</td>\n",
       "      <td>0.14</td>\n",
       "      <td>0011, 0100, 1010</td>\n",
       "      <td>1111</td>\n",
       "      <td>0.00</td>\n",
       "    </tr>\n",
       "    <tr>\n",
       "      <th>AMC</th>\n",
       "      <td>0.13</td>\n",
       "      <td>4</td>\n",
       "      <td>(87, 10, 1, 2)</td>\n",
       "      <td>0000,0100</td>\n",
       "      <td>0.87</td>\n",
       "      <td>0100</td>\n",
       "      <td>1101</td>\n",
       "      <td>92.35</td>\n",
       "    </tr>\n",
       "    <tr>\n",
       "      <th>CAZ</th>\n",
       "      <td>1.00</td>\n",
       "      <td>2</td>\n",
       "      <td>(0, 100)</td>\n",
       "      <td>0000,0001,0101</td>\n",
       "      <td>0.00</td>\n",
       "      <td>0011, 0101</td>\n",
       "      <td>0110</td>\n",
       "      <td>82.38</td>\n",
       "    </tr>\n",
       "    <tr>\n",
       "      <th>CTT</th>\n",
       "      <td>0.02</td>\n",
       "      <td>2</td>\n",
       "      <td>(98, 2)</td>\n",
       "      <td>0000,0100</td>\n",
       "      <td>0.98</td>\n",
       "      <td>0100, 1000, 1101, 1110</td>\n",
       "      <td>0111</td>\n",
       "      <td>11.75</td>\n",
       "    </tr>\n",
       "    <tr>\n",
       "      <th>SAM</th>\n",
       "      <td>1.00</td>\n",
       "      <td>7</td>\n",
       "      <td>(42, 51, 3, 1, 1, 1, 1)</td>\n",
       "      <td>0000,0001,1001,1101,1111</td>\n",
       "      <td>0.42</td>\n",
       "      <td></td>\n",
       "      <td>1111</td>\n",
       "      <td>183.86</td>\n",
       "    </tr>\n",
       "    <tr>\n",
       "      <th>CPR</th>\n",
       "      <td>1.00</td>\n",
       "      <td>2</td>\n",
       "      <td>(99, 1)</td>\n",
       "      <td>0000,0100,0101</td>\n",
       "      <td>0.99</td>\n",
       "      <td>0011, 0110</td>\n",
       "      <td>0101</td>\n",
       "      <td>636.84</td>\n",
       "    </tr>\n",
       "    <tr>\n",
       "      <th>CPD</th>\n",
       "      <td>1.00</td>\n",
       "      <td>2</td>\n",
       "      <td>(83, 17)</td>\n",
       "      <td>0000,0010,0011,0111,1111</td>\n",
       "      <td>0.83</td>\n",
       "      <td>1010</td>\n",
       "      <td>1111</td>\n",
       "      <td>215.37</td>\n",
       "    </tr>\n",
       "    <tr>\n",
       "      <th>TZP</th>\n",
       "      <td>1.00</td>\n",
       "      <td>2</td>\n",
       "      <td>(89, 11)</td>\n",
       "      <td>0000,0100,0101</td>\n",
       "      <td>0.89</td>\n",
       "      <td>1000</td>\n",
       "      <td>0101</td>\n",
       "      <td>83.34</td>\n",
       "    </tr>\n",
       "    <tr>\n",
       "      <th>FEP</th>\n",
       "      <td>0.37</td>\n",
       "      <td>11</td>\n",
       "      <td>(41, 1, 6, 4, 1, 18, 21, 3, 1, 3, 1)</td>\n",
       "      <td>0000</td>\n",
       "      <td>0.41</td>\n",
       "      <td>0000, 0011, 1010</td>\n",
       "      <td>1111</td>\n",
       "      <td>272.50</td>\n",
       "    </tr>\n",
       "  </tbody>\n",
       "</table>\n",
       "</div>"
      ],
      "text/plain": [
       "      Success rate  # of paths                      Path frequencies  \\\n",
       "Name                                                                   \n",
       "AMP           0.00           2                               (91, 9)   \n",
       "AM            0.00           1                                 (100)   \n",
       "CEC           0.00           3                            (93, 1, 6)   \n",
       "CTX           0.05           3                            (94, 4, 2)   \n",
       "ZOX           0.00           2                              (0, 100)   \n",
       "CXM           0.31           3                           (69, 30, 1)   \n",
       "CRO           0.00           3                          (14, 68, 18)   \n",
       "AMC           0.13           4                        (87, 10, 1, 2)   \n",
       "CAZ           1.00           2                              (0, 100)   \n",
       "CTT           0.02           2                               (98, 2)   \n",
       "SAM           1.00           7               (42, 51, 3, 1, 1, 1, 1)   \n",
       "CPR           1.00           2                               (99, 1)   \n",
       "CPD           1.00           2                              (83, 17)   \n",
       "TZP           1.00           2                              (89, 11)   \n",
       "FEP           0.37          11  (41, 1, 6, 4, 1, 18, 21, 3, 1, 3, 1)   \n",
       "\n",
       "                   Greedy path  Greedy rate            Local optima  \\\n",
       "Name                                                                  \n",
       "AMP             0000,0001,0011         0.91              0011, 0110   \n",
       "AM                   0000,0010         1.00                    0010   \n",
       "CEC                  0000,0100         0.93              0100, 1110   \n",
       "CTX             0000,0010,0011         0.94        0011, 0110, 1010   \n",
       "ZOX        0000,0010,0011,0111         0.00                    1001   \n",
       "CXM                  0000,0100         0.69                    0100   \n",
       "CRO                  0000,0100         0.14        0011, 0100, 1010   \n",
       "AMC                  0000,0100         0.87                    0100   \n",
       "CAZ             0000,0001,0101         0.00              0011, 0101   \n",
       "CTT                  0000,0100         0.98  0100, 1000, 1101, 1110   \n",
       "SAM   0000,0001,1001,1101,1111         0.42                           \n",
       "CPR             0000,0100,0101         0.99              0011, 0110   \n",
       "CPD   0000,0010,0011,0111,1111         0.83                    1010   \n",
       "TZP             0000,0100,0101         0.89                    1000   \n",
       "FEP                       0000         0.41        0000, 0011, 1010   \n",
       "\n",
       "     Global optimum  Avg time to fixation  \n",
       "Name                                       \n",
       "AMP            1111                  0.00  \n",
       "AM             1101                  0.00  \n",
       "CEC            0011                  0.00  \n",
       "CTX            1111                 44.34  \n",
       "ZOX            0111                  0.00  \n",
       "CXM            0111                182.21  \n",
       "CRO            1111                  0.00  \n",
       "AMC            1101                 92.35  \n",
       "CAZ            0110                 82.38  \n",
       "CTT            0111                 11.75  \n",
       "SAM            1111                183.86  \n",
       "CPR            0101                636.84  \n",
       "CPD            1111                215.37  \n",
       "TZP            0101                 83.34  \n",
       "FEP            1111                272.50  "
      ]
     },
     "execution_count": 6,
     "metadata": {},
     "output_type": "execute_result"
    }
   ],
   "source": [
    "K4 = many_landscapes({'carrying_cap': int(1.0e6), 'prob_mutation': 1.0e-5})\n",
    "K4"
   ]
  },
  {
   "cell_type": "code",
   "execution_count": null,
   "metadata": {},
   "outputs": [],
   "source": []
  },
  {
   "cell_type": "code",
   "execution_count": 7,
   "metadata": {},
   "outputs": [],
   "source": [
    "K5 = many_landscapes({'carrying_cap': int(1.0e5), 'prob_mutation': 1.0e-4})\n",
    "K6 = many_landscapes({'carrying_cap': int(1.0e4), 'prob_mutation': 1.0e-3})\n",
    "K7 = many_landscapes({'carrying_cap': int(1.0e3), 'prob_mutation': 1.0e-2})"
   ]
  },
  {
   "cell_type": "code",
   "execution_count": 9,
   "metadata": {},
   "outputs": [
    {
     "data": {
      "text/html": [
       "<div>\n",
       "<style scoped>\n",
       "    .dataframe tbody tr th:only-of-type {\n",
       "        vertical-align: middle;\n",
       "    }\n",
       "\n",
       "    .dataframe tbody tr th {\n",
       "        vertical-align: top;\n",
       "    }\n",
       "\n",
       "    .dataframe thead th {\n",
       "        text-align: right;\n",
       "    }\n",
       "</style>\n",
       "<table border=\"1\" class=\"dataframe\">\n",
       "  <thead>\n",
       "    <tr style=\"text-align: right;\">\n",
       "      <th></th>\n",
       "      <th>Success rate</th>\n",
       "      <th># of paths</th>\n",
       "      <th>Path frequencies</th>\n",
       "      <th>Greedy path</th>\n",
       "      <th>Greedy rate</th>\n",
       "      <th>Local optima</th>\n",
       "      <th>Global optimum</th>\n",
       "      <th>Avg time to fixation</th>\n",
       "    </tr>\n",
       "    <tr>\n",
       "      <th>Name</th>\n",
       "      <th></th>\n",
       "      <th></th>\n",
       "      <th></th>\n",
       "      <th></th>\n",
       "      <th></th>\n",
       "      <th></th>\n",
       "      <th></th>\n",
       "      <th></th>\n",
       "    </tr>\n",
       "  </thead>\n",
       "  <tbody>\n",
       "    <tr>\n",
       "      <th>AMP</th>\n",
       "      <td>0.0</td>\n",
       "      <td>16</td>\n",
       "      <td>(18, 16, 9, 2, 11, 4, 4, 2, 11, 6, 6, 3, 3, 3,...</td>\n",
       "      <td>0000,0001,0011</td>\n",
       "      <td>0.18</td>\n",
       "      <td>0011, 0110</td>\n",
       "      <td>1111</td>\n",
       "      <td>0.0</td>\n",
       "    </tr>\n",
       "    <tr>\n",
       "      <th>AM</th>\n",
       "      <td>0.0</td>\n",
       "      <td>12</td>\n",
       "      <td>(16, 27, 4, 4, 34, 1, 2, 1, 2, 6, 1, 2)</td>\n",
       "      <td>0000,0010</td>\n",
       "      <td>0.16</td>\n",
       "      <td>0010</td>\n",
       "      <td>1101</td>\n",
       "      <td>0.0</td>\n",
       "    </tr>\n",
       "    <tr>\n",
       "      <th>CEC</th>\n",
       "      <td>0.0</td>\n",
       "      <td>7</td>\n",
       "      <td>(0, 3, 48, 37, 5, 4, 3)</td>\n",
       "      <td>0000,0100</td>\n",
       "      <td>0.00</td>\n",
       "      <td>0100, 1110</td>\n",
       "      <td>0011</td>\n",
       "      <td>0.0</td>\n",
       "    </tr>\n",
       "    <tr>\n",
       "      <th>CTX</th>\n",
       "      <td>0.0</td>\n",
       "      <td>6</td>\n",
       "      <td>(0, 14, 45, 38, 1, 2)</td>\n",
       "      <td>0000,0010,0011</td>\n",
       "      <td>0.00</td>\n",
       "      <td>0011, 0110, 1010</td>\n",
       "      <td>1111</td>\n",
       "      <td>0.0</td>\n",
       "    </tr>\n",
       "    <tr>\n",
       "      <th>ZOX</th>\n",
       "      <td>0.0</td>\n",
       "      <td>6</td>\n",
       "      <td>(65, 24, 3, 4, 3, 1)</td>\n",
       "      <td>0000,0010,0011,0111</td>\n",
       "      <td>0.65</td>\n",
       "      <td>1001</td>\n",
       "      <td>0111</td>\n",
       "      <td>0.0</td>\n",
       "    </tr>\n",
       "    <tr>\n",
       "      <th>CXM</th>\n",
       "      <td>0.0</td>\n",
       "      <td>6</td>\n",
       "      <td>(0, 18, 19, 57, 5, 1)</td>\n",
       "      <td>0000,0100</td>\n",
       "      <td>0.00</td>\n",
       "      <td>0100</td>\n",
       "      <td>0111</td>\n",
       "      <td>0.0</td>\n",
       "    </tr>\n",
       "    <tr>\n",
       "      <th>CRO</th>\n",
       "      <td>0.0</td>\n",
       "      <td>9</td>\n",
       "      <td>(0, 34, 25, 26, 3, 4, 3, 3, 2)</td>\n",
       "      <td>0000,0100</td>\n",
       "      <td>0.00</td>\n",
       "      <td>0011, 0100, 1010</td>\n",
       "      <td>1111</td>\n",
       "      <td>0.0</td>\n",
       "    </tr>\n",
       "    <tr>\n",
       "      <th>AMC</th>\n",
       "      <td>0.0</td>\n",
       "      <td>7</td>\n",
       "      <td>(0, 16, 4, 38, 34, 4, 4)</td>\n",
       "      <td>0000,0100</td>\n",
       "      <td>0.00</td>\n",
       "      <td>0100</td>\n",
       "      <td>1101</td>\n",
       "      <td>0.0</td>\n",
       "    </tr>\n",
       "    <tr>\n",
       "      <th>CAZ</th>\n",
       "      <td>0.0</td>\n",
       "      <td>3</td>\n",
       "      <td>(0, 81, 19)</td>\n",
       "      <td>0000,0001,0101</td>\n",
       "      <td>0.00</td>\n",
       "      <td>0011, 0101</td>\n",
       "      <td>0110</td>\n",
       "      <td>0.0</td>\n",
       "    </tr>\n",
       "    <tr>\n",
       "      <th>CTT</th>\n",
       "      <td>0.0</td>\n",
       "      <td>5</td>\n",
       "      <td>(0, 36, 8, 26, 30)</td>\n",
       "      <td>0000,0100</td>\n",
       "      <td>0.00</td>\n",
       "      <td>0100, 1000, 1101, 1110</td>\n",
       "      <td>0111</td>\n",
       "      <td>0.0</td>\n",
       "    </tr>\n",
       "    <tr>\n",
       "      <th>SAM</th>\n",
       "      <td>0.0</td>\n",
       "      <td>12</td>\n",
       "      <td>(19, 11, 11, 3, 24, 9, 10, 1, 3, 2, 5, 2)</td>\n",
       "      <td>0000,0001,1001,1101,1111</td>\n",
       "      <td>0.19</td>\n",
       "      <td></td>\n",
       "      <td>1111</td>\n",
       "      <td>0.0</td>\n",
       "    </tr>\n",
       "    <tr>\n",
       "      <th>CPR</th>\n",
       "      <td>0.0</td>\n",
       "      <td>2</td>\n",
       "      <td>(67, 33)</td>\n",
       "      <td>0000,0100,0101</td>\n",
       "      <td>0.67</td>\n",
       "      <td>0011, 0110</td>\n",
       "      <td>0101</td>\n",
       "      <td>0.0</td>\n",
       "    </tr>\n",
       "    <tr>\n",
       "      <th>CPD</th>\n",
       "      <td>0.0</td>\n",
       "      <td>5</td>\n",
       "      <td>(58, 33, 6, 2, 1)</td>\n",
       "      <td>0000,0010,0011,0111,1111</td>\n",
       "      <td>0.58</td>\n",
       "      <td>1010</td>\n",
       "      <td>1111</td>\n",
       "      <td>0.0</td>\n",
       "    </tr>\n",
       "    <tr>\n",
       "      <th>TZP</th>\n",
       "      <td>0.0</td>\n",
       "      <td>2</td>\n",
       "      <td>(54, 46)</td>\n",
       "      <td>0000,0100,0101</td>\n",
       "      <td>0.54</td>\n",
       "      <td>1000</td>\n",
       "      <td>0101</td>\n",
       "      <td>0.0</td>\n",
       "    </tr>\n",
       "    <tr>\n",
       "      <th>FEP</th>\n",
       "      <td>0.0</td>\n",
       "      <td>18</td>\n",
       "      <td>(0, 14, 4, 8, 14, 7, 8, 1, 8, 3, 15, 5, 4, 2, ...</td>\n",
       "      <td>0000</td>\n",
       "      <td>0.00</td>\n",
       "      <td>0000, 0011, 1010</td>\n",
       "      <td>1111</td>\n",
       "      <td>0.0</td>\n",
       "    </tr>\n",
       "  </tbody>\n",
       "</table>\n",
       "</div>"
      ],
      "text/plain": [
       "      Success rate  # of paths  \\\n",
       "Name                             \n",
       "AMP            0.0          16   \n",
       "AM             0.0          12   \n",
       "CEC            0.0           7   \n",
       "CTX            0.0           6   \n",
       "ZOX            0.0           6   \n",
       "CXM            0.0           6   \n",
       "CRO            0.0           9   \n",
       "AMC            0.0           7   \n",
       "CAZ            0.0           3   \n",
       "CTT            0.0           5   \n",
       "SAM            0.0          12   \n",
       "CPR            0.0           2   \n",
       "CPD            0.0           5   \n",
       "TZP            0.0           2   \n",
       "FEP            0.0          18   \n",
       "\n",
       "                                       Path frequencies  \\\n",
       "Name                                                      \n",
       "AMP   (18, 16, 9, 2, 11, 4, 4, 2, 11, 6, 6, 3, 3, 3,...   \n",
       "AM              (16, 27, 4, 4, 34, 1, 2, 1, 2, 6, 1, 2)   \n",
       "CEC                             (0, 3, 48, 37, 5, 4, 3)   \n",
       "CTX                               (0, 14, 45, 38, 1, 2)   \n",
       "ZOX                                (65, 24, 3, 4, 3, 1)   \n",
       "CXM                               (0, 18, 19, 57, 5, 1)   \n",
       "CRO                      (0, 34, 25, 26, 3, 4, 3, 3, 2)   \n",
       "AMC                            (0, 16, 4, 38, 34, 4, 4)   \n",
       "CAZ                                         (0, 81, 19)   \n",
       "CTT                                  (0, 36, 8, 26, 30)   \n",
       "SAM           (19, 11, 11, 3, 24, 9, 10, 1, 3, 2, 5, 2)   \n",
       "CPR                                            (67, 33)   \n",
       "CPD                                   (58, 33, 6, 2, 1)   \n",
       "TZP                                            (54, 46)   \n",
       "FEP   (0, 14, 4, 8, 14, 7, 8, 1, 8, 3, 15, 5, 4, 2, ...   \n",
       "\n",
       "                   Greedy path  Greedy rate            Local optima  \\\n",
       "Name                                                                  \n",
       "AMP             0000,0001,0011         0.18              0011, 0110   \n",
       "AM                   0000,0010         0.16                    0010   \n",
       "CEC                  0000,0100         0.00              0100, 1110   \n",
       "CTX             0000,0010,0011         0.00        0011, 0110, 1010   \n",
       "ZOX        0000,0010,0011,0111         0.65                    1001   \n",
       "CXM                  0000,0100         0.00                    0100   \n",
       "CRO                  0000,0100         0.00        0011, 0100, 1010   \n",
       "AMC                  0000,0100         0.00                    0100   \n",
       "CAZ             0000,0001,0101         0.00              0011, 0101   \n",
       "CTT                  0000,0100         0.00  0100, 1000, 1101, 1110   \n",
       "SAM   0000,0001,1001,1101,1111         0.19                           \n",
       "CPR             0000,0100,0101         0.67              0011, 0110   \n",
       "CPD   0000,0010,0011,0111,1111         0.58                    1010   \n",
       "TZP             0000,0100,0101         0.54                    1000   \n",
       "FEP                       0000         0.00        0000, 0011, 1010   \n",
       "\n",
       "     Global optimum  Avg time to fixation  \n",
       "Name                                       \n",
       "AMP            1111                   0.0  \n",
       "AM             1101                   0.0  \n",
       "CEC            0011                   0.0  \n",
       "CTX            1111                   0.0  \n",
       "ZOX            0111                   0.0  \n",
       "CXM            0111                   0.0  \n",
       "CRO            1111                   0.0  \n",
       "AMC            1101                   0.0  \n",
       "CAZ            0110                   0.0  \n",
       "CTT            0111                   0.0  \n",
       "SAM            1111                   0.0  \n",
       "CPR            0101                   0.0  \n",
       "CPD            1111                   0.0  \n",
       "TZP            0101                   0.0  \n",
       "FEP            1111                   0.0  "
      ]
     },
     "execution_count": 9,
     "metadata": {},
     "output_type": "execute_result"
    }
   ],
   "source": [
    "K7"
   ]
  },
  {
   "cell_type": "code",
   "execution_count": 8,
   "metadata": {
    "scrolled": false
   },
   "outputs": [
    {
     "data": {
      "application/vnd.plotly.v1+json": {
       "data": [
        {
         "type": "bar",
         "uid": "740de000-def7-11e8-8344-947e40c53e24",
         "x": [
          "AMP",
          "AM",
          "CEC",
          "CTX",
          "ZOX",
          "CXM",
          "CRO",
          "AMC",
          "CAZ",
          "CTT",
          "SAM",
          "CPR",
          "CPD",
          "TZP",
          "FEP"
         ],
         "xaxis": "x",
         "y": [
          0,
          0,
          0,
          0,
          0,
          0,
          0,
          0,
          126.47,
          0,
          408.52,
          739.7,
          402.89,
          128.27,
          0
         ],
         "yaxis": "y"
        },
        {
         "type": "bar",
         "uid": "740e53d2-def7-11e8-84ca-947e40c53e24",
         "x": [
          "AMP",
          "AM",
          "CEC",
          "CTX",
          "ZOX",
          "CXM",
          "CRO",
          "AMC",
          "CAZ",
          "CTT",
          "SAM",
          "CPR",
          "CPD",
          "TZP",
          "FEP"
         ],
         "xaxis": "x2",
         "y": [
          0,
          0,
          0,
          0,
          0,
          0,
          0,
          0,
          111.39,
          0,
          337.76,
          687.13,
          337.23,
          114.08,
          0
         ],
         "yaxis": "y2"
        },
        {
         "type": "bar",
         "uid": "740ec858-def7-11e8-bd0a-947e40c53e24",
         "x": [
          "AMP",
          "AM",
          "CEC",
          "CTX",
          "ZOX",
          "CXM",
          "CRO",
          "AMC",
          "CAZ",
          "CTT",
          "SAM",
          "CPR",
          "CPD",
          "TZP",
          "FEP"
         ],
         "xaxis": "x3",
         "y": [
          0,
          0,
          0,
          0,
          0,
          13.61,
          0,
          10.14,
          96.12,
          0,
          264.4,
          653.55,
          274.45,
          98.54,
          11.64
         ],
         "yaxis": "y3"
        },
        {
         "type": "bar",
         "uid": "740f3e30-def7-11e8-b05d-947e40c53e24",
         "x": [
          "AMP",
          "AM",
          "CEC",
          "CTX",
          "ZOX",
          "CXM",
          "CRO",
          "AMC",
          "CAZ",
          "CTT",
          "SAM",
          "CPR",
          "CPD",
          "TZP",
          "FEP"
         ],
         "xaxis": "x4",
         "y": [
          0,
          0,
          0,
          44.34,
          0,
          182.21,
          0,
          92.35,
          82.38,
          11.75,
          183.86,
          636.84,
          215.37,
          83.34,
          272.5
         ],
         "yaxis": "y4"
        }
       ],
       "layout": {
        "annotations": [
         {
          "font": {
           "size": 16
          },
          "showarrow": false,
          "text": "K=10<sup>9</sup>",
          "x": 0.225,
          "xanchor": "center",
          "xref": "paper",
          "y": 1,
          "yanchor": "bottom",
          "yref": "paper"
         },
         {
          "font": {
           "size": 16
          },
          "showarrow": false,
          "text": "K=10<sup>8</sup>",
          "x": 0.775,
          "xanchor": "center",
          "xref": "paper",
          "y": 1,
          "yanchor": "bottom",
          "yref": "paper"
         },
         {
          "font": {
           "size": 16
          },
          "showarrow": false,
          "text": "K=10<sup>7</sup>",
          "x": 0.225,
          "xanchor": "center",
          "xref": "paper",
          "y": 0.375,
          "yanchor": "bottom",
          "yref": "paper"
         },
         {
          "font": {
           "size": 16
          },
          "showarrow": false,
          "text": "K=10<sup>6</sup>",
          "x": 0.775,
          "xanchor": "center",
          "xref": "paper",
          "y": 0.375,
          "yanchor": "bottom",
          "yref": "paper"
         }
        ],
        "showlegend": false,
        "xaxis": {
         "anchor": "y",
         "domain": [
          0,
          0.45
         ]
        },
        "xaxis2": {
         "anchor": "y2",
         "domain": [
          0.55,
          1
         ]
        },
        "xaxis3": {
         "anchor": "y3",
         "domain": [
          0,
          0.45
         ]
        },
        "xaxis4": {
         "anchor": "y4",
         "domain": [
          0.55,
          1
         ]
        },
        "yaxis": {
         "anchor": "x",
         "domain": [
          0.625,
          1
         ],
         "title": "Avg. time to fixation"
        },
        "yaxis2": {
         "anchor": "x2",
         "domain": [
          0.625,
          1
         ],
         "title": "Avg. time to fixation"
        },
        "yaxis3": {
         "anchor": "x3",
         "domain": [
          0,
          0.375
         ],
         "title": "Avg. time to fixation"
        },
        "yaxis4": {
         "anchor": "x4",
         "domain": [
          0,
          0.375
         ],
         "title": "Avg. time to fixation"
        }
       }
      },
      "text/html": [
       "<div id=\"3c2f4e01-5346-47e6-bcd0-e954830f18c7\" style=\"height: 525px; width: 100%;\" class=\"plotly-graph-div\"></div><script type=\"text/javascript\">require([\"plotly\"], function(Plotly) { window.PLOTLYENV=window.PLOTLYENV || {};window.PLOTLYENV.BASE_URL=\"https://plot.ly\";Plotly.newPlot(\"3c2f4e01-5346-47e6-bcd0-e954830f18c7\", [{\"x\": [\"AMP\", \"AM\", \"CEC\", \"CTX\", \"ZOX\", \"CXM\", \"CRO\", \"AMC\", \"CAZ\", \"CTT\", \"SAM\", \"CPR\", \"CPD\", \"TZP\", \"FEP\"], \"y\": [0.0, 0.0, 0.0, 0.0, 0.0, 0.0, 0.0, 0.0, 126.47, 0.0, 408.52, 739.7, 402.89, 128.27, 0.0], \"type\": \"bar\", \"uid\": \"740de000-def7-11e8-8344-947e40c53e24\", \"xaxis\": \"x\", \"yaxis\": \"y\"}, {\"x\": [\"AMP\", \"AM\", \"CEC\", \"CTX\", \"ZOX\", \"CXM\", \"CRO\", \"AMC\", \"CAZ\", \"CTT\", \"SAM\", \"CPR\", \"CPD\", \"TZP\", \"FEP\"], \"y\": [0.0, 0.0, 0.0, 0.0, 0.0, 0.0, 0.0, 0.0, 111.39, 0.0, 337.76, 687.13, 337.23, 114.08, 0.0], \"type\": \"bar\", \"uid\": \"740e53d2-def7-11e8-84ca-947e40c53e24\", \"xaxis\": \"x2\", \"yaxis\": \"y2\"}, {\"x\": [\"AMP\", \"AM\", \"CEC\", \"CTX\", \"ZOX\", \"CXM\", \"CRO\", \"AMC\", \"CAZ\", \"CTT\", \"SAM\", \"CPR\", \"CPD\", \"TZP\", \"FEP\"], \"y\": [0.0, 0.0, 0.0, 0.0, 0.0, 13.61, 0.0, 10.14, 96.12, 0.0, 264.4, 653.55, 274.45, 98.54, 11.64], \"type\": \"bar\", \"uid\": \"740ec858-def7-11e8-bd0a-947e40c53e24\", \"xaxis\": \"x3\", \"yaxis\": \"y3\"}, {\"x\": [\"AMP\", \"AM\", \"CEC\", \"CTX\", \"ZOX\", \"CXM\", \"CRO\", \"AMC\", \"CAZ\", \"CTT\", \"SAM\", \"CPR\", \"CPD\", \"TZP\", \"FEP\"], \"y\": [0.0, 0.0, 0.0, 44.34, 0.0, 182.21, 0.0, 92.35, 82.38, 11.75, 183.86, 636.84, 215.37, 83.34, 272.5], \"type\": \"bar\", \"uid\": \"740f3e30-def7-11e8-b05d-947e40c53e24\", \"xaxis\": \"x4\", \"yaxis\": \"y4\"}], {\"annotations\": [{\"font\": {\"size\": 16}, \"showarrow\": false, \"text\": \"K=10<sup>9</sup>\", \"x\": 0.225, \"xanchor\": \"center\", \"xref\": \"paper\", \"y\": 1.0, \"yanchor\": \"bottom\", \"yref\": \"paper\"}, {\"font\": {\"size\": 16}, \"showarrow\": false, \"text\": \"K=10<sup>8</sup>\", \"x\": 0.775, \"xanchor\": \"center\", \"xref\": \"paper\", \"y\": 1.0, \"yanchor\": \"bottom\", \"yref\": \"paper\"}, {\"font\": {\"size\": 16}, \"showarrow\": false, \"text\": \"K=10<sup>7</sup>\", \"x\": 0.225, \"xanchor\": \"center\", \"xref\": \"paper\", \"y\": 0.375, \"yanchor\": \"bottom\", \"yref\": \"paper\"}, {\"font\": {\"size\": 16}, \"showarrow\": false, \"text\": \"K=10<sup>6</sup>\", \"x\": 0.775, \"xanchor\": \"center\", \"xref\": \"paper\", \"y\": 0.375, \"yanchor\": \"bottom\", \"yref\": \"paper\"}], \"xaxis\": {\"anchor\": \"y\", \"domain\": [0.0, 0.45]}, \"yaxis\": {\"anchor\": \"x\", \"domain\": [0.625, 1.0], \"title\": \"Avg. time to fixation\"}, \"xaxis2\": {\"anchor\": \"y2\", \"domain\": [0.55, 1.0]}, \"yaxis2\": {\"anchor\": \"x2\", \"domain\": [0.625, 1.0], \"title\": \"Avg. time to fixation\"}, \"xaxis3\": {\"anchor\": \"y3\", \"domain\": [0.0, 0.45]}, \"yaxis3\": {\"anchor\": \"x3\", \"domain\": [0.0, 0.375], \"title\": \"Avg. time to fixation\"}, \"xaxis4\": {\"anchor\": \"y4\", \"domain\": [0.55, 1.0]}, \"yaxis4\": {\"anchor\": \"x4\", \"domain\": [0.0, 0.375], \"title\": \"Avg. time to fixation\"}, \"showlegend\": false}, {\"showLink\": false, \"linkText\": \"Export to plot.ly\"})});</script>"
      ],
      "text/vnd.plotly.v1+html": [
       "<div id=\"3c2f4e01-5346-47e6-bcd0-e954830f18c7\" style=\"height: 525px; width: 100%;\" class=\"plotly-graph-div\"></div><script type=\"text/javascript\">require([\"plotly\"], function(Plotly) { window.PLOTLYENV=window.PLOTLYENV || {};window.PLOTLYENV.BASE_URL=\"https://plot.ly\";Plotly.newPlot(\"3c2f4e01-5346-47e6-bcd0-e954830f18c7\", [{\"x\": [\"AMP\", \"AM\", \"CEC\", \"CTX\", \"ZOX\", \"CXM\", \"CRO\", \"AMC\", \"CAZ\", \"CTT\", \"SAM\", \"CPR\", \"CPD\", \"TZP\", \"FEP\"], \"y\": [0.0, 0.0, 0.0, 0.0, 0.0, 0.0, 0.0, 0.0, 126.47, 0.0, 408.52, 739.7, 402.89, 128.27, 0.0], \"type\": \"bar\", \"uid\": \"740de000-def7-11e8-8344-947e40c53e24\", \"xaxis\": \"x\", \"yaxis\": \"y\"}, {\"x\": [\"AMP\", \"AM\", \"CEC\", \"CTX\", \"ZOX\", \"CXM\", \"CRO\", \"AMC\", \"CAZ\", \"CTT\", \"SAM\", \"CPR\", \"CPD\", \"TZP\", \"FEP\"], \"y\": [0.0, 0.0, 0.0, 0.0, 0.0, 0.0, 0.0, 0.0, 111.39, 0.0, 337.76, 687.13, 337.23, 114.08, 0.0], \"type\": \"bar\", \"uid\": \"740e53d2-def7-11e8-84ca-947e40c53e24\", \"xaxis\": \"x2\", \"yaxis\": \"y2\"}, {\"x\": [\"AMP\", \"AM\", \"CEC\", \"CTX\", \"ZOX\", \"CXM\", \"CRO\", \"AMC\", \"CAZ\", \"CTT\", \"SAM\", \"CPR\", \"CPD\", \"TZP\", \"FEP\"], \"y\": [0.0, 0.0, 0.0, 0.0, 0.0, 13.61, 0.0, 10.14, 96.12, 0.0, 264.4, 653.55, 274.45, 98.54, 11.64], \"type\": \"bar\", \"uid\": \"740ec858-def7-11e8-bd0a-947e40c53e24\", \"xaxis\": \"x3\", \"yaxis\": \"y3\"}, {\"x\": [\"AMP\", \"AM\", \"CEC\", \"CTX\", \"ZOX\", \"CXM\", \"CRO\", \"AMC\", \"CAZ\", \"CTT\", \"SAM\", \"CPR\", \"CPD\", \"TZP\", \"FEP\"], \"y\": [0.0, 0.0, 0.0, 44.34, 0.0, 182.21, 0.0, 92.35, 82.38, 11.75, 183.86, 636.84, 215.37, 83.34, 272.5], \"type\": \"bar\", \"uid\": \"740f3e30-def7-11e8-b05d-947e40c53e24\", \"xaxis\": \"x4\", \"yaxis\": \"y4\"}], {\"annotations\": [{\"font\": {\"size\": 16}, \"showarrow\": false, \"text\": \"K=10<sup>9</sup>\", \"x\": 0.225, \"xanchor\": \"center\", \"xref\": \"paper\", \"y\": 1.0, \"yanchor\": \"bottom\", \"yref\": \"paper\"}, {\"font\": {\"size\": 16}, \"showarrow\": false, \"text\": \"K=10<sup>8</sup>\", \"x\": 0.775, \"xanchor\": \"center\", \"xref\": \"paper\", \"y\": 1.0, \"yanchor\": \"bottom\", \"yref\": \"paper\"}, {\"font\": {\"size\": 16}, \"showarrow\": false, \"text\": \"K=10<sup>7</sup>\", \"x\": 0.225, \"xanchor\": \"center\", \"xref\": \"paper\", \"y\": 0.375, \"yanchor\": \"bottom\", \"yref\": \"paper\"}, {\"font\": {\"size\": 16}, \"showarrow\": false, \"text\": \"K=10<sup>6</sup>\", \"x\": 0.775, \"xanchor\": \"center\", \"xref\": \"paper\", \"y\": 0.375, \"yanchor\": \"bottom\", \"yref\": \"paper\"}], \"xaxis\": {\"anchor\": \"y\", \"domain\": [0.0, 0.45]}, \"yaxis\": {\"anchor\": \"x\", \"domain\": [0.625, 1.0], \"title\": \"Avg. time to fixation\"}, \"xaxis2\": {\"anchor\": \"y2\", \"domain\": [0.55, 1.0]}, \"yaxis2\": {\"anchor\": \"x2\", \"domain\": [0.625, 1.0], \"title\": \"Avg. time to fixation\"}, \"xaxis3\": {\"anchor\": \"y3\", \"domain\": [0.0, 0.45]}, \"yaxis3\": {\"anchor\": \"x3\", \"domain\": [0.0, 0.375], \"title\": \"Avg. time to fixation\"}, \"xaxis4\": {\"anchor\": \"y4\", \"domain\": [0.55, 1.0]}, \"yaxis4\": {\"anchor\": \"x4\", \"domain\": [0.0, 0.375], \"title\": \"Avg. time to fixation\"}, \"showlegend\": false}, {\"showLink\": false, \"linkText\": \"Export to plot.ly\"})});</script>"
      ]
     },
     "metadata": {},
     "output_type": "display_data"
    },
    {
     "data": {
      "application/vnd.plotly.v1+json": {
       "data": [
        {
         "type": "scatter",
         "uid": "795ddb22-def7-11e8-af42-947e40c53e24",
         "x": [
          "10<sup>9</sup>",
          "10<sup>8</sup>",
          "10<sup>7</sup>",
          "10<sup>6</sup>",
          "10<sup>5</sup>",
          "10<sup>4</sup>",
          "10<sup>3</sup>"
         ],
         "xaxis": "x",
         "y": [
          0.3333333333333333,
          0.3333333333333333,
          0.336,
          0.392,
          0.5573333333333333,
          0.7333333333333333,
          0
         ],
         "yaxis": "y"
        },
        {
         "type": "scatter",
         "uid": "795e501e-def7-11e8-b7cf-947e40c53e24",
         "x": [
          "10<sup>9</sup>",
          "10<sup>8</sup>",
          "10<sup>7</sup>",
          "10<sup>6</sup>",
          "10<sup>5</sup>",
          "10<sup>4</sup>",
          "10<sup>3</sup>"
         ],
         "xaxis": "x2",
         "y": [
          22,
          26,
          31,
          49,
          67,
          92,
          116
         ],
         "yaxis": "y2"
        }
       ],
       "layout": {
        "showlegend": false,
        "xaxis": {
         "anchor": "y",
         "domain": [
          0,
          0.45
         ],
         "title": "Carrying capacity"
        },
        "xaxis2": {
         "anchor": "y2",
         "domain": [
          0.55,
          1
         ],
         "title": "Carrying capacity"
        },
        "yaxis": {
         "anchor": "x",
         "domain": [
          0,
          1
         ],
         "title": "Avg. success rate"
        },
        "yaxis2": {
         "anchor": "x2",
         "domain": [
          0,
          1
         ],
         "title": "Total paths exposed"
        }
       }
      },
      "text/html": [
       "<div id=\"d33ce474-3276-4d48-a65c-e60ae710e3af\" style=\"height: 525px; width: 100%;\" class=\"plotly-graph-div\"></div><script type=\"text/javascript\">require([\"plotly\"], function(Plotly) { window.PLOTLYENV=window.PLOTLYENV || {};window.PLOTLYENV.BASE_URL=\"https://plot.ly\";Plotly.newPlot(\"d33ce474-3276-4d48-a65c-e60ae710e3af\", [{\"x\": [\"10<sup>9</sup>\", \"10<sup>8</sup>\", \"10<sup>7</sup>\", \"10<sup>6</sup>\", \"10<sup>5</sup>\", \"10<sup>4</sup>\", \"10<sup>3</sup>\"], \"y\": [0.3333333333333333, 0.3333333333333333, 0.336, 0.392, 0.5573333333333333, 0.7333333333333333, 0.0], \"type\": \"scatter\", \"uid\": \"795ddb22-def7-11e8-af42-947e40c53e24\", \"xaxis\": \"x\", \"yaxis\": \"y\"}, {\"x\": [\"10<sup>9</sup>\", \"10<sup>8</sup>\", \"10<sup>7</sup>\", \"10<sup>6</sup>\", \"10<sup>5</sup>\", \"10<sup>4</sup>\", \"10<sup>3</sup>\"], \"y\": [22, 26, 31, 49, 67, 92, 116], \"type\": \"scatter\", \"uid\": \"795e501e-def7-11e8-b7cf-947e40c53e24\", \"xaxis\": \"x2\", \"yaxis\": \"y2\"}], {\"xaxis\": {\"anchor\": \"y\", \"domain\": [0.0, 0.45], \"title\": \"Carrying capacity\"}, \"yaxis\": {\"anchor\": \"x\", \"domain\": [0.0, 1.0], \"title\": \"Avg. success rate\"}, \"xaxis2\": {\"anchor\": \"y2\", \"domain\": [0.55, 1.0], \"title\": \"Carrying capacity\"}, \"yaxis2\": {\"anchor\": \"x2\", \"domain\": [0.0, 1.0], \"title\": \"Total paths exposed\"}, \"showlegend\": false}, {\"showLink\": false, \"linkText\": \"Export to plot.ly\"})});</script>"
      ],
      "text/vnd.plotly.v1+html": [
       "<div id=\"d33ce474-3276-4d48-a65c-e60ae710e3af\" style=\"height: 525px; width: 100%;\" class=\"plotly-graph-div\"></div><script type=\"text/javascript\">require([\"plotly\"], function(Plotly) { window.PLOTLYENV=window.PLOTLYENV || {};window.PLOTLYENV.BASE_URL=\"https://plot.ly\";Plotly.newPlot(\"d33ce474-3276-4d48-a65c-e60ae710e3af\", [{\"x\": [\"10<sup>9</sup>\", \"10<sup>8</sup>\", \"10<sup>7</sup>\", \"10<sup>6</sup>\", \"10<sup>5</sup>\", \"10<sup>4</sup>\", \"10<sup>3</sup>\"], \"y\": [0.3333333333333333, 0.3333333333333333, 0.336, 0.392, 0.5573333333333333, 0.7333333333333333, 0.0], \"type\": \"scatter\", \"uid\": \"795ddb22-def7-11e8-af42-947e40c53e24\", \"xaxis\": \"x\", \"yaxis\": \"y\"}, {\"x\": [\"10<sup>9</sup>\", \"10<sup>8</sup>\", \"10<sup>7</sup>\", \"10<sup>6</sup>\", \"10<sup>5</sup>\", \"10<sup>4</sup>\", \"10<sup>3</sup>\"], \"y\": [22, 26, 31, 49, 67, 92, 116], \"type\": \"scatter\", \"uid\": \"795e501e-def7-11e8-b7cf-947e40c53e24\", \"xaxis\": \"x2\", \"yaxis\": \"y2\"}], {\"xaxis\": {\"anchor\": \"y\", \"domain\": [0.0, 0.45], \"title\": \"Carrying capacity\"}, \"yaxis\": {\"anchor\": \"x\", \"domain\": [0.0, 1.0], \"title\": \"Avg. success rate\"}, \"xaxis2\": {\"anchor\": \"y2\", \"domain\": [0.55, 1.0], \"title\": \"Carrying capacity\"}, \"yaxis2\": {\"anchor\": \"x2\", \"domain\": [0.0, 1.0], \"title\": \"Total paths exposed\"}, \"showlegend\": false}, {\"showLink\": false, \"linkText\": \"Export to plot.ly\"})});</script>"
      ]
     },
     "metadata": {},
     "output_type": "display_data"
    }
   ],
   "source": [
    "data = [go.Bar(\n",
    "    x=df.index.tolist(),\n",
    "    y=df['Avg time to fixation'].tolist()\n",
    ") for df in [K1, K2, K3, K4]]\n",
    "fig = tools.make_subplots(rows=2, cols=2, \n",
    "                          subplot_titles=('K=10<sup>9</sup>', 'K=10<sup>8</sup>', \n",
    "                                          'K=10<sup>7</sup>', 'K=10<sup>6</sup>'), \n",
    "                          print_grid=False)\n",
    "for i, trace in enumerate(data, 1):\n",
    "    fig.append_trace(trace, math.ceil(i / 2), abs((i % 2) - 2))\n",
    "for n in range(1, 5):\n",
    "    fig['layout']['yaxis{}'.format(n)].update(title='Avg. time to fixation')\n",
    "fig['layout'].update(showlegend=False)\n",
    "iplot(fig, show_link=False)\n",
    "pio.write_image(fig, 'fig1.pdf', width=1056, height=816)\n",
    "\n",
    "data = [go.Scatter(\n",
    "    x=['10<sup>9</sup>', '10<sup>8</sup>',\n",
    "       '10<sup>7</sup>', '10<sup>6</sup>',\n",
    "       '10<sup>5</sup>', '10<sup>4</sup>',\n",
    "       '10<sup>3</sup>'],\n",
    "    y=[df['Success rate'].mean() for df in [K1, K2, K3, K4, K5, K6, K7]]\n",
    "), go.Scatter(\n",
    "    x=['10<sup>9</sup>', '10<sup>8</sup>',\n",
    "       '10<sup>7</sup>', '10<sup>6</sup>',\n",
    "       '10<sup>5</sup>', '10<sup>4</sup>',\n",
    "       '10<sup>3</sup>'],\n",
    "    y=[df['# of paths'].sum() for df in [K1, K2, K3, K4, K5, K6, K7]]\n",
    ")]\n",
    "fig = tools.make_subplots(rows=1, cols=2, print_grid=False)\n",
    "fig.append_trace(data[0], 1, 1)\n",
    "fig.append_trace(data[1], 1, 2)\n",
    "fig['layout']['xaxis1'].update(title='Carrying capacity')\n",
    "fig['layout']['xaxis2'].update(title='Carrying capacity')\n",
    "fig['layout']['yaxis1'].update(title='Avg. success rate')\n",
    "fig['layout']['yaxis2'].update(title='Total paths exposed')\n",
    "fig['layout'].update(showlegend=False)\n",
    "iplot(fig, show_link=False)\n",
    "pio.write_image(fig, 'fig2.pdf', width=1056, height=544)"
   ]
  },
  {
   "cell_type": "markdown",
   "metadata": {},
   "source": [
    "## Analysis of path frequencies for switching between selected pairs of drugs"
   ]
  },
  {
   "cell_type": "code",
   "execution_count": 10,
   "metadata": {},
   "outputs": [],
   "source": [
    "pairs = [('CTX', 'SAM'), ('ZOX', 'CXM'), ('AM', 'AMC'), ('CTT', 'CAZ'), ('FEP', 'CAZ')]\n",
    "\n",
    "data = [\n",
    "    {\n",
    "    'Name': '{} + {}'.format(pair[0], pair[1]),\n",
    "    'Landscape 1': dataset2.loc[pair[0]].tolist(),\n",
    "    'Landscape 2': dataset2.loc[pair[1]].tolist()\n",
    "    }\n",
    "    for pair in pairs\n",
    "]\n",
    "pair_df = pd.DataFrame(data).set_index('Name')\n",
    "frequencies = [200, 100, 50]"
   ]
  },
  {
   "cell_type": "code",
   "execution_count": 33,
   "metadata": {},
   "outputs": [],
   "source": [
    "K1 = [many_landscapes({'frequency': f, 'carrying_cap': int(1.0e9), 'prob_mutation': 1.0e-8}, pair_df) for f in frequencies]\n",
    "K2 = [many_landscapes({'frequency': f, 'carrying_cap': int(1.0e8), 'prob_mutation': 1.0e-7}, pair_df) for f in frequencies]\n",
    "K3 = [many_landscapes({'frequency': f, 'carrying_cap': int(1.0e7), 'prob_mutation': 1.0e-6}, pair_df) for f in frequencies]\n",
    "K4 = [many_landscapes({'frequency': f, 'carrying_cap': int(1.0e6), 'prob_mutation': 1.0e-5}, pair_df) for f in frequencies]"
   ]
  },
  {
   "cell_type": "code",
   "execution_count": 65,
   "metadata": {
    "scrolled": false
   },
   "outputs": [
    {
     "data": {
      "application/vnd.plotly.v1+json": {
       "data": [
        {
         "name": "200",
         "type": "bar",
         "uid": "ab860370-de75-11e8-a19a-947e40c53e24",
         "x": [
          "CTX + SAM",
          "ZOX + CXM",
          "AM + AMC",
          "CTT + CAZ",
          "FEP + CAZ"
         ],
         "y": [
          249.7,
          215.99,
          750.76,
          456.22,
          503.97
         ]
        },
        {
         "name": "100",
         "type": "bar",
         "uid": "ab860371-de75-11e8-a321-947e40c53e24",
         "x": [
          "CTX + SAM",
          "ZOX + CXM",
          "AM + AMC",
          "CTT + CAZ",
          "FEP + CAZ"
         ],
         "y": [
          149.56,
          116.84,
          471.97,
          256.18,
          487.33
         ]
        },
        {
         "name": "50",
         "type": "bar",
         "uid": "ab860372-de75-11e8-9eca-947e40c53e24",
         "x": [
          "CTX + SAM",
          "ZOX + CXM",
          "AM + AMC",
          "CTT + CAZ",
          "FEP + CAZ"
         ],
         "y": [
          138.67,
          71,
          731.33,
          0,
          578.42
         ]
        }
       ],
       "layout": {
        "barmode": "group",
        "height": 400,
        "title": "K=10<sup>9</sup>",
        "width": 600,
        "xaxis": {
         "title": "Drug pair"
        },
        "yaxis": {
         "title": "Avg. time to fixation"
        }
       }
      },
      "text/html": [
       "<div id=\"a245bcc7-c6ad-4ca9-8b43-cc4a86c8fb30\" style=\"height: 400px; width: 600px;\" class=\"plotly-graph-div\"></div><script type=\"text/javascript\">require([\"plotly\"], function(Plotly) { window.PLOTLYENV=window.PLOTLYENV || {};window.PLOTLYENV.BASE_URL=\"https://plot.ly\";Plotly.newPlot(\"a245bcc7-c6ad-4ca9-8b43-cc4a86c8fb30\", [{\"name\": \"200\", \"x\": [\"CTX + SAM\", \"ZOX + CXM\", \"AM + AMC\", \"CTT + CAZ\", \"FEP + CAZ\"], \"y\": [249.7, 215.99, 750.76, 456.22, 503.97], \"type\": \"bar\", \"uid\": \"ab860370-de75-11e8-a19a-947e40c53e24\"}, {\"name\": \"100\", \"x\": [\"CTX + SAM\", \"ZOX + CXM\", \"AM + AMC\", \"CTT + CAZ\", \"FEP + CAZ\"], \"y\": [149.56, 116.84, 471.97, 256.18, 487.33], \"type\": \"bar\", \"uid\": \"ab860371-de75-11e8-a321-947e40c53e24\"}, {\"name\": \"50\", \"x\": [\"CTX + SAM\", \"ZOX + CXM\", \"AM + AMC\", \"CTT + CAZ\", \"FEP + CAZ\"], \"y\": [138.67, 71.0, 731.33, 0.0, 578.42], \"type\": \"bar\", \"uid\": \"ab860372-de75-11e8-9eca-947e40c53e24\"}], {\"barmode\": \"group\", \"height\": 400, \"title\": \"K=10<sup>9</sup>\", \"width\": 600, \"xaxis\": {\"title\": \"Drug pair\"}, \"yaxis\": {\"title\": \"Avg. time to fixation\"}}, {\"showLink\": false, \"linkText\": \"Export to plot.ly\"})});</script>"
      ],
      "text/vnd.plotly.v1+html": [
       "<div id=\"a245bcc7-c6ad-4ca9-8b43-cc4a86c8fb30\" style=\"height: 400px; width: 600px;\" class=\"plotly-graph-div\"></div><script type=\"text/javascript\">require([\"plotly\"], function(Plotly) { window.PLOTLYENV=window.PLOTLYENV || {};window.PLOTLYENV.BASE_URL=\"https://plot.ly\";Plotly.newPlot(\"a245bcc7-c6ad-4ca9-8b43-cc4a86c8fb30\", [{\"name\": \"200\", \"x\": [\"CTX + SAM\", \"ZOX + CXM\", \"AM + AMC\", \"CTT + CAZ\", \"FEP + CAZ\"], \"y\": [249.7, 215.99, 750.76, 456.22, 503.97], \"type\": \"bar\", \"uid\": \"ab860370-de75-11e8-a19a-947e40c53e24\"}, {\"name\": \"100\", \"x\": [\"CTX + SAM\", \"ZOX + CXM\", \"AM + AMC\", \"CTT + CAZ\", \"FEP + CAZ\"], \"y\": [149.56, 116.84, 471.97, 256.18, 487.33], \"type\": \"bar\", \"uid\": \"ab860371-de75-11e8-a321-947e40c53e24\"}, {\"name\": \"50\", \"x\": [\"CTX + SAM\", \"ZOX + CXM\", \"AM + AMC\", \"CTT + CAZ\", \"FEP + CAZ\"], \"y\": [138.67, 71.0, 731.33, 0.0, 578.42], \"type\": \"bar\", \"uid\": \"ab860372-de75-11e8-9eca-947e40c53e24\"}], {\"barmode\": \"group\", \"height\": 400, \"title\": \"K=10<sup>9</sup>\", \"width\": 600, \"xaxis\": {\"title\": \"Drug pair\"}, \"yaxis\": {\"title\": \"Avg. time to fixation\"}}, {\"showLink\": false, \"linkText\": \"Export to plot.ly\"})});</script>"
      ]
     },
     "metadata": {},
     "output_type": "display_data"
    },
    {
     "data": {
      "application/vnd.plotly.v1+json": {
       "data": [
        {
         "name": "200",
         "type": "bar",
         "uid": "abdebcec-de75-11e8-afee-947e40c53e24",
         "x": [
          "CTX + SAM",
          "ZOX + CXM",
          "AM + AMC",
          "CTT + CAZ",
          "FEP + CAZ"
         ],
         "y": [
          244.69,
          213.97,
          702.38,
          450.94,
          535.6
         ]
        },
        {
         "name": "100",
         "type": "bar",
         "uid": "abdebced-de75-11e8-9fc9-947e40c53e24",
         "x": [
          "CTX + SAM",
          "ZOX + CXM",
          "AM + AMC",
          "CTT + CAZ",
          "FEP + CAZ"
         ],
         "y": [
          144.65,
          114.94,
          457.01,
          250.97,
          449.33
         ]
        },
        {
         "name": "50",
         "type": "bar",
         "uid": "abdebcee-de75-11e8-b23d-947e40c53e24",
         "x": [
          "CTX + SAM",
          "ZOX + CXM",
          "AM + AMC",
          "CTT + CAZ",
          "FEP + CAZ"
         ],
         "y": [
          95.54,
          66.06,
          413.43,
          150.93,
          540.66
         ]
        }
       ],
       "layout": {
        "barmode": "group",
        "height": 400,
        "title": "K=10<sup>8</sup>",
        "width": 600,
        "xaxis": {
         "title": "Drug pair"
        },
        "yaxis": {
         "title": "Avg. time to fixation"
        }
       }
      },
      "text/html": [
       "<div id=\"989704ee-3111-4981-aa43-a1b24a28cf68\" style=\"height: 400px; width: 600px;\" class=\"plotly-graph-div\"></div><script type=\"text/javascript\">require([\"plotly\"], function(Plotly) { window.PLOTLYENV=window.PLOTLYENV || {};window.PLOTLYENV.BASE_URL=\"https://plot.ly\";Plotly.newPlot(\"989704ee-3111-4981-aa43-a1b24a28cf68\", [{\"name\": \"200\", \"x\": [\"CTX + SAM\", \"ZOX + CXM\", \"AM + AMC\", \"CTT + CAZ\", \"FEP + CAZ\"], \"y\": [244.69, 213.97, 702.38, 450.94, 535.6], \"type\": \"bar\", \"uid\": \"abdebcec-de75-11e8-afee-947e40c53e24\"}, {\"name\": \"100\", \"x\": [\"CTX + SAM\", \"ZOX + CXM\", \"AM + AMC\", \"CTT + CAZ\", \"FEP + CAZ\"], \"y\": [144.65, 114.94, 457.01, 250.97, 449.33], \"type\": \"bar\", \"uid\": \"abdebced-de75-11e8-9fc9-947e40c53e24\"}, {\"name\": \"50\", \"x\": [\"CTX + SAM\", \"ZOX + CXM\", \"AM + AMC\", \"CTT + CAZ\", \"FEP + CAZ\"], \"y\": [95.54, 66.06, 413.43, 150.93, 540.66], \"type\": \"bar\", \"uid\": \"abdebcee-de75-11e8-b23d-947e40c53e24\"}], {\"barmode\": \"group\", \"height\": 400, \"title\": \"K=10<sup>8</sup>\", \"width\": 600, \"xaxis\": {\"title\": \"Drug pair\"}, \"yaxis\": {\"title\": \"Avg. time to fixation\"}}, {\"showLink\": false, \"linkText\": \"Export to plot.ly\"})});</script>"
      ],
      "text/vnd.plotly.v1+html": [
       "<div id=\"989704ee-3111-4981-aa43-a1b24a28cf68\" style=\"height: 400px; width: 600px;\" class=\"plotly-graph-div\"></div><script type=\"text/javascript\">require([\"plotly\"], function(Plotly) { window.PLOTLYENV=window.PLOTLYENV || {};window.PLOTLYENV.BASE_URL=\"https://plot.ly\";Plotly.newPlot(\"989704ee-3111-4981-aa43-a1b24a28cf68\", [{\"name\": \"200\", \"x\": [\"CTX + SAM\", \"ZOX + CXM\", \"AM + AMC\", \"CTT + CAZ\", \"FEP + CAZ\"], \"y\": [244.69, 213.97, 702.38, 450.94, 535.6], \"type\": \"bar\", \"uid\": \"abdebcec-de75-11e8-afee-947e40c53e24\"}, {\"name\": \"100\", \"x\": [\"CTX + SAM\", \"ZOX + CXM\", \"AM + AMC\", \"CTT + CAZ\", \"FEP + CAZ\"], \"y\": [144.65, 114.94, 457.01, 250.97, 449.33], \"type\": \"bar\", \"uid\": \"abdebced-de75-11e8-9fc9-947e40c53e24\"}, {\"name\": \"50\", \"x\": [\"CTX + SAM\", \"ZOX + CXM\", \"AM + AMC\", \"CTT + CAZ\", \"FEP + CAZ\"], \"y\": [95.54, 66.06, 413.43, 150.93, 540.66], \"type\": \"bar\", \"uid\": \"abdebcee-de75-11e8-b23d-947e40c53e24\"}], {\"barmode\": \"group\", \"height\": 400, \"title\": \"K=10<sup>8</sup>\", \"width\": 600, \"xaxis\": {\"title\": \"Drug pair\"}, \"yaxis\": {\"title\": \"Avg. time to fixation\"}}, {\"showLink\": false, \"linkText\": \"Export to plot.ly\"})});</script>"
      ]
     },
     "metadata": {},
     "output_type": "display_data"
    },
    {
     "data": {
      "application/vnd.plotly.v1+json": {
       "data": [
        {
         "name": "200",
         "type": "bar",
         "uid": "ac352db8-de75-11e8-b522-947e40c53e24",
         "x": [
          "CTX + SAM",
          "ZOX + CXM",
          "AM + AMC",
          "CTT + CAZ",
          "FEP + CAZ"
         ],
         "y": [
          239.82,
          211.99,
          619.63,
          445.37,
          509.32
         ]
        },
        {
         "name": "100",
         "type": "bar",
         "uid": "ac352db9-de75-11e8-b6a4-947e40c53e24",
         "x": [
          "CTX + SAM",
          "ZOX + CXM",
          "AM + AMC",
          "CTT + CAZ",
          "FEP + CAZ"
         ],
         "y": [
          140.01,
          112.91,
          424.71,
          245.48,
          413.06
         ]
        },
        {
         "name": "50",
         "type": "bar",
         "uid": "ac352dba-de75-11e8-98ab-947e40c53e24",
         "x": [
          "CTX + SAM",
          "ZOX + CXM",
          "AM + AMC",
          "CTT + CAZ",
          "FEP + CAZ"
         ],
         "y": [
          89.69,
          63.87,
          294.99,
          145.48,
          407.19
         ]
        }
       ],
       "layout": {
        "barmode": "group",
        "height": 400,
        "title": "K=10<sup>7</sup>",
        "width": 600,
        "xaxis": {
         "title": "Drug pair"
        },
        "yaxis": {
         "title": "Avg. time to fixation"
        }
       }
      },
      "text/html": [
       "<div id=\"994cbe95-c660-4815-bd72-97bcc33fa098\" style=\"height: 400px; width: 600px;\" class=\"plotly-graph-div\"></div><script type=\"text/javascript\">require([\"plotly\"], function(Plotly) { window.PLOTLYENV=window.PLOTLYENV || {};window.PLOTLYENV.BASE_URL=\"https://plot.ly\";Plotly.newPlot(\"994cbe95-c660-4815-bd72-97bcc33fa098\", [{\"name\": \"200\", \"x\": [\"CTX + SAM\", \"ZOX + CXM\", \"AM + AMC\", \"CTT + CAZ\", \"FEP + CAZ\"], \"y\": [239.82, 211.99, 619.63, 445.37, 509.32], \"type\": \"bar\", \"uid\": \"ac352db8-de75-11e8-b522-947e40c53e24\"}, {\"name\": \"100\", \"x\": [\"CTX + SAM\", \"ZOX + CXM\", \"AM + AMC\", \"CTT + CAZ\", \"FEP + CAZ\"], \"y\": [140.01, 112.91, 424.71, 245.48, 413.06], \"type\": \"bar\", \"uid\": \"ac352db9-de75-11e8-b6a4-947e40c53e24\"}, {\"name\": \"50\", \"x\": [\"CTX + SAM\", \"ZOX + CXM\", \"AM + AMC\", \"CTT + CAZ\", \"FEP + CAZ\"], \"y\": [89.69, 63.87, 294.99, 145.48, 407.19], \"type\": \"bar\", \"uid\": \"ac352dba-de75-11e8-98ab-947e40c53e24\"}], {\"barmode\": \"group\", \"height\": 400, \"title\": \"K=10<sup>7</sup>\", \"width\": 600, \"xaxis\": {\"title\": \"Drug pair\"}, \"yaxis\": {\"title\": \"Avg. time to fixation\"}}, {\"showLink\": false, \"linkText\": \"Export to plot.ly\"})});</script>"
      ],
      "text/vnd.plotly.v1+html": [
       "<div id=\"994cbe95-c660-4815-bd72-97bcc33fa098\" style=\"height: 400px; width: 600px;\" class=\"plotly-graph-div\"></div><script type=\"text/javascript\">require([\"plotly\"], function(Plotly) { window.PLOTLYENV=window.PLOTLYENV || {};window.PLOTLYENV.BASE_URL=\"https://plot.ly\";Plotly.newPlot(\"994cbe95-c660-4815-bd72-97bcc33fa098\", [{\"name\": \"200\", \"x\": [\"CTX + SAM\", \"ZOX + CXM\", \"AM + AMC\", \"CTT + CAZ\", \"FEP + CAZ\"], \"y\": [239.82, 211.99, 619.63, 445.37, 509.32], \"type\": \"bar\", \"uid\": \"ac352db8-de75-11e8-b522-947e40c53e24\"}, {\"name\": \"100\", \"x\": [\"CTX + SAM\", \"ZOX + CXM\", \"AM + AMC\", \"CTT + CAZ\", \"FEP + CAZ\"], \"y\": [140.01, 112.91, 424.71, 245.48, 413.06], \"type\": \"bar\", \"uid\": \"ac352db9-de75-11e8-b6a4-947e40c53e24\"}, {\"name\": \"50\", \"x\": [\"CTX + SAM\", \"ZOX + CXM\", \"AM + AMC\", \"CTT + CAZ\", \"FEP + CAZ\"], \"y\": [89.69, 63.87, 294.99, 145.48, 407.19], \"type\": \"bar\", \"uid\": \"ac352dba-de75-11e8-98ab-947e40c53e24\"}], {\"barmode\": \"group\", \"height\": 400, \"title\": \"K=10<sup>7</sup>\", \"width\": 600, \"xaxis\": {\"title\": \"Drug pair\"}, \"yaxis\": {\"title\": \"Avg. time to fixation\"}}, {\"showLink\": false, \"linkText\": \"Export to plot.ly\"})});</script>"
      ]
     },
     "metadata": {},
     "output_type": "display_data"
    },
    {
     "data": {
      "application/vnd.plotly.v1+json": {
       "data": [
        {
         "name": "200",
         "type": "bar",
         "uid": "ac99039e-de75-11e8-9075-947e40c53e24",
         "x": [
          "CTX + SAM",
          "ZOX + CXM",
          "AM + AMC",
          "CTT + CAZ",
          "FEP + CAZ"
         ],
         "y": [
          235.22,
          210,
          502.53,
          434.18,
          459.02
         ]
        },
        {
         "name": "100",
         "type": "bar",
         "uid": "ac99039f-de75-11e8-b789-947e40c53e24",
         "x": [
          "CTX + SAM",
          "ZOX + CXM",
          "AM + AMC",
          "CTT + CAZ",
          "FEP + CAZ"
         ],
         "y": [
          134.62,
          110.99,
          369.07,
          240.15,
          284.69
         ]
        },
        {
         "name": "50",
         "type": "bar",
         "uid": "ac9903a0-de75-11e8-9be9-947e40c53e24",
         "x": [
          "CTX + SAM",
          "ZOX + CXM",
          "AM + AMC",
          "CTT + CAZ",
          "FEP + CAZ"
         ],
         "y": [
          84.5,
          61.97,
          209.83,
          140.11,
          331.45
         ]
        }
       ],
       "layout": {
        "barmode": "group",
        "height": 400,
        "title": "K=10<sup>6</sup>",
        "width": 600,
        "xaxis": {
         "title": "Drug pair"
        },
        "yaxis": {
         "title": "Avg. time to fixation"
        }
       }
      },
      "text/html": [
       "<div id=\"36fb1793-72a6-4679-8496-515108d5f58e\" style=\"height: 400px; width: 600px;\" class=\"plotly-graph-div\"></div><script type=\"text/javascript\">require([\"plotly\"], function(Plotly) { window.PLOTLYENV=window.PLOTLYENV || {};window.PLOTLYENV.BASE_URL=\"https://plot.ly\";Plotly.newPlot(\"36fb1793-72a6-4679-8496-515108d5f58e\", [{\"name\": \"200\", \"x\": [\"CTX + SAM\", \"ZOX + CXM\", \"AM + AMC\", \"CTT + CAZ\", \"FEP + CAZ\"], \"y\": [235.22, 210.0, 502.53, 434.18, 459.02], \"type\": \"bar\", \"uid\": \"ac99039e-de75-11e8-9075-947e40c53e24\"}, {\"name\": \"100\", \"x\": [\"CTX + SAM\", \"ZOX + CXM\", \"AM + AMC\", \"CTT + CAZ\", \"FEP + CAZ\"], \"y\": [134.62, 110.99, 369.07, 240.15, 284.69], \"type\": \"bar\", \"uid\": \"ac99039f-de75-11e8-b789-947e40c53e24\"}, {\"name\": \"50\", \"x\": [\"CTX + SAM\", \"ZOX + CXM\", \"AM + AMC\", \"CTT + CAZ\", \"FEP + CAZ\"], \"y\": [84.5, 61.97, 209.83, 140.11, 331.45], \"type\": \"bar\", \"uid\": \"ac9903a0-de75-11e8-9be9-947e40c53e24\"}], {\"barmode\": \"group\", \"height\": 400, \"title\": \"K=10<sup>6</sup>\", \"width\": 600, \"xaxis\": {\"title\": \"Drug pair\"}, \"yaxis\": {\"title\": \"Avg. time to fixation\"}}, {\"showLink\": false, \"linkText\": \"Export to plot.ly\"})});</script>"
      ],
      "text/vnd.plotly.v1+html": [
       "<div id=\"36fb1793-72a6-4679-8496-515108d5f58e\" style=\"height: 400px; width: 600px;\" class=\"plotly-graph-div\"></div><script type=\"text/javascript\">require([\"plotly\"], function(Plotly) { window.PLOTLYENV=window.PLOTLYENV || {};window.PLOTLYENV.BASE_URL=\"https://plot.ly\";Plotly.newPlot(\"36fb1793-72a6-4679-8496-515108d5f58e\", [{\"name\": \"200\", \"x\": [\"CTX + SAM\", \"ZOX + CXM\", \"AM + AMC\", \"CTT + CAZ\", \"FEP + CAZ\"], \"y\": [235.22, 210.0, 502.53, 434.18, 459.02], \"type\": \"bar\", \"uid\": \"ac99039e-de75-11e8-9075-947e40c53e24\"}, {\"name\": \"100\", \"x\": [\"CTX + SAM\", \"ZOX + CXM\", \"AM + AMC\", \"CTT + CAZ\", \"FEP + CAZ\"], \"y\": [134.62, 110.99, 369.07, 240.15, 284.69], \"type\": \"bar\", \"uid\": \"ac99039f-de75-11e8-b789-947e40c53e24\"}, {\"name\": \"50\", \"x\": [\"CTX + SAM\", \"ZOX + CXM\", \"AM + AMC\", \"CTT + CAZ\", \"FEP + CAZ\"], \"y\": [84.5, 61.97, 209.83, 140.11, 331.45], \"type\": \"bar\", \"uid\": \"ac9903a0-de75-11e8-9be9-947e40c53e24\"}], {\"barmode\": \"group\", \"height\": 400, \"title\": \"K=10<sup>6</sup>\", \"width\": 600, \"xaxis\": {\"title\": \"Drug pair\"}, \"yaxis\": {\"title\": \"Avg. time to fixation\"}}, {\"showLink\": false, \"linkText\": \"Export to plot.ly\"})});</script>"
      ]
     },
     "metadata": {},
     "output_type": "display_data"
    }
   ],
   "source": [
    "for K, dfset, letter in zip(['K=10<sup>9</sup>', 'K=10<sup>8</sup>','K=10<sup>7</sup>', 'K=10<sup>6</sup>'], [K1, K2, K3, K4], ['a', 'b', 'c', 'd']):\n",
    "    data = [go.Bar(\n",
    "        x=df.index.tolist(),\n",
    "        y=df['Avg time to fixation'].tolist(),\n",
    "        name=freq\n",
    "    ) for df, freq in zip(dfset, frequencies)]\n",
    "\n",
    "    layout = go.Layout(\n",
    "        barmode='group',\n",
    "        xaxis = dict(title='Drug pair'),\n",
    "        yaxis = dict(title='Avg. time to fixation'),\n",
    "        title = K,\n",
    "        width = 600,\n",
    "        height = 400\n",
    "    )\n",
    "\n",
    "    fig = go.Figure(data=data, layout=layout)\n",
    "    iplot(fig, show_link=False)\n",
    "    pio.write_image(fig, 'fig3{}.pdf'.format(letter))"
   ]
  },
  {
   "cell_type": "code",
   "execution_count": 66,
   "metadata": {},
   "outputs": [
    {
     "data": {
      "application/vnd.plotly.v1+json": {
       "data": [
        {
         "name": "200",
         "type": "scatter",
         "uid": "27ce6f02-de77-11e8-9103-947e40c53e24",
         "x": [
          "10<sup>9</sup>",
          "10<sup>8</sup>",
          "10<sup>7</sup>",
          "10<sup>6</sup>"
         ],
         "y": [
          0.982,
          0.998,
          1,
          0.992
         ]
        },
        {
         "name": "100",
         "type": "scatter",
         "uid": "27ce6f03-de77-11e8-a61c-947e40c53e24",
         "x": [
          "10<sup>9</sup>",
          "10<sup>8</sup>",
          "10<sup>7</sup>",
          "10<sup>6</sup>"
         ],
         "y": [
          0.984,
          0.994,
          0.992,
          0.992
         ]
        },
        {
         "name": "50",
         "type": "scatter",
         "uid": "27ce6f04-de77-11e8-ab38-947e40c53e24",
         "visible": "legendonly",
         "x": [
          "10<sup>9</sup>",
          "10<sup>8</sup>",
          "10<sup>7</sup>",
          "10<sup>6</sup>"
         ],
         "y": [
          0.786,
          0.998,
          0.9960000000000001,
          0.998
         ]
        }
       ],
       "layout": {
        "xaxis": {
         "title": "Carrying capacity"
        },
        "yaxis": {
         "title": "Avg. success rate"
        }
       }
      },
      "text/html": [
       "<div id=\"a3f8c55c-b26c-44cd-9143-1120ed6701c1\" style=\"height: 525px; width: 100%;\" class=\"plotly-graph-div\"></div><script type=\"text/javascript\">require([\"plotly\"], function(Plotly) { window.PLOTLYENV=window.PLOTLYENV || {};window.PLOTLYENV.BASE_URL=\"https://plot.ly\";Plotly.newPlot(\"a3f8c55c-b26c-44cd-9143-1120ed6701c1\", [{\"name\": \"200\", \"x\": [\"10<sup>9</sup>\", \"10<sup>8</sup>\", \"10<sup>7</sup>\", \"10<sup>6</sup>\"], \"y\": [0.982, 0.998, 1.0, 0.992], \"type\": \"scatter\", \"uid\": \"27ce6f02-de77-11e8-9103-947e40c53e24\"}, {\"name\": \"100\", \"x\": [\"10<sup>9</sup>\", \"10<sup>8</sup>\", \"10<sup>7</sup>\", \"10<sup>6</sup>\"], \"y\": [0.984, 0.994, 0.992, 0.992], \"type\": \"scatter\", \"uid\": \"27ce6f03-de77-11e8-a61c-947e40c53e24\"}, {\"name\": \"50\", \"visible\": \"legendonly\", \"x\": [\"10<sup>9</sup>\", \"10<sup>8</sup>\", \"10<sup>7</sup>\", \"10<sup>6</sup>\"], \"y\": [0.786, 0.998, 0.9960000000000001, 0.998], \"type\": \"scatter\", \"uid\": \"27ce6f04-de77-11e8-ab38-947e40c53e24\"}], {\"xaxis\": {\"title\": \"Carrying capacity\"}, \"yaxis\": {\"title\": \"Avg. success rate\"}}, {\"showLink\": false, \"linkText\": \"Export to plot.ly\"})});</script>"
      ],
      "text/vnd.plotly.v1+html": [
       "<div id=\"a3f8c55c-b26c-44cd-9143-1120ed6701c1\" style=\"height: 525px; width: 100%;\" class=\"plotly-graph-div\"></div><script type=\"text/javascript\">require([\"plotly\"], function(Plotly) { window.PLOTLYENV=window.PLOTLYENV || {};window.PLOTLYENV.BASE_URL=\"https://plot.ly\";Plotly.newPlot(\"a3f8c55c-b26c-44cd-9143-1120ed6701c1\", [{\"name\": \"200\", \"x\": [\"10<sup>9</sup>\", \"10<sup>8</sup>\", \"10<sup>7</sup>\", \"10<sup>6</sup>\"], \"y\": [0.982, 0.998, 1.0, 0.992], \"type\": \"scatter\", \"uid\": \"27ce6f02-de77-11e8-9103-947e40c53e24\"}, {\"name\": \"100\", \"x\": [\"10<sup>9</sup>\", \"10<sup>8</sup>\", \"10<sup>7</sup>\", \"10<sup>6</sup>\"], \"y\": [0.984, 0.994, 0.992, 0.992], \"type\": \"scatter\", \"uid\": \"27ce6f03-de77-11e8-a61c-947e40c53e24\"}, {\"name\": \"50\", \"visible\": \"legendonly\", \"x\": [\"10<sup>9</sup>\", \"10<sup>8</sup>\", \"10<sup>7</sup>\", \"10<sup>6</sup>\"], \"y\": [0.786, 0.998, 0.9960000000000001, 0.998], \"type\": \"scatter\", \"uid\": \"27ce6f04-de77-11e8-ab38-947e40c53e24\"}], {\"xaxis\": {\"title\": \"Carrying capacity\"}, \"yaxis\": {\"title\": \"Avg. success rate\"}}, {\"showLink\": false, \"linkText\": \"Export to plot.ly\"})});</script>"
      ]
     },
     "metadata": {},
     "output_type": "display_data"
    }
   ],
   "source": [
    "data = [go.Scatter(\n",
    "    x=['10<sup>9</sup>', '10<sup>8</sup>',\n",
    "       '10<sup>7</sup>', '10<sup>6</sup>'],\n",
    "    y=[df[i]['Success rate'].mean() for df in [K1, K2, K3, K4]],\n",
    "    name=f,\n",
    ") for i, f in enumerate(frequencies)]\n",
    "\n",
    "data[2].update(visible='legendonly')\n",
    "\n",
    "layout = go.Layout(\n",
    "    xaxis = dict(title='Carrying capacity'),\n",
    "    yaxis = dict(title='Avg. success rate')\n",
    ")\n",
    "\n",
    "fig = go.Figure(data=data, layout=layout)\n",
    "iplot(fig, show_link=False)\n",
    "pio.write_image(fig, 'fig4.pdf')"
   ]
  },
  {
   "cell_type": "code",
   "execution_count": 67,
   "metadata": {},
   "outputs": [
    {
     "data": {
      "application/vnd.plotly.v1+json": {
       "data": [
        {
         "name": "200",
         "type": "scatter",
         "uid": "2d60680a-de77-11e8-b893-947e40c53e24",
         "x": [
          "10<sup>9</sup>",
          "10<sup>8</sup>",
          "10<sup>7</sup>",
          "10<sup>6</sup>"
         ],
         "y": [
          435.3280000000001,
          429.51599999999996,
          405.226,
          368.19
         ]
        },
        {
         "name": "100",
         "type": "scatter",
         "uid": "2d60680b-de77-11e8-976b-947e40c53e24",
         "x": [
          "10<sup>9</sup>",
          "10<sup>8</sup>",
          "10<sup>7</sup>",
          "10<sup>6</sup>"
         ],
         "y": [
          296.376,
          283.38,
          267.23400000000004,
          227.904
         ]
        },
        {
         "name": "50",
         "type": "scatter",
         "uid": "2d60680c-de77-11e8-9897-947e40c53e24",
         "x": [
          "10<sup>9</sup>",
          "10<sup>8</sup>",
          "10<sup>7</sup>",
          "10<sup>6</sup>"
         ],
         "y": [
          379.855,
          253.32399999999998,
          200.244,
          165.572
         ]
        }
       ],
       "layout": {
        "xaxis": {
         "title": "Carrying capacity"
        },
        "yaxis": {
         "title": "Avg. time to fixation"
        }
       }
      },
      "text/html": [
       "<div id=\"98e88a36-35f3-4018-a2f0-6e2a9bbf5dbf\" style=\"height: 525px; width: 100%;\" class=\"plotly-graph-div\"></div><script type=\"text/javascript\">require([\"plotly\"], function(Plotly) { window.PLOTLYENV=window.PLOTLYENV || {};window.PLOTLYENV.BASE_URL=\"https://plot.ly\";Plotly.newPlot(\"98e88a36-35f3-4018-a2f0-6e2a9bbf5dbf\", [{\"name\": \"200\", \"x\": [\"10<sup>9</sup>\", \"10<sup>8</sup>\", \"10<sup>7</sup>\", \"10<sup>6</sup>\"], \"y\": [435.3280000000001, 429.51599999999996, 405.226, 368.19], \"type\": \"scatter\", \"uid\": \"2d60680a-de77-11e8-b893-947e40c53e24\"}, {\"name\": \"100\", \"x\": [\"10<sup>9</sup>\", \"10<sup>8</sup>\", \"10<sup>7</sup>\", \"10<sup>6</sup>\"], \"y\": [296.376, 283.38, 267.23400000000004, 227.904], \"type\": \"scatter\", \"uid\": \"2d60680b-de77-11e8-976b-947e40c53e24\"}, {\"name\": \"50\", \"x\": [\"10<sup>9</sup>\", \"10<sup>8</sup>\", \"10<sup>7</sup>\", \"10<sup>6</sup>\"], \"y\": [379.855, 253.32399999999998, 200.244, 165.572], \"type\": \"scatter\", \"uid\": \"2d60680c-de77-11e8-9897-947e40c53e24\"}], {\"xaxis\": {\"title\": \"Carrying capacity\"}, \"yaxis\": {\"title\": \"Avg. time to fixation\"}}, {\"showLink\": false, \"linkText\": \"Export to plot.ly\"})});</script>"
      ],
      "text/vnd.plotly.v1+html": [
       "<div id=\"98e88a36-35f3-4018-a2f0-6e2a9bbf5dbf\" style=\"height: 525px; width: 100%;\" class=\"plotly-graph-div\"></div><script type=\"text/javascript\">require([\"plotly\"], function(Plotly) { window.PLOTLYENV=window.PLOTLYENV || {};window.PLOTLYENV.BASE_URL=\"https://plot.ly\";Plotly.newPlot(\"98e88a36-35f3-4018-a2f0-6e2a9bbf5dbf\", [{\"name\": \"200\", \"x\": [\"10<sup>9</sup>\", \"10<sup>8</sup>\", \"10<sup>7</sup>\", \"10<sup>6</sup>\"], \"y\": [435.3280000000001, 429.51599999999996, 405.226, 368.19], \"type\": \"scatter\", \"uid\": \"2d60680a-de77-11e8-b893-947e40c53e24\"}, {\"name\": \"100\", \"x\": [\"10<sup>9</sup>\", \"10<sup>8</sup>\", \"10<sup>7</sup>\", \"10<sup>6</sup>\"], \"y\": [296.376, 283.38, 267.23400000000004, 227.904], \"type\": \"scatter\", \"uid\": \"2d60680b-de77-11e8-976b-947e40c53e24\"}, {\"name\": \"50\", \"x\": [\"10<sup>9</sup>\", \"10<sup>8</sup>\", \"10<sup>7</sup>\", \"10<sup>6</sup>\"], \"y\": [379.855, 253.32399999999998, 200.244, 165.572], \"type\": \"scatter\", \"uid\": \"2d60680c-de77-11e8-9897-947e40c53e24\"}], {\"xaxis\": {\"title\": \"Carrying capacity\"}, \"yaxis\": {\"title\": \"Avg. time to fixation\"}}, {\"showLink\": false, \"linkText\": \"Export to plot.ly\"})});</script>"
      ]
     },
     "metadata": {},
     "output_type": "display_data"
    }
   ],
   "source": [
    "data = []\n",
    "for i, f in enumerate(frequencies):\n",
    "    averages = []\n",
    "    for df in [K1, K2, K3, K4]:\n",
    "        times = [t for t in df[i]['Avg time to fixation'].tolist() if t != 0]\n",
    "        averages.append(sum(times)/len(times))\n",
    "    data.append(go.Scatter(\n",
    "        x=['10<sup>9</sup>', '10<sup>8</sup>',\n",
    "           '10<sup>7</sup>', '10<sup>6</sup>'],\n",
    "        y=averages,\n",
    "        name=f\n",
    "    ))\n",
    "\n",
    "layout = go.Layout(\n",
    "    xaxis = dict(title='Carrying capacity'),\n",
    "    yaxis = dict(title='Avg. time to fixation')\n",
    ")\n",
    "\n",
    "fig = go.Figure(data=data, layout=layout)\n",
    "iplot(fig, show_link=False)\n",
    "pio.write_image(fig, 'fig5.pdf')"
   ]
  },
  {
   "cell_type": "code",
   "execution_count": null,
   "metadata": {},
   "outputs": [],
   "source": []
  }
 ],
 "metadata": {
  "kernelspec": {
   "display_name": "Python 3",
   "language": "python",
   "name": "python3"
  },
  "language_info": {
   "codemirror_mode": {
    "name": "ipython",
    "version": 3
   },
   "file_extension": ".py",
   "mimetype": "text/x-python",
   "name": "python",
   "nbconvert_exporter": "python",
   "pygments_lexer": "ipython3",
   "version": "3.6.4"
  }
 },
 "nbformat": 4,
 "nbformat_minor": 2
}
