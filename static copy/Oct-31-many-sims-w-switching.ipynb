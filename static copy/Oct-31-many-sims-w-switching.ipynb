{
 "cells": [
  {
   "cell_type": "markdown",
   "metadata": {},
   "source": [
    "# Running many simulations to reveal the effects of population size"
   ]
  },
  {
   "cell_type": "code",
   "execution_count": 1,
   "metadata": {},
   "outputs": [
    {
     "data": {
      "text/html": [
       "<script>requirejs.config({paths: { 'plotly': ['https://cdn.plot.ly/plotly-latest.min']},});if(!window.Plotly) {{require(['plotly'],function(plotly) {window.Plotly=plotly;});}}</script>"
      ],
      "text/vnd.plotly.v1+html": [
       "<script>requirejs.config({paths: { 'plotly': ['https://cdn.plot.ly/plotly-latest.min']},});if(!window.Plotly) {{require(['plotly'],function(plotly) {window.Plotly=plotly;});}}</script>"
      ]
     },
     "metadata": {},
     "output_type": "display_data"
    }
   ],
   "source": [
    "import pandas as pd\n",
    "import numpy as np\n",
    "import math\n",
    "import os\n",
    "\n",
    "from bokeh.palettes import d3\n",
    "\n",
    "from IPython.display import display, display_html, display_markdown, clear_output\n",
    "\n",
    "from plotly import tools\n",
    "from plotly.offline import download_plotlyjs, init_notebook_mode, plot, iplot\n",
    "import plotly.graph_objs as go\n",
    "import plotly.io as pio\n",
    "\n",
    "from simulator import *\n",
    "from simulator_plotting import *\n",
    "\n",
    "init_notebook_mode(connected=True)"
   ]
  },
  {
   "cell_type": "code",
   "execution_count": 2,
   "metadata": {},
   "outputs": [],
   "source": [
    "def many_simulations(landscape, param={}, num=100):\n",
    "    success_count = 0\n",
    "    greedy_path = ''\n",
    "    paths = {}\n",
    "    T_f_sum = 0\n",
    "    global_optimum = ''\n",
    "    local_optima = []\n",
    "    for i in range(num):\n",
    "        results = simulate(landscape, **param)\n",
    "        if results['T_f'] != -1:\n",
    "            success_count += 1\n",
    "            T_f_sum += results['T_f']\n",
    "        if not greedy_path:\n",
    "            greedy_path = ','.join(results['greedy_path'])\n",
    "            paths[greedy_path] = 0\n",
    "        actual_path = ','.join(results['actual_path'])\n",
    "        if actual_path in paths:\n",
    "            paths[actual_path] += 1\n",
    "        else:\n",
    "            paths[actual_path] = 1\n",
    "        if not global_optimum:\n",
    "            global_optimum = results['global_optimum']\n",
    "            local_optima = ', '.join(results['local_optima'])\n",
    "    return {\n",
    "        'Success rate': success_count / num,\n",
    "        '# of paths': len(paths),\n",
    "        'Path frequencies': paths.values(),\n",
    "        'Greedy path': greedy_path,\n",
    "        'Greedy rate': paths[greedy_path] / num,\n",
    "        'Avg time to fixation': T_f_sum / num,\n",
    "        'Global optimum': global_optimum,\n",
    "        'Local optima': local_optima\n",
    "    }\n",
    "\n",
    "# ordering\n",
    "column_names =  ['Success rate', '# of paths', 'Path frequencies', 'Greedy path', \n",
    "                 'Greedy rate', 'Local optima', 'Global optimum', 'Avg time to fixation']   \n",
    "\n",
    "def many_landscapes(param={}, df=dataset2):\n",
    "    data = []\n",
    "    for name, ls in df.iterrows():\n",
    "        landscape = ls.tolist()\n",
    "        display('Running simulations on {}...'.format(name))\n",
    "        row = many_simulations(landscape, param)\n",
    "        row['Name'] = name\n",
    "        data.append(row)\n",
    "    clear_output()\n",
    "    return pd.DataFrame(data).set_index('Name').reindex(column_names, axis='columns')"
   ]
  },
  {
   "cell_type": "markdown",
   "metadata": {},
   "source": [
    "## Analysis of path frequencies for all drugs"
   ]
  },
  {
   "cell_type": "markdown",
   "metadata": {},
   "source": [
    "### K=10^9"
   ]
  },
  {
   "cell_type": "code",
   "execution_count": 3,
   "metadata": {
    "scrolled": false
   },
   "outputs": [
    {
     "data": {
      "text/html": [
       "<div>\n",
       "<style scoped>\n",
       "    .dataframe tbody tr th:only-of-type {\n",
       "        vertical-align: middle;\n",
       "    }\n",
       "\n",
       "    .dataframe tbody tr th {\n",
       "        vertical-align: top;\n",
       "    }\n",
       "\n",
       "    .dataframe thead th {\n",
       "        text-align: right;\n",
       "    }\n",
       "</style>\n",
       "<table border=\"1\" class=\"dataframe\">\n",
       "  <thead>\n",
       "    <tr style=\"text-align: right;\">\n",
       "      <th></th>\n",
       "      <th>Success rate</th>\n",
       "      <th># of paths</th>\n",
       "      <th>Path frequencies</th>\n",
       "      <th>Greedy path</th>\n",
       "      <th>Greedy rate</th>\n",
       "      <th>Local optima</th>\n",
       "      <th>Global optimum</th>\n",
       "      <th>Avg time to fixation</th>\n",
       "    </tr>\n",
       "    <tr>\n",
       "      <th>Name</th>\n",
       "      <th></th>\n",
       "      <th></th>\n",
       "      <th></th>\n",
       "      <th></th>\n",
       "      <th></th>\n",
       "      <th></th>\n",
       "      <th></th>\n",
       "      <th></th>\n",
       "    </tr>\n",
       "  </thead>\n",
       "  <tbody>\n",
       "    <tr>\n",
       "      <th>AMP</th>\n",
       "      <td>0.0</td>\n",
       "      <td>1</td>\n",
       "      <td>(100)</td>\n",
       "      <td>0000,0001,0011</td>\n",
       "      <td>1.00</td>\n",
       "      <td>0011, 0110</td>\n",
       "      <td>1111</td>\n",
       "      <td>0.00</td>\n",
       "    </tr>\n",
       "    <tr>\n",
       "      <th>AM</th>\n",
       "      <td>0.0</td>\n",
       "      <td>1</td>\n",
       "      <td>(100)</td>\n",
       "      <td>0000,0010</td>\n",
       "      <td>1.00</td>\n",
       "      <td>0010</td>\n",
       "      <td>1101</td>\n",
       "      <td>0.00</td>\n",
       "    </tr>\n",
       "    <tr>\n",
       "      <th>CEC</th>\n",
       "      <td>0.0</td>\n",
       "      <td>1</td>\n",
       "      <td>(100)</td>\n",
       "      <td>0000,0100</td>\n",
       "      <td>1.00</td>\n",
       "      <td>0100, 1110</td>\n",
       "      <td>0011</td>\n",
       "      <td>0.00</td>\n",
       "    </tr>\n",
       "    <tr>\n",
       "      <th>CTX</th>\n",
       "      <td>0.0</td>\n",
       "      <td>1</td>\n",
       "      <td>(100)</td>\n",
       "      <td>0000,0010,0011</td>\n",
       "      <td>1.00</td>\n",
       "      <td>0011, 0110, 1010</td>\n",
       "      <td>1111</td>\n",
       "      <td>0.00</td>\n",
       "    </tr>\n",
       "    <tr>\n",
       "      <th>ZOX</th>\n",
       "      <td>0.0</td>\n",
       "      <td>2</td>\n",
       "      <td>(0, 100)</td>\n",
       "      <td>0000,0010,0011,0111</td>\n",
       "      <td>0.00</td>\n",
       "      <td>1001</td>\n",
       "      <td>0111</td>\n",
       "      <td>0.00</td>\n",
       "    </tr>\n",
       "    <tr>\n",
       "      <th>CXM</th>\n",
       "      <td>0.0</td>\n",
       "      <td>1</td>\n",
       "      <td>(100)</td>\n",
       "      <td>0000,0100</td>\n",
       "      <td>1.00</td>\n",
       "      <td>0100</td>\n",
       "      <td>0111</td>\n",
       "      <td>0.00</td>\n",
       "    </tr>\n",
       "    <tr>\n",
       "      <th>CRO</th>\n",
       "      <td>0.0</td>\n",
       "      <td>3</td>\n",
       "      <td>(53, 25, 22)</td>\n",
       "      <td>0000,0100</td>\n",
       "      <td>0.53</td>\n",
       "      <td>0011, 0100, 1010</td>\n",
       "      <td>1111</td>\n",
       "      <td>0.00</td>\n",
       "    </tr>\n",
       "    <tr>\n",
       "      <th>AMC</th>\n",
       "      <td>0.0</td>\n",
       "      <td>1</td>\n",
       "      <td>(100)</td>\n",
       "      <td>0000,0100</td>\n",
       "      <td>1.00</td>\n",
       "      <td>0100</td>\n",
       "      <td>1101</td>\n",
       "      <td>0.00</td>\n",
       "    </tr>\n",
       "    <tr>\n",
       "      <th>CAZ</th>\n",
       "      <td>1.0</td>\n",
       "      <td>2</td>\n",
       "      <td>(0, 100)</td>\n",
       "      <td>0000,0001,0101</td>\n",
       "      <td>0.00</td>\n",
       "      <td>0011, 0101</td>\n",
       "      <td>0110</td>\n",
       "      <td>125.54</td>\n",
       "    </tr>\n",
       "    <tr>\n",
       "      <th>CTT</th>\n",
       "      <td>0.0</td>\n",
       "      <td>1</td>\n",
       "      <td>(100)</td>\n",
       "      <td>0000,0100</td>\n",
       "      <td>1.00</td>\n",
       "      <td>0100, 1000, 1101, 1110</td>\n",
       "      <td>0111</td>\n",
       "      <td>0.00</td>\n",
       "    </tr>\n",
       "    <tr>\n",
       "      <th>SAM</th>\n",
       "      <td>1.0</td>\n",
       "      <td>2</td>\n",
       "      <td>(59, 41)</td>\n",
       "      <td>0000,0001,1001,1101,1111</td>\n",
       "      <td>0.59</td>\n",
       "      <td></td>\n",
       "      <td>1111</td>\n",
       "      <td>412.21</td>\n",
       "    </tr>\n",
       "    <tr>\n",
       "      <th>CPR</th>\n",
       "      <td>1.0</td>\n",
       "      <td>1</td>\n",
       "      <td>(100)</td>\n",
       "      <td>0000,0100,0101</td>\n",
       "      <td>1.00</td>\n",
       "      <td>0011, 0110</td>\n",
       "      <td>0101</td>\n",
       "      <td>743.29</td>\n",
       "    </tr>\n",
       "    <tr>\n",
       "      <th>CPD</th>\n",
       "      <td>1.0</td>\n",
       "      <td>2</td>\n",
       "      <td>(95, 5)</td>\n",
       "      <td>0000,0010,0011,0111,1111</td>\n",
       "      <td>0.95</td>\n",
       "      <td>1010</td>\n",
       "      <td>1111</td>\n",
       "      <td>394.39</td>\n",
       "    </tr>\n",
       "    <tr>\n",
       "      <th>TZP</th>\n",
       "      <td>1.0</td>\n",
       "      <td>2</td>\n",
       "      <td>(99, 1)</td>\n",
       "      <td>0000,0100,0101</td>\n",
       "      <td>0.99</td>\n",
       "      <td>1000</td>\n",
       "      <td>0101</td>\n",
       "      <td>128.26</td>\n",
       "    </tr>\n",
       "    <tr>\n",
       "      <th>FEP</th>\n",
       "      <td>0.0</td>\n",
       "      <td>1</td>\n",
       "      <td>(100)</td>\n",
       "      <td>0000</td>\n",
       "      <td>1.00</td>\n",
       "      <td>0000, 0011, 1010</td>\n",
       "      <td>1111</td>\n",
       "      <td>0.00</td>\n",
       "    </tr>\n",
       "  </tbody>\n",
       "</table>\n",
       "</div>"
      ],
      "text/plain": [
       "      Success rate  # of paths Path frequencies               Greedy path  \\\n",
       "Name                                                                        \n",
       "AMP            0.0           1            (100)            0000,0001,0011   \n",
       "AM             0.0           1            (100)                 0000,0010   \n",
       "CEC            0.0           1            (100)                 0000,0100   \n",
       "CTX            0.0           1            (100)            0000,0010,0011   \n",
       "ZOX            0.0           2         (0, 100)       0000,0010,0011,0111   \n",
       "CXM            0.0           1            (100)                 0000,0100   \n",
       "CRO            0.0           3     (53, 25, 22)                 0000,0100   \n",
       "AMC            0.0           1            (100)                 0000,0100   \n",
       "CAZ            1.0           2         (0, 100)            0000,0001,0101   \n",
       "CTT            0.0           1            (100)                 0000,0100   \n",
       "SAM            1.0           2         (59, 41)  0000,0001,1001,1101,1111   \n",
       "CPR            1.0           1            (100)            0000,0100,0101   \n",
       "CPD            1.0           2          (95, 5)  0000,0010,0011,0111,1111   \n",
       "TZP            1.0           2          (99, 1)            0000,0100,0101   \n",
       "FEP            0.0           1            (100)                      0000   \n",
       "\n",
       "      Greedy rate            Local optima Global optimum  Avg time to fixation  \n",
       "Name                                                                            \n",
       "AMP          1.00              0011, 0110           1111                  0.00  \n",
       "AM           1.00                    0010           1101                  0.00  \n",
       "CEC          1.00              0100, 1110           0011                  0.00  \n",
       "CTX          1.00        0011, 0110, 1010           1111                  0.00  \n",
       "ZOX          0.00                    1001           0111                  0.00  \n",
       "CXM          1.00                    0100           0111                  0.00  \n",
       "CRO          0.53        0011, 0100, 1010           1111                  0.00  \n",
       "AMC          1.00                    0100           1101                  0.00  \n",
       "CAZ          0.00              0011, 0101           0110                125.54  \n",
       "CTT          1.00  0100, 1000, 1101, 1110           0111                  0.00  \n",
       "SAM          0.59                                   1111                412.21  \n",
       "CPR          1.00              0011, 0110           0101                743.29  \n",
       "CPD          0.95                    1010           1111                394.39  \n",
       "TZP          0.99                    1000           0101                128.26  \n",
       "FEP          1.00        0000, 0011, 1010           1111                  0.00  "
      ]
     },
     "execution_count": 3,
     "metadata": {},
     "output_type": "execute_result"
    }
   ],
   "source": [
    "K1 = many_landscapes()\n",
    "K1"
   ]
  },
  {
   "cell_type": "markdown",
   "metadata": {},
   "source": [
    "### K=10^8"
   ]
  },
  {
   "cell_type": "code",
   "execution_count": 4,
   "metadata": {
    "scrolled": false
   },
   "outputs": [
    {
     "data": {
      "text/html": [
       "<div>\n",
       "<style scoped>\n",
       "    .dataframe tbody tr th:only-of-type {\n",
       "        vertical-align: middle;\n",
       "    }\n",
       "\n",
       "    .dataframe tbody tr th {\n",
       "        vertical-align: top;\n",
       "    }\n",
       "\n",
       "    .dataframe thead th {\n",
       "        text-align: right;\n",
       "    }\n",
       "</style>\n",
       "<table border=\"1\" class=\"dataframe\">\n",
       "  <thead>\n",
       "    <tr style=\"text-align: right;\">\n",
       "      <th></th>\n",
       "      <th>Success rate</th>\n",
       "      <th># of paths</th>\n",
       "      <th>Path frequencies</th>\n",
       "      <th>Greedy path</th>\n",
       "      <th>Greedy rate</th>\n",
       "      <th>Local optima</th>\n",
       "      <th>Global optimum</th>\n",
       "      <th>Avg time to fixation</th>\n",
       "    </tr>\n",
       "    <tr>\n",
       "      <th>Name</th>\n",
       "      <th></th>\n",
       "      <th></th>\n",
       "      <th></th>\n",
       "      <th></th>\n",
       "      <th></th>\n",
       "      <th></th>\n",
       "      <th></th>\n",
       "      <th></th>\n",
       "    </tr>\n",
       "  </thead>\n",
       "  <tbody>\n",
       "    <tr>\n",
       "      <th>AMP</th>\n",
       "      <td>0.00</td>\n",
       "      <td>2</td>\n",
       "      <td>(99, 1)</td>\n",
       "      <td>0000,0001,0011</td>\n",
       "      <td>0.99</td>\n",
       "      <td>0011, 0110</td>\n",
       "      <td>1111</td>\n",
       "      <td>0.00</td>\n",
       "    </tr>\n",
       "    <tr>\n",
       "      <th>AM</th>\n",
       "      <td>0.00</td>\n",
       "      <td>1</td>\n",
       "      <td>(100)</td>\n",
       "      <td>0000,0010</td>\n",
       "      <td>1.00</td>\n",
       "      <td>0010</td>\n",
       "      <td>1101</td>\n",
       "      <td>0.00</td>\n",
       "    </tr>\n",
       "    <tr>\n",
       "      <th>CEC</th>\n",
       "      <td>0.00</td>\n",
       "      <td>1</td>\n",
       "      <td>(100)</td>\n",
       "      <td>0000,0100</td>\n",
       "      <td>1.00</td>\n",
       "      <td>0100, 1110</td>\n",
       "      <td>0011</td>\n",
       "      <td>0.00</td>\n",
       "    </tr>\n",
       "    <tr>\n",
       "      <th>CTX</th>\n",
       "      <td>0.00</td>\n",
       "      <td>1</td>\n",
       "      <td>(100)</td>\n",
       "      <td>0000,0010,0011</td>\n",
       "      <td>1.00</td>\n",
       "      <td>0011, 0110, 1010</td>\n",
       "      <td>1111</td>\n",
       "      <td>0.00</td>\n",
       "    </tr>\n",
       "    <tr>\n",
       "      <th>ZOX</th>\n",
       "      <td>0.00</td>\n",
       "      <td>2</td>\n",
       "      <td>(0, 100)</td>\n",
       "      <td>0000,0010,0011,0111</td>\n",
       "      <td>0.00</td>\n",
       "      <td>1001</td>\n",
       "      <td>0111</td>\n",
       "      <td>0.00</td>\n",
       "    </tr>\n",
       "    <tr>\n",
       "      <th>CXM</th>\n",
       "      <td>0.00</td>\n",
       "      <td>1</td>\n",
       "      <td>(100)</td>\n",
       "      <td>0000,0100</td>\n",
       "      <td>1.00</td>\n",
       "      <td>0100</td>\n",
       "      <td>0111</td>\n",
       "      <td>0.00</td>\n",
       "    </tr>\n",
       "    <tr>\n",
       "      <th>CRO</th>\n",
       "      <td>0.00</td>\n",
       "      <td>3</td>\n",
       "      <td>(40, 32, 28)</td>\n",
       "      <td>0000,0100</td>\n",
       "      <td>0.40</td>\n",
       "      <td>0011, 0100, 1010</td>\n",
       "      <td>1111</td>\n",
       "      <td>0.00</td>\n",
       "    </tr>\n",
       "    <tr>\n",
       "      <th>AMC</th>\n",
       "      <td>0.00</td>\n",
       "      <td>1</td>\n",
       "      <td>(100)</td>\n",
       "      <td>0000,0100</td>\n",
       "      <td>1.00</td>\n",
       "      <td>0100</td>\n",
       "      <td>1101</td>\n",
       "      <td>0.00</td>\n",
       "    </tr>\n",
       "    <tr>\n",
       "      <th>CAZ</th>\n",
       "      <td>1.00</td>\n",
       "      <td>2</td>\n",
       "      <td>(0, 100)</td>\n",
       "      <td>0000,0001,0101</td>\n",
       "      <td>0.00</td>\n",
       "      <td>0011, 0101</td>\n",
       "      <td>0110</td>\n",
       "      <td>110.93</td>\n",
       "    </tr>\n",
       "    <tr>\n",
       "      <th>CTT</th>\n",
       "      <td>0.00</td>\n",
       "      <td>1</td>\n",
       "      <td>(100)</td>\n",
       "      <td>0000,0100</td>\n",
       "      <td>1.00</td>\n",
       "      <td>0100, 1000, 1101, 1110</td>\n",
       "      <td>0111</td>\n",
       "      <td>0.00</td>\n",
       "    </tr>\n",
       "    <tr>\n",
       "      <th>SAM</th>\n",
       "      <td>1.00</td>\n",
       "      <td>2</td>\n",
       "      <td>(59, 41)</td>\n",
       "      <td>0000,0001,1001,1101,1111</td>\n",
       "      <td>0.59</td>\n",
       "      <td></td>\n",
       "      <td>1111</td>\n",
       "      <td>336.17</td>\n",
       "    </tr>\n",
       "    <tr>\n",
       "      <th>CPR</th>\n",
       "      <td>1.00</td>\n",
       "      <td>1</td>\n",
       "      <td>(100)</td>\n",
       "      <td>0000,0100,0101</td>\n",
       "      <td>1.00</td>\n",
       "      <td>0011, 0110</td>\n",
       "      <td>0101</td>\n",
       "      <td>688.38</td>\n",
       "    </tr>\n",
       "    <tr>\n",
       "      <th>CPD</th>\n",
       "      <td>1.00</td>\n",
       "      <td>2</td>\n",
       "      <td>(96, 4)</td>\n",
       "      <td>0000,0010,0011,0111,1111</td>\n",
       "      <td>0.96</td>\n",
       "      <td>1010</td>\n",
       "      <td>1111</td>\n",
       "      <td>335.66</td>\n",
       "    </tr>\n",
       "    <tr>\n",
       "      <th>TZP</th>\n",
       "      <td>1.00</td>\n",
       "      <td>2</td>\n",
       "      <td>(96, 4)</td>\n",
       "      <td>0000,0100,0101</td>\n",
       "      <td>0.96</td>\n",
       "      <td>1000</td>\n",
       "      <td>0101</td>\n",
       "      <td>113.94</td>\n",
       "    </tr>\n",
       "    <tr>\n",
       "      <th>FEP</th>\n",
       "      <td>0.01</td>\n",
       "      <td>2</td>\n",
       "      <td>(99, 1)</td>\n",
       "      <td>0000</td>\n",
       "      <td>0.99</td>\n",
       "      <td>0000, 0011, 1010</td>\n",
       "      <td>1111</td>\n",
       "      <td>9.84</td>\n",
       "    </tr>\n",
       "  </tbody>\n",
       "</table>\n",
       "</div>"
      ],
      "text/plain": [
       "      Success rate  # of paths Path frequencies               Greedy path  \\\n",
       "Name                                                                        \n",
       "AMP           0.00           2          (99, 1)            0000,0001,0011   \n",
       "AM            0.00           1            (100)                 0000,0010   \n",
       "CEC           0.00           1            (100)                 0000,0100   \n",
       "CTX           0.00           1            (100)            0000,0010,0011   \n",
       "ZOX           0.00           2         (0, 100)       0000,0010,0011,0111   \n",
       "CXM           0.00           1            (100)                 0000,0100   \n",
       "CRO           0.00           3     (40, 32, 28)                 0000,0100   \n",
       "AMC           0.00           1            (100)                 0000,0100   \n",
       "CAZ           1.00           2         (0, 100)            0000,0001,0101   \n",
       "CTT           0.00           1            (100)                 0000,0100   \n",
       "SAM           1.00           2         (59, 41)  0000,0001,1001,1101,1111   \n",
       "CPR           1.00           1            (100)            0000,0100,0101   \n",
       "CPD           1.00           2          (96, 4)  0000,0010,0011,0111,1111   \n",
       "TZP           1.00           2          (96, 4)            0000,0100,0101   \n",
       "FEP           0.01           2          (99, 1)                      0000   \n",
       "\n",
       "      Greedy rate            Local optima Global optimum  Avg time to fixation  \n",
       "Name                                                                            \n",
       "AMP          0.99              0011, 0110           1111                  0.00  \n",
       "AM           1.00                    0010           1101                  0.00  \n",
       "CEC          1.00              0100, 1110           0011                  0.00  \n",
       "CTX          1.00        0011, 0110, 1010           1111                  0.00  \n",
       "ZOX          0.00                    1001           0111                  0.00  \n",
       "CXM          1.00                    0100           0111                  0.00  \n",
       "CRO          0.40        0011, 0100, 1010           1111                  0.00  \n",
       "AMC          1.00                    0100           1101                  0.00  \n",
       "CAZ          0.00              0011, 0101           0110                110.93  \n",
       "CTT          1.00  0100, 1000, 1101, 1110           0111                  0.00  \n",
       "SAM          0.59                                   1111                336.17  \n",
       "CPR          1.00              0011, 0110           0101                688.38  \n",
       "CPD          0.96                    1010           1111                335.66  \n",
       "TZP          0.96                    1000           0101                113.94  \n",
       "FEP          0.99        0000, 0011, 1010           1111                  9.84  "
      ]
     },
     "execution_count": 4,
     "metadata": {},
     "output_type": "execute_result"
    }
   ],
   "source": [
    "K2 = many_landscapes({'carrying_cap': int(1.0e8), 'prob_mutation': 1.0e-7})\n",
    "K2"
   ]
  },
  {
   "cell_type": "markdown",
   "metadata": {},
   "source": [
    "### K=10^7"
   ]
  },
  {
   "cell_type": "code",
   "execution_count": 5,
   "metadata": {
    "scrolled": false
   },
   "outputs": [
    {
     "data": {
      "text/html": [
       "<div>\n",
       "<style scoped>\n",
       "    .dataframe tbody tr th:only-of-type {\n",
       "        vertical-align: middle;\n",
       "    }\n",
       "\n",
       "    .dataframe tbody tr th {\n",
       "        vertical-align: top;\n",
       "    }\n",
       "\n",
       "    .dataframe thead th {\n",
       "        text-align: right;\n",
       "    }\n",
       "</style>\n",
       "<table border=\"1\" class=\"dataframe\">\n",
       "  <thead>\n",
       "    <tr style=\"text-align: right;\">\n",
       "      <th></th>\n",
       "      <th>Success rate</th>\n",
       "      <th># of paths</th>\n",
       "      <th>Path frequencies</th>\n",
       "      <th>Greedy path</th>\n",
       "      <th>Greedy rate</th>\n",
       "      <th>Local optima</th>\n",
       "      <th>Global optimum</th>\n",
       "      <th>Avg time to fixation</th>\n",
       "    </tr>\n",
       "    <tr>\n",
       "      <th>Name</th>\n",
       "      <th></th>\n",
       "      <th></th>\n",
       "      <th></th>\n",
       "      <th></th>\n",
       "      <th></th>\n",
       "      <th></th>\n",
       "      <th></th>\n",
       "      <th></th>\n",
       "    </tr>\n",
       "  </thead>\n",
       "  <tbody>\n",
       "    <tr>\n",
       "      <th>AMP</th>\n",
       "      <td>0.00</td>\n",
       "      <td>2</td>\n",
       "      <td>(99, 1)</td>\n",
       "      <td>0000,0001,0011</td>\n",
       "      <td>0.99</td>\n",
       "      <td>0011, 0110</td>\n",
       "      <td>1111</td>\n",
       "      <td>0.00</td>\n",
       "    </tr>\n",
       "    <tr>\n",
       "      <th>AM</th>\n",
       "      <td>0.00</td>\n",
       "      <td>1</td>\n",
       "      <td>(100)</td>\n",
       "      <td>0000,0010</td>\n",
       "      <td>1.00</td>\n",
       "      <td>0010</td>\n",
       "      <td>1101</td>\n",
       "      <td>0.00</td>\n",
       "    </tr>\n",
       "    <tr>\n",
       "      <th>CEC</th>\n",
       "      <td>0.00</td>\n",
       "      <td>2</td>\n",
       "      <td>(99, 1)</td>\n",
       "      <td>0000,0100</td>\n",
       "      <td>0.99</td>\n",
       "      <td>0100, 1110</td>\n",
       "      <td>0011</td>\n",
       "      <td>0.00</td>\n",
       "    </tr>\n",
       "    <tr>\n",
       "      <th>CTX</th>\n",
       "      <td>0.01</td>\n",
       "      <td>2</td>\n",
       "      <td>(99, 1)</td>\n",
       "      <td>0000,0010,0011</td>\n",
       "      <td>0.99</td>\n",
       "      <td>0011, 0110, 1010</td>\n",
       "      <td>1111</td>\n",
       "      <td>11.85</td>\n",
       "    </tr>\n",
       "    <tr>\n",
       "      <th>ZOX</th>\n",
       "      <td>0.00</td>\n",
       "      <td>2</td>\n",
       "      <td>(0, 100)</td>\n",
       "      <td>0000,0010,0011,0111</td>\n",
       "      <td>0.00</td>\n",
       "      <td>1001</td>\n",
       "      <td>0111</td>\n",
       "      <td>0.00</td>\n",
       "    </tr>\n",
       "    <tr>\n",
       "      <th>CXM</th>\n",
       "      <td>0.01</td>\n",
       "      <td>2</td>\n",
       "      <td>(99, 1)</td>\n",
       "      <td>0000,0100</td>\n",
       "      <td>0.99</td>\n",
       "      <td>0100</td>\n",
       "      <td>0111</td>\n",
       "      <td>8.10</td>\n",
       "    </tr>\n",
       "    <tr>\n",
       "      <th>CRO</th>\n",
       "      <td>0.00</td>\n",
       "      <td>3</td>\n",
       "      <td>(38, 25, 37)</td>\n",
       "      <td>0000,0100</td>\n",
       "      <td>0.38</td>\n",
       "      <td>0011, 0100, 1010</td>\n",
       "      <td>1111</td>\n",
       "      <td>0.00</td>\n",
       "    </tr>\n",
       "    <tr>\n",
       "      <th>AMC</th>\n",
       "      <td>0.01</td>\n",
       "      <td>2</td>\n",
       "      <td>(99, 1)</td>\n",
       "      <td>0000,0100</td>\n",
       "      <td>0.99</td>\n",
       "      <td>0100</td>\n",
       "      <td>1101</td>\n",
       "      <td>5.02</td>\n",
       "    </tr>\n",
       "    <tr>\n",
       "      <th>CAZ</th>\n",
       "      <td>1.00</td>\n",
       "      <td>2</td>\n",
       "      <td>(0, 100)</td>\n",
       "      <td>0000,0001,0101</td>\n",
       "      <td>0.00</td>\n",
       "      <td>0011, 0101</td>\n",
       "      <td>0110</td>\n",
       "      <td>97.15</td>\n",
       "    </tr>\n",
       "    <tr>\n",
       "      <th>CTT</th>\n",
       "      <td>0.00</td>\n",
       "      <td>1</td>\n",
       "      <td>(100)</td>\n",
       "      <td>0000,0100</td>\n",
       "      <td>1.00</td>\n",
       "      <td>0100, 1000, 1101, 1110</td>\n",
       "      <td>0111</td>\n",
       "      <td>0.00</td>\n",
       "    </tr>\n",
       "    <tr>\n",
       "      <th>SAM</th>\n",
       "      <td>1.00</td>\n",
       "      <td>4</td>\n",
       "      <td>(51, 47, 1, 1)</td>\n",
       "      <td>0000,0001,1001,1101,1111</td>\n",
       "      <td>0.51</td>\n",
       "      <td></td>\n",
       "      <td>1111</td>\n",
       "      <td>264.50</td>\n",
       "    </tr>\n",
       "    <tr>\n",
       "      <th>CPR</th>\n",
       "      <td>1.00</td>\n",
       "      <td>1</td>\n",
       "      <td>(100)</td>\n",
       "      <td>0000,0100,0101</td>\n",
       "      <td>1.00</td>\n",
       "      <td>0011, 0110</td>\n",
       "      <td>0101</td>\n",
       "      <td>651.70</td>\n",
       "    </tr>\n",
       "    <tr>\n",
       "      <th>CPD</th>\n",
       "      <td>1.00</td>\n",
       "      <td>2</td>\n",
       "      <td>(91, 9)</td>\n",
       "      <td>0000,0010,0011,0111,1111</td>\n",
       "      <td>0.91</td>\n",
       "      <td>1010</td>\n",
       "      <td>1111</td>\n",
       "      <td>273.71</td>\n",
       "    </tr>\n",
       "    <tr>\n",
       "      <th>TZP</th>\n",
       "      <td>1.00</td>\n",
       "      <td>2</td>\n",
       "      <td>(96, 4)</td>\n",
       "      <td>0000,0100,0101</td>\n",
       "      <td>0.96</td>\n",
       "      <td>1000</td>\n",
       "      <td>0101</td>\n",
       "      <td>99.73</td>\n",
       "    </tr>\n",
       "    <tr>\n",
       "      <th>FEP</th>\n",
       "      <td>0.02</td>\n",
       "      <td>5</td>\n",
       "      <td>(94, 2, 2, 1, 1)</td>\n",
       "      <td>0000</td>\n",
       "      <td>0.94</td>\n",
       "      <td>0000, 0011, 1010</td>\n",
       "      <td>1111</td>\n",
       "      <td>16.03</td>\n",
       "    </tr>\n",
       "  </tbody>\n",
       "</table>\n",
       "</div>"
      ],
      "text/plain": [
       "      Success rate  # of paths  Path frequencies               Greedy path  \\\n",
       "Name                                                                         \n",
       "AMP           0.00           2           (99, 1)            0000,0001,0011   \n",
       "AM            0.00           1             (100)                 0000,0010   \n",
       "CEC           0.00           2           (99, 1)                 0000,0100   \n",
       "CTX           0.01           2           (99, 1)            0000,0010,0011   \n",
       "ZOX           0.00           2          (0, 100)       0000,0010,0011,0111   \n",
       "CXM           0.01           2           (99, 1)                 0000,0100   \n",
       "CRO           0.00           3      (38, 25, 37)                 0000,0100   \n",
       "AMC           0.01           2           (99, 1)                 0000,0100   \n",
       "CAZ           1.00           2          (0, 100)            0000,0001,0101   \n",
       "CTT           0.00           1             (100)                 0000,0100   \n",
       "SAM           1.00           4    (51, 47, 1, 1)  0000,0001,1001,1101,1111   \n",
       "CPR           1.00           1             (100)            0000,0100,0101   \n",
       "CPD           1.00           2           (91, 9)  0000,0010,0011,0111,1111   \n",
       "TZP           1.00           2           (96, 4)            0000,0100,0101   \n",
       "FEP           0.02           5  (94, 2, 2, 1, 1)                      0000   \n",
       "\n",
       "      Greedy rate            Local optima Global optimum  Avg time to fixation  \n",
       "Name                                                                            \n",
       "AMP          0.99              0011, 0110           1111                  0.00  \n",
       "AM           1.00                    0010           1101                  0.00  \n",
       "CEC          0.99              0100, 1110           0011                  0.00  \n",
       "CTX          0.99        0011, 0110, 1010           1111                 11.85  \n",
       "ZOX          0.00                    1001           0111                  0.00  \n",
       "CXM          0.99                    0100           0111                  8.10  \n",
       "CRO          0.38        0011, 0100, 1010           1111                  0.00  \n",
       "AMC          0.99                    0100           1101                  5.02  \n",
       "CAZ          0.00              0011, 0101           0110                 97.15  \n",
       "CTT          1.00  0100, 1000, 1101, 1110           0111                  0.00  \n",
       "SAM          0.51                                   1111                264.50  \n",
       "CPR          1.00              0011, 0110           0101                651.70  \n",
       "CPD          0.91                    1010           1111                273.71  \n",
       "TZP          0.96                    1000           0101                 99.73  \n",
       "FEP          0.94        0000, 0011, 1010           1111                 16.03  "
      ]
     },
     "execution_count": 5,
     "metadata": {},
     "output_type": "execute_result"
    }
   ],
   "source": [
    "K3 = many_landscapes({'carrying_cap': int(1.0e7), 'prob_mutation': 1.0e-6})\n",
    "K3"
   ]
  },
  {
   "cell_type": "markdown",
   "metadata": {},
   "source": [
    "### K=10^6"
   ]
  },
  {
   "cell_type": "code",
   "execution_count": 6,
   "metadata": {},
   "outputs": [
    {
     "data": {
      "text/html": [
       "<div>\n",
       "<style scoped>\n",
       "    .dataframe tbody tr th:only-of-type {\n",
       "        vertical-align: middle;\n",
       "    }\n",
       "\n",
       "    .dataframe tbody tr th {\n",
       "        vertical-align: top;\n",
       "    }\n",
       "\n",
       "    .dataframe thead th {\n",
       "        text-align: right;\n",
       "    }\n",
       "</style>\n",
       "<table border=\"1\" class=\"dataframe\">\n",
       "  <thead>\n",
       "    <tr style=\"text-align: right;\">\n",
       "      <th></th>\n",
       "      <th>Success rate</th>\n",
       "      <th># of paths</th>\n",
       "      <th>Path frequencies</th>\n",
       "      <th>Greedy path</th>\n",
       "      <th>Greedy rate</th>\n",
       "      <th>Local optima</th>\n",
       "      <th>Global optimum</th>\n",
       "      <th>Avg time to fixation</th>\n",
       "    </tr>\n",
       "    <tr>\n",
       "      <th>Name</th>\n",
       "      <th></th>\n",
       "      <th></th>\n",
       "      <th></th>\n",
       "      <th></th>\n",
       "      <th></th>\n",
       "      <th></th>\n",
       "      <th></th>\n",
       "      <th></th>\n",
       "    </tr>\n",
       "  </thead>\n",
       "  <tbody>\n",
       "    <tr>\n",
       "      <th>AMP</th>\n",
       "      <td>0.00</td>\n",
       "      <td>2</td>\n",
       "      <td>(93, 7)</td>\n",
       "      <td>0000,0001,0011</td>\n",
       "      <td>0.93</td>\n",
       "      <td>0011, 0110</td>\n",
       "      <td>1111</td>\n",
       "      <td>0.00</td>\n",
       "    </tr>\n",
       "    <tr>\n",
       "      <th>AM</th>\n",
       "      <td>0.00</td>\n",
       "      <td>1</td>\n",
       "      <td>(100)</td>\n",
       "      <td>0000,0010</td>\n",
       "      <td>1.00</td>\n",
       "      <td>0010</td>\n",
       "      <td>1101</td>\n",
       "      <td>0.00</td>\n",
       "    </tr>\n",
       "    <tr>\n",
       "      <th>CEC</th>\n",
       "      <td>0.00</td>\n",
       "      <td>3</td>\n",
       "      <td>(92, 7, 1)</td>\n",
       "      <td>0000,0100</td>\n",
       "      <td>0.92</td>\n",
       "      <td>0100, 1110</td>\n",
       "      <td>0011</td>\n",
       "      <td>0.00</td>\n",
       "    </tr>\n",
       "    <tr>\n",
       "      <th>CTX</th>\n",
       "      <td>0.07</td>\n",
       "      <td>2</td>\n",
       "      <td>(93, 7)</td>\n",
       "      <td>0000,0010,0011</td>\n",
       "      <td>0.93</td>\n",
       "      <td>0011, 0110, 1010</td>\n",
       "      <td>1111</td>\n",
       "      <td>67.87</td>\n",
       "    </tr>\n",
       "    <tr>\n",
       "      <th>ZOX</th>\n",
       "      <td>0.00</td>\n",
       "      <td>2</td>\n",
       "      <td>(0, 100)</td>\n",
       "      <td>0000,0010,0011,0111</td>\n",
       "      <td>0.00</td>\n",
       "      <td>1001</td>\n",
       "      <td>0111</td>\n",
       "      <td>0.00</td>\n",
       "    </tr>\n",
       "    <tr>\n",
       "      <th>CXM</th>\n",
       "      <td>0.23</td>\n",
       "      <td>4</td>\n",
       "      <td>(77, 21, 1, 1)</td>\n",
       "      <td>0000,0100</td>\n",
       "      <td>0.77</td>\n",
       "      <td>0100</td>\n",
       "      <td>0111</td>\n",
       "      <td>141.11</td>\n",
       "    </tr>\n",
       "    <tr>\n",
       "      <th>CRO</th>\n",
       "      <td>0.02</td>\n",
       "      <td>5</td>\n",
       "      <td>(21, 50, 27, 1, 1)</td>\n",
       "      <td>0000,0100</td>\n",
       "      <td>0.21</td>\n",
       "      <td>0011, 0100, 1010</td>\n",
       "      <td>1111</td>\n",
       "      <td>17.22</td>\n",
       "    </tr>\n",
       "    <tr>\n",
       "      <th>AMC</th>\n",
       "      <td>0.15</td>\n",
       "      <td>4</td>\n",
       "      <td>(85, 13, 1, 1)</td>\n",
       "      <td>0000,0100</td>\n",
       "      <td>0.85</td>\n",
       "      <td>0100</td>\n",
       "      <td>1101</td>\n",
       "      <td>85.37</td>\n",
       "    </tr>\n",
       "    <tr>\n",
       "      <th>CAZ</th>\n",
       "      <td>1.00</td>\n",
       "      <td>3</td>\n",
       "      <td>(0, 99, 1)</td>\n",
       "      <td>0000,0001,0101</td>\n",
       "      <td>0.00</td>\n",
       "      <td>0011, 0101</td>\n",
       "      <td>0110</td>\n",
       "      <td>82.65</td>\n",
       "    </tr>\n",
       "    <tr>\n",
       "      <th>CTT</th>\n",
       "      <td>0.05</td>\n",
       "      <td>2</td>\n",
       "      <td>(95, 5)</td>\n",
       "      <td>0000,0100</td>\n",
       "      <td>0.95</td>\n",
       "      <td>0100, 1000, 1101, 1110</td>\n",
       "      <td>0111</td>\n",
       "      <td>29.10</td>\n",
       "    </tr>\n",
       "    <tr>\n",
       "      <th>SAM</th>\n",
       "      <td>1.00</td>\n",
       "      <td>4</td>\n",
       "      <td>(49, 2, 3, 46)</td>\n",
       "      <td>0000,0001,1001,1101,1111</td>\n",
       "      <td>0.49</td>\n",
       "      <td></td>\n",
       "      <td>1111</td>\n",
       "      <td>189.46</td>\n",
       "    </tr>\n",
       "    <tr>\n",
       "      <th>CPR</th>\n",
       "      <td>1.00</td>\n",
       "      <td>1</td>\n",
       "      <td>(100)</td>\n",
       "      <td>0000,0100,0101</td>\n",
       "      <td>1.00</td>\n",
       "      <td>0011, 0110</td>\n",
       "      <td>0101</td>\n",
       "      <td>648.20</td>\n",
       "    </tr>\n",
       "    <tr>\n",
       "      <th>CPD</th>\n",
       "      <td>1.00</td>\n",
       "      <td>2</td>\n",
       "      <td>(83, 17)</td>\n",
       "      <td>0000,0010,0011,0111,1111</td>\n",
       "      <td>0.83</td>\n",
       "      <td>1010</td>\n",
       "      <td>1111</td>\n",
       "      <td>214.44</td>\n",
       "    </tr>\n",
       "    <tr>\n",
       "      <th>TZP</th>\n",
       "      <td>1.00</td>\n",
       "      <td>2</td>\n",
       "      <td>(86, 14)</td>\n",
       "      <td>0000,0100,0101</td>\n",
       "      <td>0.86</td>\n",
       "      <td>1000</td>\n",
       "      <td>0101</td>\n",
       "      <td>83.55</td>\n",
       "    </tr>\n",
       "    <tr>\n",
       "      <th>FEP</th>\n",
       "      <td>0.31</td>\n",
       "      <td>12</td>\n",
       "      <td>(47, 17, 22, 1, 1, 1, 2, 1, 1, 3, 1, 3)</td>\n",
       "      <td>0000</td>\n",
       "      <td>0.47</td>\n",
       "      <td>0000, 0011, 1010</td>\n",
       "      <td>1111</td>\n",
       "      <td>194.54</td>\n",
       "    </tr>\n",
       "  </tbody>\n",
       "</table>\n",
       "</div>"
      ],
      "text/plain": [
       "      Success rate  # of paths                         Path frequencies  \\\n",
       "Name                                                                      \n",
       "AMP           0.00           2                                  (93, 7)   \n",
       "AM            0.00           1                                    (100)   \n",
       "CEC           0.00           3                               (92, 7, 1)   \n",
       "CTX           0.07           2                                  (93, 7)   \n",
       "ZOX           0.00           2                                 (0, 100)   \n",
       "CXM           0.23           4                           (77, 21, 1, 1)   \n",
       "CRO           0.02           5                       (21, 50, 27, 1, 1)   \n",
       "AMC           0.15           4                           (85, 13, 1, 1)   \n",
       "CAZ           1.00           3                               (0, 99, 1)   \n",
       "CTT           0.05           2                                  (95, 5)   \n",
       "SAM           1.00           4                           (49, 2, 3, 46)   \n",
       "CPR           1.00           1                                    (100)   \n",
       "CPD           1.00           2                                 (83, 17)   \n",
       "TZP           1.00           2                                 (86, 14)   \n",
       "FEP           0.31          12  (47, 17, 22, 1, 1, 1, 2, 1, 1, 3, 1, 3)   \n",
       "\n",
       "                   Greedy path  Greedy rate            Local optima  \\\n",
       "Name                                                                  \n",
       "AMP             0000,0001,0011         0.93              0011, 0110   \n",
       "AM                   0000,0010         1.00                    0010   \n",
       "CEC                  0000,0100         0.92              0100, 1110   \n",
       "CTX             0000,0010,0011         0.93        0011, 0110, 1010   \n",
       "ZOX        0000,0010,0011,0111         0.00                    1001   \n",
       "CXM                  0000,0100         0.77                    0100   \n",
       "CRO                  0000,0100         0.21        0011, 0100, 1010   \n",
       "AMC                  0000,0100         0.85                    0100   \n",
       "CAZ             0000,0001,0101         0.00              0011, 0101   \n",
       "CTT                  0000,0100         0.95  0100, 1000, 1101, 1110   \n",
       "SAM   0000,0001,1001,1101,1111         0.49                           \n",
       "CPR             0000,0100,0101         1.00              0011, 0110   \n",
       "CPD   0000,0010,0011,0111,1111         0.83                    1010   \n",
       "TZP             0000,0100,0101         0.86                    1000   \n",
       "FEP                       0000         0.47        0000, 0011, 1010   \n",
       "\n",
       "     Global optimum  Avg time to fixation  \n",
       "Name                                       \n",
       "AMP            1111                  0.00  \n",
       "AM             1101                  0.00  \n",
       "CEC            0011                  0.00  \n",
       "CTX            1111                 67.87  \n",
       "ZOX            0111                  0.00  \n",
       "CXM            0111                141.11  \n",
       "CRO            1111                 17.22  \n",
       "AMC            1101                 85.37  \n",
       "CAZ            0110                 82.65  \n",
       "CTT            0111                 29.10  \n",
       "SAM            1111                189.46  \n",
       "CPR            0101                648.20  \n",
       "CPD            1111                214.44  \n",
       "TZP            0101                 83.55  \n",
       "FEP            1111                194.54  "
      ]
     },
     "execution_count": 6,
     "metadata": {},
     "output_type": "execute_result"
    }
   ],
   "source": [
    "K4 = many_landscapes({'carrying_cap': int(1.0e6), 'prob_mutation': 1.0e-5})\n",
    "K4"
   ]
  },
  {
   "cell_type": "code",
   "execution_count": 15,
   "metadata": {
    "scrolled": false
   },
   "outputs": [
    {
     "data": {
      "application/vnd.plotly.v1+json": {
       "data": [
        {
         "type": "bar",
         "uid": "a8fb1264-de69-11e8-b2ce-947e40c53e24",
         "x": [
          "AMP",
          "AM",
          "CEC",
          "CTX",
          "ZOX",
          "CXM",
          "CRO",
          "AMC",
          "CAZ",
          "CTT",
          "SAM",
          "CPR",
          "CPD",
          "TZP",
          "FEP"
         ],
         "xaxis": "x",
         "y": [
          0,
          0,
          0,
          0,
          0,
          0,
          0,
          0,
          125.54,
          0,
          412.21,
          743.29,
          394.39,
          128.26,
          0
         ],
         "yaxis": "y"
        },
        {
         "type": "bar",
         "uid": "a8fb870a-de69-11e8-8643-947e40c53e24",
         "x": [
          "AMP",
          "AM",
          "CEC",
          "CTX",
          "ZOX",
          "CXM",
          "CRO",
          "AMC",
          "CAZ",
          "CTT",
          "SAM",
          "CPR",
          "CPD",
          "TZP",
          "FEP"
         ],
         "xaxis": "x2",
         "y": [
          0,
          0,
          0,
          0,
          0,
          0,
          0,
          0,
          110.93,
          0,
          336.17,
          688.38,
          335.66,
          113.94,
          9.84
         ],
         "yaxis": "y2"
        },
        {
         "type": "bar",
         "uid": "a8fc2254-de69-11e8-8a17-947e40c53e24",
         "x": [
          "AMP",
          "AM",
          "CEC",
          "CTX",
          "ZOX",
          "CXM",
          "CRO",
          "AMC",
          "CAZ",
          "CTT",
          "SAM",
          "CPR",
          "CPD",
          "TZP",
          "FEP"
         ],
         "xaxis": "x3",
         "y": [
          0,
          0,
          0,
          11.85,
          0,
          8.1,
          0,
          5.02,
          97.15,
          0,
          264.5,
          651.7,
          273.71,
          99.73,
          16.03
         ],
         "yaxis": "y3"
        },
        {
         "type": "bar",
         "uid": "a8fc97e4-de69-11e8-939a-947e40c53e24",
         "x": [
          "AMP",
          "AM",
          "CEC",
          "CTX",
          "ZOX",
          "CXM",
          "CRO",
          "AMC",
          "CAZ",
          "CTT",
          "SAM",
          "CPR",
          "CPD",
          "TZP",
          "FEP"
         ],
         "xaxis": "x4",
         "y": [
          0,
          0,
          0,
          67.87,
          0,
          141.11,
          17.22,
          85.37,
          82.65,
          29.1,
          189.46,
          648.2,
          214.44,
          83.55,
          194.54
         ],
         "yaxis": "y4"
        }
       ],
       "layout": {
        "annotations": [
         {
          "font": {
           "size": 16
          },
          "showarrow": false,
          "text": "K=10<sup>9</sup>",
          "x": 0.225,
          "xanchor": "center",
          "xref": "paper",
          "y": 1,
          "yanchor": "bottom",
          "yref": "paper"
         },
         {
          "font": {
           "size": 16
          },
          "showarrow": false,
          "text": "K=10<sup>8</sup>",
          "x": 0.775,
          "xanchor": "center",
          "xref": "paper",
          "y": 1,
          "yanchor": "bottom",
          "yref": "paper"
         },
         {
          "font": {
           "size": 16
          },
          "showarrow": false,
          "text": "K=10<sup>7</sup>",
          "x": 0.225,
          "xanchor": "center",
          "xref": "paper",
          "y": 0.375,
          "yanchor": "bottom",
          "yref": "paper"
         },
         {
          "font": {
           "size": 16
          },
          "showarrow": false,
          "text": "K=10<sup>6</sup>",
          "x": 0.775,
          "xanchor": "center",
          "xref": "paper",
          "y": 0.375,
          "yanchor": "bottom",
          "yref": "paper"
         }
        ],
        "showlegend": false,
        "xaxis": {
         "anchor": "y",
         "domain": [
          0,
          0.45
         ]
        },
        "xaxis2": {
         "anchor": "y2",
         "domain": [
          0.55,
          1
         ]
        },
        "xaxis3": {
         "anchor": "y3",
         "domain": [
          0,
          0.45
         ]
        },
        "xaxis4": {
         "anchor": "y4",
         "domain": [
          0.55,
          1
         ]
        },
        "yaxis": {
         "anchor": "x",
         "domain": [
          0.625,
          1
         ],
         "title": "Avg. time to fixation"
        },
        "yaxis2": {
         "anchor": "x2",
         "domain": [
          0.625,
          1
         ],
         "title": "Avg. time to fixation"
        },
        "yaxis3": {
         "anchor": "x3",
         "domain": [
          0,
          0.375
         ],
         "title": "Avg. time to fixation"
        },
        "yaxis4": {
         "anchor": "x4",
         "domain": [
          0,
          0.375
         ],
         "title": "Avg. time to fixation"
        }
       }
      },
      "text/html": [
       "<div id=\"7b4f364b-406d-4d7d-b5b4-eecf6259d23d\" style=\"height: 525px; width: 100%;\" class=\"plotly-graph-div\"></div><script type=\"text/javascript\">require([\"plotly\"], function(Plotly) { window.PLOTLYENV=window.PLOTLYENV || {};window.PLOTLYENV.BASE_URL=\"https://plot.ly\";Plotly.newPlot(\"7b4f364b-406d-4d7d-b5b4-eecf6259d23d\", [{\"x\": [\"AMP\", \"AM\", \"CEC\", \"CTX\", \"ZOX\", \"CXM\", \"CRO\", \"AMC\", \"CAZ\", \"CTT\", \"SAM\", \"CPR\", \"CPD\", \"TZP\", \"FEP\"], \"y\": [0.0, 0.0, 0.0, 0.0, 0.0, 0.0, 0.0, 0.0, 125.54, 0.0, 412.21, 743.29, 394.39, 128.26, 0.0], \"type\": \"bar\", \"uid\": \"a8fb1264-de69-11e8-b2ce-947e40c53e24\", \"xaxis\": \"x\", \"yaxis\": \"y\"}, {\"x\": [\"AMP\", \"AM\", \"CEC\", \"CTX\", \"ZOX\", \"CXM\", \"CRO\", \"AMC\", \"CAZ\", \"CTT\", \"SAM\", \"CPR\", \"CPD\", \"TZP\", \"FEP\"], \"y\": [0.0, 0.0, 0.0, 0.0, 0.0, 0.0, 0.0, 0.0, 110.93, 0.0, 336.17, 688.38, 335.66, 113.94, 9.84], \"type\": \"bar\", \"uid\": \"a8fb870a-de69-11e8-8643-947e40c53e24\", \"xaxis\": \"x2\", \"yaxis\": \"y2\"}, {\"x\": [\"AMP\", \"AM\", \"CEC\", \"CTX\", \"ZOX\", \"CXM\", \"CRO\", \"AMC\", \"CAZ\", \"CTT\", \"SAM\", \"CPR\", \"CPD\", \"TZP\", \"FEP\"], \"y\": [0.0, 0.0, 0.0, 11.85, 0.0, 8.1, 0.0, 5.02, 97.15, 0.0, 264.5, 651.7, 273.71, 99.73, 16.03], \"type\": \"bar\", \"uid\": \"a8fc2254-de69-11e8-8a17-947e40c53e24\", \"xaxis\": \"x3\", \"yaxis\": \"y3\"}, {\"x\": [\"AMP\", \"AM\", \"CEC\", \"CTX\", \"ZOX\", \"CXM\", \"CRO\", \"AMC\", \"CAZ\", \"CTT\", \"SAM\", \"CPR\", \"CPD\", \"TZP\", \"FEP\"], \"y\": [0.0, 0.0, 0.0, 67.87, 0.0, 141.11, 17.22, 85.37, 82.65, 29.1, 189.46, 648.2, 214.44, 83.55, 194.54], \"type\": \"bar\", \"uid\": \"a8fc97e4-de69-11e8-939a-947e40c53e24\", \"xaxis\": \"x4\", \"yaxis\": \"y4\"}], {\"annotations\": [{\"font\": {\"size\": 16}, \"showarrow\": false, \"text\": \"K=10<sup>9</sup>\", \"x\": 0.225, \"xanchor\": \"center\", \"xref\": \"paper\", \"y\": 1.0, \"yanchor\": \"bottom\", \"yref\": \"paper\"}, {\"font\": {\"size\": 16}, \"showarrow\": false, \"text\": \"K=10<sup>8</sup>\", \"x\": 0.775, \"xanchor\": \"center\", \"xref\": \"paper\", \"y\": 1.0, \"yanchor\": \"bottom\", \"yref\": \"paper\"}, {\"font\": {\"size\": 16}, \"showarrow\": false, \"text\": \"K=10<sup>7</sup>\", \"x\": 0.225, \"xanchor\": \"center\", \"xref\": \"paper\", \"y\": 0.375, \"yanchor\": \"bottom\", \"yref\": \"paper\"}, {\"font\": {\"size\": 16}, \"showarrow\": false, \"text\": \"K=10<sup>6</sup>\", \"x\": 0.775, \"xanchor\": \"center\", \"xref\": \"paper\", \"y\": 0.375, \"yanchor\": \"bottom\", \"yref\": \"paper\"}], \"xaxis\": {\"anchor\": \"y\", \"domain\": [0.0, 0.45]}, \"yaxis\": {\"anchor\": \"x\", \"domain\": [0.625, 1.0], \"title\": \"Avg. time to fixation\"}, \"xaxis2\": {\"anchor\": \"y2\", \"domain\": [0.55, 1.0]}, \"yaxis2\": {\"anchor\": \"x2\", \"domain\": [0.625, 1.0], \"title\": \"Avg. time to fixation\"}, \"xaxis3\": {\"anchor\": \"y3\", \"domain\": [0.0, 0.45]}, \"yaxis3\": {\"anchor\": \"x3\", \"domain\": [0.0, 0.375], \"title\": \"Avg. time to fixation\"}, \"xaxis4\": {\"anchor\": \"y4\", \"domain\": [0.55, 1.0]}, \"yaxis4\": {\"anchor\": \"x4\", \"domain\": [0.0, 0.375], \"title\": \"Avg. time to fixation\"}, \"showlegend\": false}, {\"showLink\": false, \"linkText\": \"Export to plot.ly\"})});</script>"
      ],
      "text/vnd.plotly.v1+html": [
       "<div id=\"7b4f364b-406d-4d7d-b5b4-eecf6259d23d\" style=\"height: 525px; width: 100%;\" class=\"plotly-graph-div\"></div><script type=\"text/javascript\">require([\"plotly\"], function(Plotly) { window.PLOTLYENV=window.PLOTLYENV || {};window.PLOTLYENV.BASE_URL=\"https://plot.ly\";Plotly.newPlot(\"7b4f364b-406d-4d7d-b5b4-eecf6259d23d\", [{\"x\": [\"AMP\", \"AM\", \"CEC\", \"CTX\", \"ZOX\", \"CXM\", \"CRO\", \"AMC\", \"CAZ\", \"CTT\", \"SAM\", \"CPR\", \"CPD\", \"TZP\", \"FEP\"], \"y\": [0.0, 0.0, 0.0, 0.0, 0.0, 0.0, 0.0, 0.0, 125.54, 0.0, 412.21, 743.29, 394.39, 128.26, 0.0], \"type\": \"bar\", \"uid\": \"a8fb1264-de69-11e8-b2ce-947e40c53e24\", \"xaxis\": \"x\", \"yaxis\": \"y\"}, {\"x\": [\"AMP\", \"AM\", \"CEC\", \"CTX\", \"ZOX\", \"CXM\", \"CRO\", \"AMC\", \"CAZ\", \"CTT\", \"SAM\", \"CPR\", \"CPD\", \"TZP\", \"FEP\"], \"y\": [0.0, 0.0, 0.0, 0.0, 0.0, 0.0, 0.0, 0.0, 110.93, 0.0, 336.17, 688.38, 335.66, 113.94, 9.84], \"type\": \"bar\", \"uid\": \"a8fb870a-de69-11e8-8643-947e40c53e24\", \"xaxis\": \"x2\", \"yaxis\": \"y2\"}, {\"x\": [\"AMP\", \"AM\", \"CEC\", \"CTX\", \"ZOX\", \"CXM\", \"CRO\", \"AMC\", \"CAZ\", \"CTT\", \"SAM\", \"CPR\", \"CPD\", \"TZP\", \"FEP\"], \"y\": [0.0, 0.0, 0.0, 11.85, 0.0, 8.1, 0.0, 5.02, 97.15, 0.0, 264.5, 651.7, 273.71, 99.73, 16.03], \"type\": \"bar\", \"uid\": \"a8fc2254-de69-11e8-8a17-947e40c53e24\", \"xaxis\": \"x3\", \"yaxis\": \"y3\"}, {\"x\": [\"AMP\", \"AM\", \"CEC\", \"CTX\", \"ZOX\", \"CXM\", \"CRO\", \"AMC\", \"CAZ\", \"CTT\", \"SAM\", \"CPR\", \"CPD\", \"TZP\", \"FEP\"], \"y\": [0.0, 0.0, 0.0, 67.87, 0.0, 141.11, 17.22, 85.37, 82.65, 29.1, 189.46, 648.2, 214.44, 83.55, 194.54], \"type\": \"bar\", \"uid\": \"a8fc97e4-de69-11e8-939a-947e40c53e24\", \"xaxis\": \"x4\", \"yaxis\": \"y4\"}], {\"annotations\": [{\"font\": {\"size\": 16}, \"showarrow\": false, \"text\": \"K=10<sup>9</sup>\", \"x\": 0.225, \"xanchor\": \"center\", \"xref\": \"paper\", \"y\": 1.0, \"yanchor\": \"bottom\", \"yref\": \"paper\"}, {\"font\": {\"size\": 16}, \"showarrow\": false, \"text\": \"K=10<sup>8</sup>\", \"x\": 0.775, \"xanchor\": \"center\", \"xref\": \"paper\", \"y\": 1.0, \"yanchor\": \"bottom\", \"yref\": \"paper\"}, {\"font\": {\"size\": 16}, \"showarrow\": false, \"text\": \"K=10<sup>7</sup>\", \"x\": 0.225, \"xanchor\": \"center\", \"xref\": \"paper\", \"y\": 0.375, \"yanchor\": \"bottom\", \"yref\": \"paper\"}, {\"font\": {\"size\": 16}, \"showarrow\": false, \"text\": \"K=10<sup>6</sup>\", \"x\": 0.775, \"xanchor\": \"center\", \"xref\": \"paper\", \"y\": 0.375, \"yanchor\": \"bottom\", \"yref\": \"paper\"}], \"xaxis\": {\"anchor\": \"y\", \"domain\": [0.0, 0.45]}, \"yaxis\": {\"anchor\": \"x\", \"domain\": [0.625, 1.0], \"title\": \"Avg. time to fixation\"}, \"xaxis2\": {\"anchor\": \"y2\", \"domain\": [0.55, 1.0]}, \"yaxis2\": {\"anchor\": \"x2\", \"domain\": [0.625, 1.0], \"title\": \"Avg. time to fixation\"}, \"xaxis3\": {\"anchor\": \"y3\", \"domain\": [0.0, 0.45]}, \"yaxis3\": {\"anchor\": \"x3\", \"domain\": [0.0, 0.375], \"title\": \"Avg. time to fixation\"}, \"xaxis4\": {\"anchor\": \"y4\", \"domain\": [0.55, 1.0]}, \"yaxis4\": {\"anchor\": \"x4\", \"domain\": [0.0, 0.375], \"title\": \"Avg. time to fixation\"}, \"showlegend\": false}, {\"showLink\": false, \"linkText\": \"Export to plot.ly\"})});</script>"
      ]
     },
     "metadata": {},
     "output_type": "display_data"
    },
    {
     "data": {
      "application/vnd.plotly.v1+json": {
       "data": [
        {
         "type": "scatter",
         "uid": "a95a2f1e-de69-11e8-b8e5-947e40c53e24",
         "x": [
          "10<sup>9</sup>",
          "10<sup>8</sup>",
          "10<sup>7</sup>",
          "10<sup>6</sup>"
         ],
         "xaxis": "x",
         "y": [
          0.3333333333333333,
          0.33399999999999996,
          0.33666666666666667,
          0.3886666666666666
         ],
         "yaxis": "y"
        },
        {
         "type": "scatter",
         "uid": "a95b185a-de69-11e8-b2b7-947e40c53e24",
         "x": [
          "10<sup>9</sup>",
          "10<sup>8</sup>",
          "10<sup>7</sup>",
          "10<sup>6</sup>"
         ],
         "xaxis": "x2",
         "y": [
          22,
          24,
          33,
          49
         ],
         "yaxis": "y2"
        }
       ],
       "layout": {
        "showlegend": false,
        "xaxis": {
         "anchor": "y",
         "domain": [
          0,
          0.45
         ],
         "title": "Carrying capacity"
        },
        "xaxis2": {
         "anchor": "y2",
         "domain": [
          0.55,
          1
         ],
         "title": "Carrying capacity"
        },
        "yaxis": {
         "anchor": "x",
         "domain": [
          0,
          1
         ],
         "title": "Mean success rate"
        },
        "yaxis2": {
         "anchor": "x2",
         "domain": [
          0,
          1
         ],
         "title": "Total paths exposed"
        }
       }
      },
      "text/html": [
       "<div id=\"350b98ec-68f5-46ab-81b6-041194fe39bf\" style=\"height: 525px; width: 100%;\" class=\"plotly-graph-div\"></div><script type=\"text/javascript\">require([\"plotly\"], function(Plotly) { window.PLOTLYENV=window.PLOTLYENV || {};window.PLOTLYENV.BASE_URL=\"https://plot.ly\";Plotly.newPlot(\"350b98ec-68f5-46ab-81b6-041194fe39bf\", [{\"x\": [\"10<sup>9</sup>\", \"10<sup>8</sup>\", \"10<sup>7</sup>\", \"10<sup>6</sup>\"], \"y\": [0.3333333333333333, 0.33399999999999996, 0.33666666666666667, 0.3886666666666666], \"type\": \"scatter\", \"uid\": \"a95a2f1e-de69-11e8-b8e5-947e40c53e24\", \"xaxis\": \"x\", \"yaxis\": \"y\"}, {\"x\": [\"10<sup>9</sup>\", \"10<sup>8</sup>\", \"10<sup>7</sup>\", \"10<sup>6</sup>\"], \"y\": [22, 24, 33, 49], \"type\": \"scatter\", \"uid\": \"a95b185a-de69-11e8-b2b7-947e40c53e24\", \"xaxis\": \"x2\", \"yaxis\": \"y2\"}], {\"xaxis\": {\"anchor\": \"y\", \"domain\": [0.0, 0.45], \"title\": \"Carrying capacity\"}, \"yaxis\": {\"anchor\": \"x\", \"domain\": [0.0, 1.0], \"title\": \"Mean success rate\"}, \"xaxis2\": {\"anchor\": \"y2\", \"domain\": [0.55, 1.0], \"title\": \"Carrying capacity\"}, \"yaxis2\": {\"anchor\": \"x2\", \"domain\": [0.0, 1.0], \"title\": \"Total paths exposed\"}, \"showlegend\": false}, {\"showLink\": false, \"linkText\": \"Export to plot.ly\"})});</script>"
      ],
      "text/vnd.plotly.v1+html": [
       "<div id=\"350b98ec-68f5-46ab-81b6-041194fe39bf\" style=\"height: 525px; width: 100%;\" class=\"plotly-graph-div\"></div><script type=\"text/javascript\">require([\"plotly\"], function(Plotly) { window.PLOTLYENV=window.PLOTLYENV || {};window.PLOTLYENV.BASE_URL=\"https://plot.ly\";Plotly.newPlot(\"350b98ec-68f5-46ab-81b6-041194fe39bf\", [{\"x\": [\"10<sup>9</sup>\", \"10<sup>8</sup>\", \"10<sup>7</sup>\", \"10<sup>6</sup>\"], \"y\": [0.3333333333333333, 0.33399999999999996, 0.33666666666666667, 0.3886666666666666], \"type\": \"scatter\", \"uid\": \"a95a2f1e-de69-11e8-b8e5-947e40c53e24\", \"xaxis\": \"x\", \"yaxis\": \"y\"}, {\"x\": [\"10<sup>9</sup>\", \"10<sup>8</sup>\", \"10<sup>7</sup>\", \"10<sup>6</sup>\"], \"y\": [22, 24, 33, 49], \"type\": \"scatter\", \"uid\": \"a95b185a-de69-11e8-b2b7-947e40c53e24\", \"xaxis\": \"x2\", \"yaxis\": \"y2\"}], {\"xaxis\": {\"anchor\": \"y\", \"domain\": [0.0, 0.45], \"title\": \"Carrying capacity\"}, \"yaxis\": {\"anchor\": \"x\", \"domain\": [0.0, 1.0], \"title\": \"Mean success rate\"}, \"xaxis2\": {\"anchor\": \"y2\", \"domain\": [0.55, 1.0], \"title\": \"Carrying capacity\"}, \"yaxis2\": {\"anchor\": \"x2\", \"domain\": [0.0, 1.0], \"title\": \"Total paths exposed\"}, \"showlegend\": false}, {\"showLink\": false, \"linkText\": \"Export to plot.ly\"})});</script>"
      ]
     },
     "metadata": {},
     "output_type": "display_data"
    }
   ],
   "source": [
    "data = [go.Bar(\n",
    "    x=df.index.tolist(),\n",
    "    y=df['Avg time to fixation'].tolist()\n",
    ") for df in [K1, K2, K3, K4]]\n",
    "fig = tools.make_subplots(rows=2, cols=2, \n",
    "                          subplot_titles=('K=10<sup>9</sup>', 'K=10<sup>8</sup>', \n",
    "                                          'K=10<sup>7</sup>', 'K=10<sup>6</sup>'), \n",
    "                          print_grid=False)\n",
    "for i, trace in enumerate(data, 1):\n",
    "    fig.append_trace(trace, math.ceil(i / 2), abs((i % 2) - 2))\n",
    "for n in range(1, 5):\n",
    "    fig['layout']['yaxis{}'.format(n)].update(title='Avg. time to fixation')\n",
    "fig['layout'].update(showlegend=False)\n",
    "iplot(fig, show_link=False)\n",
    "pio.write_image(fig, 'fig1.pdf', width=1056, height=816)\n",
    "\n",
    "data = [go.Scatter(\n",
    "    x=['10<sup>9</sup>', '10<sup>8</sup>',\n",
    "       '10<sup>7</sup>', '10<sup>6</sup>'],\n",
    "    y=[df['Success rate'].mean() for df in [K1, K2, K3, K4]]\n",
    "), go.Scatter(\n",
    "    x=['10<sup>9</sup>', '10<sup>8</sup>',\n",
    "       '10<sup>7</sup>', '10<sup>6</sup>'],\n",
    "    y=[df['# of paths'].sum() for df in [K1, K2, K3, K4]]\n",
    ")]\n",
    "fig = tools.make_subplots(rows=1, cols=2, print_grid=False)\n",
    "fig.append_trace(data[0], 1, 1)\n",
    "fig.append_trace(data[1], 1, 2)\n",
    "fig['layout']['xaxis1'].update(title='Carrying capacity')\n",
    "fig['layout']['xaxis2'].update(title='Carrying capacity')\n",
    "fig['layout']['yaxis1'].update(title='Avg. success rate')\n",
    "fig['layout']['yaxis2'].update(title='Total paths exposed')\n",
    "fig['layout'].update(showlegend=False)\n",
    "iplot(fig, show_link=False)\n",
    "pio.write_image(fig, 'fig2.pdf', width=1056, height=544)"
   ]
  },
  {
   "cell_type": "markdown",
   "metadata": {},
   "source": [
    "## Analysis of path frequencies for switching between selected pairs of drugs"
   ]
  },
  {
   "cell_type": "code",
   "execution_count": 31,
   "metadata": {},
   "outputs": [],
   "source": [
    "pairs = [('CTX', 'SAM'), ('ZOX', 'CXM'), ('AM', 'AMC'), ('CTT', 'CAZ'), ('FEP', 'CAZ')]\n",
    "\n",
    "data = [\n",
    "    {\n",
    "    'Name': '{} + {}'.format(pair[0], pair[1]),\n",
    "    'Landscape 1': dataset2.loc[pair[0]].tolist(),\n",
    "    'Landscape 2': dataset2.loc[pair[1]].tolist()\n",
    "    }\n",
    "    for pair in pairs\n",
    "]\n",
    "pair_df = pd.DataFrame(data).set_index('Name')\n",
    "frequencies = [200, 100, 50]"
   ]
  },
  {
   "cell_type": "code",
   "execution_count": 33,
   "metadata": {},
   "outputs": [],
   "source": [
    "K1 = [many_landscapes({'frequency': f, 'carrying_cap': int(1.0e9), 'prob_mutation': 1.0e-8}, pair_df) for f in frequencies]\n",
    "K2 = [many_landscapes({'frequency': f, 'carrying_cap': int(1.0e8), 'prob_mutation': 1.0e-7}, pair_df) for f in frequencies]\n",
    "K3 = [many_landscapes({'frequency': f, 'carrying_cap': int(1.0e7), 'prob_mutation': 1.0e-6}, pair_df) for f in frequencies]\n",
    "K4 = [many_landscapes({'frequency': f, 'carrying_cap': int(1.0e6), 'prob_mutation': 1.0e-5}, pair_df) for f in frequencies]"
   ]
  },
  {
   "cell_type": "code",
   "execution_count": 65,
   "metadata": {
    "scrolled": false
   },
   "outputs": [
    {
     "data": {
      "application/vnd.plotly.v1+json": {
       "data": [
        {
         "name": "200",
         "type": "bar",
         "uid": "ab860370-de75-11e8-a19a-947e40c53e24",
         "x": [
          "CTX + SAM",
          "ZOX + CXM",
          "AM + AMC",
          "CTT + CAZ",
          "FEP + CAZ"
         ],
         "y": [
          249.7,
          215.99,
          750.76,
          456.22,
          503.97
         ]
        },
        {
         "name": "100",
         "type": "bar",
         "uid": "ab860371-de75-11e8-a321-947e40c53e24",
         "x": [
          "CTX + SAM",
          "ZOX + CXM",
          "AM + AMC",
          "CTT + CAZ",
          "FEP + CAZ"
         ],
         "y": [
          149.56,
          116.84,
          471.97,
          256.18,
          487.33
         ]
        },
        {
         "name": "50",
         "type": "bar",
         "uid": "ab860372-de75-11e8-9eca-947e40c53e24",
         "x": [
          "CTX + SAM",
          "ZOX + CXM",
          "AM + AMC",
          "CTT + CAZ",
          "FEP + CAZ"
         ],
         "y": [
          138.67,
          71,
          731.33,
          0,
          578.42
         ]
        }
       ],
       "layout": {
        "barmode": "group",
        "height": 400,
        "title": "K=10<sup>9</sup>",
        "width": 600,
        "xaxis": {
         "title": "Drug pair"
        },
        "yaxis": {
         "title": "Avg. time to fixation"
        }
       }
      },
      "text/html": [
       "<div id=\"a245bcc7-c6ad-4ca9-8b43-cc4a86c8fb30\" style=\"height: 400px; width: 600px;\" class=\"plotly-graph-div\"></div><script type=\"text/javascript\">require([\"plotly\"], function(Plotly) { window.PLOTLYENV=window.PLOTLYENV || {};window.PLOTLYENV.BASE_URL=\"https://plot.ly\";Plotly.newPlot(\"a245bcc7-c6ad-4ca9-8b43-cc4a86c8fb30\", [{\"name\": \"200\", \"x\": [\"CTX + SAM\", \"ZOX + CXM\", \"AM + AMC\", \"CTT + CAZ\", \"FEP + CAZ\"], \"y\": [249.7, 215.99, 750.76, 456.22, 503.97], \"type\": \"bar\", \"uid\": \"ab860370-de75-11e8-a19a-947e40c53e24\"}, {\"name\": \"100\", \"x\": [\"CTX + SAM\", \"ZOX + CXM\", \"AM + AMC\", \"CTT + CAZ\", \"FEP + CAZ\"], \"y\": [149.56, 116.84, 471.97, 256.18, 487.33], \"type\": \"bar\", \"uid\": \"ab860371-de75-11e8-a321-947e40c53e24\"}, {\"name\": \"50\", \"x\": [\"CTX + SAM\", \"ZOX + CXM\", \"AM + AMC\", \"CTT + CAZ\", \"FEP + CAZ\"], \"y\": [138.67, 71.0, 731.33, 0.0, 578.42], \"type\": \"bar\", \"uid\": \"ab860372-de75-11e8-9eca-947e40c53e24\"}], {\"barmode\": \"group\", \"height\": 400, \"title\": \"K=10<sup>9</sup>\", \"width\": 600, \"xaxis\": {\"title\": \"Drug pair\"}, \"yaxis\": {\"title\": \"Avg. time to fixation\"}}, {\"showLink\": false, \"linkText\": \"Export to plot.ly\"})});</script>"
      ],
      "text/vnd.plotly.v1+html": [
       "<div id=\"a245bcc7-c6ad-4ca9-8b43-cc4a86c8fb30\" style=\"height: 400px; width: 600px;\" class=\"plotly-graph-div\"></div><script type=\"text/javascript\">require([\"plotly\"], function(Plotly) { window.PLOTLYENV=window.PLOTLYENV || {};window.PLOTLYENV.BASE_URL=\"https://plot.ly\";Plotly.newPlot(\"a245bcc7-c6ad-4ca9-8b43-cc4a86c8fb30\", [{\"name\": \"200\", \"x\": [\"CTX + SAM\", \"ZOX + CXM\", \"AM + AMC\", \"CTT + CAZ\", \"FEP + CAZ\"], \"y\": [249.7, 215.99, 750.76, 456.22, 503.97], \"type\": \"bar\", \"uid\": \"ab860370-de75-11e8-a19a-947e40c53e24\"}, {\"name\": \"100\", \"x\": [\"CTX + SAM\", \"ZOX + CXM\", \"AM + AMC\", \"CTT + CAZ\", \"FEP + CAZ\"], \"y\": [149.56, 116.84, 471.97, 256.18, 487.33], \"type\": \"bar\", \"uid\": \"ab860371-de75-11e8-a321-947e40c53e24\"}, {\"name\": \"50\", \"x\": [\"CTX + SAM\", \"ZOX + CXM\", \"AM + AMC\", \"CTT + CAZ\", \"FEP + CAZ\"], \"y\": [138.67, 71.0, 731.33, 0.0, 578.42], \"type\": \"bar\", \"uid\": \"ab860372-de75-11e8-9eca-947e40c53e24\"}], {\"barmode\": \"group\", \"height\": 400, \"title\": \"K=10<sup>9</sup>\", \"width\": 600, \"xaxis\": {\"title\": \"Drug pair\"}, \"yaxis\": {\"title\": \"Avg. time to fixation\"}}, {\"showLink\": false, \"linkText\": \"Export to plot.ly\"})});</script>"
      ]
     },
     "metadata": {},
     "output_type": "display_data"
    },
    {
     "data": {
      "application/vnd.plotly.v1+json": {
       "data": [
        {
         "name": "200",
         "type": "bar",
         "uid": "abdebcec-de75-11e8-afee-947e40c53e24",
         "x": [
          "CTX + SAM",
          "ZOX + CXM",
          "AM + AMC",
          "CTT + CAZ",
          "FEP + CAZ"
         ],
         "y": [
          244.69,
          213.97,
          702.38,
          450.94,
          535.6
         ]
        },
        {
         "name": "100",
         "type": "bar",
         "uid": "abdebced-de75-11e8-9fc9-947e40c53e24",
         "x": [
          "CTX + SAM",
          "ZOX + CXM",
          "AM + AMC",
          "CTT + CAZ",
          "FEP + CAZ"
         ],
         "y": [
          144.65,
          114.94,
          457.01,
          250.97,
          449.33
         ]
        },
        {
         "name": "50",
         "type": "bar",
         "uid": "abdebcee-de75-11e8-b23d-947e40c53e24",
         "x": [
          "CTX + SAM",
          "ZOX + CXM",
          "AM + AMC",
          "CTT + CAZ",
          "FEP + CAZ"
         ],
         "y": [
          95.54,
          66.06,
          413.43,
          150.93,
          540.66
         ]
        }
       ],
       "layout": {
        "barmode": "group",
        "height": 400,
        "title": "K=10<sup>8</sup>",
        "width": 600,
        "xaxis": {
         "title": "Drug pair"
        },
        "yaxis": {
         "title": "Avg. time to fixation"
        }
       }
      },
      "text/html": [
       "<div id=\"989704ee-3111-4981-aa43-a1b24a28cf68\" style=\"height: 400px; width: 600px;\" class=\"plotly-graph-div\"></div><script type=\"text/javascript\">require([\"plotly\"], function(Plotly) { window.PLOTLYENV=window.PLOTLYENV || {};window.PLOTLYENV.BASE_URL=\"https://plot.ly\";Plotly.newPlot(\"989704ee-3111-4981-aa43-a1b24a28cf68\", [{\"name\": \"200\", \"x\": [\"CTX + SAM\", \"ZOX + CXM\", \"AM + AMC\", \"CTT + CAZ\", \"FEP + CAZ\"], \"y\": [244.69, 213.97, 702.38, 450.94, 535.6], \"type\": \"bar\", \"uid\": \"abdebcec-de75-11e8-afee-947e40c53e24\"}, {\"name\": \"100\", \"x\": [\"CTX + SAM\", \"ZOX + CXM\", \"AM + AMC\", \"CTT + CAZ\", \"FEP + CAZ\"], \"y\": [144.65, 114.94, 457.01, 250.97, 449.33], \"type\": \"bar\", \"uid\": \"abdebced-de75-11e8-9fc9-947e40c53e24\"}, {\"name\": \"50\", \"x\": [\"CTX + SAM\", \"ZOX + CXM\", \"AM + AMC\", \"CTT + CAZ\", \"FEP + CAZ\"], \"y\": [95.54, 66.06, 413.43, 150.93, 540.66], \"type\": \"bar\", \"uid\": \"abdebcee-de75-11e8-b23d-947e40c53e24\"}], {\"barmode\": \"group\", \"height\": 400, \"title\": \"K=10<sup>8</sup>\", \"width\": 600, \"xaxis\": {\"title\": \"Drug pair\"}, \"yaxis\": {\"title\": \"Avg. time to fixation\"}}, {\"showLink\": false, \"linkText\": \"Export to plot.ly\"})});</script>"
      ],
      "text/vnd.plotly.v1+html": [
       "<div id=\"989704ee-3111-4981-aa43-a1b24a28cf68\" style=\"height: 400px; width: 600px;\" class=\"plotly-graph-div\"></div><script type=\"text/javascript\">require([\"plotly\"], function(Plotly) { window.PLOTLYENV=window.PLOTLYENV || {};window.PLOTLYENV.BASE_URL=\"https://plot.ly\";Plotly.newPlot(\"989704ee-3111-4981-aa43-a1b24a28cf68\", [{\"name\": \"200\", \"x\": [\"CTX + SAM\", \"ZOX + CXM\", \"AM + AMC\", \"CTT + CAZ\", \"FEP + CAZ\"], \"y\": [244.69, 213.97, 702.38, 450.94, 535.6], \"type\": \"bar\", \"uid\": \"abdebcec-de75-11e8-afee-947e40c53e24\"}, {\"name\": \"100\", \"x\": [\"CTX + SAM\", \"ZOX + CXM\", \"AM + AMC\", \"CTT + CAZ\", \"FEP + CAZ\"], \"y\": [144.65, 114.94, 457.01, 250.97, 449.33], \"type\": \"bar\", \"uid\": \"abdebced-de75-11e8-9fc9-947e40c53e24\"}, {\"name\": \"50\", \"x\": [\"CTX + SAM\", \"ZOX + CXM\", \"AM + AMC\", \"CTT + CAZ\", \"FEP + CAZ\"], \"y\": [95.54, 66.06, 413.43, 150.93, 540.66], \"type\": \"bar\", \"uid\": \"abdebcee-de75-11e8-b23d-947e40c53e24\"}], {\"barmode\": \"group\", \"height\": 400, \"title\": \"K=10<sup>8</sup>\", \"width\": 600, \"xaxis\": {\"title\": \"Drug pair\"}, \"yaxis\": {\"title\": \"Avg. time to fixation\"}}, {\"showLink\": false, \"linkText\": \"Export to plot.ly\"})});</script>"
      ]
     },
     "metadata": {},
     "output_type": "display_data"
    },
    {
     "data": {
      "application/vnd.plotly.v1+json": {
       "data": [
        {
         "name": "200",
         "type": "bar",
         "uid": "ac352db8-de75-11e8-b522-947e40c53e24",
         "x": [
          "CTX + SAM",
          "ZOX + CXM",
          "AM + AMC",
          "CTT + CAZ",
          "FEP + CAZ"
         ],
         "y": [
          239.82,
          211.99,
          619.63,
          445.37,
          509.32
         ]
        },
        {
         "name": "100",
         "type": "bar",
         "uid": "ac352db9-de75-11e8-b6a4-947e40c53e24",
         "x": [
          "CTX + SAM",
          "ZOX + CXM",
          "AM + AMC",
          "CTT + CAZ",
          "FEP + CAZ"
         ],
         "y": [
          140.01,
          112.91,
          424.71,
          245.48,
          413.06
         ]
        },
        {
         "name": "50",
         "type": "bar",
         "uid": "ac352dba-de75-11e8-98ab-947e40c53e24",
         "x": [
          "CTX + SAM",
          "ZOX + CXM",
          "AM + AMC",
          "CTT + CAZ",
          "FEP + CAZ"
         ],
         "y": [
          89.69,
          63.87,
          294.99,
          145.48,
          407.19
         ]
        }
       ],
       "layout": {
        "barmode": "group",
        "height": 400,
        "title": "K=10<sup>7</sup>",
        "width": 600,
        "xaxis": {
         "title": "Drug pair"
        },
        "yaxis": {
         "title": "Avg. time to fixation"
        }
       }
      },
      "text/html": [
       "<div id=\"994cbe95-c660-4815-bd72-97bcc33fa098\" style=\"height: 400px; width: 600px;\" class=\"plotly-graph-div\"></div><script type=\"text/javascript\">require([\"plotly\"], function(Plotly) { window.PLOTLYENV=window.PLOTLYENV || {};window.PLOTLYENV.BASE_URL=\"https://plot.ly\";Plotly.newPlot(\"994cbe95-c660-4815-bd72-97bcc33fa098\", [{\"name\": \"200\", \"x\": [\"CTX + SAM\", \"ZOX + CXM\", \"AM + AMC\", \"CTT + CAZ\", \"FEP + CAZ\"], \"y\": [239.82, 211.99, 619.63, 445.37, 509.32], \"type\": \"bar\", \"uid\": \"ac352db8-de75-11e8-b522-947e40c53e24\"}, {\"name\": \"100\", \"x\": [\"CTX + SAM\", \"ZOX + CXM\", \"AM + AMC\", \"CTT + CAZ\", \"FEP + CAZ\"], \"y\": [140.01, 112.91, 424.71, 245.48, 413.06], \"type\": \"bar\", \"uid\": \"ac352db9-de75-11e8-b6a4-947e40c53e24\"}, {\"name\": \"50\", \"x\": [\"CTX + SAM\", \"ZOX + CXM\", \"AM + AMC\", \"CTT + CAZ\", \"FEP + CAZ\"], \"y\": [89.69, 63.87, 294.99, 145.48, 407.19], \"type\": \"bar\", \"uid\": \"ac352dba-de75-11e8-98ab-947e40c53e24\"}], {\"barmode\": \"group\", \"height\": 400, \"title\": \"K=10<sup>7</sup>\", \"width\": 600, \"xaxis\": {\"title\": \"Drug pair\"}, \"yaxis\": {\"title\": \"Avg. time to fixation\"}}, {\"showLink\": false, \"linkText\": \"Export to plot.ly\"})});</script>"
      ],
      "text/vnd.plotly.v1+html": [
       "<div id=\"994cbe95-c660-4815-bd72-97bcc33fa098\" style=\"height: 400px; width: 600px;\" class=\"plotly-graph-div\"></div><script type=\"text/javascript\">require([\"plotly\"], function(Plotly) { window.PLOTLYENV=window.PLOTLYENV || {};window.PLOTLYENV.BASE_URL=\"https://plot.ly\";Plotly.newPlot(\"994cbe95-c660-4815-bd72-97bcc33fa098\", [{\"name\": \"200\", \"x\": [\"CTX + SAM\", \"ZOX + CXM\", \"AM + AMC\", \"CTT + CAZ\", \"FEP + CAZ\"], \"y\": [239.82, 211.99, 619.63, 445.37, 509.32], \"type\": \"bar\", \"uid\": \"ac352db8-de75-11e8-b522-947e40c53e24\"}, {\"name\": \"100\", \"x\": [\"CTX + SAM\", \"ZOX + CXM\", \"AM + AMC\", \"CTT + CAZ\", \"FEP + CAZ\"], \"y\": [140.01, 112.91, 424.71, 245.48, 413.06], \"type\": \"bar\", \"uid\": \"ac352db9-de75-11e8-b6a4-947e40c53e24\"}, {\"name\": \"50\", \"x\": [\"CTX + SAM\", \"ZOX + CXM\", \"AM + AMC\", \"CTT + CAZ\", \"FEP + CAZ\"], \"y\": [89.69, 63.87, 294.99, 145.48, 407.19], \"type\": \"bar\", \"uid\": \"ac352dba-de75-11e8-98ab-947e40c53e24\"}], {\"barmode\": \"group\", \"height\": 400, \"title\": \"K=10<sup>7</sup>\", \"width\": 600, \"xaxis\": {\"title\": \"Drug pair\"}, \"yaxis\": {\"title\": \"Avg. time to fixation\"}}, {\"showLink\": false, \"linkText\": \"Export to plot.ly\"})});</script>"
      ]
     },
     "metadata": {},
     "output_type": "display_data"
    },
    {
     "data": {
      "application/vnd.plotly.v1+json": {
       "data": [
        {
         "name": "200",
         "type": "bar",
         "uid": "ac99039e-de75-11e8-9075-947e40c53e24",
         "x": [
          "CTX + SAM",
          "ZOX + CXM",
          "AM + AMC",
          "CTT + CAZ",
          "FEP + CAZ"
         ],
         "y": [
          235.22,
          210,
          502.53,
          434.18,
          459.02
         ]
        },
        {
         "name": "100",
         "type": "bar",
         "uid": "ac99039f-de75-11e8-b789-947e40c53e24",
         "x": [
          "CTX + SAM",
          "ZOX + CXM",
          "AM + AMC",
          "CTT + CAZ",
          "FEP + CAZ"
         ],
         "y": [
          134.62,
          110.99,
          369.07,
          240.15,
          284.69
         ]
        },
        {
         "name": "50",
         "type": "bar",
         "uid": "ac9903a0-de75-11e8-9be9-947e40c53e24",
         "x": [
          "CTX + SAM",
          "ZOX + CXM",
          "AM + AMC",
          "CTT + CAZ",
          "FEP + CAZ"
         ],
         "y": [
          84.5,
          61.97,
          209.83,
          140.11,
          331.45
         ]
        }
       ],
       "layout": {
        "barmode": "group",
        "height": 400,
        "title": "K=10<sup>6</sup>",
        "width": 600,
        "xaxis": {
         "title": "Drug pair"
        },
        "yaxis": {
         "title": "Avg. time to fixation"
        }
       }
      },
      "text/html": [
       "<div id=\"36fb1793-72a6-4679-8496-515108d5f58e\" style=\"height: 400px; width: 600px;\" class=\"plotly-graph-div\"></div><script type=\"text/javascript\">require([\"plotly\"], function(Plotly) { window.PLOTLYENV=window.PLOTLYENV || {};window.PLOTLYENV.BASE_URL=\"https://plot.ly\";Plotly.newPlot(\"36fb1793-72a6-4679-8496-515108d5f58e\", [{\"name\": \"200\", \"x\": [\"CTX + SAM\", \"ZOX + CXM\", \"AM + AMC\", \"CTT + CAZ\", \"FEP + CAZ\"], \"y\": [235.22, 210.0, 502.53, 434.18, 459.02], \"type\": \"bar\", \"uid\": \"ac99039e-de75-11e8-9075-947e40c53e24\"}, {\"name\": \"100\", \"x\": [\"CTX + SAM\", \"ZOX + CXM\", \"AM + AMC\", \"CTT + CAZ\", \"FEP + CAZ\"], \"y\": [134.62, 110.99, 369.07, 240.15, 284.69], \"type\": \"bar\", \"uid\": \"ac99039f-de75-11e8-b789-947e40c53e24\"}, {\"name\": \"50\", \"x\": [\"CTX + SAM\", \"ZOX + CXM\", \"AM + AMC\", \"CTT + CAZ\", \"FEP + CAZ\"], \"y\": [84.5, 61.97, 209.83, 140.11, 331.45], \"type\": \"bar\", \"uid\": \"ac9903a0-de75-11e8-9be9-947e40c53e24\"}], {\"barmode\": \"group\", \"height\": 400, \"title\": \"K=10<sup>6</sup>\", \"width\": 600, \"xaxis\": {\"title\": \"Drug pair\"}, \"yaxis\": {\"title\": \"Avg. time to fixation\"}}, {\"showLink\": false, \"linkText\": \"Export to plot.ly\"})});</script>"
      ],
      "text/vnd.plotly.v1+html": [
       "<div id=\"36fb1793-72a6-4679-8496-515108d5f58e\" style=\"height: 400px; width: 600px;\" class=\"plotly-graph-div\"></div><script type=\"text/javascript\">require([\"plotly\"], function(Plotly) { window.PLOTLYENV=window.PLOTLYENV || {};window.PLOTLYENV.BASE_URL=\"https://plot.ly\";Plotly.newPlot(\"36fb1793-72a6-4679-8496-515108d5f58e\", [{\"name\": \"200\", \"x\": [\"CTX + SAM\", \"ZOX + CXM\", \"AM + AMC\", \"CTT + CAZ\", \"FEP + CAZ\"], \"y\": [235.22, 210.0, 502.53, 434.18, 459.02], \"type\": \"bar\", \"uid\": \"ac99039e-de75-11e8-9075-947e40c53e24\"}, {\"name\": \"100\", \"x\": [\"CTX + SAM\", \"ZOX + CXM\", \"AM + AMC\", \"CTT + CAZ\", \"FEP + CAZ\"], \"y\": [134.62, 110.99, 369.07, 240.15, 284.69], \"type\": \"bar\", \"uid\": \"ac99039f-de75-11e8-b789-947e40c53e24\"}, {\"name\": \"50\", \"x\": [\"CTX + SAM\", \"ZOX + CXM\", \"AM + AMC\", \"CTT + CAZ\", \"FEP + CAZ\"], \"y\": [84.5, 61.97, 209.83, 140.11, 331.45], \"type\": \"bar\", \"uid\": \"ac9903a0-de75-11e8-9be9-947e40c53e24\"}], {\"barmode\": \"group\", \"height\": 400, \"title\": \"K=10<sup>6</sup>\", \"width\": 600, \"xaxis\": {\"title\": \"Drug pair\"}, \"yaxis\": {\"title\": \"Avg. time to fixation\"}}, {\"showLink\": false, \"linkText\": \"Export to plot.ly\"})});</script>"
      ]
     },
     "metadata": {},
     "output_type": "display_data"
    }
   ],
   "source": [
    "for K, dfset, letter in zip(['K=10<sup>9</sup>', 'K=10<sup>8</sup>','K=10<sup>7</sup>', 'K=10<sup>6</sup>'], [K1, K2, K3, K4], ['a', 'b', 'c', 'd']):\n",
    "    data = [go.Bar(\n",
    "        x=df.index.tolist(),\n",
    "        y=df['Avg time to fixation'].tolist(),\n",
    "        name=freq\n",
    "    ) for df, freq in zip(dfset, frequencies)]\n",
    "\n",
    "    layout = go.Layout(\n",
    "        barmode='group',\n",
    "        xaxis = dict(title='Drug pair'),\n",
    "        yaxis = dict(title='Avg. time to fixation'),\n",
    "        title = K,\n",
    "        width = 600,\n",
    "        height = 400\n",
    "    )\n",
    "\n",
    "    fig = go.Figure(data=data, layout=layout)\n",
    "    iplot(fig, show_link=False)\n",
    "    pio.write_image(fig, 'fig3{}.pdf'.format(letter))"
   ]
  },
  {
   "cell_type": "code",
   "execution_count": 66,
   "metadata": {},
   "outputs": [
    {
     "data": {
      "application/vnd.plotly.v1+json": {
       "data": [
        {
         "name": "200",
         "type": "scatter",
         "uid": "27ce6f02-de77-11e8-9103-947e40c53e24",
         "x": [
          "10<sup>9</sup>",
          "10<sup>8</sup>",
          "10<sup>7</sup>",
          "10<sup>6</sup>"
         ],
         "y": [
          0.982,
          0.998,
          1,
          0.992
         ]
        },
        {
         "name": "100",
         "type": "scatter",
         "uid": "27ce6f03-de77-11e8-a61c-947e40c53e24",
         "x": [
          "10<sup>9</sup>",
          "10<sup>8</sup>",
          "10<sup>7</sup>",
          "10<sup>6</sup>"
         ],
         "y": [
          0.984,
          0.994,
          0.992,
          0.992
         ]
        },
        {
         "name": "50",
         "type": "scatter",
         "uid": "27ce6f04-de77-11e8-ab38-947e40c53e24",
         "visible": "legendonly",
         "x": [
          "10<sup>9</sup>",
          "10<sup>8</sup>",
          "10<sup>7</sup>",
          "10<sup>6</sup>"
         ],
         "y": [
          0.786,
          0.998,
          0.9960000000000001,
          0.998
         ]
        }
       ],
       "layout": {
        "xaxis": {
         "title": "Carrying capacity"
        },
        "yaxis": {
         "title": "Avg. success rate"
        }
       }
      },
      "text/html": [
       "<div id=\"a3f8c55c-b26c-44cd-9143-1120ed6701c1\" style=\"height: 525px; width: 100%;\" class=\"plotly-graph-div\"></div><script type=\"text/javascript\">require([\"plotly\"], function(Plotly) { window.PLOTLYENV=window.PLOTLYENV || {};window.PLOTLYENV.BASE_URL=\"https://plot.ly\";Plotly.newPlot(\"a3f8c55c-b26c-44cd-9143-1120ed6701c1\", [{\"name\": \"200\", \"x\": [\"10<sup>9</sup>\", \"10<sup>8</sup>\", \"10<sup>7</sup>\", \"10<sup>6</sup>\"], \"y\": [0.982, 0.998, 1.0, 0.992], \"type\": \"scatter\", \"uid\": \"27ce6f02-de77-11e8-9103-947e40c53e24\"}, {\"name\": \"100\", \"x\": [\"10<sup>9</sup>\", \"10<sup>8</sup>\", \"10<sup>7</sup>\", \"10<sup>6</sup>\"], \"y\": [0.984, 0.994, 0.992, 0.992], \"type\": \"scatter\", \"uid\": \"27ce6f03-de77-11e8-a61c-947e40c53e24\"}, {\"name\": \"50\", \"visible\": \"legendonly\", \"x\": [\"10<sup>9</sup>\", \"10<sup>8</sup>\", \"10<sup>7</sup>\", \"10<sup>6</sup>\"], \"y\": [0.786, 0.998, 0.9960000000000001, 0.998], \"type\": \"scatter\", \"uid\": \"27ce6f04-de77-11e8-ab38-947e40c53e24\"}], {\"xaxis\": {\"title\": \"Carrying capacity\"}, \"yaxis\": {\"title\": \"Avg. success rate\"}}, {\"showLink\": false, \"linkText\": \"Export to plot.ly\"})});</script>"
      ],
      "text/vnd.plotly.v1+html": [
       "<div id=\"a3f8c55c-b26c-44cd-9143-1120ed6701c1\" style=\"height: 525px; width: 100%;\" class=\"plotly-graph-div\"></div><script type=\"text/javascript\">require([\"plotly\"], function(Plotly) { window.PLOTLYENV=window.PLOTLYENV || {};window.PLOTLYENV.BASE_URL=\"https://plot.ly\";Plotly.newPlot(\"a3f8c55c-b26c-44cd-9143-1120ed6701c1\", [{\"name\": \"200\", \"x\": [\"10<sup>9</sup>\", \"10<sup>8</sup>\", \"10<sup>7</sup>\", \"10<sup>6</sup>\"], \"y\": [0.982, 0.998, 1.0, 0.992], \"type\": \"scatter\", \"uid\": \"27ce6f02-de77-11e8-9103-947e40c53e24\"}, {\"name\": \"100\", \"x\": [\"10<sup>9</sup>\", \"10<sup>8</sup>\", \"10<sup>7</sup>\", \"10<sup>6</sup>\"], \"y\": [0.984, 0.994, 0.992, 0.992], \"type\": \"scatter\", \"uid\": \"27ce6f03-de77-11e8-a61c-947e40c53e24\"}, {\"name\": \"50\", \"visible\": \"legendonly\", \"x\": [\"10<sup>9</sup>\", \"10<sup>8</sup>\", \"10<sup>7</sup>\", \"10<sup>6</sup>\"], \"y\": [0.786, 0.998, 0.9960000000000001, 0.998], \"type\": \"scatter\", \"uid\": \"27ce6f04-de77-11e8-ab38-947e40c53e24\"}], {\"xaxis\": {\"title\": \"Carrying capacity\"}, \"yaxis\": {\"title\": \"Avg. success rate\"}}, {\"showLink\": false, \"linkText\": \"Export to plot.ly\"})});</script>"
      ]
     },
     "metadata": {},
     "output_type": "display_data"
    }
   ],
   "source": [
    "data = [go.Scatter(\n",
    "    x=['10<sup>9</sup>', '10<sup>8</sup>',\n",
    "       '10<sup>7</sup>', '10<sup>6</sup>'],\n",
    "    y=[df[i]['Success rate'].mean() for df in [K1, K2, K3, K4]],\n",
    "    name=f,\n",
    ") for i, f in enumerate(frequencies)]\n",
    "\n",
    "data[2].update(visible='legendonly')\n",
    "\n",
    "layout = go.Layout(\n",
    "    xaxis = dict(title='Carrying capacity'),\n",
    "    yaxis = dict(title='Avg. success rate')\n",
    ")\n",
    "\n",
    "fig = go.Figure(data=data, layout=layout)\n",
    "iplot(fig, show_link=False)\n",
    "pio.write_image(fig, 'fig4.pdf')"
   ]
  },
  {
   "cell_type": "code",
   "execution_count": 67,
   "metadata": {},
   "outputs": [
    {
     "data": {
      "application/vnd.plotly.v1+json": {
       "data": [
        {
         "name": "200",
         "type": "scatter",
         "uid": "2d60680a-de77-11e8-b893-947e40c53e24",
         "x": [
          "10<sup>9</sup>",
          "10<sup>8</sup>",
          "10<sup>7</sup>",
          "10<sup>6</sup>"
         ],
         "y": [
          435.3280000000001,
          429.51599999999996,
          405.226,
          368.19
         ]
        },
        {
         "name": "100",
         "type": "scatter",
         "uid": "2d60680b-de77-11e8-976b-947e40c53e24",
         "x": [
          "10<sup>9</sup>",
          "10<sup>8</sup>",
          "10<sup>7</sup>",
          "10<sup>6</sup>"
         ],
         "y": [
          296.376,
          283.38,
          267.23400000000004,
          227.904
         ]
        },
        {
         "name": "50",
         "type": "scatter",
         "uid": "2d60680c-de77-11e8-9897-947e40c53e24",
         "x": [
          "10<sup>9</sup>",
          "10<sup>8</sup>",
          "10<sup>7</sup>",
          "10<sup>6</sup>"
         ],
         "y": [
          379.855,
          253.32399999999998,
          200.244,
          165.572
         ]
        }
       ],
       "layout": {
        "xaxis": {
         "title": "Carrying capacity"
        },
        "yaxis": {
         "title": "Avg. time to fixation"
        }
       }
      },
      "text/html": [
       "<div id=\"98e88a36-35f3-4018-a2f0-6e2a9bbf5dbf\" style=\"height: 525px; width: 100%;\" class=\"plotly-graph-div\"></div><script type=\"text/javascript\">require([\"plotly\"], function(Plotly) { window.PLOTLYENV=window.PLOTLYENV || {};window.PLOTLYENV.BASE_URL=\"https://plot.ly\";Plotly.newPlot(\"98e88a36-35f3-4018-a2f0-6e2a9bbf5dbf\", [{\"name\": \"200\", \"x\": [\"10<sup>9</sup>\", \"10<sup>8</sup>\", \"10<sup>7</sup>\", \"10<sup>6</sup>\"], \"y\": [435.3280000000001, 429.51599999999996, 405.226, 368.19], \"type\": \"scatter\", \"uid\": \"2d60680a-de77-11e8-b893-947e40c53e24\"}, {\"name\": \"100\", \"x\": [\"10<sup>9</sup>\", \"10<sup>8</sup>\", \"10<sup>7</sup>\", \"10<sup>6</sup>\"], \"y\": [296.376, 283.38, 267.23400000000004, 227.904], \"type\": \"scatter\", \"uid\": \"2d60680b-de77-11e8-976b-947e40c53e24\"}, {\"name\": \"50\", \"x\": [\"10<sup>9</sup>\", \"10<sup>8</sup>\", \"10<sup>7</sup>\", \"10<sup>6</sup>\"], \"y\": [379.855, 253.32399999999998, 200.244, 165.572], \"type\": \"scatter\", \"uid\": \"2d60680c-de77-11e8-9897-947e40c53e24\"}], {\"xaxis\": {\"title\": \"Carrying capacity\"}, \"yaxis\": {\"title\": \"Avg. time to fixation\"}}, {\"showLink\": false, \"linkText\": \"Export to plot.ly\"})});</script>"
      ],
      "text/vnd.plotly.v1+html": [
       "<div id=\"98e88a36-35f3-4018-a2f0-6e2a9bbf5dbf\" style=\"height: 525px; width: 100%;\" class=\"plotly-graph-div\"></div><script type=\"text/javascript\">require([\"plotly\"], function(Plotly) { window.PLOTLYENV=window.PLOTLYENV || {};window.PLOTLYENV.BASE_URL=\"https://plot.ly\";Plotly.newPlot(\"98e88a36-35f3-4018-a2f0-6e2a9bbf5dbf\", [{\"name\": \"200\", \"x\": [\"10<sup>9</sup>\", \"10<sup>8</sup>\", \"10<sup>7</sup>\", \"10<sup>6</sup>\"], \"y\": [435.3280000000001, 429.51599999999996, 405.226, 368.19], \"type\": \"scatter\", \"uid\": \"2d60680a-de77-11e8-b893-947e40c53e24\"}, {\"name\": \"100\", \"x\": [\"10<sup>9</sup>\", \"10<sup>8</sup>\", \"10<sup>7</sup>\", \"10<sup>6</sup>\"], \"y\": [296.376, 283.38, 267.23400000000004, 227.904], \"type\": \"scatter\", \"uid\": \"2d60680b-de77-11e8-976b-947e40c53e24\"}, {\"name\": \"50\", \"x\": [\"10<sup>9</sup>\", \"10<sup>8</sup>\", \"10<sup>7</sup>\", \"10<sup>6</sup>\"], \"y\": [379.855, 253.32399999999998, 200.244, 165.572], \"type\": \"scatter\", \"uid\": \"2d60680c-de77-11e8-9897-947e40c53e24\"}], {\"xaxis\": {\"title\": \"Carrying capacity\"}, \"yaxis\": {\"title\": \"Avg. time to fixation\"}}, {\"showLink\": false, \"linkText\": \"Export to plot.ly\"})});</script>"
      ]
     },
     "metadata": {},
     "output_type": "display_data"
    }
   ],
   "source": [
    "data = []\n",
    "for i, f in enumerate(frequencies):\n",
    "    averages = []\n",
    "    for df in [K1, K2, K3, K4]:\n",
    "        times = [t for t in df[i]['Avg time to fixation'].tolist() if t != 0]\n",
    "        averages.append(sum(times)/len(times))\n",
    "    data.append(go.Scatter(\n",
    "        x=['10<sup>9</sup>', '10<sup>8</sup>',\n",
    "           '10<sup>7</sup>', '10<sup>6</sup>'],\n",
    "        y=averages,\n",
    "        name=f\n",
    "    ))\n",
    "\n",
    "layout = go.Layout(\n",
    "    xaxis = dict(title='Carrying capacity'),\n",
    "    yaxis = dict(title='Avg. time to fixation')\n",
    ")\n",
    "\n",
    "fig = go.Figure(data=data, layout=layout)\n",
    "iplot(fig, show_link=False)\n",
    "pio.write_image(fig, 'fig5.pdf')"
   ]
  },
  {
   "cell_type": "code",
   "execution_count": null,
   "metadata": {},
   "outputs": [],
   "source": []
  }
 ],
 "metadata": {
  "kernelspec": {
   "display_name": "Python 3",
   "language": "python",
   "name": "python3"
  },
  "language_info": {
   "codemirror_mode": {
    "name": "ipython",
    "version": 3
   },
   "file_extension": ".py",
   "mimetype": "text/x-python",
   "name": "python",
   "nbconvert_exporter": "python",
   "pygments_lexer": "ipython3",
   "version": "3.6.4"
  }
 },
 "nbformat": 4,
 "nbformat_minor": 2
}
